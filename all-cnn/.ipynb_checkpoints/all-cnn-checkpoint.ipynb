{
 "cells": [
  {
   "cell_type": "code",
   "execution_count": 43,
   "metadata": {},
   "outputs": [],
   "source": [
    "from preprocess import *\n",
    "import keras\n",
    "from keras.models import Sequential\n",
    "from keras.layers import Dense, Dropout, Flatten, Conv2D, MaxPooling2D, LSTM, Activation\n",
    "from keras.utils import to_categorical\n",
    "import wandb\n",
    "from wandb.keras import WandbCallback\n",
    "import matplotlib.pyplot as plt\n",
    "import sklearn.metrics as metrics"
   ]
  },
  {
   "cell_type": "code",
   "execution_count": 44,
   "metadata": {
    "scrolled": true
   },
   "outputs": [
    {
     "data": {
      "text/html": [
       "\n",
       "                Logging results to <a href=\"https://wandb.com\" target=\"_blank\">Weights & Biases</a> <a href=\"https://docs.wandb.com/integrations/jupyter.html\" target=\"_blank\">(Documentation)</a>.<br/>\n",
       "                Project page: <a href=\"https://app.wandb.ai/joshekruse/intellichirp-snaw-NN\" target=\"_blank\">https://app.wandb.ai/joshekruse/intellichirp-snaw-NN</a><br/>\n",
       "                Run page: <a href=\"https://app.wandb.ai/joshekruse/intellichirp-snaw-NN/runs/ftl7qqh6\" target=\"_blank\">https://app.wandb.ai/joshekruse/intellichirp-snaw-NN/runs/ftl7qqh6</a><br/>\n",
       "            "
      ],
      "text/plain": [
       "<IPython.core.display.HTML object>"
      ]
     },
     "metadata": {},
     "output_type": "display_data"
    },
    {
     "name": "stderr",
     "output_type": "stream",
     "text": [
      "Saving vectors of label - 'AAT': 100%|███████████████████████████████████████████████| 205/205 [00:03<00:00, 59.44it/s]\n",
      "Saving vectors of label - 'AHV': 100%|█████████████████████████████████████████████████| 33/33 [00:00<00:00, 41.21it/s]\n",
      "Saving vectors of label - 'AMA': 100%|█████████████████████████████████████████████████| 94/94 [00:02<00:00, 34.51it/s]\n",
      "Saving vectors of label - 'ART': 100%|████████████████████████████████████████████████| 21/21 [00:00<00:00, 151.48it/s]\n",
      "Saving vectors of label - 'ASI': 100%|████████████████████████████████████████████████| 17/17 [00:00<00:00, 146.96it/s]\n",
      "Saving vectors of label - 'AVH': 100%|████████████████████████████████████████████████| 35/35 [00:00<00:00, 137.62it/s]\n",
      "Saving vectors of label - 'AVT': 100%|██████████████████████████████████████████████| 965/965 [00:07<00:00, 129.08it/s]\n"
     ]
    },
    {
     "data": {
      "text/plain": [
       "\"Saving vectors of label - 'AAT': 100%|█████████████████████████████████████████████████| 58/58 [00:01<00:00, 54.05it/s]\\nSaving vectors of label - 'AHV': 100%|█████████████████████████████████████████████████| 16/16 [00:00<00:00, 65.22it/s]\\nSaving vectors of label - 'AMA': 100%|█████████████████████████████████████████████████| 30/30 [00:00<00:00, 61.26it/s]\\nSaving vectors of label - 'ART': 100%|███████████████████████████████████████████████████| 5/5 [00:00<00:00, 53.90it/s]\\nSaving vectors of label - 'ASI': 100%|███████████████████████████████████████████████████| 4/4 [00:00<00:00, 35.81it/s]\\nSaving vectors of label - 'AVH': 100%|█████████████████████████████████████████████████| 18/18 [00:00<00:00, 96.00it/s]\\nSaving vectors of label - 'AVT': 100%|███████████████████████████████████████████████| 222/222 [00:04<00:00, 50.72it/s]\""
      ]
     },
     "execution_count": 44,
     "metadata": {},
     "output_type": "execute_result"
    }
   ],
   "source": [
    "wandb.init()\n",
    "config = wandb.config\n",
    "\n",
    "config.max_len = 32\n",
    "config.buckets = 128\n",
    "\n",
    "# Save data to array file first\n",
    "save_data_to_array(max_len=config.max_len, n_mfcc=config.buckets)\n",
    "\n",
    "#labels=np.array([\"chirping_birds\", \"crickets\", \"crow\", \n",
    "#                 \"frog\", \"insects\"])\n",
    "labels=np.array([\"AAT\", \"AHV\", \"AMA\", \n",
    "                 \"ART\", \"ASI\", \"AVH\",\n",
    "                \"AVT\",\n",
    "                \"BRA\", \"BAM\", \"BBI\", \n",
    "                 \"BMA\", \"BIN\",\n",
    "                \"GOC\", \"GRA\", \"GST\", \n",
    "                 \"GWG\", \"GWC\",\n",
    "                \"OPI\", \"OQU\", \"OQY\", \"QOU\"])\n",
    "\n",
    "'''Saving vectors of label - 'AAT': 100%|█████████████████████████████████████████████████| 58/58 [00:01<00:00, 54.05it/s]\n",
    "Saving vectors of label - 'AHV': 100%|█████████████████████████████████████████████████| 16/16 [00:00<00:00, 65.22it/s]\n",
    "Saving vectors of label - 'AMA': 100%|█████████████████████████████████████████████████| 30/30 [00:00<00:00, 61.26it/s]\n",
    "Saving vectors of label - 'ART': 100%|███████████████████████████████████████████████████| 5/5 [00:00<00:00, 53.90it/s]\n",
    "Saving vectors of label - 'ASI': 100%|███████████████████████████████████████████████████| 4/4 [00:00<00:00, 35.81it/s]\n",
    "Saving vectors of label - 'AVH': 100%|█████████████████████████████████████████████████| 18/18 [00:00<00:00, 96.00it/s]\n",
    "Saving vectors of label - 'AVT': 100%|███████████████████████████████████████████████| 222/222 [00:04<00:00, 50.72it/s]'''"
   ]
  },
  {
   "cell_type": "code",
   "execution_count": 45,
   "metadata": {},
   "outputs": [],
   "source": [
    "# Loading train/test set\n",
    "X_train, X_test, X_val, y_train, y_test, y_val = get_train_test()"
   ]
  },
  {
   "cell_type": "code",
   "execution_count": 46,
   "metadata": {},
   "outputs": [
    {
     "name": "stdout",
     "output_type": "stream",
     "text": [
      "(657, 128, 32)\n"
     ]
    }
   ],
   "source": [
    "# Setting channels to 1 to generalize stereo sound to 1 channel\n",
    "channels = 1\n",
    "config.epochs = 17\n",
    "config.batch_size = 100\n",
    "\n",
    "# Number of classes\n",
    "num_classes = 7\n",
    "print(X_train.shape)\n",
    "# Reshape X_train and X_test to include a 4th dimension (channels)\n",
    "X_train = X_train.reshape(X_train.shape[0], config.buckets, config.max_len, channels)\n",
    "X_test = X_test.reshape(X_test.shape[0], config.buckets, config.max_len, channels)\n",
    "X_val = X_val.reshape(X_val.shape[0], config.buckets, config.max_len, channels)"
   ]
  },
  {
   "cell_type": "code",
   "execution_count": 47,
   "metadata": {},
   "outputs": [
    {
     "name": "stdout",
     "output_type": "stream",
     "text": [
      "(657, 128, 32, 1)\n"
     ]
    },
    {
     "data": {
      "text/plain": [
       "<matplotlib.image.AxesImage at 0x25a47642788>"
      ]
     },
     "execution_count": 47,
     "metadata": {},
     "output_type": "execute_result"
    },
    {
     "data": {
      "image/png": "[encoded data removed]",
      "text/plain": [
       "<Figure size 432x288 with 1 Axes>"
      ]
     },
     "metadata": {
      "needs_background": "light"
     },
     "output_type": "display_data"
    }
   ],
   "source": [
    "# Spectrogram visualized of 0th element\n",
    "print(X_train.shape)\n",
    "plt.imshow(X_train[200, :, :, 0])"
   ]
  },
  {
   "cell_type": "code",
   "execution_count": 48,
   "metadata": {},
   "outputs": [],
   "source": [
    "# Getting vector number where each number corresponds to a label\n",
    "y_train_hot = to_categorical(y_train)\n",
    "y_test_hot = to_categorical(y_test)\n",
    "y_val_hot = to_categorical(y_val)"
   ]
  },
  {
   "cell_type": "code",
   "execution_count": 49,
   "metadata": {},
   "outputs": [
    {
     "name": "stdout",
     "output_type": "stream",
     "text": [
      "Model: \"sequential_4\"\n",
      "_________________________________________________________________\n",
      "Layer (type)                 Output Shape              Param #   \n",
      "=================================================================\n",
      "conv2d_10 (Conv2D)           (None, 126, 30, 21)       210       \n",
      "_________________________________________________________________\n",
      "max_pooling2d_7 (MaxPooling2 (None, 63, 15, 21)        0         \n",
      "_________________________________________________________________\n",
      "activation_16 (Activation)   (None, 63, 15, 21)        0         \n",
      "_________________________________________________________________\n",
      "conv2d_11 (Conv2D)           (None, 61, 13, 48)        9120      \n",
      "_________________________________________________________________\n",
      "max_pooling2d_8 (MaxPooling2 (None, 30, 6, 48)         0         \n",
      "_________________________________________________________________\n",
      "activation_17 (Activation)   (None, 30, 6, 48)         0         \n",
      "_________________________________________________________________\n",
      "conv2d_12 (Conv2D)           (None, 28, 6, 48)         6960      \n",
      "_________________________________________________________________\n",
      "activation_18 (Activation)   (None, 28, 6, 48)         0         \n",
      "_________________________________________________________________\n",
      "flatten_4 (Flatten)          (None, 8064)              0         \n",
      "_________________________________________________________________\n",
      "dropout_7 (Dropout)          (None, 8064)              0         \n",
      "_________________________________________________________________\n",
      "dense_7 (Dense)              (None, 64)                516160    \n",
      "_________________________________________________________________\n",
      "activation_19 (Activation)   (None, 64)                0         \n",
      "_________________________________________________________________\n",
      "dropout_8 (Dropout)          (None, 64)                0         \n",
      "_________________________________________________________________\n",
      "dense_8 (Dense)              (None, 7)                 455       \n",
      "_________________________________________________________________\n",
      "activation_20 (Activation)   (None, 7)                 0         \n",
      "=================================================================\n",
      "Total params: 532,905\n",
      "Trainable params: 532,905\n",
      "Non-trainable params: 0\n",
      "_________________________________________________________________\n"
     ]
    },
    {
     "data": {
      "text/plain": [
       "\"model.add(Conv2D(32, (3, 3),\\n    input_shape=(config.buckets, config.max_len, channels),\\n    activation='relu'))\\n\\nmodel.add(MaxPooling2D(pool_size=(2, 2)))\\n\\nmodel.add(Flatten())\\n\\nmodel.add(Dense(128, activation='relu'))\\nmodel.add(Dense(num_classes, activation='softmax'))\""
      ]
     },
     "execution_count": 49,
     "metadata": {},
     "output_type": "execute_result"
    }
   ],
   "source": [
    "# Building the model\n",
    "model = Sequential()\n",
    "\n",
    "input_shape= (config.buckets, config.max_len, channels)\n",
    "\n",
    "model.add(Conv2D(21, (3, 3), strides=(1, 1), input_shape=input_shape))\n",
    "model.add(MaxPooling2D((2, 2), strides=(2, 2)))\n",
    "model.add(Activation('relu'))\n",
    "\n",
    "model.add(Conv2D(48, (3, 3), padding=\"valid\"))\n",
    "model.add(MaxPooling2D((2, 2), strides=(2, 2)))\n",
    "model.add(Activation('relu'))\n",
    "\n",
    "model.add(Conv2D(48, (3, 1), padding=\"valid\"))\n",
    "model.add(Activation('relu'))\n",
    "\n",
    "model.add(Flatten())\n",
    "model.add(Dropout(rate=0.5))\n",
    "\n",
    "model.add(Dense(64))\n",
    "model.add(Activation('relu'))\n",
    "model.add(Dropout(rate=0.5))\n",
    "\n",
    "model.add(Dense(len(labels)))\n",
    "model.add(Activation('softmax'))\n",
    "model.summary()\n",
    "# Conv2D: \n",
    "#    Filters: 32\n",
    "#    Kernel_size: (3,3) (height/width of the 2D convolution window)     \n",
    "'''model.add(Conv2D(32, (3, 3),\n",
    "    input_shape=(config.buckets, config.max_len, channels),\n",
    "    activation='relu'))\n",
    "\n",
    "model.add(MaxPooling2D(pool_size=(2, 2)))\n",
    "\n",
    "model.add(Flatten())\n",
    "\n",
    "model.add(Dense(128, activation='relu'))\n",
    "model.add(Dense(num_classes, activation='softmax'))'''"
   ]
  },
  {
   "cell_type": "code",
   "execution_count": 50,
   "metadata": {},
   "outputs": [],
   "source": [
    "# Configure CNN for training\n",
    "model.compile(loss=\"categorical_crossentropy\",\n",
    "                  optimizer=\"adam\",\n",
    "                  metrics=['accuracy'])"
   ]
  },
  {
   "cell_type": "code",
   "execution_count": null,
   "metadata": {
    "scrolled": false
   },
   "outputs": [
    {
     "data": {
      "text/html": [
       "\n",
       "                Logging results to <a href=\"https://wandb.com\" target=\"_blank\">Weights & Biases</a> <a href=\"https://docs.wandb.com/integrations/jupyter.html\" target=\"_blank\">(Documentation)</a>.<br/>\n",
       "                Project page: <a href=\"https://app.wandb.ai/joshekruse/intellichirp-snaw-NN\" target=\"_blank\">https://app.wandb.ai/joshekruse/intellichirp-snaw-NN</a><br/>\n",
       "                Run page: <a href=\"https://app.wandb.ai/joshekruse/intellichirp-snaw-NN/runs/2rtny7n6\" target=\"_blank\">https://app.wandb.ai/joshekruse/intellichirp-snaw-NN/runs/2rtny7n6</a><br/>\n",
       "            "
      ],
      "text/plain": [
       "<IPython.core.display.HTML object>"
      ]
     },
     "metadata": {},
     "output_type": "display_data"
    },
    {
     "name": "stdout",
     "output_type": "stream",
     "text": [
      "(657, 7)\n",
      "(7,)\n",
      "(657, 128, 32, 1)\n",
      "Train on 657 samples, validate on 439 samples\n",
      "Epoch 1/17\n",
      "657/657 [==============================] - ETA: 19s - loss: 4.0558 - accuracy: 0.156 - ETA: 10s - loss: 3.1060 - accuracy: 0.406 - ETA: 7s - loss: 3.2798 - accuracy: 0.447 - ETA: 6s - loss: 3.0464 - accuracy: 0.45 - ETA: 5s - loss: 2.8030 - accuracy: 0.46 - ETA: 4s - loss: 2.6097 - accuracy: 0.45 - ETA: 3s - loss: 2.4701 - accuracy: 0.42 - ETA: 3s - loss: 2.3784 - accuracy: 0.42 - ETA: 3s - loss: 2.2925 - accuracy: 0.43 - ETA: 2s - loss: 2.2017 - accuracy: 0.44 - ETA: 2s - loss: 2.1122 - accuracy: 0.46 - ETA: 2s - loss: 2.0394 - accuracy: 0.47 - ETA: 1s - loss: 1.9996 - accuracy: 0.48 - ETA: 1s - loss: 1.9450 - accuracy: 0.49 - ETA: 1s - loss: 1.9012 - accuracy: 0.50 - ETA: 1s - loss: 1.8715 - accuracy: 0.50 - ETA: 0s - loss: 1.8469 - accuracy: 0.52 - ETA: 0s - loss: 1.8115 - accuracy: 0.52 - ETA: 0s - loss: 1.7669 - accuracy: 0.53 - ETA: 0s - loss: 1.7500 - accuracy: 0.54 - 6s 9ms/step - loss: 1.7466 - accuracy: 0.5403 - val_loss: 0.9263 - val_accuracy: 0.7403\n",
      "Epoch 2/17\n",
      "657/657 [==============================] - ETA: 4s - loss: 1.1509 - accuracy: 0.65 - ETA: 4s - loss: 1.2885 - accuracy: 0.65 - ETA: 3s - loss: 1.2698 - accuracy: 0.63 - ETA: 3s - loss: 1.2546 - accuracy: 0.62 - ETA: 3s - loss: 1.2028 - accuracy: 0.65 - ETA: 2s - loss: 1.2129 - accuracy: 0.64 - ETA: 2s - loss: 1.2027 - accuracy: 0.63 - ETA: 2s - loss: 1.1956 - accuracy: 0.62 - ETA: 2s - loss: 1.1730 - accuracy: 0.63 - ETA: 2s - loss: 1.1439 - accuracy: 0.64 - ETA: 1s - loss: 1.1532 - accuracy: 0.65 - ETA: 1s - loss: 1.1592 - accuracy: 0.65 - ETA: 1s - loss: 1.1075 - accuracy: 0.66 - ETA: 1s - loss: 1.1140 - accuracy: 0.66 - ETA: 1s - loss: 1.1062 - accuracy: 0.67 - ETA: 1s - loss: 1.0849 - accuracy: 0.67 - ETA: 0s - loss: 1.0751 - accuracy: 0.68 - ETA: 0s - loss: 1.0769 - accuracy: 0.67 - ETA: 0s - loss: 1.0793 - accuracy: 0.68 - ETA: 0s - loss: 1.0833 - accuracy: 0.67 - 7s 11ms/step - loss: 1.0879 - accuracy: 0.6773 - val_loss: 0.7706 - val_accuracy: 0.7950\n",
      "Epoch 3/17\n",
      "657/657 [==============================] - ETA: 3s - loss: 0.9944 - accuracy: 0.78 - ETA: 4s - loss: 1.0090 - accuracy: 0.71 - ETA: 3s - loss: 1.0620 - accuracy: 0.69 - ETA: 3s - loss: 0.9736 - accuracy: 0.72 - ETA: 3s - loss: 0.9877 - accuracy: 0.72 - ETA: 3s - loss: 1.0172 - accuracy: 0.71 - ETA: 3s - loss: 0.9724 - accuracy: 0.72 - ETA: 3s - loss: 0.9700 - accuracy: 0.73 - ETA: 2s - loss: 0.9516 - accuracy: 0.74 - ETA: 2s - loss: 0.9033 - accuracy: 0.75 - ETA: 2s - loss: 0.9295 - accuracy: 0.75 - ETA: 2s - loss: 0.9624 - accuracy: 0.75 - ETA: 1s - loss: 1.0083 - accuracy: 0.73 - ETA: 1s - loss: 0.9966 - accuracy: 0.73 - ETA: 1s - loss: 0.9908 - accuracy: 0.73 - ETA: 1s - loss: 0.9704 - accuracy: 0.74 - ETA: 0s - loss: 0.9569 - accuracy: 0.74 - ETA: 0s - loss: 0.9406 - accuracy: 0.74 - ETA: 0s - loss: 0.9327 - accuracy: 0.74 - ETA: 0s - loss: 0.9367 - accuracy: 0.74 - 7s 11ms/step - loss: 0.9294 - accuracy: 0.7397 - val_loss: 0.6112 - val_accuracy: 0.8132\n",
      "Epoch 4/17\n",
      "657/657 [==============================] - ETA: 4s - loss: 0.9354 - accuracy: 0.75 - ETA: 5s - loss: 0.7274 - accuracy: 0.81 - ETA: 6s - loss: 0.7188 - accuracy: 0.80 - ETA: 6s - loss: 0.7575 - accuracy: 0.78 - ETA: 6s - loss: 0.7361 - accuracy: 0.78 - ETA: 5s - loss: 0.7440 - accuracy: 0.78 - ETA: 4s - loss: 0.7807 - accuracy: 0.76 - ETA: 4s - loss: 0.7925 - accuracy: 0.76 - ETA: 3s - loss: 0.7831 - accuracy: 0.76 - ETA: 3s - loss: 0.7635 - accuracy: 0.76 - ETA: 3s - loss: 0.7662 - accuracy: 0.76 - ETA: 3s - loss: 0.8079 - accuracy: 0.75 - ETA: 2s - loss: 0.8197 - accuracy: 0.75 - ETA: 2s - loss: 0.8151 - accuracy: 0.75 - ETA: 2s - loss: 0.8265 - accuracy: 0.74 - ETA: 1s - loss: 0.8232 - accuracy: 0.74 - ETA: 1s - loss: 0.8224 - accuracy: 0.74 - ETA: 0s - loss: 0.8200 - accuracy: 0.75 - ETA: 0s - loss: 0.8059 - accuracy: 0.75 - ETA: 0s - loss: 0.7877 - accuracy: 0.76 - 9s 14ms/step - loss: 0.7801 - accuracy: 0.7626 - val_loss: 0.5614 - val_accuracy: 0.8292\n",
      "Epoch 5/17\n",
      "657/657 [==============================] - ETA: 4s - loss: 0.8717 - accuracy: 0.78 - ETA: 3s - loss: 0.7388 - accuracy: 0.79 - ETA: 3s - loss: 0.7251 - accuracy: 0.79 - ETA: 3s - loss: 0.9180 - accuracy: 0.72 - ETA: 3s - loss: 0.8470 - accuracy: 0.74 - ETA: 3s - loss: 0.8564 - accuracy: 0.73 - ETA: 2s - loss: 0.7896 - accuracy: 0.76 - ETA: 2s - loss: 0.7865 - accuracy: 0.76 - ETA: 2s - loss: 0.7887 - accuracy: 0.74 - ETA: 2s - loss: 0.7887 - accuracy: 0.75 - ETA: 2s - loss: 0.8024 - accuracy: 0.74 - ETA: 2s - loss: 0.7989 - accuracy: 0.74 - ETA: 1s - loss: 0.7856 - accuracy: 0.75 - ETA: 1s - loss: 0.7943 - accuracy: 0.75 - ETA: 1s - loss: 0.7788 - accuracy: 0.76 - ETA: 1s - loss: 0.7626 - accuracy: 0.76 - ETA: 0s - loss: 0.7563 - accuracy: 0.77 - ETA: 0s - loss: 0.7758 - accuracy: 0.76 - ETA: 0s - loss: 0.7528 - accuracy: 0.77 - ETA: 0s - loss: 0.7622 - accuracy: 0.76 - 7s 11ms/step - loss: 0.7514 - accuracy: 0.7702 - val_loss: 0.4817 - val_accuracy: 0.8497\n",
      "Epoch 6/17\n",
      "657/657 [==============================] - ETA: 4s - loss: 0.8847 - accuracy: 0.78 - ETA: 4s - loss: 0.7266 - accuracy: 0.78 - ETA: 4s - loss: 0.7128 - accuracy: 0.80 - ETA: 4s - loss: 0.7204 - accuracy: 0.77 - ETA: 4s - loss: 0.7218 - accuracy: 0.77 - ETA: 4s - loss: 0.7009 - accuracy: 0.78 - ETA: 3s - loss: 0.6731 - accuracy: 0.79 - ETA: 3s - loss: 0.6392 - accuracy: 0.81 - ETA: 3s - loss: 0.6047 - accuracy: 0.82 - ETA: 2s - loss: 0.5835 - accuracy: 0.82 - ETA: 2s - loss: 0.5918 - accuracy: 0.81 - ETA: 2s - loss: 0.5608 - accuracy: 0.82 - ETA: 2s - loss: 0.6113 - accuracy: 0.81 - ETA: 1s - loss: 0.6224 - accuracy: 0.81 - ETA: 1s - loss: 0.6306 - accuracy: 0.80 - ETA: 1s - loss: 0.6313 - accuracy: 0.79 - ETA: 1s - loss: 0.6271 - accuracy: 0.79 - ETA: 0s - loss: 0.6260 - accuracy: 0.79 - ETA: 0s - loss: 0.6283 - accuracy: 0.79 - ETA: 0s - loss: 0.6135 - accuracy: 0.80 - 10s 15ms/step - loss: 0.6093 - accuracy: 0.8006 - val_loss: 0.4722 - val_accuracy: 0.8542\n",
      "Epoch 7/17\n",
      "640/657 [============================>.] - ETA: 23s - loss: 0.7458 - accuracy: 0.750 - ETA: 17s - loss: 0.6467 - accuracy: 0.812 - ETA: 15s - loss: 0.5985 - accuracy: 0.812 - ETA: 13s - loss: 0.6466 - accuracy: 0.796 - ETA: 12s - loss: 0.6417 - accuracy: 0.793 - ETA: 13s - loss: 0.6491 - accuracy: 0.786 - ETA: 11s - loss: 0.6074 - accuracy: 0.803 - ETA: 10s - loss: 0.5828 - accuracy: 0.812 - ETA: 10s - loss: 0.5942 - accuracy: 0.809 - ETA: 9s - loss: 0.5959 - accuracy: 0.806 - ETA: 7s - loss: 0.5921 - accuracy: 0.80 - ETA: 6s - loss: 0.5746 - accuracy: 0.81 - ETA: 5s - loss: 0.5906 - accuracy: 0.79 - ETA: 4s - loss: 0.5923 - accuracy: 0.80 - ETA: 3s - loss: 0.5961 - accuracy: 0.79 - ETA: 3s - loss: 0.5974 - accuracy: 0.79 - ETA: 2s - loss: 0.6017 - accuracy: 0.79 - ETA: 1s - loss: 0.5861 - accuracy: 0.79 - ETA: 0s - loss: 0.5895 - accuracy: 0.79 - ETA: 0s - loss: 0.5829 - accuracy: 0.8016"
     ]
    }
   ],
   "source": [
    "wandb.init()\n",
    "print(y_train_hot.shape)\n",
    "print(labels.shape)\n",
    "print(X_train.shape)\n",
    "# Train the CNN model\n",
    "#    X_train: Input data\n",
    "#    y_train_hot: Target data\n",
    "model.fit(X_train, y_train_hot, epochs=config.epochs, validation_data=(X_val, y_val_hot), callbacks=[WandbCallback(data_type=\"image\", labels=labels)])"
   ]
  },
  {
   "cell_type": "code",
   "execution_count": null,
   "metadata": {},
   "outputs": [],
   "source": [
    "# Save the keras model\n",
    "model.save(\"ant_cnn_model.h5\")\n",
    "print(\"Model has been saved.\")"
   ]
  },
  {
   "cell_type": "markdown",
   "metadata": {},
   "source": [
    "## Running the IntelliChirp Biophony CNN"
   ]
  },
  {
   "cell_type": "code",
   "execution_count": null,
   "metadata": {
    "scrolled": true
   },
   "outputs": [],
   "source": [
    "from keras.models import load_model\n",
    "\n",
    "# Load the model\n",
    "loaded_model = load_model('ant_cnn_model.h5')"
   ]
  },
  {
   "cell_type": "code",
   "execution_count": null,
   "metadata": {},
   "outputs": [],
   "source": [
    "# Summarize the model\n",
    "model.summary()"
   ]
  },
  {
   "cell_type": "code",
   "execution_count": null,
   "metadata": {},
   "outputs": [],
   "source": [
    "y_pred_ohe = loaded_model.predict(X_test)  # shape=(n_samples, 12)\n",
    "y_pred_labels = np.argmax(y_pred_ohe, axis=1)  # only necessary if output has one-hot-encoding, shape=(n_samples)\n",
    "\n",
    "confusion_matrix = metrics.confusion_matrix(y_true=y_test, y_pred=y_pred_labels)  # shape\n",
    "print(confusion_matrix)\n",
    "\n",
    "for class_i in range(len(labels)) :\n",
    "    indices = np.argwhere(y_test == class_i)\n",
    "    sum = 0\n",
    "    for index in indices:\n",
    "        sum += (y_test[index] == y_pred_labels[index])\n",
    "    if(len(indices) > 0) : mean = sum/len(indices)\n",
    "    else : mean = \"N/A\"\n",
    "    print(\"Accuracy for class\", labels[class_i], \":\", mean)\n",
    "\n",
    "print(\"Overall Accuracy :\", np.mean(y_test == y_pred_labels))\n",
    "\n",
    "'''Accuracy for class AAT : [0.46666667]\n",
    "Accuracy for class AHV : [0.33333333]\n",
    "Accuracy for class AMA : [0.125]\n",
    "Accuracy for class ART : 0\n",
    "Accuracy for class ASI : [0.]\n",
    "Accuracy for class AVH : [0.6]\n",
    "Accuracy for class AVT : [0.92307692]\n",
    "Overall Accuracy : 0.676056338028169'''"
   ]
  },
  {
   "cell_type": "code",
   "execution_count": null,
   "metadata": {},
   "outputs": [],
   "source": [
    "## Running the model\n",
    "\n",
    "n_mfcc = config.buckets\n",
    "max_len = config.max_len\n",
    "# convert file to wav2mfcc\n",
    "# Mel-frequency cepstral coefficients\n",
    "file_path = \"./prediction/nature_sc.wav\"\n",
    "big_wave, sr = librosa.load(file_path, mono=True, sr=None)\n",
    "#print(wave.shape, sr)\n",
    "\n",
    "classification = []\n",
    "\n",
    "for sec_index in range( int(big_wave.shape[0] / sr) ) :\n",
    "    start_sec = sec_index\n",
    "    end_sec = sec_index + 1\n",
    "    \n",
    "    sec_to_trim = np.array( [ float(start_sec), float(end_sec) ] )\n",
    "    print(sec_to_trim)\n",
    "    sec_to_trim = np.ceil( sec_to_trim * sr )\n",
    "\n",
    "    wave = big_wave[int(sec_to_trim[0]) : int(sec_to_trim[1])]\n",
    "    print(wave)\n",
    "\n",
    "    wave = np.asfortranarray(wave[::3])\n",
    "    mfcc = librosa.feature.mfcc(wave, sr=16000, n_mfcc=n_mfcc)\n",
    "\n",
    "    # If maximum length exceeds mfcc lengths then pad the remaining ones\n",
    "    if (max_len > mfcc.shape[1]):\n",
    "        pad_width = max_len - mfcc.shape[1]\n",
    "        mfcc = np.pad(mfcc, pad_width=((0, 0), (0, pad_width)), mode='constant')\n",
    "\n",
    "    # Else cutoff the remaining parts\n",
    "    else:\n",
    "        mfcc = mfcc[:, :max_len]\n",
    "\n",
    "    # Convert wav to MFCC\n",
    "    prediction_data = wav2mfcc('./prediction/nature_sc.wav')\n",
    "    prediction_data = mfcc\n",
    "    print(prediction_data.shape)\n",
    "    #print(wav2mfcc())\n",
    "    # Reshape to 4 dimensions\n",
    "    prediction_data = prediction_data.reshape(1, config.buckets, config.max_len, channels)\n",
    "    #prediction_data = prediction_data.reshape(1, 20, config.max_len, channels)\n",
    "\n",
    "    # Run the model on the inputted file\n",
    "    predicted = loaded_model.predict(prediction_data)\n",
    "\n",
    "    # Output the prediction values for each class\n",
    "    print ('PREDICTED VALUES')\n",
    "    labels_indices = range(len(labels))\n",
    "    max_value = 0\n",
    "    max_value_index = 0\n",
    "    for index in labels_indices:\n",
    "        print('\\n', labels[index], \": \", '%.08f' % predicted[0,index])\n",
    "        if predicted[0,index] > max_value:\n",
    "            max_value_index = index\n",
    "            max_value = predicted[0,index]\n",
    "\n",
    "    # Output the prediction\n",
    "    if max_value < 0.5:\n",
    "        print(\"GUESS: Nothing\")\n",
    "        classification.append( { \"class\" : \"Nothing\", \"timestamp\" : start_sec } )\n",
    "    else:\n",
    "        print('\\n\\nGUESS: ', labels[max_value_index])\n",
    "        classification.append( { \"class\" : labels[max_value_index], \"timestamp\" : start_sec } )\n",
    "\n",
    "print(classification)"
   ]
  },
  {
   "cell_type": "code",
   "execution_count": null,
   "metadata": {},
   "outputs": [],
   "source": []
  }
 ],
 "metadata": {
  "kernelspec": {
   "display_name": "Python 3",
   "language": "python",
   "name": "python3"
  },
  "language_info": {
   "codemirror_mode": {
    "name": "ipython",
    "version": 3
   },
   "file_extension": ".py",
   "mimetype": "text/x-python",
   "name": "python",
   "nbconvert_exporter": "python",
   "pygments_lexer": "ipython3",
   "version": "3.7.4"
  }
 },
 "nbformat": 4,
 "nbformat_minor": 2
}
