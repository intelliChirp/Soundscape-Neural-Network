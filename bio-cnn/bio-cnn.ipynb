{
 "cells": [
  {
   "cell_type": "code",
   "execution_count": 23,
   "metadata": {},
   "outputs": [],
   "source": [
    "from preprocess import *\n",
    "import keras\n",
    "from keras.models import Sequential\n",
    "from keras.layers import Dense, Dropout, Flatten, Conv2D, MaxPooling2D, LSTM, Activation\n",
    "from keras.utils import to_categorical\n",
    "import wandb\n",
    "from wandb.keras import WandbCallback\n",
    "import matplotlib.pyplot as plt\n",
    "import sklearn.metrics as metrics"
   ]
  },
  {
   "cell_type": "code",
   "execution_count": 24,
   "metadata": {},
   "outputs": [
    {
     "data": {
      "text/html": [
       "\n",
       "                Logging results to <a href=\"https://wandb.com\" target=\"_blank\">Weights & Biases</a> <a href=\"https://docs.wandb.com/integrations/jupyter.html\" target=\"_blank\">(Documentation)</a>.<br/>\n",
       "                Project page: <a href=\"https://app.wandb.ai/joshekruse/intellichirp-snaw-NN\" target=\"_blank\">https://app.wandb.ai/joshekruse/intellichirp-snaw-NN</a><br/>\n",
       "                Run page: <a href=\"https://app.wandb.ai/joshekruse/intellichirp-snaw-NN/runs/n6lvnfwr\" target=\"_blank\">https://app.wandb.ai/joshekruse/intellichirp-snaw-NN/runs/n6lvnfwr</a><br/>\n",
       "            "
      ],
      "text/plain": [
       "<IPython.core.display.HTML object>"
      ]
     },
     "metadata": {},
     "output_type": "display_data"
    },
    {
     "name": "stderr",
     "output_type": "stream",
     "text": [
      "wandb: Wandb version 0.8.31 is available!  To upgrade, please run:\n",
      "wandb:  $ pip install wandb --upgrade\n",
      "Saving vectors of label - 'BAM': 100%|███████████████████████████████████████████████| 724/724 [00:11<00:00, 60.43it/s]\n",
      "Saving vectors of label - 'BBI': 100%|█████████████████████████████████████████████| 2648/2648 [00:43<00:00, 60.20it/s]\n",
      "Saving vectors of label - 'BIN': 100%|███████████████████████████████████████████████| 800/800 [00:11<00:00, 69.32it/s]\n",
      "Saving vectors of label - 'OPI': 100%|███████████████████████████████████████████████| 279/279 [00:04<00:00, 65.16it/s]\n",
      "Saving vectors of label - 'OQU': 100%|█████████████████████████████████████████████| 2151/2151 [00:31<00:00, 67.78it/s]\n"
     ]
    }
   ],
   "source": [
    "wandb.init()\n",
    "config = wandb.config\n",
    "\n",
    "config.max_len = 32\n",
    "config.buckets = 128\n",
    "\n",
    "# Save data to array file first\n",
    "save_data_to_array(max_len=config.max_len, n_mfcc=config.buckets)\n",
    "\n",
    "#labels=np.array([\"chirping_birds\", \"crickets\", \"crow\", \n",
    "#                 \"frog\", \"insects\"])\n",
    "labels=np.array([\"BAM\", \"BBI\", \"BIN\", \n",
    "                 \"OPI\", \"OQU\"])"
   ]
  },
  {
   "cell_type": "code",
   "execution_count": 25,
   "metadata": {},
   "outputs": [],
   "source": [
    "# Loading train/test set\n",
    "X_train, X_test, X_val, y_train, y_test, y_val = get_train_test()"
   ]
  },
  {
   "cell_type": "code",
   "execution_count": 26,
   "metadata": {},
   "outputs": [
    {
     "name": "stderr",
     "output_type": "stream",
     "text": [
      "wandb: Wandb version 0.8.31 is available!  To upgrade, please run:\n",
      "wandb:  $ pip install wandb --upgrade\n"
     ]
    }
   ],
   "source": [
    "# Setting channels to 1 to generalize stereo sound to 1 channel\n",
    "channels = 1\n",
    "config.epochs = 20\n",
    "config.batch_size = 100\n",
    "\n",
    "# Number of classes\n",
    "num_classes = labels.shape[0]\n",
    "\n",
    "# Reshape X_train and X_test to include a 4th dimension (channels)\n",
    "X_train = X_train.reshape(X_train.shape[0], config.buckets, config.max_len, channels)\n",
    "X_test = X_test.reshape(X_test.shape[0], config.buckets, config.max_len, channels)\n",
    "X_val = X_val.reshape(X_val.shape[0], config.buckets, config.max_len, channels)"
   ]
  },
  {
   "cell_type": "code",
   "execution_count": 27,
   "metadata": {},
   "outputs": [],
   "source": [
    "def plot_2d_space(X, y, label='Classes'):   \n",
    "    colors = ['#111111', '#222222', '#333333', '#444444', '#555555', '#666666', '#777777', '#888888']\n",
    "    markers = ['o', 's', 'o', 's','o', 's']\n",
    "    for l, c, m in zip(np.unique(y), colors, markers):\n",
    "        plt.scatter(\n",
    "            X[y==l, 0],\n",
    "            X[y==l, 1],\n",
    "            c=c, label=l, marker=m\n",
    "        )\n",
    "    plt.title(label)\n",
    "    plt.legend(loc='upper right')\n",
    "    plt.show()"
   ]
  },
  {
   "cell_type": "code",
   "execution_count": 28,
   "metadata": {},
   "outputs": [],
   "source": [
    "from imblearn.under_sampling import RandomUnderSampler\n",
    "from imblearn.over_sampling import RandomOverSampler\n",
    "from imblearn.combine import SMOTETomek\n",
    "\n",
    "def run_sampler( X, y, sampler ) :\n",
    "    print(X.shape)\n",
    "    print(y.shape)\n",
    "\n",
    "    X_samples, _, _, _ = X.shape\n",
    "\n",
    "    d2_X = X.reshape((X_samples,config.buckets*config.max_len*channels))\n",
    "\n",
    "    X_s, y_s = sampler.fit_sample(d2_X, y)\n",
    "\n",
    "    #plot_2d_space(X_rus, y_rus, 'Random under-sampling')\n",
    "\n",
    "    X_s = X_s.reshape((X_s.shape[0], config.buckets, config.max_len, channels))\n",
    "    print(\"X_s\", X_s.shape)\n",
    "    print(\"Y_s\", y_s.shape)\n",
    "    \n",
    "    return X_s, y_s"
   ]
  },
  {
   "cell_type": "code",
   "execution_count": 29,
   "metadata": {},
   "outputs": [
    {
     "name": "stdout",
     "output_type": "stream",
     "text": [
      "(3168, 128, 32, 1)\n",
      "(3168,)\n",
      "X_s (6319, 128, 32, 1)\n",
      "Y_s (6319,)\n",
      "(1321, 128, 32, 1)\n",
      "(1321,)\n",
      "X_s (2638, 128, 32, 1)\n",
      "Y_s (2638,)\n",
      "(2113, 128, 32, 1)\n",
      "(2113,)\n",
      "X_s (4275, 128, 32, 1)\n",
      "Y_s (4275,)\n"
     ]
    }
   ],
   "source": [
    "#smt = RandomUnderSampler()\n",
    "#sampler = RandomOverSampler()\n",
    "smt = SMOTETomek()\n",
    "\n",
    "X_train, y_train = run_sampler( X_train, y_train, smt )\n",
    "X_test, y_test = run_sampler( X_test, y_test, smt )\n",
    "X_val, y_val = run_sampler( X_val, y_val, smt )"
   ]
  },
  {
   "cell_type": "code",
   "execution_count": 30,
   "metadata": {},
   "outputs": [
    {
     "name": "stdout",
     "output_type": "stream",
     "text": [
      "(6319, 128, 32, 1)\n"
     ]
    }
   ],
   "source": [
    "# Spectrogram visualized of 0th element\n",
    "print(X_train.shape)\n",
    "#plt.imshow(X_train[500, :, :, 0])"
   ]
  },
  {
   "cell_type": "code",
   "execution_count": 31,
   "metadata": {},
   "outputs": [],
   "source": [
    "# Getting vector number where each number corresponds to a label\n",
    "y_train_hot = to_categorical(y_train)\n",
    "y_test_hot = to_categorical(y_test)\n",
    "y_val_hot = to_categorical(y_val)"
   ]
  },
  {
   "cell_type": "code",
   "execution_count": 32,
   "metadata": {},
   "outputs": [
    {
     "name": "stdout",
     "output_type": "stream",
     "text": [
      "Model: \"sequential_2\"\n",
      "_________________________________________________________________\n",
      "Layer (type)                 Output Shape              Param #   \n",
      "=================================================================\n",
      "conv2d_4 (Conv2D)            (None, 126, 30, 21)       210       \n",
      "_________________________________________________________________\n",
      "max_pooling2d_3 (MaxPooling2 (None, 63, 15, 21)        0         \n",
      "_________________________________________________________________\n",
      "activation_6 (Activation)    (None, 63, 15, 21)        0         \n",
      "_________________________________________________________________\n",
      "conv2d_5 (Conv2D)            (None, 61, 13, 48)        9120      \n",
      "_________________________________________________________________\n",
      "max_pooling2d_4 (MaxPooling2 (None, 30, 6, 48)         0         \n",
      "_________________________________________________________________\n",
      "activation_7 (Activation)    (None, 30, 6, 48)         0         \n",
      "_________________________________________________________________\n",
      "conv2d_6 (Conv2D)            (None, 28, 6, 48)         6960      \n",
      "_________________________________________________________________\n",
      "activation_8 (Activation)    (None, 28, 6, 48)         0         \n",
      "_________________________________________________________________\n",
      "flatten_2 (Flatten)          (None, 8064)              0         \n",
      "_________________________________________________________________\n",
      "dropout_3 (Dropout)          (None, 8064)              0         \n",
      "_________________________________________________________________\n",
      "dense_3 (Dense)              (None, 64)                516160    \n",
      "_________________________________________________________________\n",
      "activation_9 (Activation)    (None, 64)                0         \n",
      "_________________________________________________________________\n",
      "dropout_4 (Dropout)          (None, 64)                0         \n",
      "_________________________________________________________________\n",
      "dense_4 (Dense)              (None, 5)                 325       \n",
      "_________________________________________________________________\n",
      "activation_10 (Activation)   (None, 5)                 0         \n",
      "=================================================================\n",
      "Total params: 532,775\n",
      "Trainable params: 532,775\n",
      "Non-trainable params: 0\n",
      "_________________________________________________________________\n"
     ]
    }
   ],
   "source": [
    "# Building the model\n",
    "\n",
    "\"\"\"model.add(Conv2D(80, (57, 6), strides=(1, 1), input_shape=input_shape))\n",
    "model.add(MaxPooling2D((4, 3), strides=(1, 3)))\n",
    "model.add(Activation('relu'))\n",
    "model.add(Dropout(rate=0.5))\n",
    "\n",
    "model.add(Conv2D(80, (1, 3), strides=(1, 1), padding=\"valid\"))\n",
    "model.add(MaxPooling2D((1, 3), strides=(1, 3)))\n",
    "model.add(Activation('relu'))\n",
    "\n",
    "model.add(Flatten())\n",
    "\n",
    "model.add(Dense(5000))\n",
    "model.add(Activation('relu'))\n",
    "model.add(Dropout(rate=0.5))\n",
    "\n",
    "model.add(Dense(5000))\n",
    "model.add(Activation('relu'))\n",
    "model.add(Dropout(rate=0.5))\n",
    "\n",
    "model.add(Dense(len(labels)))\n",
    "model.add(Activation('softmax'))\n",
    "model.summary()\"\"\"\n",
    "\n",
    "# Building the model\n",
    "model = Sequential()\n",
    "\n",
    "input_shape= (config.buckets, config.max_len, channels)\n",
    "\n",
    "model.add(Conv2D(21, (3, 3), strides=(1, 1), input_shape=input_shape))\n",
    "model.add(MaxPooling2D((2, 2), strides=(2, 2)))\n",
    "model.add(Activation('relu'))\n",
    "\n",
    "model.add(Conv2D(48, (3, 3), padding=\"valid\"))\n",
    "model.add(MaxPooling2D((2, 2), strides=(2, 2)))\n",
    "model.add(Activation('relu'))\n",
    "\n",
    "model.add(Conv2D(48, (3, 1), padding=\"valid\"))\n",
    "model.add(Activation('relu'))\n",
    "\n",
    "model.add(Flatten())\n",
    "model.add(Dropout(rate=0.5))\n",
    "\n",
    "model.add(Dense(64))\n",
    "model.add(Activation('relu'))\n",
    "model.add(Dropout(rate=0.5))\n",
    "\n",
    "model.add(Dense(len(labels)))\n",
    "model.add(Activation('softmax'))\n",
    "model.summary()"
   ]
  },
  {
   "cell_type": "code",
   "execution_count": 33,
   "metadata": {},
   "outputs": [],
   "source": [
    "# Configure CNN for training\n",
    "model.compile(loss=\"categorical_crossentropy\",\n",
    "                  optimizer=\"adam\",\n",
    "                  metrics=['accuracy'])"
   ]
  },
  {
   "cell_type": "code",
   "execution_count": 34,
   "metadata": {
    "scrolled": false
   },
   "outputs": [
    {
     "data": {
      "text/html": [
       "\n",
       "                Logging results to <a href=\"https://wandb.com\" target=\"_blank\">Weights & Biases</a> <a href=\"https://docs.wandb.com/integrations/jupyter.html\" target=\"_blank\">(Documentation)</a>.<br/>\n",
       "                Project page: <a href=\"https://app.wandb.ai/joshekruse/intellichirp-snaw-NN\" target=\"_blank\">https://app.wandb.ai/joshekruse/intellichirp-snaw-NN</a><br/>\n",
       "                Run page: <a href=\"https://app.wandb.ai/joshekruse/intellichirp-snaw-NN/runs/3fdrj6nd\" target=\"_blank\">https://app.wandb.ai/joshekruse/intellichirp-snaw-NN/runs/3fdrj6nd</a><br/>\n",
       "            "
      ],
      "text/plain": [
       "<IPython.core.display.HTML object>"
      ]
     },
     "metadata": {},
     "output_type": "display_data"
    },
    {
     "name": "stderr",
     "output_type": "stream",
     "text": [
      "wandb: Wandb version 0.8.31 is available!  To upgrade, please run:\n",
      "wandb:  $ pip install wandb --upgrade\n"
     ]
    },
    {
     "name": "stdout",
     "output_type": "stream",
     "text": [
      "(6319, 5)\n",
      "(5,)\n",
      "(6319, 128, 32, 1)\n",
      "Train on 6319 samples, validate on 4275 samples\n",
      "Epoch 1/20\n"
     ]
    },
    {
     "name": "stdout",
     "output_type": "stream",
     "text": [
      "5920/6319 [===========================>..] - ETA: 6:21 - loss: 6.3029 - accuracy: 0.12 - ETA: 3:55 - loss: 4.6900 - accuracy: 0.20 - ETA: 2:48 - loss: 4.3345 - accuracy: 0.20 - ETA: 2:19 - loss: 4.0693 - accuracy: 0.21 - ETA: 2:03 - loss: 3.6750 - accuracy: 0.23 - ETA: 1:51 - loss: 3.4114 - accuracy: 0.23 - ETA: 1:45 - loss: 3.1432 - accuracy: 0.25 - ETA: 1:38 - loss: 2.9836 - accuracy: 0.26 - ETA: 1:32 - loss: 2.8331 - accuracy: 0.26 - ETA: 1:26 - loss: 2.6960 - accuracy: 0.28 - ETA: 1:22 - loss: 2.6025 - accuracy: 0.28 - ETA: 1:19 - loss: 2.5087 - accuracy: 0.28 - ETA: 1:17 - loss: 2.4198 - accuracy: 0.30 - ETA: 1:15 - loss: 2.3556 - accuracy: 0.30 - ETA: 1:14 - loss: 2.3001 - accuracy: 0.30 - ETA: 1:12 - loss: 2.2468 - accuracy: 0.30 - ETA: 1:09 - loss: 2.2078 - accuracy: 0.30 - ETA: 1:07 - loss: 2.1574 - accuracy: 0.31 - ETA: 1:06 - loss: 2.1237 - accuracy: 0.31 - ETA: 1:05 - loss: 2.0883 - accuracy: 0.31 - ETA: 1:04 - loss: 2.0612 - accuracy: 0.31 - ETA: 1:03 - loss: 2.0288 - accuracy: 0.31 - ETA: 1:03 - loss: 2.0139 - accuracy: 0.31 - ETA: 1:01 - loss: 1.9964 - accuracy: 0.31 - ETA: 1:01 - loss: 1.9693 - accuracy: 0.32 - ETA: 1:00 - loss: 1.9509 - accuracy: 0.32 - ETA: 59s - loss: 1.9282 - accuracy: 0.3287 - ETA: 58s - loss: 1.9125 - accuracy: 0.324 - ETA: 58s - loss: 1.8960 - accuracy: 0.327 - ETA: 57s - loss: 1.8849 - accuracy: 0.325 - ETA: 56s - loss: 1.8678 - accuracy: 0.330 - ETA: 55s - loss: 1.8490 - accuracy: 0.333 - ETA: 54s - loss: 1.8381 - accuracy: 0.331 - ETA: 53s - loss: 1.8283 - accuracy: 0.332 - ETA: 52s - loss: 1.8182 - accuracy: 0.332 - ETA: 51s - loss: 1.8052 - accuracy: 0.335 - ETA: 50s - loss: 1.7889 - accuracy: 0.337 - ETA: 49s - loss: 1.7774 - accuracy: 0.336 - ETA: 48s - loss: 1.7671 - accuracy: 0.340 - ETA: 47s - loss: 1.7565 - accuracy: 0.341 - ETA: 46s - loss: 1.7498 - accuracy: 0.343 - ETA: 45s - loss: 1.7401 - accuracy: 0.344 - ETA: 44s - loss: 1.7313 - accuracy: 0.343 - ETA: 43s - loss: 1.7202 - accuracy: 0.344 - ETA: 43s - loss: 1.7101 - accuracy: 0.347 - ETA: 42s - loss: 1.6986 - accuracy: 0.351 - ETA: 41s - loss: 1.6939 - accuracy: 0.351 - ETA: 41s - loss: 1.6894 - accuracy: 0.351 - ETA: 40s - loss: 1.6849 - accuracy: 0.352 - ETA: 39s - loss: 1.6781 - accuracy: 0.352 - ETA: 39s - loss: 1.6709 - accuracy: 0.352 - ETA: 38s - loss: 1.6653 - accuracy: 0.351 - ETA: 37s - loss: 1.6630 - accuracy: 0.353 - ETA: 37s - loss: 1.6546 - accuracy: 0.353 - ETA: 36s - loss: 1.6511 - accuracy: 0.356 - ETA: 36s - loss: 1.6458 - accuracy: 0.359 - ETA: 35s - loss: 1.6407 - accuracy: 0.358 - ETA: 35s - loss: 1.6380 - accuracy: 0.357 - ETA: 34s - loss: 1.6301 - accuracy: 0.359 - ETA: 34s - loss: 1.6240 - accuracy: 0.362 - ETA: 33s - loss: 1.6182 - accuracy: 0.363 - ETA: 33s - loss: 1.6114 - accuracy: 0.364 - ETA: 32s - loss: 1.6050 - accuracy: 0.367 - ETA: 32s - loss: 1.5988 - accuracy: 0.368 - ETA: 32s - loss: 1.5969 - accuracy: 0.368 - ETA: 31s - loss: 1.5934 - accuracy: 0.371 - ETA: 31s - loss: 1.5871 - accuracy: 0.373 - ETA: 30s - loss: 1.5847 - accuracy: 0.374 - ETA: 30s - loss: 1.5780 - accuracy: 0.377 - ETA: 29s - loss: 1.5728 - accuracy: 0.377 - ETA: 29s - loss: 1.5653 - accuracy: 0.379 - ETA: 29s - loss: 1.5590 - accuracy: 0.381 - ETA: 28s - loss: 1.5561 - accuracy: 0.381 - ETA: 28s - loss: 1.5504 - accuracy: 0.383 - ETA: 28s - loss: 1.5445 - accuracy: 0.385 - ETA: 27s - loss: 1.5378 - accuracy: 0.387 - ETA: 27s - loss: 1.5315 - accuracy: 0.388 - ETA: 27s - loss: 1.5258 - accuracy: 0.389 - ETA: 26s - loss: 1.5205 - accuracy: 0.390 - ETA: 26s - loss: 1.5177 - accuracy: 0.391 - ETA: 26s - loss: 1.5145 - accuracy: 0.391 - ETA: 25s - loss: 1.5098 - accuracy: 0.392 - ETA: 25s - loss: 1.5062 - accuracy: 0.394 - ETA: 25s - loss: 1.5018 - accuracy: 0.395 - ETA: 24s - loss: 1.5007 - accuracy: 0.395 - ETA: 24s - loss: 1.4999 - accuracy: 0.396 - ETA: 24s - loss: 1.4946 - accuracy: 0.398 - ETA: 23s - loss: 1.4918 - accuracy: 0.399 - ETA: 23s - loss: 1.4868 - accuracy: 0.402 - ETA: 23s - loss: 1.4827 - accuracy: 0.404 - ETA: 22s - loss: 1.4800 - accuracy: 0.405 - ETA: 22s - loss: 1.4769 - accuracy: 0.406 - ETA: 22s - loss: 1.4730 - accuracy: 0.407 - ETA: 22s - loss: 1.4684 - accuracy: 0.408 - ETA: 21s - loss: 1.4675 - accuracy: 0.408 - ETA: 21s - loss: 1.4629 - accuracy: 0.411 - ETA: 21s - loss: 1.4592 - accuracy: 0.412 - ETA: 20s - loss: 1.4576 - accuracy: 0.412 - ETA: 20s - loss: 1.4522 - accuracy: 0.414 - ETA: 20s - loss: 1.4517 - accuracy: 0.415 - ETA: 20s - loss: 1.4490 - accuracy: 0.415 - ETA: 19s - loss: 1.4459 - accuracy: 0.416 - ETA: 19s - loss: 1.4434 - accuracy: 0.417 - ETA: 19s - loss: 1.4410 - accuracy: 0.418 - ETA: 19s - loss: 1.4358 - accuracy: 0.420 - ETA: 18s - loss: 1.4316 - accuracy: 0.421 - ETA: 18s - loss: 1.4258 - accuracy: 0.424 - ETA: 18s - loss: 1.4243 - accuracy: 0.424 - ETA: 18s - loss: 1.4217 - accuracy: 0.426 - ETA: 17s - loss: 1.4188 - accuracy: 0.426 - ETA: 17s - loss: 1.4177 - accuracy: 0.427 - ETA: 17s - loss: 1.4145 - accuracy: 0.427 - ETA: 17s - loss: 1.4153 - accuracy: 0.425 - ETA: 16s - loss: 1.4137 - accuracy: 0.427 - ETA: 16s - loss: 1.4120 - accuracy: 0.428 - ETA: 16s - loss: 1.4097 - accuracy: 0.429 - ETA: 16s - loss: 1.4062 - accuracy: 0.430 - ETA: 15s - loss: 1.4065 - accuracy: 0.430 - ETA: 15s - loss: 1.4039 - accuracy: 0.432 - ETA: 15s - loss: 1.4002 - accuracy: 0.434 - ETA: 15s - loss: 1.3969 - accuracy: 0.435 - ETA: 15s - loss: 1.3956 - accuracy: 0.435 - ETA: 14s - loss: 1.3928 - accuracy: 0.436 - ETA: 14s - loss: 1.3909 - accuracy: 0.437 - ETA: 14s - loss: 1.3882 - accuracy: 0.438 - ETA: 14s - loss: 1.3860 - accuracy: 0.439 - ETA: 13s - loss: 1.3828 - accuracy: 0.440 - ETA: 13s - loss: 1.3781 - accuracy: 0.441 - ETA: 13s - loss: 1.3739 - accuracy: 0.443 - ETA: 13s - loss: 1.3697 - accuracy: 0.445 - ETA: 13s - loss: 1.3675 - accuracy: 0.446 - ETA: 12s - loss: 1.3656 - accuracy: 0.446 - ETA: 12s - loss: 1.3640 - accuracy: 0.446 - ETA: 12s - loss: 1.3607 - accuracy: 0.448 - ETA: 12s - loss: 1.3603 - accuracy: 0.449 - ETA: 11s - loss: 1.3574 - accuracy: 0.450 - ETA: 11s - loss: 1.3538 - accuracy: 0.452 - ETA: 11s - loss: 1.3522 - accuracy: 0.453 - ETA: 11s - loss: 1.3505 - accuracy: 0.453 - ETA: 11s - loss: 1.3473 - accuracy: 0.454 - ETA: 10s - loss: 1.3444 - accuracy: 0.456 - ETA: 10s - loss: 1.3423 - accuracy: 0.456 - ETA: 10s - loss: 1.3411 - accuracy: 0.457 - ETA: 10s - loss: 1.3392 - accuracy: 0.458 - ETA: 10s - loss: 1.3378 - accuracy: 0.459 - ETA: 10s - loss: 1.3357 - accuracy: 0.459 - ETA: 9s - loss: 1.3346 - accuracy: 0.460 - ETA: 9s - loss: 1.3322 - accuracy: 0.46 - ETA: 9s - loss: 1.3316 - accuracy: 0.46 - ETA: 9s - loss: 1.3292 - accuracy: 0.46 - ETA: 9s - loss: 1.3276 - accuracy: 0.46 - ETA: 8s - loss: 1.3259 - accuracy: 0.46 - ETA: 8s - loss: 1.3255 - accuracy: 0.46 - ETA: 8s - loss: 1.3237 - accuracy: 0.46 - ETA: 8s - loss: 1.3228 - accuracy: 0.46 - ETA: 8s - loss: 1.3217 - accuracy: 0.46 - ETA: 8s - loss: 1.3198 - accuracy: 0.46 - ETA: 7s - loss: 1.3179 - accuracy: 0.46 - ETA: 7s - loss: 1.3184 - accuracy: 0.46 - ETA: 7s - loss: 1.3155 - accuracy: 0.46 - ETA: 7s - loss: 1.3136 - accuracy: 0.46 - ETA: 7s - loss: 1.3119 - accuracy: 0.46 - ETA: 6s - loss: 1.3105 - accuracy: 0.46 - ETA: 6s - loss: 1.3069 - accuracy: 0.46 - ETA: 6s - loss: 1.3052 - accuracy: 0.46 - ETA: 6s - loss: 1.3069 - accuracy: 0.46 - ETA: 6s - loss: 1.3057 - accuracy: 0.46 - ETA: 5s - loss: 1.3049 - accuracy: 0.46 - ETA: 5s - loss: 1.3047 - accuracy: 0.46 - ETA: 5s - loss: 1.3019 - accuracy: 0.47 - ETA: 5s - loss: 1.3007 - accuracy: 0.47 - ETA: 5s - loss: 1.2992 - accuracy: 0.47 - ETA: 4s - loss: 1.2970 - accuracy: 0.47 - ETA: 4s - loss: 1.2962 - accuracy: 0.47 - ETA: 4s - loss: 1.2946 - accuracy: 0.47 - ETA: 4s - loss: 1.2923 - accuracy: 0.47 - ETA: 4s - loss: 1.2915 - accuracy: 0.47 - ETA: 3s - loss: 1.2909 - accuracy: 0.47 - ETA: 3s - loss: 1.2899 - accuracy: 0.47 - ETA: 3s - loss: 1.2886 - accuracy: 0.47 - ETA: 3s - loss: 1.2880 - accuracy: 0.47 - ETA: 3s - loss: 1.2858 - accuracy: 0.47 - ETA: 2s - loss: 1.2866 - accuracy: 0.47 - ETA: 2s - loss: 1.2852 - accuracy: 0.47 - ETA: 2s - loss: 1.2838 - accuracy: 0.4775\b\b\b\b\b\b\b\b\b\b\b\b\b\b\b\b\b\b\b\b\b\b\b\b\b\b\b\b\b\b\b\b\b\b\b\b\b\b\b\b\b\b\b\b\b\b\b\b\b\b\b\b\b\b\b\b\b\b\b\b\b\b\b\b\b\b\b\b\b\b\b\b\b\b\b\b\b\b\b\b\b\b\b\b\b\b"
     ]
    },
    {
     "name": "stdout",
     "output_type": "stream",
     "text": [
      "6319/6319 [==============================] - ETA: 2s - loss: 1.2819 - accuracy: 0.47 - ETA: 2s - loss: 1.2814 - accuracy: 0.47 - ETA: 1s - loss: 1.2789 - accuracy: 0.48 - ETA: 1s - loss: 1.2763 - accuracy: 0.48 - ETA: 1s - loss: 1.2750 - accuracy: 0.48 - ETA: 1s - loss: 1.2735 - accuracy: 0.48 - ETA: 1s - loss: 1.2721 - accuracy: 0.48 - ETA: 0s - loss: 1.2720 - accuracy: 0.48 - ETA: 0s - loss: 1.2716 - accuracy: 0.48 - ETA: 0s - loss: 1.2713 - accuracy: 0.48 - ETA: 0s - loss: 1.2695 - accuracy: 0.48 - ETA: 0s - loss: 1.2688 - accuracy: 0.48 - 53s 8ms/step - loss: 1.2680 - accuracy: 0.4833 - val_loss: 0.8777 - val_accuracy: 0.7032\n",
      "Epoch 2/20\n"
     ]
    },
    {
     "name": "stdout",
     "output_type": "stream",
     "text": [
      "5984/6319 [===========================>..] - ETA: 34s - loss: 1.0145 - accuracy: 0.500 - ETA: 32s - loss: 0.8975 - accuracy: 0.562 - ETA: 32s - loss: 0.9419 - accuracy: 0.552 - ETA: 31s - loss: 0.8959 - accuracy: 0.625 - ETA: 31s - loss: 0.9188 - accuracy: 0.625 - ETA: 30s - loss: 0.8702 - accuracy: 0.661 - ETA: 30s - loss: 0.8738 - accuracy: 0.660 - ETA: 30s - loss: 0.8854 - accuracy: 0.644 - ETA: 30s - loss: 0.8940 - accuracy: 0.628 - ETA: 30s - loss: 0.9036 - accuracy: 0.625 - ETA: 29s - loss: 0.8884 - accuracy: 0.633 - ETA: 30s - loss: 0.9041 - accuracy: 0.617 - ETA: 31s - loss: 0.8928 - accuracy: 0.627 - ETA: 30s - loss: 0.8980 - accuracy: 0.631 - ETA: 31s - loss: 0.9032 - accuracy: 0.629 - ETA: 30s - loss: 0.8988 - accuracy: 0.632 - ETA: 30s - loss: 0.8967 - accuracy: 0.634 - ETA: 29s - loss: 0.9121 - accuracy: 0.625 - ETA: 29s - loss: 0.9158 - accuracy: 0.618 - ETA: 29s - loss: 0.9072 - accuracy: 0.626 - ETA: 29s - loss: 0.9073 - accuracy: 0.625 - ETA: 28s - loss: 0.9079 - accuracy: 0.620 - ETA: 28s - loss: 0.9117 - accuracy: 0.618 - ETA: 28s - loss: 0.9230 - accuracy: 0.614 - ETA: 28s - loss: 0.9357 - accuracy: 0.611 - ETA: 28s - loss: 0.9389 - accuracy: 0.610 - ETA: 28s - loss: 0.9399 - accuracy: 0.608 - ETA: 28s - loss: 0.9432 - accuracy: 0.609 - ETA: 27s - loss: 0.9377 - accuracy: 0.612 - ETA: 27s - loss: 0.9368 - accuracy: 0.612 - ETA: 27s - loss: 0.9319 - accuracy: 0.616 - ETA: 27s - loss: 0.9336 - accuracy: 0.614 - ETA: 27s - loss: 0.9346 - accuracy: 0.613 - ETA: 27s - loss: 0.9490 - accuracy: 0.609 - ETA: 26s - loss: 0.9446 - accuracy: 0.610 - ETA: 26s - loss: 0.9414 - accuracy: 0.611 - ETA: 26s - loss: 0.9381 - accuracy: 0.614 - ETA: 26s - loss: 0.9357 - accuracy: 0.616 - ETA: 26s - loss: 0.9332 - accuracy: 0.621 - ETA: 26s - loss: 0.9317 - accuracy: 0.623 - ETA: 26s - loss: 0.9352 - accuracy: 0.621 - ETA: 26s - loss: 0.9329 - accuracy: 0.622 - ETA: 26s - loss: 0.9314 - accuracy: 0.624 - ETA: 26s - loss: 0.9334 - accuracy: 0.624 - ETA: 27s - loss: 0.9310 - accuracy: 0.624 - ETA: 27s - loss: 0.9279 - accuracy: 0.625 - ETA: 28s - loss: 0.9233 - accuracy: 0.629 - ETA: 28s - loss: 0.9314 - accuracy: 0.628 - ETA: 28s - loss: 0.9297 - accuracy: 0.629 - ETA: 28s - loss: 0.9331 - accuracy: 0.626 - ETA: 28s - loss: 0.9328 - accuracy: 0.628 - ETA: 28s - loss: 0.9332 - accuracy: 0.627 - ETA: 28s - loss: 0.9304 - accuracy: 0.629 - ETA: 28s - loss: 0.9247 - accuracy: 0.630 - ETA: 28s - loss: 0.9224 - accuracy: 0.630 - ETA: 28s - loss: 0.9260 - accuracy: 0.628 - ETA: 28s - loss: 0.9264 - accuracy: 0.629 - ETA: 28s - loss: 0.9291 - accuracy: 0.627 - ETA: 28s - loss: 0.9250 - accuracy: 0.629 - ETA: 28s - loss: 0.9297 - accuracy: 0.628 - ETA: 28s - loss: 0.9276 - accuracy: 0.628 - ETA: 28s - loss: 0.9241 - accuracy: 0.629 - ETA: 27s - loss: 0.9220 - accuracy: 0.631 - ETA: 27s - loss: 0.9248 - accuracy: 0.631 - ETA: 27s - loss: 0.9241 - accuracy: 0.631 - ETA: 26s - loss: 0.9234 - accuracy: 0.632 - ETA: 26s - loss: 0.9209 - accuracy: 0.634 - ETA: 26s - loss: 0.9199 - accuracy: 0.633 - ETA: 26s - loss: 0.9170 - accuracy: 0.635 - ETA: 25s - loss: 0.9143 - accuracy: 0.635 - ETA: 25s - loss: 0.9163 - accuracy: 0.634 - ETA: 25s - loss: 0.9141 - accuracy: 0.635 - ETA: 24s - loss: 0.9126 - accuracy: 0.635 - ETA: 24s - loss: 0.9129 - accuracy: 0.636 - ETA: 24s - loss: 0.9168 - accuracy: 0.636 - ETA: 24s - loss: 0.9159 - accuracy: 0.636 - ETA: 23s - loss: 0.9154 - accuracy: 0.636 - ETA: 23s - loss: 0.9158 - accuracy: 0.637 - ETA: 23s - loss: 0.9131 - accuracy: 0.638 - ETA: 23s - loss: 0.9159 - accuracy: 0.637 - ETA: 22s - loss: 0.9168 - accuracy: 0.637 - ETA: 22s - loss: 0.9142 - accuracy: 0.637 - ETA: 22s - loss: 0.9156 - accuracy: 0.637 - ETA: 22s - loss: 0.9149 - accuracy: 0.637 - ETA: 22s - loss: 0.9151 - accuracy: 0.637 - ETA: 22s - loss: 0.9171 - accuracy: 0.637 - ETA: 21s - loss: 0.9194 - accuracy: 0.636 - ETA: 21s - loss: 0.9177 - accuracy: 0.637 - ETA: 21s - loss: 0.9166 - accuracy: 0.639 - ETA: 21s - loss: 0.9191 - accuracy: 0.638 - ETA: 21s - loss: 0.9163 - accuracy: 0.640 - ETA: 20s - loss: 0.9155 - accuracy: 0.640 - ETA: 20s - loss: 0.9132 - accuracy: 0.642 - ETA: 20s - loss: 0.9100 - accuracy: 0.643 - ETA: 20s - loss: 0.9090 - accuracy: 0.642 - ETA: 20s - loss: 0.9082 - accuracy: 0.642 - ETA: 20s - loss: 0.9071 - accuracy: 0.644 - ETA: 20s - loss: 0.9063 - accuracy: 0.644 - ETA: 20s - loss: 0.9037 - accuracy: 0.645 - ETA: 20s - loss: 0.9015 - accuracy: 0.645 - ETA: 19s - loss: 0.8986 - accuracy: 0.647 - ETA: 19s - loss: 0.8987 - accuracy: 0.648 - ETA: 19s - loss: 0.8988 - accuracy: 0.649 - ETA: 19s - loss: 0.8988 - accuracy: 0.649 - ETA: 19s - loss: 0.9016 - accuracy: 0.649 - ETA: 19s - loss: 0.9030 - accuracy: 0.648 - ETA: 18s - loss: 0.8993 - accuracy: 0.650 - ETA: 18s - loss: 0.9010 - accuracy: 0.650 - ETA: 18s - loss: 0.9029 - accuracy: 0.648 - ETA: 18s - loss: 0.9019 - accuracy: 0.648 - ETA: 18s - loss: 0.8988 - accuracy: 0.650 - ETA: 17s - loss: 0.8958 - accuracy: 0.652 - ETA: 17s - loss: 0.8948 - accuracy: 0.652 - ETA: 17s - loss: 0.8923 - accuracy: 0.654 - ETA: 17s - loss: 0.8914 - accuracy: 0.654 - ETA: 16s - loss: 0.8907 - accuracy: 0.654 - ETA: 16s - loss: 0.8881 - accuracy: 0.655 - ETA: 16s - loss: 0.8868 - accuracy: 0.655 - ETA: 16s - loss: 0.8872 - accuracy: 0.655 - ETA: 15s - loss: 0.8867 - accuracy: 0.655 - ETA: 15s - loss: 0.8870 - accuracy: 0.654 - ETA: 15s - loss: 0.8850 - accuracy: 0.655 - ETA: 15s - loss: 0.8839 - accuracy: 0.656 - ETA: 15s - loss: 0.8857 - accuracy: 0.656 - ETA: 14s - loss: 0.8852 - accuracy: 0.656 - ETA: 14s - loss: 0.8866 - accuracy: 0.657 - ETA: 14s - loss: 0.8860 - accuracy: 0.657 - ETA: 14s - loss: 0.8850 - accuracy: 0.657 - ETA: 13s - loss: 0.8830 - accuracy: 0.657 - ETA: 13s - loss: 0.8831 - accuracy: 0.657 - ETA: 13s - loss: 0.8832 - accuracy: 0.657 - ETA: 13s - loss: 0.8829 - accuracy: 0.657 - ETA: 13s - loss: 0.8841 - accuracy: 0.656 - ETA: 12s - loss: 0.8825 - accuracy: 0.657 - ETA: 12s - loss: 0.8821 - accuracy: 0.657 - ETA: 12s - loss: 0.8805 - accuracy: 0.658 - ETA: 12s - loss: 0.8801 - accuracy: 0.657 - ETA: 11s - loss: 0.8783 - accuracy: 0.658 - ETA: 11s - loss: 0.8770 - accuracy: 0.658 - ETA: 11s - loss: 0.8765 - accuracy: 0.659 - ETA: 11s - loss: 0.8777 - accuracy: 0.658 - ETA: 11s - loss: 0.8764 - accuracy: 0.659 - ETA: 11s - loss: 0.8758 - accuracy: 0.659 - ETA: 11s - loss: 0.8752 - accuracy: 0.660 - ETA: 10s - loss: 0.8722 - accuracy: 0.661 - ETA: 10s - loss: 0.8706 - accuracy: 0.662 - ETA: 10s - loss: 0.8702 - accuracy: 0.661 - ETA: 10s - loss: 0.8694 - accuracy: 0.662 - ETA: 10s - loss: 0.8674 - accuracy: 0.662 - ETA: 10s - loss: 0.8659 - accuracy: 0.663 - ETA: 10s - loss: 0.8658 - accuracy: 0.663 - ETA: 9s - loss: 0.8674 - accuracy: 0.663 - ETA: 9s - loss: 0.8669 - accuracy: 0.66 - ETA: 9s - loss: 0.8645 - accuracy: 0.66 - ETA: 9s - loss: 0.8646 - accuracy: 0.66 - ETA: 8s - loss: 0.8630 - accuracy: 0.66 - ETA: 8s - loss: 0.8636 - accuracy: 0.66 - ETA: 8s - loss: 0.8632 - accuracy: 0.66 - ETA: 8s - loss: 0.8642 - accuracy: 0.66 - ETA: 7s - loss: 0.8642 - accuracy: 0.66 - ETA: 7s - loss: 0.8642 - accuracy: 0.66 - ETA: 7s - loss: 0.8641 - accuracy: 0.66 - ETA: 7s - loss: 0.8630 - accuracy: 0.66 - ETA: 7s - loss: 0.8632 - accuracy: 0.66 - ETA: 6s - loss: 0.8635 - accuracy: 0.66 - ETA: 6s - loss: 0.8626 - accuracy: 0.66 - ETA: 6s - loss: 0.8623 - accuracy: 0.66 - ETA: 6s - loss: 0.8617 - accuracy: 0.66 - ETA: 5s - loss: 0.8612 - accuracy: 0.66 - ETA: 5s - loss: 0.8593 - accuracy: 0.66 - ETA: 5s - loss: 0.8589 - accuracy: 0.66 - ETA: 5s - loss: 0.8564 - accuracy: 0.66 - ETA: 5s - loss: 0.8572 - accuracy: 0.66 - ETA: 4s - loss: 0.8558 - accuracy: 0.66 - ETA: 4s - loss: 0.8563 - accuracy: 0.66 - ETA: 4s - loss: 0.8549 - accuracy: 0.66 - ETA: 4s - loss: 0.8574 - accuracy: 0.66 - ETA: 4s - loss: 0.8570 - accuracy: 0.66 - ETA: 3s - loss: 0.8559 - accuracy: 0.66 - ETA: 3s - loss: 0.8537 - accuracy: 0.66 - ETA: 3s - loss: 0.8537 - accuracy: 0.66 - ETA: 3s - loss: 0.8535 - accuracy: 0.66 - ETA: 2s - loss: 0.8520 - accuracy: 0.66 - ETA: 2s - loss: 0.8506 - accuracy: 0.66 - ETA: 2s - loss: 0.8497 - accuracy: 0.66 - ETA: 2s - loss: 0.8493 - accuracy: 0.66 - ETA: 2s - loss: 0.8487 - accuracy: 0.6701"
     ]
    },
    {
     "name": "stdout",
     "output_type": "stream",
     "text": [
      "6319/6319 [==============================] - ETA: 1s - loss: 0.8483 - accuracy: 0.66 - ETA: 1s - loss: 0.8466 - accuracy: 0.67 - ETA: 1s - loss: 0.8455 - accuracy: 0.67 - ETA: 1s - loss: 0.8443 - accuracy: 0.67 - ETA: 1s - loss: 0.8438 - accuracy: 0.67 - ETA: 0s - loss: 0.8436 - accuracy: 0.67 - ETA: 0s - loss: 0.8418 - accuracy: 0.67 - ETA: 0s - loss: 0.8394 - accuracy: 0.67 - ETA: 0s - loss: 0.8384 - accuracy: 0.67 - ETA: 0s - loss: 0.8399 - accuracy: 0.67 - 51s 8ms/step - loss: 0.8402 - accuracy: 0.6742 - val_loss: 0.6047 - val_accuracy: 0.7808\n",
      "Epoch 3/20\n"
     ]
    },
    {
     "name": "stdout",
     "output_type": "stream",
     "text": [
      "6016/6319 [===========================>..] - ETA: 44s - loss: 0.7142 - accuracy: 0.718 - ETA: 49s - loss: 0.7272 - accuracy: 0.734 - ETA: 51s - loss: 0.7044 - accuracy: 0.750 - ETA: 58s - loss: 0.6714 - accuracy: 0.781 - ETA: 1:01 - loss: 0.6923 - accuracy: 0.77 - ETA: 1:01 - loss: 0.6928 - accuracy: 0.78 - ETA: 1:01 - loss: 0.7200 - accuracy: 0.76 - ETA: 59s - loss: 0.6853 - accuracy: 0.7734 - ETA: 57s - loss: 0.7011 - accuracy: 0.760 - ETA: 56s - loss: 0.7098 - accuracy: 0.753 - ETA: 58s - loss: 0.7069 - accuracy: 0.758 - ETA: 57s - loss: 0.7251 - accuracy: 0.747 - ETA: 56s - loss: 0.7419 - accuracy: 0.735 - ETA: 56s - loss: 0.7316 - accuracy: 0.743 - ETA: 54s - loss: 0.7317 - accuracy: 0.743 - ETA: 52s - loss: 0.7290 - accuracy: 0.748 - ETA: 52s - loss: 0.7261 - accuracy: 0.744 - ETA: 50s - loss: 0.7193 - accuracy: 0.741 - ETA: 52s - loss: 0.7187 - accuracy: 0.738 - ETA: 1:07 - loss: 0.7207 - accuracy: 0.74 - ETA: 1:14 - loss: 0.7149 - accuracy: 0.74 - ETA: 1:12 - loss: 0.7145 - accuracy: 0.74 - ETA: 1:10 - loss: 0.7101 - accuracy: 0.74 - ETA: 1:08 - loss: 0.6988 - accuracy: 0.74 - ETA: 1:06 - loss: 0.7029 - accuracy: 0.74 - ETA: 1:04 - loss: 0.7072 - accuracy: 0.74 - ETA: 1:02 - loss: 0.7055 - accuracy: 0.73 - ETA: 1:01 - loss: 0.7176 - accuracy: 0.73 - ETA: 59s - loss: 0.7096 - accuracy: 0.7403 - ETA: 58s - loss: 0.7035 - accuracy: 0.742 - ETA: 57s - loss: 0.7072 - accuracy: 0.741 - ETA: 55s - loss: 0.7042 - accuracy: 0.744 - ETA: 54s - loss: 0.6982 - accuracy: 0.746 - ETA: 53s - loss: 0.6977 - accuracy: 0.746 - ETA: 52s - loss: 0.6978 - accuracy: 0.744 - ETA: 51s - loss: 0.6943 - accuracy: 0.746 - ETA: 49s - loss: 0.6969 - accuracy: 0.746 - ETA: 48s - loss: 0.6909 - accuracy: 0.749 - ETA: 48s - loss: 0.6895 - accuracy: 0.747 - ETA: 47s - loss: 0.6917 - accuracy: 0.747 - ETA: 46s - loss: 0.6941 - accuracy: 0.743 - ETA: 45s - loss: 0.6924 - accuracy: 0.742 - ETA: 44s - loss: 0.6896 - accuracy: 0.742 - ETA: 43s - loss: 0.6878 - accuracy: 0.744 - ETA: 43s - loss: 0.6821 - accuracy: 0.745 - ETA: 42s - loss: 0.6794 - accuracy: 0.747 - ETA: 41s - loss: 0.6767 - accuracy: 0.746 - ETA: 41s - loss: 0.6733 - accuracy: 0.747 - ETA: 40s - loss: 0.6666 - accuracy: 0.750 - ETA: 39s - loss: 0.6634 - accuracy: 0.752 - ETA: 39s - loss: 0.6648 - accuracy: 0.750 - ETA: 38s - loss: 0.6620 - accuracy: 0.752 - ETA: 38s - loss: 0.6594 - accuracy: 0.753 - ETA: 37s - loss: 0.6592 - accuracy: 0.755 - ETA: 36s - loss: 0.6552 - accuracy: 0.756 - ETA: 36s - loss: 0.6529 - accuracy: 0.755 - ETA: 35s - loss: 0.6501 - accuracy: 0.756 - ETA: 35s - loss: 0.6560 - accuracy: 0.754 - ETA: 34s - loss: 0.6577 - accuracy: 0.753 - ETA: 34s - loss: 0.6540 - accuracy: 0.754 - ETA: 33s - loss: 0.6535 - accuracy: 0.754 - ETA: 33s - loss: 0.6549 - accuracy: 0.752 - ETA: 33s - loss: 0.6513 - accuracy: 0.754 - ETA: 32s - loss: 0.6504 - accuracy: 0.754 - ETA: 32s - loss: 0.6499 - accuracy: 0.755 - ETA: 31s - loss: 0.6526 - accuracy: 0.753 - ETA: 31s - loss: 0.6513 - accuracy: 0.753 - ETA: 30s - loss: 0.6475 - accuracy: 0.754 - ETA: 30s - loss: 0.6483 - accuracy: 0.754 - ETA: 30s - loss: 0.6473 - accuracy: 0.755 - ETA: 29s - loss: 0.6455 - accuracy: 0.755 - ETA: 29s - loss: 0.6442 - accuracy: 0.756 - ETA: 28s - loss: 0.6434 - accuracy: 0.756 - ETA: 28s - loss: 0.6419 - accuracy: 0.756 - ETA: 28s - loss: 0.6423 - accuracy: 0.756 - ETA: 27s - loss: 0.6407 - accuracy: 0.756 - ETA: 27s - loss: 0.6440 - accuracy: 0.754 - ETA: 27s - loss: 0.6430 - accuracy: 0.754 - ETA: 26s - loss: 0.6446 - accuracy: 0.753 - ETA: 26s - loss: 0.6426 - accuracy: 0.754 - ETA: 26s - loss: 0.6428 - accuracy: 0.754 - ETA: 25s - loss: 0.6435 - accuracy: 0.755 - ETA: 25s - loss: 0.6434 - accuracy: 0.754 - ETA: 25s - loss: 0.6427 - accuracy: 0.754 - ETA: 24s - loss: 0.6411 - accuracy: 0.754 - ETA: 24s - loss: 0.6379 - accuracy: 0.756 - ETA: 24s - loss: 0.6360 - accuracy: 0.756 - ETA: 24s - loss: 0.6371 - accuracy: 0.755 - ETA: 23s - loss: 0.6367 - accuracy: 0.756 - ETA: 23s - loss: 0.6369 - accuracy: 0.754 - ETA: 23s - loss: 0.6350 - accuracy: 0.755 - ETA: 22s - loss: 0.6337 - accuracy: 0.756 - ETA: 22s - loss: 0.6343 - accuracy: 0.756 - ETA: 22s - loss: 0.6336 - accuracy: 0.756 - ETA: 21s - loss: 0.6315 - accuracy: 0.756 - ETA: 21s - loss: 0.6324 - accuracy: 0.756 - ETA: 21s - loss: 0.6305 - accuracy: 0.757 - ETA: 21s - loss: 0.6305 - accuracy: 0.757 - ETA: 20s - loss: 0.6305 - accuracy: 0.758 - ETA: 20s - loss: 0.6300 - accuracy: 0.759 - ETA: 20s - loss: 0.6293 - accuracy: 0.759 - ETA: 20s - loss: 0.6276 - accuracy: 0.759 - ETA: 19s - loss: 0.6276 - accuracy: 0.759 - ETA: 19s - loss: 0.6305 - accuracy: 0.759 - ETA: 19s - loss: 0.6290 - accuracy: 0.759 - ETA: 18s - loss: 0.6277 - accuracy: 0.760 - ETA: 18s - loss: 0.6262 - accuracy: 0.761 - ETA: 18s - loss: 0.6239 - accuracy: 0.761 - ETA: 18s - loss: 0.6246 - accuracy: 0.760 - ETA: 17s - loss: 0.6265 - accuracy: 0.760 - ETA: 17s - loss: 0.6241 - accuracy: 0.761 - ETA: 17s - loss: 0.6225 - accuracy: 0.762 - ETA: 17s - loss: 0.6223 - accuracy: 0.762 - ETA: 16s - loss: 0.6218 - accuracy: 0.762 - ETA: 16s - loss: 0.6211 - accuracy: 0.762 - ETA: 16s - loss: 0.6207 - accuracy: 0.762 - ETA: 16s - loss: 0.6203 - accuracy: 0.763 - ETA: 16s - loss: 0.6192 - accuracy: 0.764 - ETA: 15s - loss: 0.6174 - accuracy: 0.765 - ETA: 15s - loss: 0.6192 - accuracy: 0.764 - ETA: 15s - loss: 0.6192 - accuracy: 0.764 - ETA: 15s - loss: 0.6189 - accuracy: 0.764 - ETA: 14s - loss: 0.6205 - accuracy: 0.764 - ETA: 14s - loss: 0.6201 - accuracy: 0.764 - ETA: 14s - loss: 0.6198 - accuracy: 0.763 - ETA: 14s - loss: 0.6206 - accuracy: 0.763 - ETA: 13s - loss: 0.6194 - accuracy: 0.763 - ETA: 13s - loss: 0.6181 - accuracy: 0.764 - ETA: 13s - loss: 0.6174 - accuracy: 0.764 - ETA: 13s - loss: 0.6212 - accuracy: 0.763 - ETA: 13s - loss: 0.6226 - accuracy: 0.762 - ETA: 12s - loss: 0.6229 - accuracy: 0.762 - ETA: 12s - loss: 0.6219 - accuracy: 0.762 - ETA: 12s - loss: 0.6209 - accuracy: 0.763 - ETA: 12s - loss: 0.6194 - accuracy: 0.763 - ETA: 11s - loss: 0.6185 - accuracy: 0.764 - ETA: 11s - loss: 0.6197 - accuracy: 0.763 - ETA: 11s - loss: 0.6197 - accuracy: 0.764 - ETA: 11s - loss: 0.6184 - accuracy: 0.765 - ETA: 11s - loss: 0.6175 - accuracy: 0.766 - ETA: 10s - loss: 0.6173 - accuracy: 0.766 - ETA: 10s - loss: 0.6163 - accuracy: 0.766 - ETA: 10s - loss: 0.6156 - accuracy: 0.767 - ETA: 10s - loss: 0.6165 - accuracy: 0.766 - ETA: 10s - loss: 0.6152 - accuracy: 0.766 - ETA: 9s - loss: 0.6148 - accuracy: 0.767 - ETA: 9s - loss: 0.6149 - accuracy: 0.76 - ETA: 9s - loss: 0.6133 - accuracy: 0.76 - ETA: 9s - loss: 0.6127 - accuracy: 0.76 - ETA: 9s - loss: 0.6111 - accuracy: 0.76 - ETA: 8s - loss: 0.6108 - accuracy: 0.76 - ETA: 8s - loss: 0.6117 - accuracy: 0.76 - ETA: 8s - loss: 0.6114 - accuracy: 0.76 - ETA: 8s - loss: 0.6095 - accuracy: 0.77 - ETA: 8s - loss: 0.6090 - accuracy: 0.77 - ETA: 7s - loss: 0.6105 - accuracy: 0.77 - ETA: 7s - loss: 0.6108 - accuracy: 0.76 - ETA: 7s - loss: 0.6107 - accuracy: 0.77 - ETA: 7s - loss: 0.6111 - accuracy: 0.77 - ETA: 7s - loss: 0.6115 - accuracy: 0.76 - ETA: 6s - loss: 0.6126 - accuracy: 0.77 - ETA: 6s - loss: 0.6127 - accuracy: 0.76 - ETA: 6s - loss: 0.6130 - accuracy: 0.76 - ETA: 6s - loss: 0.6127 - accuracy: 0.76 - ETA: 6s - loss: 0.6126 - accuracy: 0.76 - ETA: 5s - loss: 0.6122 - accuracy: 0.76 - ETA: 5s - loss: 0.6124 - accuracy: 0.76 - ETA: 5s - loss: 0.6122 - accuracy: 0.76 - ETA: 5s - loss: 0.6116 - accuracy: 0.76 - ETA: 5s - loss: 0.6104 - accuracy: 0.77 - ETA: 4s - loss: 0.6092 - accuracy: 0.77 - ETA: 4s - loss: 0.6088 - accuracy: 0.77 - ETA: 4s - loss: 0.6076 - accuracy: 0.77 - ETA: 4s - loss: 0.6069 - accuracy: 0.77 - ETA: 4s - loss: 0.6059 - accuracy: 0.77 - ETA: 4s - loss: 0.6064 - accuracy: 0.77 - ETA: 3s - loss: 0.6062 - accuracy: 0.77 - ETA: 3s - loss: 0.6062 - accuracy: 0.77 - ETA: 3s - loss: 0.6070 - accuracy: 0.77 - ETA: 3s - loss: 0.6079 - accuracy: 0.77 - ETA: 3s - loss: 0.6083 - accuracy: 0.77 - ETA: 2s - loss: 0.6083 - accuracy: 0.77 - ETA: 2s - loss: 0.6075 - accuracy: 0.77 - ETA: 2s - loss: 0.6071 - accuracy: 0.77 - ETA: 2s - loss: 0.6063 - accuracy: 0.77 - ETA: 2s - loss: 0.6050 - accuracy: 0.77 - ETA: 1s - loss: 0.6043 - accuracy: 0.77 - ETA: 1s - loss: 0.6039 - accuracy: 0.7718"
     ]
    },
    {
     "name": "stdout",
     "output_type": "stream",
     "text": [
      "6319/6319 [==============================] - ETA: 1s - loss: 0.6041 - accuracy: 0.77 - ETA: 1s - loss: 0.6043 - accuracy: 0.77 - ETA: 1s - loss: 0.6030 - accuracy: 0.77 - ETA: 1s - loss: 0.6025 - accuracy: 0.77 - ETA: 0s - loss: 0.6027 - accuracy: 0.77 - ETA: 0s - loss: 0.6015 - accuracy: 0.77 - ETA: 0s - loss: 0.6012 - accuracy: 0.77 - ETA: 0s - loss: 0.6014 - accuracy: 0.77 - ETA: 0s - loss: 0.6033 - accuracy: 0.77 - 53s 8ms/step - loss: 0.6031 - accuracy: 0.7732 - val_loss: 0.5641 - val_accuracy: 0.7925\n",
      "Epoch 4/20\n"
     ]
    },
    {
     "name": "stdout",
     "output_type": "stream",
     "text": [
      "5984/6319 [===========================>..] - ETA: 44s - loss: 0.4321 - accuracy: 0.812 - ETA: 52s - loss: 0.4225 - accuracy: 0.812 - ETA: 51s - loss: 0.3940 - accuracy: 0.833 - ETA: 51s - loss: 0.4442 - accuracy: 0.843 - ETA: 50s - loss: 0.4668 - accuracy: 0.825 - ETA: 48s - loss: 0.4731 - accuracy: 0.817 - ETA: 47s - loss: 0.4669 - accuracy: 0.812 - ETA: 45s - loss: 0.4697 - accuracy: 0.808 - ETA: 44s - loss: 0.4714 - accuracy: 0.805 - ETA: 44s - loss: 0.4744 - accuracy: 0.803 - ETA: 44s - loss: 0.4823 - accuracy: 0.795 - ETA: 44s - loss: 0.4770 - accuracy: 0.802 - ETA: 44s - loss: 0.4883 - accuracy: 0.805 - ETA: 44s - loss: 0.4760 - accuracy: 0.814 - ETA: 44s - loss: 0.4761 - accuracy: 0.816 - ETA: 44s - loss: 0.4874 - accuracy: 0.802 - ETA: 46s - loss: 0.4815 - accuracy: 0.805 - ETA: 49s - loss: 0.4764 - accuracy: 0.805 - ETA: 48s - loss: 0.4889 - accuracy: 0.804 - ETA: 47s - loss: 0.4801 - accuracy: 0.806 - ETA: 46s - loss: 0.4815 - accuracy: 0.808 - ETA: 44s - loss: 0.4819 - accuracy: 0.809 - ETA: 43s - loss: 0.4863 - accuracy: 0.808 - ETA: 43s - loss: 0.4854 - accuracy: 0.806 - ETA: 42s - loss: 0.4814 - accuracy: 0.808 - ETA: 42s - loss: 0.4898 - accuracy: 0.808 - ETA: 41s - loss: 0.4883 - accuracy: 0.811 - ETA: 40s - loss: 0.4912 - accuracy: 0.811 - ETA: 40s - loss: 0.4899 - accuracy: 0.813 - ETA: 39s - loss: 0.4882 - accuracy: 0.815 - ETA: 40s - loss: 0.4821 - accuracy: 0.819 - ETA: 40s - loss: 0.4781 - accuracy: 0.820 - ETA: 40s - loss: 0.4756 - accuracy: 0.820 - ETA: 39s - loss: 0.4767 - accuracy: 0.820 - ETA: 39s - loss: 0.4770 - accuracy: 0.819 - ETA: 41s - loss: 0.4773 - accuracy: 0.818 - ETA: 42s - loss: 0.4770 - accuracy: 0.818 - ETA: 44s - loss: 0.4757 - accuracy: 0.819 - ETA: 45s - loss: 0.4751 - accuracy: 0.821 - ETA: 45s - loss: 0.4750 - accuracy: 0.821 - ETA: 45s - loss: 0.4713 - accuracy: 0.822 - ETA: 45s - loss: 0.4733 - accuracy: 0.822 - ETA: 45s - loss: 0.4703 - accuracy: 0.824 - ETA: 45s - loss: 0.4627 - accuracy: 0.828 - ETA: 44s - loss: 0.4678 - accuracy: 0.827 - ETA: 43s - loss: 0.4648 - accuracy: 0.826 - ETA: 43s - loss: 0.4606 - accuracy: 0.829 - ETA: 42s - loss: 0.4648 - accuracy: 0.827 - ETA: 42s - loss: 0.4594 - accuracy: 0.830 - ETA: 41s - loss: 0.4577 - accuracy: 0.831 - ETA: 41s - loss: 0.4587 - accuracy: 0.832 - ETA: 41s - loss: 0.4570 - accuracy: 0.832 - ETA: 41s - loss: 0.4585 - accuracy: 0.832 - ETA: 41s - loss: 0.4585 - accuracy: 0.833 - ETA: 40s - loss: 0.4605 - accuracy: 0.831 - ETA: 40s - loss: 0.4613 - accuracy: 0.831 - ETA: 39s - loss: 0.4578 - accuracy: 0.833 - ETA: 39s - loss: 0.4573 - accuracy: 0.833 - ETA: 39s - loss: 0.4613 - accuracy: 0.831 - ETA: 38s - loss: 0.4608 - accuracy: 0.830 - ETA: 38s - loss: 0.4599 - accuracy: 0.831 - ETA: 37s - loss: 0.4591 - accuracy: 0.832 - ETA: 37s - loss: 0.4561 - accuracy: 0.832 - ETA: 36s - loss: 0.4550 - accuracy: 0.833 - ETA: 35s - loss: 0.4534 - accuracy: 0.833 - ETA: 35s - loss: 0.4541 - accuracy: 0.833 - ETA: 34s - loss: 0.4515 - accuracy: 0.834 - ETA: 34s - loss: 0.4499 - accuracy: 0.835 - ETA: 33s - loss: 0.4515 - accuracy: 0.835 - ETA: 33s - loss: 0.4502 - accuracy: 0.835 - ETA: 32s - loss: 0.4509 - accuracy: 0.834 - ETA: 32s - loss: 0.4488 - accuracy: 0.835 - ETA: 32s - loss: 0.4491 - accuracy: 0.835 - ETA: 31s - loss: 0.4483 - accuracy: 0.836 - ETA: 31s - loss: 0.4469 - accuracy: 0.836 - ETA: 30s - loss: 0.4496 - accuracy: 0.836 - ETA: 30s - loss: 0.4495 - accuracy: 0.836 - ETA: 30s - loss: 0.4487 - accuracy: 0.836 - ETA: 29s - loss: 0.4469 - accuracy: 0.837 - ETA: 29s - loss: 0.4451 - accuracy: 0.838 - ETA: 29s - loss: 0.4506 - accuracy: 0.838 - ETA: 28s - loss: 0.4483 - accuracy: 0.839 - ETA: 28s - loss: 0.4474 - accuracy: 0.840 - ETA: 28s - loss: 0.4467 - accuracy: 0.841 - ETA: 27s - loss: 0.4459 - accuracy: 0.841 - ETA: 27s - loss: 0.4457 - accuracy: 0.841 - ETA: 27s - loss: 0.4453 - accuracy: 0.841 - ETA: 26s - loss: 0.4449 - accuracy: 0.841 - ETA: 26s - loss: 0.4437 - accuracy: 0.841 - ETA: 26s - loss: 0.4422 - accuracy: 0.841 - ETA: 25s - loss: 0.4428 - accuracy: 0.841 - ETA: 25s - loss: 0.4456 - accuracy: 0.840 - ETA: 25s - loss: 0.4448 - accuracy: 0.841 - ETA: 24s - loss: 0.4483 - accuracy: 0.839 - ETA: 24s - loss: 0.4486 - accuracy: 0.839 - ETA: 24s - loss: 0.4505 - accuracy: 0.839 - ETA: 23s - loss: 0.4531 - accuracy: 0.838 - ETA: 23s - loss: 0.4545 - accuracy: 0.838 - ETA: 23s - loss: 0.4553 - accuracy: 0.838 - ETA: 23s - loss: 0.4542 - accuracy: 0.838 - ETA: 22s - loss: 0.4542 - accuracy: 0.838 - ETA: 22s - loss: 0.4537 - accuracy: 0.837 - ETA: 22s - loss: 0.4534 - accuracy: 0.837 - ETA: 21s - loss: 0.4556 - accuracy: 0.836 - ETA: 21s - loss: 0.4567 - accuracy: 0.836 - ETA: 21s - loss: 0.4571 - accuracy: 0.835 - ETA: 21s - loss: 0.4590 - accuracy: 0.834 - ETA: 20s - loss: 0.4605 - accuracy: 0.833 - ETA: 20s - loss: 0.4599 - accuracy: 0.834 - ETA: 20s - loss: 0.4607 - accuracy: 0.833 - ETA: 19s - loss: 0.4604 - accuracy: 0.834 - ETA: 19s - loss: 0.4616 - accuracy: 0.833 - ETA: 19s - loss: 0.4617 - accuracy: 0.833 - ETA: 19s - loss: 0.4635 - accuracy: 0.832 - ETA: 18s - loss: 0.4613 - accuracy: 0.833 - ETA: 18s - loss: 0.4621 - accuracy: 0.833 - ETA: 18s - loss: 0.4621 - accuracy: 0.832 - ETA: 17s - loss: 0.4624 - accuracy: 0.832 - ETA: 17s - loss: 0.4608 - accuracy: 0.833 - ETA: 17s - loss: 0.4614 - accuracy: 0.833 - ETA: 17s - loss: 0.4619 - accuracy: 0.833 - ETA: 16s - loss: 0.4625 - accuracy: 0.833 - ETA: 16s - loss: 0.4625 - accuracy: 0.833 - ETA: 16s - loss: 0.4612 - accuracy: 0.833 - ETA: 16s - loss: 0.4620 - accuracy: 0.833 - ETA: 15s - loss: 0.4621 - accuracy: 0.834 - ETA: 15s - loss: 0.4611 - accuracy: 0.834 - ETA: 15s - loss: 0.4600 - accuracy: 0.834 - ETA: 15s - loss: 0.4590 - accuracy: 0.834 - ETA: 14s - loss: 0.4580 - accuracy: 0.834 - ETA: 14s - loss: 0.4581 - accuracy: 0.834 - ETA: 14s - loss: 0.4568 - accuracy: 0.835 - ETA: 14s - loss: 0.4585 - accuracy: 0.835 - ETA: 13s - loss: 0.4576 - accuracy: 0.834 - ETA: 13s - loss: 0.4595 - accuracy: 0.834 - ETA: 13s - loss: 0.4596 - accuracy: 0.834 - ETA: 13s - loss: 0.4599 - accuracy: 0.834 - ETA: 12s - loss: 0.4594 - accuracy: 0.834 - ETA: 12s - loss: 0.4595 - accuracy: 0.834 - ETA: 12s - loss: 0.4600 - accuracy: 0.834 - ETA: 12s - loss: 0.4610 - accuracy: 0.833 - ETA: 12s - loss: 0.4601 - accuracy: 0.833 - ETA: 11s - loss: 0.4615 - accuracy: 0.832 - ETA: 11s - loss: 0.4616 - accuracy: 0.832 - ETA: 11s - loss: 0.4644 - accuracy: 0.831 - ETA: 11s - loss: 0.4646 - accuracy: 0.831 - ETA: 10s - loss: 0.4634 - accuracy: 0.831 - ETA: 10s - loss: 0.4632 - accuracy: 0.832 - ETA: 10s - loss: 0.4629 - accuracy: 0.832 - ETA: 10s - loss: 0.4636 - accuracy: 0.831 - ETA: 9s - loss: 0.4658 - accuracy: 0.831 - ETA: 9s - loss: 0.4657 - accuracy: 0.83 - ETA: 9s - loss: 0.4658 - accuracy: 0.83 - ETA: 9s - loss: 0.4652 - accuracy: 0.83 - ETA: 9s - loss: 0.4658 - accuracy: 0.83 - ETA: 8s - loss: 0.4676 - accuracy: 0.83 - ETA: 8s - loss: 0.4676 - accuracy: 0.83 - ETA: 8s - loss: 0.4676 - accuracy: 0.83 - ETA: 8s - loss: 0.4672 - accuracy: 0.83 - ETA: 7s - loss: 0.4679 - accuracy: 0.83 - ETA: 7s - loss: 0.4693 - accuracy: 0.83 - ETA: 7s - loss: 0.4699 - accuracy: 0.83 - ETA: 7s - loss: 0.4683 - accuracy: 0.83 - ETA: 7s - loss: 0.4671 - accuracy: 0.83 - ETA: 6s - loss: 0.4674 - accuracy: 0.83 - ETA: 6s - loss: 0.4671 - accuracy: 0.83 - ETA: 6s - loss: 0.4671 - accuracy: 0.83 - ETA: 6s - loss: 0.4673 - accuracy: 0.83 - ETA: 6s - loss: 0.4683 - accuracy: 0.83 - ETA: 5s - loss: 0.4675 - accuracy: 0.83 - ETA: 5s - loss: 0.4670 - accuracy: 0.83 - ETA: 5s - loss: 0.4671 - accuracy: 0.83 - ETA: 5s - loss: 0.4683 - accuracy: 0.83 - ETA: 4s - loss: 0.4681 - accuracy: 0.83 - ETA: 4s - loss: 0.4682 - accuracy: 0.83 - ETA: 4s - loss: 0.4691 - accuracy: 0.83 - ETA: 4s - loss: 0.4681 - accuracy: 0.83 - ETA: 4s - loss: 0.4678 - accuracy: 0.83 - ETA: 3s - loss: 0.4670 - accuracy: 0.83 - ETA: 3s - loss: 0.4677 - accuracy: 0.83 - ETA: 3s - loss: 0.4671 - accuracy: 0.83 - ETA: 3s - loss: 0.4670 - accuracy: 0.83 - ETA: 3s - loss: 0.4677 - accuracy: 0.83 - ETA: 2s - loss: 0.4675 - accuracy: 0.83 - ETA: 2s - loss: 0.4670 - accuracy: 0.83 - ETA: 2s - loss: 0.4664 - accuracy: 0.83 - ETA: 2s - loss: 0.4655 - accuracy: 0.8321"
     ]
    },
    {
     "name": "stdout",
     "output_type": "stream",
     "text": [
      "6319/6319 [==============================] - ETA: 2s - loss: 0.4661 - accuracy: 0.83 - ETA: 1s - loss: 0.4655 - accuracy: 0.83 - ETA: 1s - loss: 0.4656 - accuracy: 0.83 - ETA: 1s - loss: 0.4653 - accuracy: 0.83 - ETA: 1s - loss: 0.4645 - accuracy: 0.83 - ETA: 0s - loss: 0.4640 - accuracy: 0.83 - ETA: 0s - loss: 0.4644 - accuracy: 0.83 - ETA: 0s - loss: 0.4643 - accuracy: 0.83 - ETA: 0s - loss: 0.4650 - accuracy: 0.83 - ETA: 0s - loss: 0.4651 - accuracy: 0.83 - 56s 9ms/step - loss: 0.4654 - accuracy: 0.8321 - val_loss: 0.4899 - val_accuracy: 0.8290\n",
      "Epoch 5/20\n"
     ]
    },
    {
     "name": "stdout",
     "output_type": "stream",
     "text": [
      "6016/6319 [===========================>..] - ETA: 45s - loss: 0.2362 - accuracy: 0.968 - ETA: 50s - loss: 0.1916 - accuracy: 0.968 - ETA: 56s - loss: 0.2292 - accuracy: 0.937 - ETA: 53s - loss: 0.3167 - accuracy: 0.890 - ETA: 52s - loss: 0.3242 - accuracy: 0.887 - ETA: 53s - loss: 0.3218 - accuracy: 0.885 - ETA: 50s - loss: 0.3871 - accuracy: 0.861 - ETA: 47s - loss: 0.3667 - accuracy: 0.871 - ETA: 45s - loss: 0.3690 - accuracy: 0.864 - ETA: 44s - loss: 0.3502 - accuracy: 0.868 - ETA: 42s - loss: 0.3641 - accuracy: 0.860 - ETA: 41s - loss: 0.3708 - accuracy: 0.859 - ETA: 40s - loss: 0.3802 - accuracy: 0.853 - ETA: 39s - loss: 0.3759 - accuracy: 0.857 - ETA: 38s - loss: 0.3749 - accuracy: 0.856 - ETA: 37s - loss: 0.3745 - accuracy: 0.859 - ETA: 36s - loss: 0.3789 - accuracy: 0.858 - ETA: 36s - loss: 0.3848 - accuracy: 0.855 - ETA: 35s - loss: 0.3867 - accuracy: 0.858 - ETA: 34s - loss: 0.3881 - accuracy: 0.857 - ETA: 34s - loss: 0.3975 - accuracy: 0.854 - ETA: 33s - loss: 0.3941 - accuracy: 0.856 - ETA: 33s - loss: 0.3890 - accuracy: 0.858 - ETA: 33s - loss: 0.3824 - accuracy: 0.862 - ETA: 32s - loss: 0.3760 - accuracy: 0.867 - ETA: 32s - loss: 0.3727 - accuracy: 0.869 - ETA: 31s - loss: 0.3699 - accuracy: 0.869 - ETA: 31s - loss: 0.3720 - accuracy: 0.867 - ETA: 31s - loss: 0.3690 - accuracy: 0.868 - ETA: 30s - loss: 0.3744 - accuracy: 0.866 - ETA: 30s - loss: 0.3675 - accuracy: 0.869 - ETA: 30s - loss: 0.3694 - accuracy: 0.865 - ETA: 29s - loss: 0.3747 - accuracy: 0.860 - ETA: 29s - loss: 0.3709 - accuracy: 0.863 - ETA: 29s - loss: 0.3647 - accuracy: 0.866 - ETA: 28s - loss: 0.3603 - accuracy: 0.868 - ETA: 28s - loss: 0.3584 - accuracy: 0.869 - ETA: 28s - loss: 0.3591 - accuracy: 0.869 - ETA: 28s - loss: 0.3550 - accuracy: 0.870 - ETA: 27s - loss: 0.3525 - accuracy: 0.871 - ETA: 27s - loss: 0.3504 - accuracy: 0.872 - ETA: 27s - loss: 0.3513 - accuracy: 0.870 - ETA: 27s - loss: 0.3541 - accuracy: 0.869 - ETA: 26s - loss: 0.3532 - accuracy: 0.870 - ETA: 26s - loss: 0.3557 - accuracy: 0.869 - ETA: 26s - loss: 0.3560 - accuracy: 0.870 - ETA: 26s - loss: 0.3557 - accuracy: 0.871 - ETA: 26s - loss: 0.3581 - accuracy: 0.870 - ETA: 25s - loss: 0.3626 - accuracy: 0.869 - ETA: 25s - loss: 0.3640 - accuracy: 0.866 - ETA: 25s - loss: 0.3615 - accuracy: 0.866 - ETA: 25s - loss: 0.3594 - accuracy: 0.867 - ETA: 24s - loss: 0.3607 - accuracy: 0.866 - ETA: 24s - loss: 0.3599 - accuracy: 0.867 - ETA: 24s - loss: 0.3620 - accuracy: 0.867 - ETA: 24s - loss: 0.3625 - accuracy: 0.866 - ETA: 24s - loss: 0.3593 - accuracy: 0.867 - ETA: 23s - loss: 0.3610 - accuracy: 0.868 - ETA: 23s - loss: 0.3610 - accuracy: 0.868 - ETA: 23s - loss: 0.3637 - accuracy: 0.866 - ETA: 23s - loss: 0.3604 - accuracy: 0.868 - ETA: 23s - loss: 0.3607 - accuracy: 0.867 - ETA: 22s - loss: 0.3608 - accuracy: 0.866 - ETA: 22s - loss: 0.3621 - accuracy: 0.865 - ETA: 22s - loss: 0.3605 - accuracy: 0.865 - ETA: 22s - loss: 0.3598 - accuracy: 0.864 - ETA: 22s - loss: 0.3588 - accuracy: 0.866 - ETA: 22s - loss: 0.3595 - accuracy: 0.866 - ETA: 21s - loss: 0.3588 - accuracy: 0.867 - ETA: 21s - loss: 0.3592 - accuracy: 0.867 - ETA: 21s - loss: 0.3607 - accuracy: 0.866 - ETA: 21s - loss: 0.3620 - accuracy: 0.865 - ETA: 21s - loss: 0.3626 - accuracy: 0.865 - ETA: 21s - loss: 0.3598 - accuracy: 0.866 - ETA: 20s - loss: 0.3600 - accuracy: 0.866 - ETA: 20s - loss: 0.3609 - accuracy: 0.865 - ETA: 20s - loss: 0.3623 - accuracy: 0.865 - ETA: 20s - loss: 0.3605 - accuracy: 0.866 - ETA: 20s - loss: 0.3637 - accuracy: 0.865 - ETA: 19s - loss: 0.3631 - accuracy: 0.864 - ETA: 19s - loss: 0.3627 - accuracy: 0.864 - ETA: 19s - loss: 0.3618 - accuracy: 0.864 - ETA: 19s - loss: 0.3614 - accuracy: 0.864 - ETA: 19s - loss: 0.3631 - accuracy: 0.863 - ETA: 18s - loss: 0.3643 - accuracy: 0.863 - ETA: 18s - loss: 0.3640 - accuracy: 0.863 - ETA: 18s - loss: 0.3630 - accuracy: 0.864 - ETA: 18s - loss: 0.3658 - accuracy: 0.863 - ETA: 18s - loss: 0.3679 - accuracy: 0.862 - ETA: 18s - loss: 0.3668 - accuracy: 0.862 - ETA: 18s - loss: 0.3668 - accuracy: 0.863 - ETA: 17s - loss: 0.3656 - accuracy: 0.863 - ETA: 17s - loss: 0.3645 - accuracy: 0.863 - ETA: 17s - loss: 0.3643 - accuracy: 0.864 - ETA: 17s - loss: 0.3685 - accuracy: 0.864 - ETA: 17s - loss: 0.3707 - accuracy: 0.863 - ETA: 17s - loss: 0.3715 - accuracy: 0.863 - ETA: 17s - loss: 0.3704 - accuracy: 0.864 - ETA: 16s - loss: 0.3697 - accuracy: 0.863 - ETA: 16s - loss: 0.3692 - accuracy: 0.863 - ETA: 16s - loss: 0.3678 - accuracy: 0.863 - ETA: 16s - loss: 0.3670 - accuracy: 0.864 - ETA: 16s - loss: 0.3672 - accuracy: 0.864 - ETA: 16s - loss: 0.3673 - accuracy: 0.864 - ETA: 15s - loss: 0.3662 - accuracy: 0.864 - ETA: 15s - loss: 0.3666 - accuracy: 0.864 - ETA: 15s - loss: 0.3686 - accuracy: 0.863 - ETA: 15s - loss: 0.3682 - accuracy: 0.863 - ETA: 15s - loss: 0.3679 - accuracy: 0.863 - ETA: 15s - loss: 0.3671 - accuracy: 0.863 - ETA: 15s - loss: 0.3667 - accuracy: 0.863 - ETA: 14s - loss: 0.3679 - accuracy: 0.862 - ETA: 14s - loss: 0.3698 - accuracy: 0.862 - ETA: 14s - loss: 0.3691 - accuracy: 0.862 - ETA: 14s - loss: 0.3677 - accuracy: 0.863 - ETA: 14s - loss: 0.3682 - accuracy: 0.862 - ETA: 14s - loss: 0.3683 - accuracy: 0.862 - ETA: 13s - loss: 0.3693 - accuracy: 0.863 - ETA: 13s - loss: 0.3686 - accuracy: 0.863 - ETA: 13s - loss: 0.3675 - accuracy: 0.863 - ETA: 13s - loss: 0.3669 - accuracy: 0.864 - ETA: 13s - loss: 0.3661 - accuracy: 0.864 - ETA: 12s - loss: 0.3652 - accuracy: 0.864 - ETA: 12s - loss: 0.3679 - accuracy: 0.863 - ETA: 12s - loss: 0.3681 - accuracy: 0.863 - ETA: 12s - loss: 0.3689 - accuracy: 0.863 - ETA: 12s - loss: 0.3693 - accuracy: 0.862 - ETA: 12s - loss: 0.3693 - accuracy: 0.862 - ETA: 11s - loss: 0.3685 - accuracy: 0.863 - ETA: 11s - loss: 0.3673 - accuracy: 0.864 - ETA: 11s - loss: 0.3671 - accuracy: 0.863 - ETA: 11s - loss: 0.3680 - accuracy: 0.863 - ETA: 11s - loss: 0.3690 - accuracy: 0.863 - ETA: 11s - loss: 0.3685 - accuracy: 0.863 - ETA: 10s - loss: 0.3684 - accuracy: 0.863 - ETA: 10s - loss: 0.3681 - accuracy: 0.863 - ETA: 10s - loss: 0.3677 - accuracy: 0.864 - ETA: 10s - loss: 0.3673 - accuracy: 0.864 - ETA: 10s - loss: 0.3663 - accuracy: 0.864 - ETA: 9s - loss: 0.3664 - accuracy: 0.864 - ETA: 9s - loss: 0.3668 - accuracy: 0.86 - ETA: 9s - loss: 0.3655 - accuracy: 0.86 - ETA: 9s - loss: 0.3658 - accuracy: 0.86 - ETA: 9s - loss: 0.3664 - accuracy: 0.86 - ETA: 9s - loss: 0.3651 - accuracy: 0.86 - ETA: 8s - loss: 0.3650 - accuracy: 0.86 - ETA: 8s - loss: 0.3647 - accuracy: 0.86 - ETA: 8s - loss: 0.3639 - accuracy: 0.86 - ETA: 8s - loss: 0.3671 - accuracy: 0.86 - ETA: 8s - loss: 0.3671 - accuracy: 0.86 - ETA: 8s - loss: 0.3676 - accuracy: 0.86 - ETA: 7s - loss: 0.3682 - accuracy: 0.86 - ETA: 7s - loss: 0.3682 - accuracy: 0.86 - ETA: 7s - loss: 0.3670 - accuracy: 0.86 - ETA: 7s - loss: 0.3678 - accuracy: 0.86 - ETA: 7s - loss: 0.3678 - accuracy: 0.86 - ETA: 7s - loss: 0.3682 - accuracy: 0.86 - ETA: 6s - loss: 0.3683 - accuracy: 0.86 - ETA: 6s - loss: 0.3690 - accuracy: 0.86 - ETA: 6s - loss: 0.3689 - accuracy: 0.86 - ETA: 6s - loss: 0.3707 - accuracy: 0.86 - ETA: 6s - loss: 0.3720 - accuracy: 0.86 - ETA: 6s - loss: 0.3719 - accuracy: 0.86 - ETA: 5s - loss: 0.3714 - accuracy: 0.86 - ETA: 5s - loss: 0.3710 - accuracy: 0.86 - ETA: 5s - loss: 0.3712 - accuracy: 0.86 - ETA: 5s - loss: 0.3711 - accuracy: 0.86 - ETA: 5s - loss: 0.3710 - accuracy: 0.86 - ETA: 5s - loss: 0.3717 - accuracy: 0.86 - ETA: 4s - loss: 0.3721 - accuracy: 0.86 - ETA: 4s - loss: 0.3726 - accuracy: 0.86 - ETA: 4s - loss: 0.3741 - accuracy: 0.86 - ETA: 4s - loss: 0.3733 - accuracy: 0.86 - ETA: 4s - loss: 0.3736 - accuracy: 0.86 - ETA: 4s - loss: 0.3730 - accuracy: 0.86 - ETA: 3s - loss: 0.3731 - accuracy: 0.86 - ETA: 3s - loss: 0.3725 - accuracy: 0.86 - ETA: 3s - loss: 0.3723 - accuracy: 0.86 - ETA: 3s - loss: 0.3720 - accuracy: 0.86 - ETA: 3s - loss: 0.3721 - accuracy: 0.86 - ETA: 2s - loss: 0.3720 - accuracy: 0.86 - ETA: 2s - loss: 0.3724 - accuracy: 0.86 - ETA: 2s - loss: 0.3723 - accuracy: 0.86 - ETA: 2s - loss: 0.3718 - accuracy: 0.86 - ETA: 2s - loss: 0.3709 - accuracy: 0.86 - ETA: 2s - loss: 0.3719 - accuracy: 0.86 - ETA: 1s - loss: 0.3715 - accuracy: 0.86 - ETA: 1s - loss: 0.3722 - accuracy: 0.8639"
     ]
    },
    {
     "name": "stdout",
     "output_type": "stream",
     "text": [
      "6319/6319 [==============================] - ETA: 1s - loss: 0.3718 - accuracy: 0.86 - ETA: 1s - loss: 0.3712 - accuracy: 0.86 - ETA: 1s - loss: 0.3708 - accuracy: 0.86 - ETA: 0s - loss: 0.3701 - accuracy: 0.86 - ETA: 0s - loss: 0.3700 - accuracy: 0.86 - ETA: 0s - loss: 0.3691 - accuracy: 0.86 - ETA: 0s - loss: 0.3694 - accuracy: 0.86 - ETA: 0s - loss: 0.3694 - accuracy: 0.86 - ETA: 0s - loss: 0.3688 - accuracy: 0.86 - 46s 7ms/step - loss: 0.3687 - accuracy: 0.8661 - val_loss: 0.5932 - val_accuracy: 0.8166\n",
      "Epoch 6/20\n"
     ]
    },
    {
     "name": "stdout",
     "output_type": "stream",
     "text": [
      "6016/6319 [===========================>..] - ETA: 29s - loss: 0.2385 - accuracy: 0.937 - ETA: 29s - loss: 0.3318 - accuracy: 0.906 - ETA: 28s - loss: 0.3249 - accuracy: 0.916 - ETA: 28s - loss: 0.2818 - accuracy: 0.921 - ETA: 28s - loss: 0.2965 - accuracy: 0.912 - ETA: 28s - loss: 0.3068 - accuracy: 0.906 - ETA: 28s - loss: 0.3452 - accuracy: 0.892 - ETA: 28s - loss: 0.3608 - accuracy: 0.890 - ETA: 28s - loss: 0.3588 - accuracy: 0.885 - ETA: 28s - loss: 0.3785 - accuracy: 0.875 - ETA: 28s - loss: 0.3682 - accuracy: 0.875 - ETA: 28s - loss: 0.3529 - accuracy: 0.882 - ETA: 28s - loss: 0.3496 - accuracy: 0.879 - ETA: 28s - loss: 0.3468 - accuracy: 0.879 - ETA: 28s - loss: 0.3450 - accuracy: 0.879 - ETA: 28s - loss: 0.3477 - accuracy: 0.877 - ETA: 27s - loss: 0.3436 - accuracy: 0.882 - ETA: 27s - loss: 0.3389 - accuracy: 0.885 - ETA: 27s - loss: 0.3380 - accuracy: 0.886 - ETA: 27s - loss: 0.3427 - accuracy: 0.878 - ETA: 27s - loss: 0.3533 - accuracy: 0.875 - ETA: 27s - loss: 0.3482 - accuracy: 0.877 - ETA: 26s - loss: 0.3480 - accuracy: 0.877 - ETA: 26s - loss: 0.3445 - accuracy: 0.878 - ETA: 26s - loss: 0.3469 - accuracy: 0.877 - ETA: 26s - loss: 0.3457 - accuracy: 0.877 - ETA: 26s - loss: 0.3483 - accuracy: 0.877 - ETA: 26s - loss: 0.3498 - accuracy: 0.877 - ETA: 26s - loss: 0.3464 - accuracy: 0.879 - ETA: 26s - loss: 0.3454 - accuracy: 0.879 - ETA: 25s - loss: 0.3486 - accuracy: 0.878 - ETA: 25s - loss: 0.3453 - accuracy: 0.878 - ETA: 25s - loss: 0.3422 - accuracy: 0.880 - ETA: 25s - loss: 0.3390 - accuracy: 0.883 - ETA: 25s - loss: 0.3360 - accuracy: 0.883 - ETA: 25s - loss: 0.3390 - accuracy: 0.881 - ETA: 24s - loss: 0.3337 - accuracy: 0.883 - ETA: 24s - loss: 0.3368 - accuracy: 0.880 - ETA: 24s - loss: 0.3338 - accuracy: 0.881 - ETA: 24s - loss: 0.3342 - accuracy: 0.880 - ETA: 24s - loss: 0.3410 - accuracy: 0.878 - ETA: 24s - loss: 0.3374 - accuracy: 0.879 - ETA: 24s - loss: 0.3366 - accuracy: 0.879 - ETA: 24s - loss: 0.3316 - accuracy: 0.880 - ETA: 24s - loss: 0.3301 - accuracy: 0.880 - ETA: 24s - loss: 0.3308 - accuracy: 0.881 - ETA: 24s - loss: 0.3279 - accuracy: 0.882 - ETA: 24s - loss: 0.3278 - accuracy: 0.882 - ETA: 24s - loss: 0.3266 - accuracy: 0.883 - ETA: 23s - loss: 0.3223 - accuracy: 0.885 - ETA: 23s - loss: 0.3206 - accuracy: 0.884 - ETA: 23s - loss: 0.3219 - accuracy: 0.885 - ETA: 23s - loss: 0.3208 - accuracy: 0.884 - ETA: 23s - loss: 0.3223 - accuracy: 0.884 - ETA: 23s - loss: 0.3216 - accuracy: 0.884 - ETA: 23s - loss: 0.3211 - accuracy: 0.883 - ETA: 23s - loss: 0.3227 - accuracy: 0.883 - ETA: 23s - loss: 0.3211 - accuracy: 0.884 - ETA: 23s - loss: 0.3181 - accuracy: 0.886 - ETA: 23s - loss: 0.3165 - accuracy: 0.887 - ETA: 22s - loss: 0.3317 - accuracy: 0.884 - ETA: 22s - loss: 0.3304 - accuracy: 0.884 - ETA: 22s - loss: 0.3296 - accuracy: 0.884 - ETA: 22s - loss: 0.3287 - accuracy: 0.885 - ETA: 22s - loss: 0.3310 - accuracy: 0.885 - ETA: 22s - loss: 0.3331 - accuracy: 0.884 - ETA: 21s - loss: 0.3309 - accuracy: 0.885 - ETA: 21s - loss: 0.3307 - accuracy: 0.885 - ETA: 21s - loss: 0.3306 - accuracy: 0.885 - ETA: 21s - loss: 0.3288 - accuracy: 0.885 - ETA: 21s - loss: 0.3290 - accuracy: 0.885 - ETA: 20s - loss: 0.3287 - accuracy: 0.885 - ETA: 20s - loss: 0.3281 - accuracy: 0.886 - ETA: 20s - loss: 0.3264 - accuracy: 0.886 - ETA: 20s - loss: 0.3262 - accuracy: 0.886 - ETA: 20s - loss: 0.3250 - accuracy: 0.887 - ETA: 20s - loss: 0.3286 - accuracy: 0.886 - ETA: 19s - loss: 0.3269 - accuracy: 0.886 - ETA: 19s - loss: 0.3266 - accuracy: 0.886 - ETA: 19s - loss: 0.3259 - accuracy: 0.886 - ETA: 19s - loss: 0.3258 - accuracy: 0.886 - ETA: 19s - loss: 0.3258 - accuracy: 0.885 - ETA: 19s - loss: 0.3242 - accuracy: 0.885 - ETA: 19s - loss: 0.3245 - accuracy: 0.886 - ETA: 18s - loss: 0.3224 - accuracy: 0.887 - ETA: 18s - loss: 0.3233 - accuracy: 0.886 - ETA: 18s - loss: 0.3212 - accuracy: 0.887 - ETA: 18s - loss: 0.3205 - accuracy: 0.887 - ETA: 18s - loss: 0.3227 - accuracy: 0.887 - ETA: 17s - loss: 0.3211 - accuracy: 0.887 - ETA: 17s - loss: 0.3211 - accuracy: 0.887 - ETA: 17s - loss: 0.3203 - accuracy: 0.888 - ETA: 17s - loss: 0.3209 - accuracy: 0.888 - ETA: 17s - loss: 0.3197 - accuracy: 0.889 - ETA: 17s - loss: 0.3213 - accuracy: 0.888 - ETA: 16s - loss: 0.3222 - accuracy: 0.887 - ETA: 16s - loss: 0.3233 - accuracy: 0.886 - ETA: 16s - loss: 0.3262 - accuracy: 0.886 - ETA: 16s - loss: 0.3241 - accuracy: 0.887 - ETA: 16s - loss: 0.3234 - accuracy: 0.888 - ETA: 15s - loss: 0.3213 - accuracy: 0.888 - ETA: 15s - loss: 0.3208 - accuracy: 0.888 - ETA: 15s - loss: 0.3193 - accuracy: 0.889 - ETA: 15s - loss: 0.3207 - accuracy: 0.889 - ETA: 15s - loss: 0.3197 - accuracy: 0.889 - ETA: 15s - loss: 0.3183 - accuracy: 0.890 - ETA: 14s - loss: 0.3179 - accuracy: 0.889 - ETA: 14s - loss: 0.3165 - accuracy: 0.890 - ETA: 14s - loss: 0.3162 - accuracy: 0.890 - ETA: 14s - loss: 0.3158 - accuracy: 0.890 - ETA: 14s - loss: 0.3158 - accuracy: 0.890 - ETA: 14s - loss: 0.3174 - accuracy: 0.888 - ETA: 13s - loss: 0.3170 - accuracy: 0.888 - ETA: 13s - loss: 0.3178 - accuracy: 0.888 - ETA: 13s - loss: 0.3172 - accuracy: 0.888 - ETA: 13s - loss: 0.3170 - accuracy: 0.888 - ETA: 13s - loss: 0.3164 - accuracy: 0.888 - ETA: 13s - loss: 0.3152 - accuracy: 0.889 - ETA: 12s - loss: 0.3152 - accuracy: 0.888 - ETA: 12s - loss: 0.3154 - accuracy: 0.888 - ETA: 12s - loss: 0.3152 - accuracy: 0.888 - ETA: 12s - loss: 0.3149 - accuracy: 0.888 - ETA: 12s - loss: 0.3159 - accuracy: 0.888 - ETA: 12s - loss: 0.3156 - accuracy: 0.888 - ETA: 11s - loss: 0.3152 - accuracy: 0.888 - ETA: 11s - loss: 0.3145 - accuracy: 0.888 - ETA: 11s - loss: 0.3144 - accuracy: 0.888 - ETA: 11s - loss: 0.3137 - accuracy: 0.888 - ETA: 11s - loss: 0.3139 - accuracy: 0.889 - ETA: 11s - loss: 0.3129 - accuracy: 0.889 - ETA: 10s - loss: 0.3128 - accuracy: 0.889 - ETA: 10s - loss: 0.3123 - accuracy: 0.889 - ETA: 10s - loss: 0.3118 - accuracy: 0.889 - ETA: 10s - loss: 0.3116 - accuracy: 0.889 - ETA: 10s - loss: 0.3126 - accuracy: 0.888 - ETA: 10s - loss: 0.3120 - accuracy: 0.887 - ETA: 9s - loss: 0.3122 - accuracy: 0.887 - ETA: 9s - loss: 0.3117 - accuracy: 0.88 - ETA: 9s - loss: 0.3103 - accuracy: 0.88 - ETA: 9s - loss: 0.3094 - accuracy: 0.88 - ETA: 9s - loss: 0.3102 - accuracy: 0.88 - ETA: 9s - loss: 0.3098 - accuracy: 0.88 - ETA: 8s - loss: 0.3088 - accuracy: 0.88 - ETA: 8s - loss: 0.3081 - accuracy: 0.88 - ETA: 8s - loss: 0.3087 - accuracy: 0.88 - ETA: 8s - loss: 0.3081 - accuracy: 0.89 - ETA: 8s - loss: 0.3093 - accuracy: 0.88 - ETA: 8s - loss: 0.3097 - accuracy: 0.88 - ETA: 7s - loss: 0.3117 - accuracy: 0.88 - ETA: 7s - loss: 0.3118 - accuracy: 0.88 - ETA: 7s - loss: 0.3156 - accuracy: 0.88 - ETA: 7s - loss: 0.3174 - accuracy: 0.88 - ETA: 7s - loss: 0.3161 - accuracy: 0.88 - ETA: 7s - loss: 0.3169 - accuracy: 0.88 - ETA: 6s - loss: 0.3173 - accuracy: 0.88 - ETA: 6s - loss: 0.3162 - accuracy: 0.88 - ETA: 6s - loss: 0.3155 - accuracy: 0.88 - ETA: 6s - loss: 0.3163 - accuracy: 0.88 - ETA: 6s - loss: 0.3157 - accuracy: 0.88 - ETA: 6s - loss: 0.3164 - accuracy: 0.88 - ETA: 5s - loss: 0.3156 - accuracy: 0.88 - ETA: 5s - loss: 0.3160 - accuracy: 0.88 - ETA: 5s - loss: 0.3158 - accuracy: 0.88 - ETA: 5s - loss: 0.3157 - accuracy: 0.88 - ETA: 5s - loss: 0.3145 - accuracy: 0.88 - ETA: 5s - loss: 0.3132 - accuracy: 0.88 - ETA: 4s - loss: 0.3126 - accuracy: 0.88 - ETA: 4s - loss: 0.3120 - accuracy: 0.88 - ETA: 4s - loss: 0.3122 - accuracy: 0.88 - ETA: 4s - loss: 0.3120 - accuracy: 0.88 - ETA: 4s - loss: 0.3116 - accuracy: 0.88 - ETA: 4s - loss: 0.3114 - accuracy: 0.88 - ETA: 3s - loss: 0.3117 - accuracy: 0.88 - ETA: 3s - loss: 0.3121 - accuracy: 0.88 - ETA: 3s - loss: 0.3113 - accuracy: 0.88 - ETA: 3s - loss: 0.3123 - accuracy: 0.88 - ETA: 3s - loss: 0.3112 - accuracy: 0.88 - ETA: 3s - loss: 0.3105 - accuracy: 0.88 - ETA: 2s - loss: 0.3099 - accuracy: 0.88 - ETA: 2s - loss: 0.3090 - accuracy: 0.88 - ETA: 2s - loss: 0.3090 - accuracy: 0.88 - ETA: 2s - loss: 0.3087 - accuracy: 0.88 - ETA: 2s - loss: 0.3078 - accuracy: 0.88 - ETA: 2s - loss: 0.3071 - accuracy: 0.89 - ETA: 1s - loss: 0.3065 - accuracy: 0.89 - ETA: 1s - loss: 0.3062 - accuracy: 0.89 - ETA: 1s - loss: 0.3059 - accuracy: 0.89 - ETA: 1s - loss: 0.3073 - accuracy: 0.8898"
     ]
    },
    {
     "name": "stdout",
     "output_type": "stream",
     "text": [
      "6319/6319 [==============================] - ETA: 1s - loss: 0.3067 - accuracy: 0.88 - ETA: 1s - loss: 0.3064 - accuracy: 0.88 - ETA: 1s - loss: 0.3072 - accuracy: 0.88 - ETA: 0s - loss: 0.3059 - accuracy: 0.89 - ETA: 0s - loss: 0.3063 - accuracy: 0.88 - ETA: 0s - loss: 0.3066 - accuracy: 0.88 - ETA: 0s - loss: 0.3058 - accuracy: 0.88 - ETA: 0s - loss: 0.3061 - accuracy: 0.89 - ETA: 0s - loss: 0.3056 - accuracy: 0.89 - 43s 7ms/step - loss: 0.3056 - accuracy: 0.8902 - val_loss: 0.6041 - val_accuracy: 0.8180\n",
      "Epoch 7/20\n"
     ]
    },
    {
     "name": "stdout",
     "output_type": "stream",
     "text": [
      "6016/6319 [===========================>..] - ETA: 33s - loss: 0.3482 - accuracy: 0.843 - ETA: 32s - loss: 0.3117 - accuracy: 0.875 - ETA: 32s - loss: 0.2693 - accuracy: 0.895 - ETA: 33s - loss: 0.2601 - accuracy: 0.898 - ETA: 32s - loss: 0.3455 - accuracy: 0.862 - ETA: 32s - loss: 0.3517 - accuracy: 0.864 - ETA: 33s - loss: 0.3314 - accuracy: 0.870 - ETA: 33s - loss: 0.3351 - accuracy: 0.867 - ETA: 32s - loss: 0.3166 - accuracy: 0.871 - ETA: 31s - loss: 0.3318 - accuracy: 0.871 - ETA: 31s - loss: 0.3246 - accuracy: 0.875 - ETA: 30s - loss: 0.3192 - accuracy: 0.877 - ETA: 30s - loss: 0.3149 - accuracy: 0.877 - ETA: 30s - loss: 0.3085 - accuracy: 0.877 - ETA: 29s - loss: 0.2984 - accuracy: 0.881 - ETA: 29s - loss: 0.2955 - accuracy: 0.882 - ETA: 29s - loss: 0.2914 - accuracy: 0.882 - ETA: 29s - loss: 0.2929 - accuracy: 0.881 - ETA: 28s - loss: 0.2967 - accuracy: 0.878 - ETA: 28s - loss: 0.2942 - accuracy: 0.878 - ETA: 28s - loss: 0.2901 - accuracy: 0.878 - ETA: 28s - loss: 0.2853 - accuracy: 0.882 - ETA: 28s - loss: 0.2986 - accuracy: 0.881 - ETA: 27s - loss: 0.2972 - accuracy: 0.882 - ETA: 27s - loss: 0.3030 - accuracy: 0.882 - ETA: 27s - loss: 0.2998 - accuracy: 0.884 - ETA: 27s - loss: 0.2988 - accuracy: 0.884 - ETA: 27s - loss: 0.3002 - accuracy: 0.882 - ETA: 28s - loss: 0.2948 - accuracy: 0.884 - ETA: 28s - loss: 0.2895 - accuracy: 0.886 - ETA: 28s - loss: 0.2846 - accuracy: 0.888 - ETA: 28s - loss: 0.2833 - accuracy: 0.887 - ETA: 28s - loss: 0.2797 - accuracy: 0.890 - ETA: 28s - loss: 0.2790 - accuracy: 0.890 - ETA: 28s - loss: 0.2735 - accuracy: 0.893 - ETA: 28s - loss: 0.2739 - accuracy: 0.895 - ETA: 28s - loss: 0.2760 - accuracy: 0.895 - ETA: 28s - loss: 0.2733 - accuracy: 0.897 - ETA: 28s - loss: 0.2739 - accuracy: 0.897 - ETA: 28s - loss: 0.2759 - accuracy: 0.897 - ETA: 27s - loss: 0.2738 - accuracy: 0.898 - ETA: 27s - loss: 0.2736 - accuracy: 0.898 - ETA: 27s - loss: 0.2701 - accuracy: 0.899 - ETA: 27s - loss: 0.2683 - accuracy: 0.900 - ETA: 27s - loss: 0.2716 - accuracy: 0.898 - ETA: 27s - loss: 0.2696 - accuracy: 0.898 - ETA: 27s - loss: 0.2698 - accuracy: 0.898 - ETA: 27s - loss: 0.2676 - accuracy: 0.899 - ETA: 26s - loss: 0.2649 - accuracy: 0.899 - ETA: 26s - loss: 0.2649 - accuracy: 0.900 - ETA: 26s - loss: 0.2630 - accuracy: 0.900 - ETA: 26s - loss: 0.2622 - accuracy: 0.900 - ETA: 26s - loss: 0.2657 - accuracy: 0.898 - ETA: 26s - loss: 0.2661 - accuracy: 0.899 - ETA: 25s - loss: 0.2648 - accuracy: 0.899 - ETA: 25s - loss: 0.2635 - accuracy: 0.900 - ETA: 25s - loss: 0.2656 - accuracy: 0.899 - ETA: 25s - loss: 0.2672 - accuracy: 0.898 - ETA: 25s - loss: 0.2658 - accuracy: 0.898 - ETA: 26s - loss: 0.2659 - accuracy: 0.898 - ETA: 26s - loss: 0.2673 - accuracy: 0.897 - ETA: 26s - loss: 0.2660 - accuracy: 0.898 - ETA: 26s - loss: 0.2691 - accuracy: 0.897 - ETA: 26s - loss: 0.2716 - accuracy: 0.897 - ETA: 26s - loss: 0.2709 - accuracy: 0.898 - ETA: 25s - loss: 0.2700 - accuracy: 0.898 - ETA: 25s - loss: 0.2690 - accuracy: 0.898 - ETA: 25s - loss: 0.2675 - accuracy: 0.898 - ETA: 25s - loss: 0.2698 - accuracy: 0.898 - ETA: 24s - loss: 0.2717 - accuracy: 0.897 - ETA: 24s - loss: 0.2739 - accuracy: 0.897 - ETA: 24s - loss: 0.2779 - accuracy: 0.895 - ETA: 24s - loss: 0.2792 - accuracy: 0.895 - ETA: 23s - loss: 0.2800 - accuracy: 0.894 - ETA: 23s - loss: 0.2781 - accuracy: 0.895 - ETA: 23s - loss: 0.2789 - accuracy: 0.895 - ETA: 23s - loss: 0.2810 - accuracy: 0.895 - ETA: 23s - loss: 0.2817 - accuracy: 0.895 - ETA: 22s - loss: 0.2809 - accuracy: 0.895 - ETA: 22s - loss: 0.2802 - accuracy: 0.896 - ETA: 22s - loss: 0.2815 - accuracy: 0.896 - ETA: 22s - loss: 0.2805 - accuracy: 0.896 - ETA: 22s - loss: 0.2810 - accuracy: 0.896 - ETA: 21s - loss: 0.2806 - accuracy: 0.895 - ETA: 21s - loss: 0.2803 - accuracy: 0.895 - ETA: 21s - loss: 0.2785 - accuracy: 0.896 - ETA: 21s - loss: 0.2777 - accuracy: 0.896 - ETA: 20s - loss: 0.2762 - accuracy: 0.897 - ETA: 20s - loss: 0.2764 - accuracy: 0.897 - ETA: 20s - loss: 0.2748 - accuracy: 0.897 - ETA: 20s - loss: 0.2759 - accuracy: 0.897 - ETA: 20s - loss: 0.2746 - accuracy: 0.898 - ETA: 20s - loss: 0.2749 - accuracy: 0.898 - ETA: 19s - loss: 0.2741 - accuracy: 0.898 - ETA: 19s - loss: 0.2731 - accuracy: 0.899 - ETA: 19s - loss: 0.2714 - accuracy: 0.899 - ETA: 19s - loss: 0.2704 - accuracy: 0.898 - ETA: 19s - loss: 0.2718 - accuracy: 0.898 - ETA: 18s - loss: 0.2742 - accuracy: 0.897 - ETA: 18s - loss: 0.2730 - accuracy: 0.897 - ETA: 18s - loss: 0.2727 - accuracy: 0.897 - ETA: 18s - loss: 0.2713 - accuracy: 0.898 - ETA: 18s - loss: 0.2719 - accuracy: 0.897 - ETA: 17s - loss: 0.2709 - accuracy: 0.897 - ETA: 17s - loss: 0.2712 - accuracy: 0.897 - ETA: 17s - loss: 0.2711 - accuracy: 0.897 - ETA: 17s - loss: 0.2719 - accuracy: 0.896 - ETA: 16s - loss: 0.2733 - accuracy: 0.896 - ETA: 16s - loss: 0.2723 - accuracy: 0.897 - ETA: 16s - loss: 0.2712 - accuracy: 0.897 - ETA: 16s - loss: 0.2717 - accuracy: 0.896 - ETA: 16s - loss: 0.2739 - accuracy: 0.896 - ETA: 15s - loss: 0.2741 - accuracy: 0.896 - ETA: 15s - loss: 0.2748 - accuracy: 0.896 - ETA: 15s - loss: 0.2746 - accuracy: 0.896 - ETA: 15s - loss: 0.2744 - accuracy: 0.897 - ETA: 15s - loss: 0.2751 - accuracy: 0.896 - ETA: 14s - loss: 0.2751 - accuracy: 0.897 - ETA: 14s - loss: 0.2759 - accuracy: 0.896 - ETA: 14s - loss: 0.2759 - accuracy: 0.897 - ETA: 14s - loss: 0.2745 - accuracy: 0.898 - ETA: 14s - loss: 0.2749 - accuracy: 0.897 - ETA: 13s - loss: 0.2743 - accuracy: 0.898 - ETA: 13s - loss: 0.2730 - accuracy: 0.898 - ETA: 13s - loss: 0.2721 - accuracy: 0.899 - ETA: 13s - loss: 0.2713 - accuracy: 0.899 - ETA: 13s - loss: 0.2702 - accuracy: 0.900 - ETA: 12s - loss: 0.2710 - accuracy: 0.899 - ETA: 12s - loss: 0.2722 - accuracy: 0.899 - ETA: 12s - loss: 0.2726 - accuracy: 0.899 - ETA: 12s - loss: 0.2732 - accuracy: 0.898 - ETA: 12s - loss: 0.2722 - accuracy: 0.898 - ETA: 11s - loss: 0.2735 - accuracy: 0.898 - ETA: 11s - loss: 0.2734 - accuracy: 0.898 - ETA: 11s - loss: 0.2731 - accuracy: 0.897 - ETA: 11s - loss: 0.2726 - accuracy: 0.898 - ETA: 11s - loss: 0.2716 - accuracy: 0.899 - ETA: 10s - loss: 0.2712 - accuracy: 0.899 - ETA: 10s - loss: 0.2721 - accuracy: 0.898 - ETA: 10s - loss: 0.2733 - accuracy: 0.898 - ETA: 10s - loss: 0.2729 - accuracy: 0.898 - ETA: 10s - loss: 0.2734 - accuracy: 0.897 - ETA: 10s - loss: 0.2733 - accuracy: 0.898 - ETA: 9s - loss: 0.2728 - accuracy: 0.898 - ETA: 9s - loss: 0.2727 - accuracy: 0.89 - ETA: 9s - loss: 0.2726 - accuracy: 0.89 - ETA: 9s - loss: 0.2732 - accuracy: 0.89 - ETA: 9s - loss: 0.2728 - accuracy: 0.89 - ETA: 8s - loss: 0.2718 - accuracy: 0.89 - ETA: 8s - loss: 0.2720 - accuracy: 0.89 - ETA: 8s - loss: 0.2717 - accuracy: 0.89 - ETA: 8s - loss: 0.2738 - accuracy: 0.89 - ETA: 8s - loss: 0.2738 - accuracy: 0.89 - ETA: 8s - loss: 0.2740 - accuracy: 0.89 - ETA: 7s - loss: 0.2748 - accuracy: 0.89 - ETA: 7s - loss: 0.2748 - accuracy: 0.89 - ETA: 7s - loss: 0.2738 - accuracy: 0.89 - ETA: 7s - loss: 0.2735 - accuracy: 0.89 - ETA: 7s - loss: 0.2732 - accuracy: 0.89 - ETA: 6s - loss: 0.2737 - accuracy: 0.89 - ETA: 6s - loss: 0.2732 - accuracy: 0.89 - ETA: 6s - loss: 0.2738 - accuracy: 0.89 - ETA: 6s - loss: 0.2740 - accuracy: 0.89 - ETA: 6s - loss: 0.2730 - accuracy: 0.89 - ETA: 5s - loss: 0.2737 - accuracy: 0.89 - ETA: 5s - loss: 0.2760 - accuracy: 0.89 - ETA: 5s - loss: 0.2772 - accuracy: 0.89 - ETA: 5s - loss: 0.2770 - accuracy: 0.89 - ETA: 5s - loss: 0.2774 - accuracy: 0.89 - ETA: 5s - loss: 0.2774 - accuracy: 0.89 - ETA: 4s - loss: 0.2779 - accuracy: 0.89 - ETA: 4s - loss: 0.2774 - accuracy: 0.89 - ETA: 4s - loss: 0.2774 - accuracy: 0.89 - ETA: 4s - loss: 0.2774 - accuracy: 0.89 - ETA: 4s - loss: 0.2773 - accuracy: 0.89 - ETA: 3s - loss: 0.2764 - accuracy: 0.89 - ETA: 3s - loss: 0.2761 - accuracy: 0.89 - ETA: 3s - loss: 0.2761 - accuracy: 0.89 - ETA: 3s - loss: 0.2752 - accuracy: 0.90 - ETA: 3s - loss: 0.2752 - accuracy: 0.90 - ETA: 3s - loss: 0.2762 - accuracy: 0.89 - ETA: 2s - loss: 0.2797 - accuracy: 0.89 - ETA: 2s - loss: 0.2794 - accuracy: 0.89 - ETA: 2s - loss: 0.2798 - accuracy: 0.89 - ETA: 2s - loss: 0.2796 - accuracy: 0.89 - ETA: 2s - loss: 0.2796 - accuracy: 0.89 - ETA: 1s - loss: 0.2797 - accuracy: 0.89 - ETA: 1s - loss: 0.2788 - accuracy: 0.8999"
     ]
    },
    {
     "name": "stdout",
     "output_type": "stream",
     "text": [
      "6319/6319 [==============================] - ETA: 1s - loss: 0.2782 - accuracy: 0.90 - ETA: 1s - loss: 0.2771 - accuracy: 0.90 - ETA: 1s - loss: 0.2763 - accuracy: 0.90 - ETA: 0s - loss: 0.2767 - accuracy: 0.90 - ETA: 0s - loss: 0.2767 - accuracy: 0.90 - ETA: 0s - loss: 0.2773 - accuracy: 0.90 - ETA: 0s - loss: 0.2773 - accuracy: 0.90 - ETA: 0s - loss: 0.2775 - accuracy: 0.90 - ETA: 0s - loss: 0.2774 - accuracy: 0.90 - 47s 8ms/step - loss: 0.2777 - accuracy: 0.9001 - val_loss: 0.5521 - val_accuracy: 0.8262\n",
      "Epoch 8/20\n"
     ]
    },
    {
     "name": "stdout",
     "output_type": "stream",
     "text": [
      "6016/6319 [===========================>..] - ETA: 34s - loss: 0.1391 - accuracy: 0.968 - ETA: 31s - loss: 0.1789 - accuracy: 0.937 - ETA: 31s - loss: 0.2257 - accuracy: 0.937 - ETA: 30s - loss: 0.2423 - accuracy: 0.921 - ETA: 33s - loss: 0.2222 - accuracy: 0.931 - ETA: 33s - loss: 0.2258 - accuracy: 0.932 - ETA: 32s - loss: 0.2206 - accuracy: 0.937 - ETA: 34s - loss: 0.2305 - accuracy: 0.921 - ETA: 33s - loss: 0.2106 - accuracy: 0.930 - ETA: 33s - loss: 0.2075 - accuracy: 0.931 - ETA: 33s - loss: 0.2039 - accuracy: 0.937 - ETA: 32s - loss: 0.2099 - accuracy: 0.929 - ETA: 32s - loss: 0.2166 - accuracy: 0.925 - ETA: 31s - loss: 0.2355 - accuracy: 0.919 - ETA: 31s - loss: 0.2357 - accuracy: 0.918 - ETA: 30s - loss: 0.2274 - accuracy: 0.923 - ETA: 30s - loss: 0.2223 - accuracy: 0.926 - ETA: 30s - loss: 0.2242 - accuracy: 0.927 - ETA: 30s - loss: 0.2197 - accuracy: 0.929 - ETA: 29s - loss: 0.2216 - accuracy: 0.928 - ETA: 29s - loss: 0.2154 - accuracy: 0.931 - ETA: 29s - loss: 0.2129 - accuracy: 0.931 - ETA: 28s - loss: 0.2113 - accuracy: 0.932 - ETA: 28s - loss: 0.2078 - accuracy: 0.933 - ETA: 28s - loss: 0.2080 - accuracy: 0.933 - ETA: 27s - loss: 0.2025 - accuracy: 0.936 - ETA: 27s - loss: 0.1972 - accuracy: 0.937 - ETA: 27s - loss: 0.1969 - accuracy: 0.935 - ETA: 27s - loss: 0.2016 - accuracy: 0.934 - ETA: 26s - loss: 0.1988 - accuracy: 0.935 - ETA: 26s - loss: 0.1965 - accuracy: 0.935 - ETA: 26s - loss: 0.1964 - accuracy: 0.934 - ETA: 26s - loss: 0.1920 - accuracy: 0.936 - ETA: 26s - loss: 0.1904 - accuracy: 0.936 - ETA: 26s - loss: 0.1896 - accuracy: 0.936 - ETA: 26s - loss: 0.1901 - accuracy: 0.936 - ETA: 26s - loss: 0.1886 - accuracy: 0.937 - ETA: 25s - loss: 0.1872 - accuracy: 0.938 - ETA: 25s - loss: 0.1870 - accuracy: 0.937 - ETA: 25s - loss: 0.1864 - accuracy: 0.937 - ETA: 25s - loss: 0.1890 - accuracy: 0.936 - ETA: 25s - loss: 0.1855 - accuracy: 0.937 - ETA: 24s - loss: 0.1882 - accuracy: 0.936 - ETA: 24s - loss: 0.1881 - accuracy: 0.934 - ETA: 24s - loss: 0.1897 - accuracy: 0.933 - ETA: 24s - loss: 0.1959 - accuracy: 0.932 - ETA: 24s - loss: 0.1963 - accuracy: 0.932 - ETA: 24s - loss: 0.1961 - accuracy: 0.932 - ETA: 23s - loss: 0.1956 - accuracy: 0.932 - ETA: 23s - loss: 0.1946 - accuracy: 0.932 - ETA: 23s - loss: 0.1947 - accuracy: 0.932 - ETA: 23s - loss: 0.1958 - accuracy: 0.932 - ETA: 23s - loss: 0.1943 - accuracy: 0.931 - ETA: 22s - loss: 0.1966 - accuracy: 0.931 - ETA: 22s - loss: 0.1958 - accuracy: 0.930 - ETA: 22s - loss: 0.1979 - accuracy: 0.929 - ETA: 22s - loss: 0.1984 - accuracy: 0.929 - ETA: 22s - loss: 0.1978 - accuracy: 0.929 - ETA: 22s - loss: 0.1978 - accuracy: 0.929 - ETA: 21s - loss: 0.2000 - accuracy: 0.928 - ETA: 21s - loss: 0.2021 - accuracy: 0.927 - ETA: 21s - loss: 0.2036 - accuracy: 0.927 - ETA: 21s - loss: 0.2018 - accuracy: 0.928 - ETA: 21s - loss: 0.2019 - accuracy: 0.929 - ETA: 21s - loss: 0.2035 - accuracy: 0.928 - ETA: 21s - loss: 0.2039 - accuracy: 0.928 - ETA: 21s - loss: 0.2036 - accuracy: 0.928 - ETA: 20s - loss: 0.2052 - accuracy: 0.926 - ETA: 20s - loss: 0.2031 - accuracy: 0.928 - ETA: 20s - loss: 0.2013 - accuracy: 0.929 - ETA: 20s - loss: 0.2013 - accuracy: 0.929 - ETA: 20s - loss: 0.2024 - accuracy: 0.928 - ETA: 19s - loss: 0.2024 - accuracy: 0.927 - ETA: 19s - loss: 0.2033 - accuracy: 0.926 - ETA: 19s - loss: 0.2079 - accuracy: 0.925 - ETA: 19s - loss: 0.2079 - accuracy: 0.925 - ETA: 19s - loss: 0.2085 - accuracy: 0.924 - ETA: 19s - loss: 0.2087 - accuracy: 0.924 - ETA: 19s - loss: 0.2125 - accuracy: 0.923 - ETA: 18s - loss: 0.2150 - accuracy: 0.923 - ETA: 18s - loss: 0.2156 - accuracy: 0.923 - ETA: 18s - loss: 0.2173 - accuracy: 0.923 - ETA: 18s - loss: 0.2195 - accuracy: 0.922 - ETA: 18s - loss: 0.2188 - accuracy: 0.923 - ETA: 18s - loss: 0.2208 - accuracy: 0.921 - ETA: 17s - loss: 0.2199 - accuracy: 0.921 - ETA: 17s - loss: 0.2216 - accuracy: 0.921 - ETA: 17s - loss: 0.2215 - accuracy: 0.921 - ETA: 17s - loss: 0.2202 - accuracy: 0.922 - ETA: 17s - loss: 0.2218 - accuracy: 0.921 - ETA: 17s - loss: 0.2232 - accuracy: 0.921 - ETA: 16s - loss: 0.2235 - accuracy: 0.921 - ETA: 16s - loss: 0.2253 - accuracy: 0.921 - ETA: 16s - loss: 0.2246 - accuracy: 0.921 - ETA: 16s - loss: 0.2257 - accuracy: 0.920 - ETA: 16s - loss: 0.2248 - accuracy: 0.920 - ETA: 16s - loss: 0.2245 - accuracy: 0.920 - ETA: 15s - loss: 0.2257 - accuracy: 0.920 - ETA: 15s - loss: 0.2244 - accuracy: 0.921 - ETA: 15s - loss: 0.2253 - accuracy: 0.920 - ETA: 15s - loss: 0.2252 - accuracy: 0.920 - ETA: 15s - loss: 0.2261 - accuracy: 0.921 - ETA: 15s - loss: 0.2269 - accuracy: 0.920 - ETA: 14s - loss: 0.2260 - accuracy: 0.920 - ETA: 14s - loss: 0.2265 - accuracy: 0.920 - ETA: 14s - loss: 0.2265 - accuracy: 0.920 - ETA: 14s - loss: 0.2268 - accuracy: 0.920 - ETA: 14s - loss: 0.2271 - accuracy: 0.919 - ETA: 14s - loss: 0.2264 - accuracy: 0.919 - ETA: 13s - loss: 0.2258 - accuracy: 0.919 - ETA: 13s - loss: 0.2249 - accuracy: 0.919 - ETA: 13s - loss: 0.2248 - accuracy: 0.919 - ETA: 13s - loss: 0.2241 - accuracy: 0.919 - ETA: 13s - loss: 0.2243 - accuracy: 0.919 - ETA: 13s - loss: 0.2231 - accuracy: 0.920 - ETA: 12s - loss: 0.2265 - accuracy: 0.919 - ETA: 12s - loss: 0.2265 - accuracy: 0.919 - ETA: 12s - loss: 0.2259 - accuracy: 0.919 - ETA: 12s - loss: 0.2251 - accuracy: 0.919 - ETA: 12s - loss: 0.2245 - accuracy: 0.919 - ETA: 12s - loss: 0.2247 - accuracy: 0.919 - ETA: 12s - loss: 0.2238 - accuracy: 0.919 - ETA: 11s - loss: 0.2233 - accuracy: 0.919 - ETA: 11s - loss: 0.2230 - accuracy: 0.919 - ETA: 11s - loss: 0.2234 - accuracy: 0.919 - ETA: 11s - loss: 0.2241 - accuracy: 0.919 - ETA: 11s - loss: 0.2234 - accuracy: 0.919 - ETA: 11s - loss: 0.2223 - accuracy: 0.920 - ETA: 10s - loss: 0.2256 - accuracy: 0.919 - ETA: 10s - loss: 0.2253 - accuracy: 0.919 - ETA: 10s - loss: 0.2244 - accuracy: 0.919 - ETA: 10s - loss: 0.2240 - accuracy: 0.919 - ETA: 10s - loss: 0.2242 - accuracy: 0.919 - ETA: 10s - loss: 0.2257 - accuracy: 0.919 - ETA: 9s - loss: 0.2260 - accuracy: 0.919 - ETA: 9s - loss: 0.2258 - accuracy: 0.91 - ETA: 9s - loss: 0.2258 - accuracy: 0.91 - ETA: 9s - loss: 0.2283 - accuracy: 0.91 - ETA: 9s - loss: 0.2270 - accuracy: 0.91 - ETA: 9s - loss: 0.2289 - accuracy: 0.91 - ETA: 8s - loss: 0.2288 - accuracy: 0.91 - ETA: 8s - loss: 0.2282 - accuracy: 0.91 - ETA: 8s - loss: 0.2283 - accuracy: 0.91 - ETA: 8s - loss: 0.2284 - accuracy: 0.91 - ETA: 8s - loss: 0.2280 - accuracy: 0.91 - ETA: 8s - loss: 0.2285 - accuracy: 0.91 - ETA: 8s - loss: 0.2303 - accuracy: 0.91 - ETA: 7s - loss: 0.2301 - accuracy: 0.91 - ETA: 7s - loss: 0.2298 - accuracy: 0.91 - ETA: 7s - loss: 0.2293 - accuracy: 0.91 - ETA: 7s - loss: 0.2303 - accuracy: 0.91 - ETA: 7s - loss: 0.2306 - accuracy: 0.91 - ETA: 7s - loss: 0.2303 - accuracy: 0.91 - ETA: 6s - loss: 0.2299 - accuracy: 0.91 - ETA: 6s - loss: 0.2304 - accuracy: 0.91 - ETA: 6s - loss: 0.2309 - accuracy: 0.91 - ETA: 6s - loss: 0.2302 - accuracy: 0.91 - ETA: 6s - loss: 0.2301 - accuracy: 0.91 - ETA: 6s - loss: 0.2298 - accuracy: 0.91 - ETA: 6s - loss: 0.2305 - accuracy: 0.91 - ETA: 5s - loss: 0.2304 - accuracy: 0.91 - ETA: 5s - loss: 0.2295 - accuracy: 0.91 - ETA: 5s - loss: 0.2302 - accuracy: 0.91 - ETA: 5s - loss: 0.2335 - accuracy: 0.91 - ETA: 5s - loss: 0.2340 - accuracy: 0.91 - ETA: 5s - loss: 0.2340 - accuracy: 0.91 - ETA: 5s - loss: 0.2334 - accuracy: 0.91 - ETA: 4s - loss: 0.2339 - accuracy: 0.91 - ETA: 4s - loss: 0.2340 - accuracy: 0.91 - ETA: 4s - loss: 0.2348 - accuracy: 0.91 - ETA: 4s - loss: 0.2346 - accuracy: 0.91 - ETA: 4s - loss: 0.2344 - accuracy: 0.91 - ETA: 4s - loss: 0.2341 - accuracy: 0.91 - ETA: 3s - loss: 0.2348 - accuracy: 0.91 - ETA: 3s - loss: 0.2349 - accuracy: 0.91 - ETA: 3s - loss: 0.2344 - accuracy: 0.91 - ETA: 3s - loss: 0.2348 - accuracy: 0.91 - ETA: 3s - loss: 0.2349 - accuracy: 0.91 - ETA: 3s - loss: 0.2357 - accuracy: 0.91 - ETA: 2s - loss: 0.2357 - accuracy: 0.91 - ETA: 2s - loss: 0.2353 - accuracy: 0.91 - ETA: 2s - loss: 0.2356 - accuracy: 0.91 - ETA: 2s - loss: 0.2358 - accuracy: 0.91 - ETA: 2s - loss: 0.2371 - accuracy: 0.91 - ETA: 2s - loss: 0.2382 - accuracy: 0.91 - ETA: 1s - loss: 0.2381 - accuracy: 0.91 - ETA: 1s - loss: 0.2388 - accuracy: 0.91 - ETA: 1s - loss: 0.2390 - accuracy: 0.9156"
     ]
    },
    {
     "name": "stdout",
     "output_type": "stream",
     "text": [
      "6319/6319 [==============================] - ETA: 1s - loss: 0.2394 - accuracy: 0.91 - ETA: 1s - loss: 0.2388 - accuracy: 0.91 - ETA: 1s - loss: 0.2386 - accuracy: 0.91 - ETA: 0s - loss: 0.2395 - accuracy: 0.91 - ETA: 0s - loss: 0.2393 - accuracy: 0.91 - ETA: 0s - loss: 0.2385 - accuracy: 0.91 - ETA: 0s - loss: 0.2386 - accuracy: 0.91 - ETA: 0s - loss: 0.2391 - accuracy: 0.91 - ETA: 0s - loss: 0.2389 - accuracy: 0.91 - 44s 7ms/step - loss: 0.2386 - accuracy: 0.9157 - val_loss: 0.5195 - val_accuracy: 0.8405\n",
      "Epoch 9/20\n"
     ]
    },
    {
     "name": "stdout",
     "output_type": "stream",
     "text": [
      "6016/6319 [===========================>..] - ETA: 29s - loss: 0.2163 - accuracy: 0.937 - ETA: 29s - loss: 0.1774 - accuracy: 0.937 - ETA: 29s - loss: 0.1706 - accuracy: 0.927 - ETA: 28s - loss: 0.1593 - accuracy: 0.937 - ETA: 28s - loss: 0.1762 - accuracy: 0.931 - ETA: 28s - loss: 0.1709 - accuracy: 0.937 - ETA: 28s - loss: 0.1978 - accuracy: 0.924 - ETA: 29s - loss: 0.1888 - accuracy: 0.933 - ETA: 29s - loss: 0.1968 - accuracy: 0.927 - ETA: 30s - loss: 0.2091 - accuracy: 0.918 - ETA: 30s - loss: 0.2181 - accuracy: 0.911 - ETA: 30s - loss: 0.2260 - accuracy: 0.911 - ETA: 30s - loss: 0.2307 - accuracy: 0.911 - ETA: 29s - loss: 0.2349 - accuracy: 0.910 - ETA: 29s - loss: 0.2373 - accuracy: 0.908 - ETA: 29s - loss: 0.2401 - accuracy: 0.904 - ETA: 29s - loss: 0.2412 - accuracy: 0.900 - ETA: 28s - loss: 0.2491 - accuracy: 0.901 - ETA: 28s - loss: 0.2501 - accuracy: 0.899 - ETA: 28s - loss: 0.2434 - accuracy: 0.903 - ETA: 28s - loss: 0.2460 - accuracy: 0.903 - ETA: 27s - loss: 0.2450 - accuracy: 0.903 - ETA: 27s - loss: 0.2497 - accuracy: 0.902 - ETA: 27s - loss: 0.2569 - accuracy: 0.901 - ETA: 27s - loss: 0.2573 - accuracy: 0.902 - ETA: 27s - loss: 0.2584 - accuracy: 0.902 - ETA: 26s - loss: 0.2626 - accuracy: 0.903 - ETA: 26s - loss: 0.2603 - accuracy: 0.904 - ETA: 26s - loss: 0.2577 - accuracy: 0.904 - ETA: 26s - loss: 0.2538 - accuracy: 0.905 - ETA: 26s - loss: 0.2520 - accuracy: 0.906 - ETA: 26s - loss: 0.2513 - accuracy: 0.907 - ETA: 25s - loss: 0.2466 - accuracy: 0.910 - ETA: 25s - loss: 0.2446 - accuracy: 0.909 - ETA: 25s - loss: 0.2405 - accuracy: 0.910 - ETA: 25s - loss: 0.2377 - accuracy: 0.911 - ETA: 25s - loss: 0.2354 - accuracy: 0.912 - ETA: 25s - loss: 0.2367 - accuracy: 0.912 - ETA: 25s - loss: 0.2470 - accuracy: 0.911 - ETA: 25s - loss: 0.2482 - accuracy: 0.911 - ETA: 25s - loss: 0.2452 - accuracy: 0.912 - ETA: 24s - loss: 0.2418 - accuracy: 0.913 - ETA: 24s - loss: 0.2401 - accuracy: 0.914 - ETA: 24s - loss: 0.2377 - accuracy: 0.915 - ETA: 24s - loss: 0.2449 - accuracy: 0.913 - ETA: 24s - loss: 0.2463 - accuracy: 0.911 - ETA: 24s - loss: 0.2460 - accuracy: 0.911 - ETA: 23s - loss: 0.2464 - accuracy: 0.911 - ETA: 23s - loss: 0.2429 - accuracy: 0.912 - ETA: 23s - loss: 0.2455 - accuracy: 0.911 - ETA: 23s - loss: 0.2435 - accuracy: 0.912 - ETA: 23s - loss: 0.2401 - accuracy: 0.914 - ETA: 23s - loss: 0.2395 - accuracy: 0.914 - ETA: 22s - loss: 0.2377 - accuracy: 0.914 - ETA: 22s - loss: 0.2382 - accuracy: 0.913 - ETA: 22s - loss: 0.2394 - accuracy: 0.913 - ETA: 22s - loss: 0.2419 - accuracy: 0.911 - ETA: 22s - loss: 0.2448 - accuracy: 0.910 - ETA: 21s - loss: 0.2434 - accuracy: 0.911 - ETA: 21s - loss: 0.2465 - accuracy: 0.909 - ETA: 21s - loss: 0.2443 - accuracy: 0.910 - ETA: 21s - loss: 0.2430 - accuracy: 0.910 - ETA: 21s - loss: 0.2443 - accuracy: 0.910 - ETA: 21s - loss: 0.2449 - accuracy: 0.909 - ETA: 20s - loss: 0.2428 - accuracy: 0.910 - ETA: 20s - loss: 0.2417 - accuracy: 0.911 - ETA: 20s - loss: 0.2408 - accuracy: 0.911 - ETA: 20s - loss: 0.2407 - accuracy: 0.911 - ETA: 20s - loss: 0.2394 - accuracy: 0.911 - ETA: 20s - loss: 0.2439 - accuracy: 0.910 - ETA: 19s - loss: 0.2432 - accuracy: 0.910 - ETA: 19s - loss: 0.2441 - accuracy: 0.909 - ETA: 19s - loss: 0.2437 - accuracy: 0.910 - ETA: 19s - loss: 0.2421 - accuracy: 0.910 - ETA: 19s - loss: 0.2436 - accuracy: 0.909 - ETA: 19s - loss: 0.2429 - accuracy: 0.909 - ETA: 19s - loss: 0.2426 - accuracy: 0.909 - ETA: 18s - loss: 0.2422 - accuracy: 0.909 - ETA: 18s - loss: 0.2405 - accuracy: 0.911 - ETA: 18s - loss: 0.2422 - accuracy: 0.910 - ETA: 18s - loss: 0.2433 - accuracy: 0.909 - ETA: 18s - loss: 0.2432 - accuracy: 0.909 - ETA: 18s - loss: 0.2430 - accuracy: 0.909 - ETA: 18s - loss: 0.2433 - accuracy: 0.909 - ETA: 18s - loss: 0.2421 - accuracy: 0.910 - ETA: 17s - loss: 0.2435 - accuracy: 0.910 - ETA: 17s - loss: 0.2420 - accuracy: 0.911 - ETA: 17s - loss: 0.2436 - accuracy: 0.910 - ETA: 17s - loss: 0.2443 - accuracy: 0.910 - ETA: 17s - loss: 0.2435 - accuracy: 0.910 - ETA: 17s - loss: 0.2460 - accuracy: 0.909 - ETA: 17s - loss: 0.2458 - accuracy: 0.909 - ETA: 17s - loss: 0.2455 - accuracy: 0.909 - ETA: 16s - loss: 0.2473 - accuracy: 0.908 - ETA: 16s - loss: 0.2467 - accuracy: 0.909 - ETA: 16s - loss: 0.2463 - accuracy: 0.909 - ETA: 16s - loss: 0.2460 - accuracy: 0.909 - ETA: 16s - loss: 0.2467 - accuracy: 0.908 - ETA: 16s - loss: 0.2471 - accuracy: 0.908 - ETA: 16s - loss: 0.2464 - accuracy: 0.909 - ETA: 16s - loss: 0.2469 - accuracy: 0.909 - ETA: 15s - loss: 0.2464 - accuracy: 0.909 - ETA: 15s - loss: 0.2459 - accuracy: 0.909 - ETA: 15s - loss: 0.2459 - accuracy: 0.910 - ETA: 15s - loss: 0.2454 - accuracy: 0.910 - ETA: 15s - loss: 0.2436 - accuracy: 0.911 - ETA: 15s - loss: 0.2420 - accuracy: 0.911 - ETA: 14s - loss: 0.2409 - accuracy: 0.912 - ETA: 14s - loss: 0.2415 - accuracy: 0.912 - ETA: 14s - loss: 0.2419 - accuracy: 0.911 - ETA: 14s - loss: 0.2423 - accuracy: 0.912 - ETA: 14s - loss: 0.2409 - accuracy: 0.912 - ETA: 13s - loss: 0.2412 - accuracy: 0.912 - ETA: 13s - loss: 0.2414 - accuracy: 0.912 - ETA: 13s - loss: 0.2415 - accuracy: 0.912 - ETA: 13s - loss: 0.2410 - accuracy: 0.912 - ETA: 13s - loss: 0.2426 - accuracy: 0.911 - ETA: 13s - loss: 0.2438 - accuracy: 0.911 - ETA: 12s - loss: 0.2462 - accuracy: 0.910 - ETA: 12s - loss: 0.2452 - accuracy: 0.911 - ETA: 12s - loss: 0.2457 - accuracy: 0.910 - ETA: 12s - loss: 0.2451 - accuracy: 0.911 - ETA: 12s - loss: 0.2450 - accuracy: 0.911 - ETA: 12s - loss: 0.2441 - accuracy: 0.911 - ETA: 11s - loss: 0.2447 - accuracy: 0.911 - ETA: 11s - loss: 0.2435 - accuracy: 0.912 - ETA: 11s - loss: 0.2437 - accuracy: 0.912 - ETA: 11s - loss: 0.2432 - accuracy: 0.912 - ETA: 11s - loss: 0.2445 - accuracy: 0.911 - ETA: 11s - loss: 0.2449 - accuracy: 0.911 - ETA: 10s - loss: 0.2445 - accuracy: 0.911 - ETA: 10s - loss: 0.2444 - accuracy: 0.911 - ETA: 10s - loss: 0.2433 - accuracy: 0.911 - ETA: 10s - loss: 0.2422 - accuracy: 0.912 - ETA: 10s - loss: 0.2421 - accuracy: 0.912 - ETA: 10s - loss: 0.2418 - accuracy: 0.912 - ETA: 10s - loss: 0.2423 - accuracy: 0.912 - ETA: 9s - loss: 0.2416 - accuracy: 0.912 - ETA: 9s - loss: 0.2426 - accuracy: 0.91 - ETA: 9s - loss: 0.2423 - accuracy: 0.91 - ETA: 9s - loss: 0.2430 - accuracy: 0.91 - ETA: 9s - loss: 0.2430 - accuracy: 0.91 - ETA: 9s - loss: 0.2428 - accuracy: 0.91 - ETA: 9s - loss: 0.2427 - accuracy: 0.91 - ETA: 8s - loss: 0.2432 - accuracy: 0.91 - ETA: 8s - loss: 0.2432 - accuracy: 0.90 - ETA: 8s - loss: 0.2446 - accuracy: 0.90 - ETA: 8s - loss: 0.2449 - accuracy: 0.90 - ETA: 8s - loss: 0.2441 - accuracy: 0.91 - ETA: 8s - loss: 0.2433 - accuracy: 0.91 - ETA: 7s - loss: 0.2426 - accuracy: 0.91 - ETA: 7s - loss: 0.2424 - accuracy: 0.91 - ETA: 7s - loss: 0.2424 - accuracy: 0.91 - ETA: 7s - loss: 0.2428 - accuracy: 0.91 - ETA: 7s - loss: 0.2427 - accuracy: 0.91 - ETA: 7s - loss: 0.2416 - accuracy: 0.91 - ETA: 6s - loss: 0.2416 - accuracy: 0.91 - ETA: 6s - loss: 0.2411 - accuracy: 0.91 - ETA: 6s - loss: 0.2413 - accuracy: 0.91 - ETA: 6s - loss: 0.2415 - accuracy: 0.91 - ETA: 6s - loss: 0.2414 - accuracy: 0.91 - ETA: 6s - loss: 0.2414 - accuracy: 0.91 - ETA: 5s - loss: 0.2404 - accuracy: 0.91 - ETA: 5s - loss: 0.2394 - accuracy: 0.91 - ETA: 5s - loss: 0.2381 - accuracy: 0.91 - ETA: 5s - loss: 0.2372 - accuracy: 0.91 - ETA: 5s - loss: 0.2371 - accuracy: 0.91 - ETA: 4s - loss: 0.2360 - accuracy: 0.91 - ETA: 4s - loss: 0.2360 - accuracy: 0.91 - ETA: 4s - loss: 0.2349 - accuracy: 0.91 - ETA: 4s - loss: 0.2339 - accuracy: 0.91 - ETA: 4s - loss: 0.2334 - accuracy: 0.91 - ETA: 4s - loss: 0.2326 - accuracy: 0.91 - ETA: 3s - loss: 0.2329 - accuracy: 0.91 - ETA: 3s - loss: 0.2318 - accuracy: 0.91 - ETA: 3s - loss: 0.2309 - accuracy: 0.91 - ETA: 3s - loss: 0.2306 - accuracy: 0.91 - ETA: 3s - loss: 0.2307 - accuracy: 0.91 - ETA: 3s - loss: 0.2303 - accuracy: 0.91 - ETA: 2s - loss: 0.2298 - accuracy: 0.91 - ETA: 2s - loss: 0.2292 - accuracy: 0.91 - ETA: 2s - loss: 0.2287 - accuracy: 0.91 - ETA: 2s - loss: 0.2296 - accuracy: 0.91 - ETA: 2s - loss: 0.2292 - accuracy: 0.91 - ETA: 2s - loss: 0.2304 - accuracy: 0.91 - ETA: 1s - loss: 0.2302 - accuracy: 0.91 - ETA: 1s - loss: 0.2293 - accuracy: 0.91 - ETA: 1s - loss: 0.2286 - accuracy: 0.9149"
     ]
    },
    {
     "name": "stdout",
     "output_type": "stream",
     "text": [
      "6319/6319 [==============================] - ETA: 1s - loss: 0.2284 - accuracy: 0.91 - ETA: 1s - loss: 0.2283 - accuracy: 0.91 - ETA: 1s - loss: 0.2282 - accuracy: 0.91 - ETA: 0s - loss: 0.2277 - accuracy: 0.91 - ETA: 0s - loss: 0.2279 - accuracy: 0.91 - ETA: 0s - loss: 0.2275 - accuracy: 0.91 - ETA: 0s - loss: 0.2279 - accuracy: 0.91 - ETA: 0s - loss: 0.2278 - accuracy: 0.91 - ETA: 0s - loss: 0.2282 - accuracy: 0.91 - 43s 7ms/step - loss: 0.2281 - accuracy: 0.9150 - val_loss: 0.5930 - val_accuracy: 0.8339\n",
      "Epoch 10/20\n"
     ]
    },
    {
     "name": "stdout",
     "output_type": "stream",
     "text": [
      "6016/6319 [===========================>..] - ETA: 34s - loss: 0.5547 - accuracy: 0.781 - ETA: 32s - loss: 0.4355 - accuracy: 0.828 - ETA: 31s - loss: 0.3329 - accuracy: 0.864 - ETA: 32s - loss: 0.2807 - accuracy: 0.890 - ETA: 31s - loss: 0.2754 - accuracy: 0.893 - ETA: 31s - loss: 0.2647 - accuracy: 0.890 - ETA: 31s - loss: 0.2434 - accuracy: 0.906 - ETA: 32s - loss: 0.2414 - accuracy: 0.902 - ETA: 32s - loss: 0.2667 - accuracy: 0.895 - ETA: 32s - loss: 0.2609 - accuracy: 0.893 - ETA: 32s - loss: 0.2558 - accuracy: 0.894 - ETA: 31s - loss: 0.2543 - accuracy: 0.898 - ETA: 31s - loss: 0.2417 - accuracy: 0.903 - ETA: 30s - loss: 0.2481 - accuracy: 0.899 - ETA: 30s - loss: 0.2463 - accuracy: 0.900 - ETA: 30s - loss: 0.2505 - accuracy: 0.898 - ETA: 29s - loss: 0.2483 - accuracy: 0.900 - ETA: 29s - loss: 0.2422 - accuracy: 0.902 - ETA: 29s - loss: 0.2385 - accuracy: 0.904 - ETA: 29s - loss: 0.2366 - accuracy: 0.904 - ETA: 28s - loss: 0.2386 - accuracy: 0.904 - ETA: 28s - loss: 0.2424 - accuracy: 0.903 - ETA: 28s - loss: 0.2339 - accuracy: 0.907 - ETA: 27s - loss: 0.2333 - accuracy: 0.907 - ETA: 27s - loss: 0.2323 - accuracy: 0.906 - ETA: 27s - loss: 0.2350 - accuracy: 0.905 - ETA: 27s - loss: 0.2327 - accuracy: 0.906 - ETA: 27s - loss: 0.2321 - accuracy: 0.908 - ETA: 27s - loss: 0.2350 - accuracy: 0.908 - ETA: 27s - loss: 0.2391 - accuracy: 0.908 - ETA: 26s - loss: 0.2323 - accuracy: 0.911 - ETA: 26s - loss: 0.2322 - accuracy: 0.910 - ETA: 26s - loss: 0.2320 - accuracy: 0.911 - ETA: 26s - loss: 0.2314 - accuracy: 0.909 - ETA: 26s - loss: 0.2292 - accuracy: 0.910 - ETA: 25s - loss: 0.2259 - accuracy: 0.912 - ETA: 25s - loss: 0.2232 - accuracy: 0.914 - ETA: 25s - loss: 0.2266 - accuracy: 0.915 - ETA: 25s - loss: 0.2275 - accuracy: 0.914 - ETA: 25s - loss: 0.2250 - accuracy: 0.915 - ETA: 24s - loss: 0.2202 - accuracy: 0.917 - ETA: 24s - loss: 0.2202 - accuracy: 0.918 - ETA: 24s - loss: 0.2202 - accuracy: 0.918 - ETA: 24s - loss: 0.2239 - accuracy: 0.918 - ETA: 24s - loss: 0.2235 - accuracy: 0.918 - ETA: 23s - loss: 0.2221 - accuracy: 0.918 - ETA: 23s - loss: 0.2227 - accuracy: 0.917 - ETA: 23s - loss: 0.2210 - accuracy: 0.918 - ETA: 23s - loss: 0.2211 - accuracy: 0.918 - ETA: 23s - loss: 0.2203 - accuracy: 0.918 - ETA: 23s - loss: 0.2184 - accuracy: 0.919 - ETA: 22s - loss: 0.2200 - accuracy: 0.917 - ETA: 22s - loss: 0.2175 - accuracy: 0.919 - ETA: 22s - loss: 0.2150 - accuracy: 0.920 - ETA: 22s - loss: 0.2140 - accuracy: 0.921 - ETA: 22s - loss: 0.2122 - accuracy: 0.921 - ETA: 22s - loss: 0.2105 - accuracy: 0.922 - ETA: 21s - loss: 0.2101 - accuracy: 0.923 - ETA: 21s - loss: 0.2093 - accuracy: 0.923 - ETA: 21s - loss: 0.2086 - accuracy: 0.924 - ETA: 21s - loss: 0.2100 - accuracy: 0.924 - ETA: 21s - loss: 0.2093 - accuracy: 0.924 - ETA: 20s - loss: 0.2114 - accuracy: 0.923 - ETA: 20s - loss: 0.2110 - accuracy: 0.922 - ETA: 20s - loss: 0.2101 - accuracy: 0.923 - ETA: 20s - loss: 0.2084 - accuracy: 0.923 - ETA: 20s - loss: 0.2117 - accuracy: 0.922 - ETA: 20s - loss: 0.2097 - accuracy: 0.923 - ETA: 20s - loss: 0.2129 - accuracy: 0.923 - ETA: 19s - loss: 0.2103 - accuracy: 0.925 - ETA: 19s - loss: 0.2115 - accuracy: 0.925 - ETA: 19s - loss: 0.2129 - accuracy: 0.925 - ETA: 19s - loss: 0.2150 - accuracy: 0.924 - ETA: 19s - loss: 0.2141 - accuracy: 0.924 - ETA: 19s - loss: 0.2127 - accuracy: 0.925 - ETA: 18s - loss: 0.2123 - accuracy: 0.925 - ETA: 18s - loss: 0.2123 - accuracy: 0.924 - ETA: 18s - loss: 0.2108 - accuracy: 0.925 - ETA: 18s - loss: 0.2097 - accuracy: 0.926 - ETA: 18s - loss: 0.2109 - accuracy: 0.927 - ETA: 18s - loss: 0.2143 - accuracy: 0.926 - ETA: 18s - loss: 0.2156 - accuracy: 0.925 - ETA: 17s - loss: 0.2144 - accuracy: 0.926 - ETA: 17s - loss: 0.2137 - accuracy: 0.926 - ETA: 17s - loss: 0.2135 - accuracy: 0.926 - ETA: 17s - loss: 0.2149 - accuracy: 0.925 - ETA: 17s - loss: 0.2169 - accuracy: 0.925 - ETA: 17s - loss: 0.2160 - accuracy: 0.925 - ETA: 16s - loss: 0.2158 - accuracy: 0.924 - ETA: 16s - loss: 0.2152 - accuracy: 0.924 - ETA: 16s - loss: 0.2133 - accuracy: 0.925 - ETA: 16s - loss: 0.2144 - accuracy: 0.924 - ETA: 16s - loss: 0.2147 - accuracy: 0.924 - ETA: 16s - loss: 0.2141 - accuracy: 0.924 - ETA: 16s - loss: 0.2120 - accuracy: 0.925 - ETA: 15s - loss: 0.2109 - accuracy: 0.926 - ETA: 15s - loss: 0.2105 - accuracy: 0.926 - ETA: 15s - loss: 0.2106 - accuracy: 0.925 - ETA: 15s - loss: 0.2121 - accuracy: 0.925 - ETA: 15s - loss: 0.2110 - accuracy: 0.925 - ETA: 15s - loss: 0.2137 - accuracy: 0.925 - ETA: 14s - loss: 0.2138 - accuracy: 0.924 - ETA: 14s - loss: 0.2134 - accuracy: 0.924 - ETA: 14s - loss: 0.2160 - accuracy: 0.922 - ETA: 14s - loss: 0.2166 - accuracy: 0.922 - ETA: 14s - loss: 0.2171 - accuracy: 0.922 - ETA: 14s - loss: 0.2190 - accuracy: 0.921 - ETA: 13s - loss: 0.2194 - accuracy: 0.921 - ETA: 13s - loss: 0.2188 - accuracy: 0.921 - ETA: 13s - loss: 0.2184 - accuracy: 0.921 - ETA: 13s - loss: 0.2176 - accuracy: 0.921 - ETA: 13s - loss: 0.2177 - accuracy: 0.921 - ETA: 13s - loss: 0.2171 - accuracy: 0.921 - ETA: 13s - loss: 0.2166 - accuracy: 0.921 - ETA: 12s - loss: 0.2162 - accuracy: 0.922 - ETA: 12s - loss: 0.2166 - accuracy: 0.921 - ETA: 12s - loss: 0.2167 - accuracy: 0.921 - ETA: 12s - loss: 0.2172 - accuracy: 0.920 - ETA: 12s - loss: 0.2171 - accuracy: 0.921 - ETA: 12s - loss: 0.2167 - accuracy: 0.921 - ETA: 11s - loss: 0.2166 - accuracy: 0.921 - ETA: 11s - loss: 0.2161 - accuracy: 0.921 - ETA: 11s - loss: 0.2151 - accuracy: 0.921 - ETA: 11s - loss: 0.2152 - accuracy: 0.921 - ETA: 11s - loss: 0.2150 - accuracy: 0.921 - ETA: 11s - loss: 0.2139 - accuracy: 0.922 - ETA: 11s - loss: 0.2126 - accuracy: 0.922 - ETA: 10s - loss: 0.2123 - accuracy: 0.922 - ETA: 10s - loss: 0.2111 - accuracy: 0.923 - ETA: 10s - loss: 0.2111 - accuracy: 0.923 - ETA: 10s - loss: 0.2110 - accuracy: 0.923 - ETA: 10s - loss: 0.2119 - accuracy: 0.923 - ETA: 10s - loss: 0.2113 - accuracy: 0.923 - ETA: 10s - loss: 0.2113 - accuracy: 0.923 - ETA: 10s - loss: 0.2108 - accuracy: 0.923 - ETA: 9s - loss: 0.2104 - accuracy: 0.923 - ETA: 9s - loss: 0.2104 - accuracy: 0.92 - ETA: 9s - loss: 0.2103 - accuracy: 0.92 - ETA: 9s - loss: 0.2106 - accuracy: 0.92 - ETA: 9s - loss: 0.2111 - accuracy: 0.92 - ETA: 9s - loss: 0.2122 - accuracy: 0.92 - ETA: 9s - loss: 0.2132 - accuracy: 0.92 - ETA: 8s - loss: 0.2137 - accuracy: 0.92 - ETA: 8s - loss: 0.2129 - accuracy: 0.92 - ETA: 8s - loss: 0.2117 - accuracy: 0.92 - ETA: 8s - loss: 0.2119 - accuracy: 0.92 - ETA: 8s - loss: 0.2124 - accuracy: 0.92 - ETA: 8s - loss: 0.2120 - accuracy: 0.92 - ETA: 7s - loss: 0.2111 - accuracy: 0.92 - ETA: 7s - loss: 0.2107 - accuracy: 0.92 - ETA: 7s - loss: 0.2101 - accuracy: 0.92 - ETA: 7s - loss: 0.2101 - accuracy: 0.92 - ETA: 7s - loss: 0.2105 - accuracy: 0.92 - ETA: 7s - loss: 0.2101 - accuracy: 0.92 - ETA: 6s - loss: 0.2098 - accuracy: 0.92 - ETA: 6s - loss: 0.2103 - accuracy: 0.92 - ETA: 6s - loss: 0.2105 - accuracy: 0.92 - ETA: 6s - loss: 0.2096 - accuracy: 0.92 - ETA: 6s - loss: 0.2096 - accuracy: 0.92 - ETA: 6s - loss: 0.2094 - accuracy: 0.92 - ETA: 6s - loss: 0.2093 - accuracy: 0.92 - ETA: 5s - loss: 0.2084 - accuracy: 0.92 - ETA: 5s - loss: 0.2093 - accuracy: 0.92 - ETA: 5s - loss: 0.2090 - accuracy: 0.92 - ETA: 5s - loss: 0.2081 - accuracy: 0.92 - ETA: 5s - loss: 0.2080 - accuracy: 0.92 - ETA: 5s - loss: 0.2069 - accuracy: 0.92 - ETA: 4s - loss: 0.2074 - accuracy: 0.92 - ETA: 4s - loss: 0.2075 - accuracy: 0.92 - ETA: 4s - loss: 0.2079 - accuracy: 0.92 - ETA: 4s - loss: 0.2079 - accuracy: 0.92 - ETA: 4s - loss: 0.2090 - accuracy: 0.92 - ETA: 4s - loss: 0.2102 - accuracy: 0.92 - ETA: 3s - loss: 0.2105 - accuracy: 0.92 - ETA: 3s - loss: 0.2097 - accuracy: 0.92 - ETA: 3s - loss: 0.2090 - accuracy: 0.92 - ETA: 3s - loss: 0.2091 - accuracy: 0.92 - ETA: 3s - loss: 0.2085 - accuracy: 0.92 - ETA: 3s - loss: 0.2077 - accuracy: 0.92 - ETA: 2s - loss: 0.2068 - accuracy: 0.92 - ETA: 2s - loss: 0.2065 - accuracy: 0.92 - ETA: 2s - loss: 0.2064 - accuracy: 0.92 - ETA: 2s - loss: 0.2064 - accuracy: 0.92 - ETA: 2s - loss: 0.2055 - accuracy: 0.92 - ETA: 2s - loss: 0.2052 - accuracy: 0.92 - ETA: 1s - loss: 0.2049 - accuracy: 0.92 - ETA: 1s - loss: 0.2050 - accuracy: 0.92 - ETA: 1s - loss: 0.2050 - accuracy: 0.9259"
     ]
    },
    {
     "name": "stdout",
     "output_type": "stream",
     "text": [
      "6319/6319 [==============================] - ETA: 1s - loss: 0.2046 - accuracy: 0.92 - ETA: 1s - loss: 0.2046 - accuracy: 0.92 - ETA: 1s - loss: 0.2049 - accuracy: 0.92 - ETA: 0s - loss: 0.2049 - accuracy: 0.92 - ETA: 0s - loss: 0.2048 - accuracy: 0.92 - ETA: 0s - loss: 0.2047 - accuracy: 0.92 - ETA: 0s - loss: 0.2042 - accuracy: 0.92 - ETA: 0s - loss: 0.2038 - accuracy: 0.92 - ETA: 0s - loss: 0.2030 - accuracy: 0.92 - 45s 7ms/step - loss: 0.2040 - accuracy: 0.9267 - val_loss: 0.8213 - val_accuracy: 0.8054\n",
      "Epoch 11/20\n"
     ]
    },
    {
     "name": "stdout",
     "output_type": "stream",
     "text": [
      "6016/6319 [===========================>..] - ETA: 38s - loss: 0.1103 - accuracy: 1.000 - ETA: 37s - loss: 0.1909 - accuracy: 0.937 - ETA: 39s - loss: 0.2024 - accuracy: 0.937 - ETA: 42s - loss: 0.1823 - accuracy: 0.945 - ETA: 42s - loss: 0.1987 - accuracy: 0.937 - ETA: 40s - loss: 0.1994 - accuracy: 0.932 - ETA: 39s - loss: 0.2198 - accuracy: 0.915 - ETA: 38s - loss: 0.2147 - accuracy: 0.914 - ETA: 37s - loss: 0.2098 - accuracy: 0.916 - ETA: 37s - loss: 0.2048 - accuracy: 0.918 - ETA: 36s - loss: 0.2001 - accuracy: 0.920 - ETA: 35s - loss: 0.2019 - accuracy: 0.916 - ETA: 34s - loss: 0.2170 - accuracy: 0.906 - ETA: 33s - loss: 0.2271 - accuracy: 0.906 - ETA: 33s - loss: 0.2399 - accuracy: 0.906 - ETA: 32s - loss: 0.2379 - accuracy: 0.908 - ETA: 32s - loss: 0.2265 - accuracy: 0.913 - ETA: 32s - loss: 0.2325 - accuracy: 0.914 - ETA: 32s - loss: 0.2353 - accuracy: 0.912 - ETA: 32s - loss: 0.2263 - accuracy: 0.917 - ETA: 31s - loss: 0.2259 - accuracy: 0.918 - ETA: 31s - loss: 0.2249 - accuracy: 0.919 - ETA: 30s - loss: 0.2240 - accuracy: 0.921 - ETA: 30s - loss: 0.2201 - accuracy: 0.923 - ETA: 30s - loss: 0.2225 - accuracy: 0.921 - ETA: 30s - loss: 0.2225 - accuracy: 0.920 - ETA: 29s - loss: 0.2220 - accuracy: 0.919 - ETA: 29s - loss: 0.2205 - accuracy: 0.919 - ETA: 29s - loss: 0.2156 - accuracy: 0.921 - ETA: 28s - loss: 0.2168 - accuracy: 0.920 - ETA: 28s - loss: 0.2153 - accuracy: 0.921 - ETA: 28s - loss: 0.2141 - accuracy: 0.920 - ETA: 28s - loss: 0.2113 - accuracy: 0.921 - ETA: 28s - loss: 0.2072 - accuracy: 0.922 - ETA: 28s - loss: 0.2087 - accuracy: 0.921 - ETA: 28s - loss: 0.2134 - accuracy: 0.921 - ETA: 28s - loss: 0.2115 - accuracy: 0.921 - ETA: 27s - loss: 0.2100 - accuracy: 0.921 - ETA: 27s - loss: 0.2097 - accuracy: 0.921 - ETA: 27s - loss: 0.2101 - accuracy: 0.921 - ETA: 27s - loss: 0.2116 - accuracy: 0.921 - ETA: 27s - loss: 0.2094 - accuracy: 0.921 - ETA: 27s - loss: 0.2078 - accuracy: 0.923 - ETA: 27s - loss: 0.2115 - accuracy: 0.921 - ETA: 27s - loss: 0.2111 - accuracy: 0.921 - ETA: 27s - loss: 0.2081 - accuracy: 0.922 - ETA: 26s - loss: 0.2043 - accuracy: 0.924 - ETA: 27s - loss: 0.2015 - accuracy: 0.925 - ETA: 27s - loss: 0.1995 - accuracy: 0.926 - ETA: 26s - loss: 0.1989 - accuracy: 0.926 - ETA: 26s - loss: 0.1964 - accuracy: 0.927 - ETA: 26s - loss: 0.1956 - accuracy: 0.927 - ETA: 26s - loss: 0.1938 - accuracy: 0.928 - ETA: 26s - loss: 0.1942 - accuracy: 0.927 - ETA: 25s - loss: 0.1945 - accuracy: 0.928 - ETA: 25s - loss: 0.1993 - accuracy: 0.926 - ETA: 25s - loss: 0.2010 - accuracy: 0.924 - ETA: 25s - loss: 0.2008 - accuracy: 0.925 - ETA: 25s - loss: 0.2005 - accuracy: 0.924 - ETA: 24s - loss: 0.1993 - accuracy: 0.925 - ETA: 24s - loss: 0.1982 - accuracy: 0.925 - ETA: 24s - loss: 0.1961 - accuracy: 0.926 - ETA: 24s - loss: 0.1940 - accuracy: 0.927 - ETA: 23s - loss: 0.1967 - accuracy: 0.926 - ETA: 23s - loss: 0.1955 - accuracy: 0.927 - ETA: 23s - loss: 0.1957 - accuracy: 0.928 - ETA: 23s - loss: 0.1968 - accuracy: 0.927 - ETA: 22s - loss: 0.1980 - accuracy: 0.926 - ETA: 22s - loss: 0.1965 - accuracy: 0.927 - ETA: 22s - loss: 0.1962 - accuracy: 0.927 - ETA: 22s - loss: 0.1955 - accuracy: 0.927 - ETA: 22s - loss: 0.1955 - accuracy: 0.928 - ETA: 21s - loss: 0.1974 - accuracy: 0.927 - ETA: 21s - loss: 0.1976 - accuracy: 0.927 - ETA: 21s - loss: 0.1984 - accuracy: 0.927 - ETA: 21s - loss: 0.1974 - accuracy: 0.928 - ETA: 21s - loss: 0.1980 - accuracy: 0.927 - ETA: 20s - loss: 0.1983 - accuracy: 0.927 - ETA: 20s - loss: 0.1988 - accuracy: 0.927 - ETA: 20s - loss: 0.1975 - accuracy: 0.928 - ETA: 20s - loss: 0.1989 - accuracy: 0.927 - ETA: 20s - loss: 0.2021 - accuracy: 0.926 - ETA: 19s - loss: 0.2009 - accuracy: 0.926 - ETA: 19s - loss: 0.1996 - accuracy: 0.927 - ETA: 19s - loss: 0.1997 - accuracy: 0.927 - ETA: 19s - loss: 0.2005 - accuracy: 0.926 - ETA: 19s - loss: 0.2041 - accuracy: 0.924 - ETA: 18s - loss: 0.2032 - accuracy: 0.925 - ETA: 18s - loss: 0.2019 - accuracy: 0.925 - ETA: 18s - loss: 0.2026 - accuracy: 0.925 - ETA: 18s - loss: 0.2027 - accuracy: 0.925 - ETA: 18s - loss: 0.2028 - accuracy: 0.925 - ETA: 17s - loss: 0.2026 - accuracy: 0.924 - ETA: 17s - loss: 0.2015 - accuracy: 0.925 - ETA: 17s - loss: 0.2022 - accuracy: 0.924 - ETA: 17s - loss: 0.2022 - accuracy: 0.924 - ETA: 17s - loss: 0.2013 - accuracy: 0.924 - ETA: 16s - loss: 0.2022 - accuracy: 0.924 - ETA: 16s - loss: 0.2014 - accuracy: 0.924 - ETA: 16s - loss: 0.2001 - accuracy: 0.924 - ETA: 16s - loss: 0.1986 - accuracy: 0.925 - ETA: 16s - loss: 0.1997 - accuracy: 0.924 - ETA: 15s - loss: 0.1987 - accuracy: 0.925 - ETA: 15s - loss: 0.1992 - accuracy: 0.924 - ETA: 15s - loss: 0.1982 - accuracy: 0.925 - ETA: 15s - loss: 0.1973 - accuracy: 0.925 - ETA: 15s - loss: 0.1967 - accuracy: 0.925 - ETA: 15s - loss: 0.1961 - accuracy: 0.925 - ETA: 14s - loss: 0.1957 - accuracy: 0.925 - ETA: 14s - loss: 0.2018 - accuracy: 0.925 - ETA: 14s - loss: 0.2003 - accuracy: 0.925 - ETA: 14s - loss: 0.1994 - accuracy: 0.926 - ETA: 14s - loss: 0.1999 - accuracy: 0.925 - ETA: 13s - loss: 0.1993 - accuracy: 0.926 - ETA: 13s - loss: 0.1981 - accuracy: 0.926 - ETA: 13s - loss: 0.1987 - accuracy: 0.925 - ETA: 13s - loss: 0.2004 - accuracy: 0.924 - ETA: 13s - loss: 0.2003 - accuracy: 0.924 - ETA: 13s - loss: 0.2006 - accuracy: 0.924 - ETA: 13s - loss: 0.2003 - accuracy: 0.924 - ETA: 12s - loss: 0.1994 - accuracy: 0.925 - ETA: 12s - loss: 0.1995 - accuracy: 0.925 - ETA: 12s - loss: 0.1983 - accuracy: 0.926 - ETA: 12s - loss: 0.1982 - accuracy: 0.925 - ETA: 12s - loss: 0.1984 - accuracy: 0.926 - ETA: 12s - loss: 0.1984 - accuracy: 0.926 - ETA: 12s - loss: 0.1970 - accuracy: 0.926 - ETA: 12s - loss: 0.1976 - accuracy: 0.926 - ETA: 11s - loss: 0.1990 - accuracy: 0.926 - ETA: 11s - loss: 0.1976 - accuracy: 0.926 - ETA: 11s - loss: 0.1977 - accuracy: 0.926 - ETA: 11s - loss: 0.1975 - accuracy: 0.926 - ETA: 11s - loss: 0.1965 - accuracy: 0.926 - ETA: 11s - loss: 0.1957 - accuracy: 0.926 - ETA: 11s - loss: 0.1947 - accuracy: 0.927 - ETA: 10s - loss: 0.1938 - accuracy: 0.927 - ETA: 10s - loss: 0.1939 - accuracy: 0.927 - ETA: 10s - loss: 0.1936 - accuracy: 0.928 - ETA: 10s - loss: 0.1925 - accuracy: 0.928 - ETA: 10s - loss: 0.1921 - accuracy: 0.928 - ETA: 10s - loss: 0.1911 - accuracy: 0.928 - ETA: 9s - loss: 0.1907 - accuracy: 0.928 - ETA: 9s - loss: 0.1904 - accuracy: 0.92 - ETA: 9s - loss: 0.1903 - accuracy: 0.92 - ETA: 9s - loss: 0.1908 - accuracy: 0.92 - ETA: 9s - loss: 0.1906 - accuracy: 0.92 - ETA: 8s - loss: 0.1934 - accuracy: 0.92 - ETA: 8s - loss: 0.1926 - accuracy: 0.92 - ETA: 8s - loss: 0.1918 - accuracy: 0.92 - ETA: 8s - loss: 0.1922 - accuracy: 0.92 - ETA: 8s - loss: 0.1925 - accuracy: 0.92 - ETA: 8s - loss: 0.1921 - accuracy: 0.92 - ETA: 7s - loss: 0.1961 - accuracy: 0.92 - ETA: 7s - loss: 0.1968 - accuracy: 0.92 - ETA: 7s - loss: 0.1968 - accuracy: 0.92 - ETA: 7s - loss: 0.1968 - accuracy: 0.92 - ETA: 7s - loss: 0.1965 - accuracy: 0.92 - ETA: 7s - loss: 0.1976 - accuracy: 0.92 - ETA: 6s - loss: 0.1981 - accuracy: 0.92 - ETA: 6s - loss: 0.1977 - accuracy: 0.92 - ETA: 6s - loss: 0.1994 - accuracy: 0.92 - ETA: 6s - loss: 0.1988 - accuracy: 0.92 - ETA: 6s - loss: 0.1988 - accuracy: 0.92 - ETA: 5s - loss: 0.1986 - accuracy: 0.92 - ETA: 5s - loss: 0.1982 - accuracy: 0.92 - ETA: 5s - loss: 0.1981 - accuracy: 0.92 - ETA: 5s - loss: 0.1989 - accuracy: 0.92 - ETA: 5s - loss: 0.2012 - accuracy: 0.92 - ETA: 5s - loss: 0.2013 - accuracy: 0.92 - ETA: 4s - loss: 0.2012 - accuracy: 0.92 - ETA: 4s - loss: 0.2008 - accuracy: 0.92 - ETA: 4s - loss: 0.2012 - accuracy: 0.92 - ETA: 4s - loss: 0.2003 - accuracy: 0.92 - ETA: 4s - loss: 0.2007 - accuracy: 0.92 - ETA: 3s - loss: 0.2013 - accuracy: 0.92 - ETA: 3s - loss: 0.2016 - accuracy: 0.92 - ETA: 3s - loss: 0.2008 - accuracy: 0.92 - ETA: 3s - loss: 0.2034 - accuracy: 0.92 - ETA: 3s - loss: 0.2030 - accuracy: 0.92 - ETA: 3s - loss: 0.2025 - accuracy: 0.92 - ETA: 2s - loss: 0.2027 - accuracy: 0.92 - ETA: 2s - loss: 0.2021 - accuracy: 0.92 - ETA: 2s - loss: 0.2022 - accuracy: 0.92 - ETA: 2s - loss: 0.2031 - accuracy: 0.92 - ETA: 2s - loss: 0.2024 - accuracy: 0.92 - ETA: 2s - loss: 0.2027 - accuracy: 0.92 - ETA: 1s - loss: 0.2025 - accuracy: 0.92 - ETA: 1s - loss: 0.2026 - accuracy: 0.9282"
     ]
    },
    {
     "name": "stdout",
     "output_type": "stream",
     "text": [
      "6319/6319 [==============================] - ETA: 1s - loss: 0.2026 - accuracy: 0.92 - ETA: 1s - loss: 0.2024 - accuracy: 0.92 - ETA: 1s - loss: 0.2021 - accuracy: 0.92 - ETA: 0s - loss: 0.2020 - accuracy: 0.92 - ETA: 0s - loss: 0.2016 - accuracy: 0.92 - ETA: 0s - loss: 0.2013 - accuracy: 0.92 - ETA: 0s - loss: 0.2007 - accuracy: 0.92 - ETA: 0s - loss: 0.2001 - accuracy: 0.92 - ETA: 0s - loss: 0.2002 - accuracy: 0.92 - 49s 8ms/step - loss: 0.2000 - accuracy: 0.9286 - val_loss: 0.6718 - val_accuracy: 0.8283\n",
      "Epoch 12/20\n"
     ]
    },
    {
     "name": "stdout",
     "output_type": "stream",
     "text": [
      "6016/6319 [===========================>..] - ETA: 54s - loss: 0.1791 - accuracy: 0.937 - ETA: 53s - loss: 0.1437 - accuracy: 0.953 - ETA: 49s - loss: 0.1494 - accuracy: 0.937 - ETA: 47s - loss: 0.1452 - accuracy: 0.937 - ETA: 45s - loss: 0.1537 - accuracy: 0.937 - ETA: 43s - loss: 0.1492 - accuracy: 0.942 - ETA: 41s - loss: 0.1709 - accuracy: 0.933 - ETA: 40s - loss: 0.1639 - accuracy: 0.937 - ETA: 39s - loss: 0.1597 - accuracy: 0.941 - ETA: 37s - loss: 0.1495 - accuracy: 0.946 - ETA: 37s - loss: 0.1539 - accuracy: 0.943 - ETA: 36s - loss: 0.1502 - accuracy: 0.945 - ETA: 36s - loss: 0.1489 - accuracy: 0.944 - ETA: 35s - loss: 0.1624 - accuracy: 0.944 - ETA: 35s - loss: 0.1598 - accuracy: 0.943 - ETA: 35s - loss: 0.1729 - accuracy: 0.941 - ETA: 34s - loss: 0.1657 - accuracy: 0.943 - ETA: 34s - loss: 0.1630 - accuracy: 0.944 - ETA: 34s - loss: 0.1673 - accuracy: 0.940 - ETA: 33s - loss: 0.1629 - accuracy: 0.942 - ETA: 33s - loss: 0.1632 - accuracy: 0.940 - ETA: 33s - loss: 0.1586 - accuracy: 0.941 - ETA: 32s - loss: 0.1543 - accuracy: 0.944 - ETA: 32s - loss: 0.1489 - accuracy: 0.946 - ETA: 32s - loss: 0.1457 - accuracy: 0.947 - ETA: 31s - loss: 0.1595 - accuracy: 0.942 - ETA: 31s - loss: 0.1628 - accuracy: 0.942 - ETA: 31s - loss: 0.1637 - accuracy: 0.940 - ETA: 31s - loss: 0.1731 - accuracy: 0.937 - ETA: 30s - loss: 0.1710 - accuracy: 0.938 - ETA: 30s - loss: 0.1689 - accuracy: 0.938 - ETA: 30s - loss: 0.1682 - accuracy: 0.939 - ETA: 30s - loss: 0.1664 - accuracy: 0.939 - ETA: 29s - loss: 0.1678 - accuracy: 0.939 - ETA: 29s - loss: 0.1654 - accuracy: 0.940 - ETA: 29s - loss: 0.1687 - accuracy: 0.940 - ETA: 29s - loss: 0.1709 - accuracy: 0.938 - ETA: 28s - loss: 0.1702 - accuracy: 0.939 - ETA: 28s - loss: 0.1699 - accuracy: 0.938 - ETA: 28s - loss: 0.1697 - accuracy: 0.939 - ETA: 28s - loss: 0.1711 - accuracy: 0.939 - ETA: 28s - loss: 0.1711 - accuracy: 0.939 - ETA: 27s - loss: 0.1752 - accuracy: 0.937 - ETA: 27s - loss: 0.1736 - accuracy: 0.938 - ETA: 27s - loss: 0.1738 - accuracy: 0.937 - ETA: 27s - loss: 0.1710 - accuracy: 0.938 - ETA: 27s - loss: 0.1700 - accuracy: 0.938 - ETA: 26s - loss: 0.1674 - accuracy: 0.939 - ETA: 26s - loss: 0.1675 - accuracy: 0.939 - ETA: 26s - loss: 0.1684 - accuracy: 0.940 - ETA: 26s - loss: 0.1672 - accuracy: 0.940 - ETA: 25s - loss: 0.1684 - accuracy: 0.939 - ETA: 25s - loss: 0.1681 - accuracy: 0.939 - ETA: 25s - loss: 0.1675 - accuracy: 0.939 - ETA: 25s - loss: 0.1655 - accuracy: 0.940 - ETA: 25s - loss: 0.1640 - accuracy: 0.940 - ETA: 25s - loss: 0.1659 - accuracy: 0.940 - ETA: 25s - loss: 0.1645 - accuracy: 0.940 - ETA: 24s - loss: 0.1627 - accuracy: 0.941 - ETA: 24s - loss: 0.1613 - accuracy: 0.941 - ETA: 24s - loss: 0.1603 - accuracy: 0.941 - ETA: 24s - loss: 0.1613 - accuracy: 0.942 - ETA: 24s - loss: 0.1616 - accuracy: 0.942 - ETA: 23s - loss: 0.1599 - accuracy: 0.942 - ETA: 23s - loss: 0.1601 - accuracy: 0.942 - ETA: 23s - loss: 0.1618 - accuracy: 0.941 - ETA: 23s - loss: 0.1654 - accuracy: 0.940 - ETA: 23s - loss: 0.1643 - accuracy: 0.941 - ETA: 23s - loss: 0.1641 - accuracy: 0.941 - ETA: 22s - loss: 0.1627 - accuracy: 0.942 - ETA: 22s - loss: 0.1620 - accuracy: 0.942 - ETA: 22s - loss: 0.1606 - accuracy: 0.943 - ETA: 22s - loss: 0.1612 - accuracy: 0.943 - ETA: 22s - loss: 0.1617 - accuracy: 0.943 - ETA: 21s - loss: 0.1615 - accuracy: 0.942 - ETA: 21s - loss: 0.1610 - accuracy: 0.942 - ETA: 21s - loss: 0.1604 - accuracy: 0.942 - ETA: 21s - loss: 0.1601 - accuracy: 0.942 - ETA: 21s - loss: 0.1588 - accuracy: 0.943 - ETA: 20s - loss: 0.1583 - accuracy: 0.944 - ETA: 20s - loss: 0.1571 - accuracy: 0.944 - ETA: 20s - loss: 0.1596 - accuracy: 0.944 - ETA: 20s - loss: 0.1611 - accuracy: 0.943 - ETA: 20s - loss: 0.1614 - accuracy: 0.943 - ETA: 20s - loss: 0.1623 - accuracy: 0.943 - ETA: 19s - loss: 0.1624 - accuracy: 0.943 - ETA: 19s - loss: 0.1615 - accuracy: 0.943 - ETA: 19s - loss: 0.1611 - accuracy: 0.943 - ETA: 19s - loss: 0.1596 - accuracy: 0.944 - ETA: 19s - loss: 0.1592 - accuracy: 0.944 - ETA: 18s - loss: 0.1598 - accuracy: 0.944 - ETA: 18s - loss: 0.1600 - accuracy: 0.943 - ETA: 18s - loss: 0.1602 - accuracy: 0.943 - ETA: 18s - loss: 0.1601 - accuracy: 0.943 - ETA: 18s - loss: 0.1621 - accuracy: 0.942 - ETA: 18s - loss: 0.1646 - accuracy: 0.941 - ETA: 17s - loss: 0.1665 - accuracy: 0.940 - ETA: 17s - loss: 0.1659 - accuracy: 0.941 - ETA: 17s - loss: 0.1661 - accuracy: 0.940 - ETA: 17s - loss: 0.1650 - accuracy: 0.941 - ETA: 17s - loss: 0.1674 - accuracy: 0.940 - ETA: 16s - loss: 0.1688 - accuracy: 0.940 - ETA: 16s - loss: 0.1683 - accuracy: 0.940 - ETA: 16s - loss: 0.1676 - accuracy: 0.940 - ETA: 16s - loss: 0.1676 - accuracy: 0.940 - ETA: 16s - loss: 0.1692 - accuracy: 0.940 - ETA: 16s - loss: 0.1692 - accuracy: 0.940 - ETA: 15s - loss: 0.1684 - accuracy: 0.941 - ETA: 15s - loss: 0.1679 - accuracy: 0.941 - ETA: 15s - loss: 0.1669 - accuracy: 0.941 - ETA: 15s - loss: 0.1661 - accuracy: 0.941 - ETA: 15s - loss: 0.1657 - accuracy: 0.941 - ETA: 15s - loss: 0.1679 - accuracy: 0.941 - ETA: 14s - loss: 0.1688 - accuracy: 0.940 - ETA: 14s - loss: 0.1681 - accuracy: 0.941 - ETA: 14s - loss: 0.1700 - accuracy: 0.939 - ETA: 14s - loss: 0.1714 - accuracy: 0.939 - ETA: 14s - loss: 0.1726 - accuracy: 0.938 - ETA: 13s - loss: 0.1726 - accuracy: 0.938 - ETA: 13s - loss: 0.1719 - accuracy: 0.938 - ETA: 13s - loss: 0.1730 - accuracy: 0.938 - ETA: 13s - loss: 0.1728 - accuracy: 0.938 - ETA: 13s - loss: 0.1733 - accuracy: 0.937 - ETA: 13s - loss: 0.1726 - accuracy: 0.937 - ETA: 12s - loss: 0.1726 - accuracy: 0.937 - ETA: 12s - loss: 0.1725 - accuracy: 0.937 - ETA: 12s - loss: 0.1726 - accuracy: 0.937 - ETA: 12s - loss: 0.1734 - accuracy: 0.936 - ETA: 12s - loss: 0.1739 - accuracy: 0.936 - ETA: 11s - loss: 0.1735 - accuracy: 0.936 - ETA: 11s - loss: 0.1749 - accuracy: 0.936 - ETA: 11s - loss: 0.1742 - accuracy: 0.936 - ETA: 11s - loss: 0.1763 - accuracy: 0.935 - ETA: 11s - loss: 0.1757 - accuracy: 0.936 - ETA: 11s - loss: 0.1750 - accuracy: 0.936 - ETA: 10s - loss: 0.1778 - accuracy: 0.935 - ETA: 10s - loss: 0.1778 - accuracy: 0.935 - ETA: 10s - loss: 0.1775 - accuracy: 0.935 - ETA: 10s - loss: 0.1772 - accuracy: 0.935 - ETA: 10s - loss: 0.1768 - accuracy: 0.936 - ETA: 10s - loss: 0.1765 - accuracy: 0.936 - ETA: 9s - loss: 0.1774 - accuracy: 0.936 - ETA: 9s - loss: 0.1774 - accuracy: 0.93 - ETA: 9s - loss: 0.1775 - accuracy: 0.93 - ETA: 9s - loss: 0.1775 - accuracy: 0.93 - ETA: 9s - loss: 0.1775 - accuracy: 0.93 - ETA: 8s - loss: 0.1784 - accuracy: 0.93 - ETA: 8s - loss: 0.1790 - accuracy: 0.93 - ETA: 8s - loss: 0.1792 - accuracy: 0.93 - ETA: 8s - loss: 0.1800 - accuracy: 0.93 - ETA: 8s - loss: 0.1797 - accuracy: 0.93 - ETA: 8s - loss: 0.1806 - accuracy: 0.93 - ETA: 7s - loss: 0.1803 - accuracy: 0.93 - ETA: 7s - loss: 0.1801 - accuracy: 0.93 - ETA: 7s - loss: 0.1797 - accuracy: 0.93 - ETA: 7s - loss: 0.1798 - accuracy: 0.93 - ETA: 7s - loss: 0.1803 - accuracy: 0.93 - ETA: 6s - loss: 0.1802 - accuracy: 0.93 - ETA: 6s - loss: 0.1797 - accuracy: 0.93 - ETA: 6s - loss: 0.1800 - accuracy: 0.93 - ETA: 6s - loss: 0.1803 - accuracy: 0.93 - ETA: 6s - loss: 0.1801 - accuracy: 0.93 - ETA: 6s - loss: 0.1800 - accuracy: 0.93 - ETA: 5s - loss: 0.1798 - accuracy: 0.93 - ETA: 5s - loss: 0.1809 - accuracy: 0.93 - ETA: 5s - loss: 0.1804 - accuracy: 0.93 - ETA: 5s - loss: 0.1798 - accuracy: 0.93 - ETA: 5s - loss: 0.1795 - accuracy: 0.93 - ETA: 5s - loss: 0.1791 - accuracy: 0.93 - ETA: 4s - loss: 0.1785 - accuracy: 0.93 - ETA: 4s - loss: 0.1784 - accuracy: 0.93 - ETA: 4s - loss: 0.1778 - accuracy: 0.93 - ETA: 4s - loss: 0.1781 - accuracy: 0.93 - ETA: 4s - loss: 0.1776 - accuracy: 0.93 - ETA: 3s - loss: 0.1788 - accuracy: 0.93 - ETA: 3s - loss: 0.1784 - accuracy: 0.93 - ETA: 3s - loss: 0.1777 - accuracy: 0.93 - ETA: 3s - loss: 0.1780 - accuracy: 0.93 - ETA: 3s - loss: 0.1788 - accuracy: 0.93 - ETA: 3s - loss: 0.1799 - accuracy: 0.93 - ETA: 2s - loss: 0.1811 - accuracy: 0.93 - ETA: 2s - loss: 0.1808 - accuracy: 0.93 - ETA: 2s - loss: 0.1804 - accuracy: 0.93 - ETA: 2s - loss: 0.1798 - accuracy: 0.93 - ETA: 2s - loss: 0.1798 - accuracy: 0.93 - ETA: 2s - loss: 0.1794 - accuracy: 0.93 - ETA: 1s - loss: 0.1796 - accuracy: 0.93 - ETA: 1s - loss: 0.1801 - accuracy: 0.9347"
     ]
    },
    {
     "name": "stdout",
     "output_type": "stream",
     "text": [
      "6319/6319 [==============================] - ETA: 1s - loss: 0.1803 - accuracy: 0.93 - ETA: 1s - loss: 0.1803 - accuracy: 0.93 - ETA: 1s - loss: 0.1798 - accuracy: 0.93 - ETA: 0s - loss: 0.1799 - accuracy: 0.93 - ETA: 0s - loss: 0.1802 - accuracy: 0.93 - ETA: 0s - loss: 0.1802 - accuracy: 0.93 - ETA: 0s - loss: 0.1800 - accuracy: 0.93 - ETA: 0s - loss: 0.1800 - accuracy: 0.93 - ETA: 0s - loss: 0.1798 - accuracy: 0.93 - 46s 7ms/step - loss: 0.1793 - accuracy: 0.9348 - val_loss: 0.8012 - val_accuracy: 0.8161\n",
      "Epoch 13/20\n"
     ]
    },
    {
     "name": "stdout",
     "output_type": "stream",
     "text": [
      "5984/6319 [===========================>..] - ETA: 28s - loss: 0.1666 - accuracy: 0.906 - ETA: 28s - loss: 0.2218 - accuracy: 0.906 - ETA: 28s - loss: 0.1929 - accuracy: 0.927 - ETA: 28s - loss: 0.1716 - accuracy: 0.929 - ETA: 28s - loss: 0.1490 - accuracy: 0.943 - ETA: 28s - loss: 0.1463 - accuracy: 0.942 - ETA: 28s - loss: 0.1484 - accuracy: 0.942 - ETA: 27s - loss: 0.1489 - accuracy: 0.941 - ETA: 27s - loss: 0.1373 - accuracy: 0.947 - ETA: 27s - loss: 0.1352 - accuracy: 0.950 - ETA: 27s - loss: 0.1399 - accuracy: 0.946 - ETA: 27s - loss: 0.1373 - accuracy: 0.947 - ETA: 27s - loss: 0.1433 - accuracy: 0.944 - ETA: 28s - loss: 0.1433 - accuracy: 0.944 - ETA: 28s - loss: 0.1455 - accuracy: 0.941 - ETA: 27s - loss: 0.1479 - accuracy: 0.941 - ETA: 27s - loss: 0.1438 - accuracy: 0.943 - ETA: 27s - loss: 0.1429 - accuracy: 0.942 - ETA: 27s - loss: 0.1450 - accuracy: 0.942 - ETA: 27s - loss: 0.1402 - accuracy: 0.945 - ETA: 27s - loss: 0.1509 - accuracy: 0.940 - ETA: 28s - loss: 0.1507 - accuracy: 0.938 - ETA: 28s - loss: 0.1548 - accuracy: 0.934 - ETA: 28s - loss: 0.1561 - accuracy: 0.933 - ETA: 28s - loss: 0.1531 - accuracy: 0.935 - ETA: 28s - loss: 0.1552 - accuracy: 0.935 - ETA: 28s - loss: 0.1551 - accuracy: 0.937 - ETA: 28s - loss: 0.1534 - accuracy: 0.938 - ETA: 27s - loss: 0.1531 - accuracy: 0.938 - ETA: 28s - loss: 0.1530 - accuracy: 0.938 - ETA: 28s - loss: 0.1580 - accuracy: 0.934 - ETA: 28s - loss: 0.1579 - accuracy: 0.932 - ETA: 28s - loss: 0.1537 - accuracy: 0.934 - ETA: 28s - loss: 0.1528 - accuracy: 0.935 - ETA: 28s - loss: 0.1539 - accuracy: 0.936 - ETA: 28s - loss: 0.1581 - accuracy: 0.934 - ETA: 28s - loss: 0.1558 - accuracy: 0.935 - ETA: 28s - loss: 0.1539 - accuracy: 0.936 - ETA: 28s - loss: 0.1537 - accuracy: 0.936 - ETA: 28s - loss: 0.1518 - accuracy: 0.938 - ETA: 28s - loss: 0.1522 - accuracy: 0.938 - ETA: 27s - loss: 0.1509 - accuracy: 0.939 - ETA: 27s - loss: 0.1506 - accuracy: 0.940 - ETA: 27s - loss: 0.1493 - accuracy: 0.941 - ETA: 27s - loss: 0.1478 - accuracy: 0.941 - ETA: 26s - loss: 0.1492 - accuracy: 0.941 - ETA: 26s - loss: 0.1485 - accuracy: 0.941 - ETA: 26s - loss: 0.1512 - accuracy: 0.941 - ETA: 26s - loss: 0.1516 - accuracy: 0.940 - ETA: 25s - loss: 0.1520 - accuracy: 0.940 - ETA: 25s - loss: 0.1559 - accuracy: 0.938 - ETA: 25s - loss: 0.1554 - accuracy: 0.938 - ETA: 25s - loss: 0.1545 - accuracy: 0.939 - ETA: 25s - loss: 0.1546 - accuracy: 0.939 - ETA: 25s - loss: 0.1543 - accuracy: 0.939 - ETA: 24s - loss: 0.1530 - accuracy: 0.940 - ETA: 24s - loss: 0.1514 - accuracy: 0.941 - ETA: 24s - loss: 0.1505 - accuracy: 0.941 - ETA: 24s - loss: 0.1507 - accuracy: 0.941 - ETA: 23s - loss: 0.1516 - accuracy: 0.941 - ETA: 23s - loss: 0.1505 - accuracy: 0.941 - ETA: 23s - loss: 0.1513 - accuracy: 0.941 - ETA: 23s - loss: 0.1533 - accuracy: 0.941 - ETA: 23s - loss: 0.1518 - accuracy: 0.941 - ETA: 23s - loss: 0.1499 - accuracy: 0.942 - ETA: 23s - loss: 0.1492 - accuracy: 0.942 - ETA: 22s - loss: 0.1486 - accuracy: 0.942 - ETA: 22s - loss: 0.1504 - accuracy: 0.942 - ETA: 22s - loss: 0.1488 - accuracy: 0.942 - ETA: 22s - loss: 0.1508 - accuracy: 0.941 - ETA: 22s - loss: 0.1521 - accuracy: 0.940 - ETA: 22s - loss: 0.1523 - accuracy: 0.940 - ETA: 22s - loss: 0.1511 - accuracy: 0.940 - ETA: 22s - loss: 0.1498 - accuracy: 0.941 - ETA: 21s - loss: 0.1489 - accuracy: 0.941 - ETA: 21s - loss: 0.1510 - accuracy: 0.941 - ETA: 21s - loss: 0.1518 - accuracy: 0.941 - ETA: 21s - loss: 0.1518 - accuracy: 0.941 - ETA: 21s - loss: 0.1507 - accuracy: 0.941 - ETA: 21s - loss: 0.1502 - accuracy: 0.942 - ETA: 21s - loss: 0.1496 - accuracy: 0.942 - ETA: 21s - loss: 0.1520 - accuracy: 0.942 - ETA: 20s - loss: 0.1538 - accuracy: 0.941 - ETA: 20s - loss: 0.1527 - accuracy: 0.942 - ETA: 20s - loss: 0.1528 - accuracy: 0.941 - ETA: 20s - loss: 0.1515 - accuracy: 0.942 - ETA: 20s - loss: 0.1517 - accuracy: 0.942 - ETA: 20s - loss: 0.1523 - accuracy: 0.942 - ETA: 19s - loss: 0.1559 - accuracy: 0.941 - ETA: 19s - loss: 0.1554 - accuracy: 0.942 - ETA: 19s - loss: 0.1547 - accuracy: 0.942 - ETA: 19s - loss: 0.1536 - accuracy: 0.942 - ETA: 19s - loss: 0.1536 - accuracy: 0.942 - ETA: 19s - loss: 0.1601 - accuracy: 0.941 - ETA: 18s - loss: 0.1608 - accuracy: 0.941 - ETA: 18s - loss: 0.1610 - accuracy: 0.941 - ETA: 18s - loss: 0.1599 - accuracy: 0.942 - ETA: 18s - loss: 0.1611 - accuracy: 0.941 - ETA: 18s - loss: 0.1598 - accuracy: 0.941 - ETA: 18s - loss: 0.1589 - accuracy: 0.942 - ETA: 18s - loss: 0.1589 - accuracy: 0.942 - ETA: 17s - loss: 0.1581 - accuracy: 0.943 - ETA: 17s - loss: 0.1594 - accuracy: 0.943 - ETA: 17s - loss: 0.1596 - accuracy: 0.942 - ETA: 17s - loss: 0.1601 - accuracy: 0.942 - ETA: 17s - loss: 0.1594 - accuracy: 0.941 - ETA: 17s - loss: 0.1590 - accuracy: 0.941 - ETA: 17s - loss: 0.1588 - accuracy: 0.941 - ETA: 17s - loss: 0.1576 - accuracy: 0.942 - ETA: 16s - loss: 0.1567 - accuracy: 0.942 - ETA: 16s - loss: 0.1564 - accuracy: 0.942 - ETA: 16s - loss: 0.1569 - accuracy: 0.942 - ETA: 16s - loss: 0.1560 - accuracy: 0.943 - ETA: 16s - loss: 0.1561 - accuracy: 0.943 - ETA: 15s - loss: 0.1573 - accuracy: 0.942 - ETA: 15s - loss: 0.1568 - accuracy: 0.942 - ETA: 15s - loss: 0.1561 - accuracy: 0.943 - ETA: 15s - loss: 0.1554 - accuracy: 0.943 - ETA: 15s - loss: 0.1561 - accuracy: 0.942 - ETA: 15s - loss: 0.1555 - accuracy: 0.943 - ETA: 15s - loss: 0.1558 - accuracy: 0.943 - ETA: 14s - loss: 0.1553 - accuracy: 0.943 - ETA: 14s - loss: 0.1553 - accuracy: 0.943 - ETA: 14s - loss: 0.1550 - accuracy: 0.943 - ETA: 14s - loss: 0.1550 - accuracy: 0.943 - ETA: 14s - loss: 0.1550 - accuracy: 0.943 - ETA: 13s - loss: 0.1546 - accuracy: 0.943 - ETA: 13s - loss: 0.1559 - accuracy: 0.942 - ETA: 13s - loss: 0.1556 - accuracy: 0.942 - ETA: 13s - loss: 0.1573 - accuracy: 0.942 - ETA: 13s - loss: 0.1573 - accuracy: 0.942 - ETA: 12s - loss: 0.1569 - accuracy: 0.942 - ETA: 12s - loss: 0.1574 - accuracy: 0.942 - ETA: 12s - loss: 0.1571 - accuracy: 0.942 - ETA: 12s - loss: 0.1567 - accuracy: 0.942 - ETA: 12s - loss: 0.1560 - accuracy: 0.942 - ETA: 12s - loss: 0.1564 - accuracy: 0.942 - ETA: 12s - loss: 0.1559 - accuracy: 0.942 - ETA: 11s - loss: 0.1564 - accuracy: 0.942 - ETA: 11s - loss: 0.1563 - accuracy: 0.942 - ETA: 11s - loss: 0.1566 - accuracy: 0.942 - ETA: 11s - loss: 0.1573 - accuracy: 0.941 - ETA: 11s - loss: 0.1591 - accuracy: 0.941 - ETA: 10s - loss: 0.1585 - accuracy: 0.941 - ETA: 10s - loss: 0.1588 - accuracy: 0.941 - ETA: 10s - loss: 0.1598 - accuracy: 0.941 - ETA: 10s - loss: 0.1600 - accuracy: 0.941 - ETA: 10s - loss: 0.1594 - accuracy: 0.942 - ETA: 9s - loss: 0.1591 - accuracy: 0.942 - ETA: 9s - loss: 0.1584 - accuracy: 0.94 - ETA: 9s - loss: 0.1587 - accuracy: 0.94 - ETA: 9s - loss: 0.1591 - accuracy: 0.94 - ETA: 8s - loss: 0.1592 - accuracy: 0.94 - ETA: 8s - loss: 0.1588 - accuracy: 0.94 - ETA: 8s - loss: 0.1595 - accuracy: 0.94 - ETA: 8s - loss: 0.1594 - accuracy: 0.94 - ETA: 8s - loss: 0.1595 - accuracy: 0.94 - ETA: 7s - loss: 0.1595 - accuracy: 0.94 - ETA: 7s - loss: 0.1594 - accuracy: 0.94 - ETA: 7s - loss: 0.1599 - accuracy: 0.94 - ETA: 7s - loss: 0.1629 - accuracy: 0.94 - ETA: 7s - loss: 0.1625 - accuracy: 0.94 - ETA: 6s - loss: 0.1626 - accuracy: 0.94 - ETA: 6s - loss: 0.1620 - accuracy: 0.94 - ETA: 6s - loss: 0.1618 - accuracy: 0.94 - ETA: 6s - loss: 0.1626 - accuracy: 0.94 - ETA: 6s - loss: 0.1633 - accuracy: 0.94 - ETA: 5s - loss: 0.1639 - accuracy: 0.94 - ETA: 5s - loss: 0.1635 - accuracy: 0.94 - ETA: 5s - loss: 0.1634 - accuracy: 0.94 - ETA: 5s - loss: 0.1634 - accuracy: 0.94 - ETA: 5s - loss: 0.1637 - accuracy: 0.94 - ETA: 4s - loss: 0.1633 - accuracy: 0.94 - ETA: 4s - loss: 0.1636 - accuracy: 0.94 - ETA: 4s - loss: 0.1627 - accuracy: 0.94 - ETA: 4s - loss: 0.1626 - accuracy: 0.94 - ETA: 4s - loss: 0.1622 - accuracy: 0.94 - ETA: 3s - loss: 0.1628 - accuracy: 0.94 - ETA: 3s - loss: 0.1630 - accuracy: 0.94 - ETA: 3s - loss: 0.1624 - accuracy: 0.94 - ETA: 3s - loss: 0.1618 - accuracy: 0.94 - ETA: 3s - loss: 0.1617 - accuracy: 0.94 - ETA: 2s - loss: 0.1619 - accuracy: 0.94 - ETA: 2s - loss: 0.1616 - accuracy: 0.94 - ETA: 2s - loss: 0.1619 - accuracy: 0.94 - ETA: 2s - loss: 0.1614 - accuracy: 0.94 - ETA: 2s - loss: 0.1611 - accuracy: 0.9422"
     ]
    },
    {
     "name": "stdout",
     "output_type": "stream",
     "text": [
      "6319/6319 [==============================] - ETA: 1s - loss: 0.1614 - accuracy: 0.94 - ETA: 1s - loss: 0.1609 - accuracy: 0.94 - ETA: 1s - loss: 0.1620 - accuracy: 0.94 - ETA: 1s - loss: 0.1631 - accuracy: 0.94 - ETA: 1s - loss: 0.1624 - accuracy: 0.94 - ETA: 0s - loss: 0.1636 - accuracy: 0.94 - ETA: 0s - loss: 0.1631 - accuracy: 0.94 - ETA: 0s - loss: 0.1628 - accuracy: 0.94 - ETA: 0s - loss: 0.1628 - accuracy: 0.94 - ETA: 0s - loss: 0.1625 - accuracy: 0.94 - 50s 8ms/step - loss: 0.1628 - accuracy: 0.9426 - val_loss: 0.5926 - val_accuracy: 0.8407\n",
      "Epoch 14/20\n"
     ]
    },
    {
     "name": "stdout",
     "output_type": "stream",
     "text": [
      "6016/6319 [===========================>..] - ETA: 40s - loss: 0.2322 - accuracy: 0.906 - ETA: 34s - loss: 0.1609 - accuracy: 0.953 - ETA: 33s - loss: 0.1882 - accuracy: 0.937 - ETA: 33s - loss: 0.2261 - accuracy: 0.945 - ETA: 32s - loss: 0.2202 - accuracy: 0.943 - ETA: 32s - loss: 0.2005 - accuracy: 0.947 - ETA: 33s - loss: 0.2033 - accuracy: 0.942 - ETA: 32s - loss: 0.2110 - accuracy: 0.929 - ETA: 32s - loss: 0.1983 - accuracy: 0.934 - ETA: 32s - loss: 0.1920 - accuracy: 0.937 - ETA: 32s - loss: 0.1911 - accuracy: 0.940 - ETA: 32s - loss: 0.1975 - accuracy: 0.934 - ETA: 32s - loss: 0.1967 - accuracy: 0.935 - ETA: 31s - loss: 0.2138 - accuracy: 0.933 - ETA: 31s - loss: 0.2037 - accuracy: 0.935 - ETA: 30s - loss: 0.2051 - accuracy: 0.931 - ETA: 30s - loss: 0.2041 - accuracy: 0.928 - ETA: 30s - loss: 0.2023 - accuracy: 0.930 - ETA: 29s - loss: 0.2017 - accuracy: 0.929 - ETA: 29s - loss: 0.2029 - accuracy: 0.928 - ETA: 29s - loss: 0.1966 - accuracy: 0.930 - ETA: 28s - loss: 0.1960 - accuracy: 0.930 - ETA: 28s - loss: 0.1934 - accuracy: 0.930 - ETA: 28s - loss: 0.1944 - accuracy: 0.929 - ETA: 28s - loss: 0.1947 - accuracy: 0.931 - ETA: 27s - loss: 0.1962 - accuracy: 0.931 - ETA: 27s - loss: 0.1998 - accuracy: 0.928 - ETA: 27s - loss: 0.1991 - accuracy: 0.927 - ETA: 27s - loss: 0.2019 - accuracy: 0.926 - ETA: 26s - loss: 0.2027 - accuracy: 0.927 - ETA: 26s - loss: 0.2005 - accuracy: 0.928 - ETA: 26s - loss: 0.1990 - accuracy: 0.929 - ETA: 26s - loss: 0.1958 - accuracy: 0.930 - ETA: 26s - loss: 0.1991 - accuracy: 0.930 - ETA: 26s - loss: 0.2013 - accuracy: 0.928 - ETA: 26s - loss: 0.2020 - accuracy: 0.928 - ETA: 26s - loss: 0.2002 - accuracy: 0.928 - ETA: 25s - loss: 0.1998 - accuracy: 0.926 - ETA: 25s - loss: 0.1986 - accuracy: 0.926 - ETA: 25s - loss: 0.2053 - accuracy: 0.924 - ETA: 25s - loss: 0.2051 - accuracy: 0.924 - ETA: 25s - loss: 0.2029 - accuracy: 0.925 - ETA: 24s - loss: 0.2001 - accuracy: 0.927 - ETA: 24s - loss: 0.1976 - accuracy: 0.929 - ETA: 24s - loss: 0.1949 - accuracy: 0.929 - ETA: 24s - loss: 0.1953 - accuracy: 0.929 - ETA: 24s - loss: 0.1976 - accuracy: 0.929 - ETA: 23s - loss: 0.1974 - accuracy: 0.929 - ETA: 23s - loss: 0.1986 - accuracy: 0.928 - ETA: 23s - loss: 0.1958 - accuracy: 0.929 - ETA: 23s - loss: 0.1953 - accuracy: 0.929 - ETA: 23s - loss: 0.1968 - accuracy: 0.928 - ETA: 23s - loss: 0.1981 - accuracy: 0.928 - ETA: 23s - loss: 0.1964 - accuracy: 0.928 - ETA: 22s - loss: 0.1989 - accuracy: 0.928 - ETA: 22s - loss: 0.1961 - accuracy: 0.929 - ETA: 22s - loss: 0.1969 - accuracy: 0.929 - ETA: 22s - loss: 0.1999 - accuracy: 0.927 - ETA: 22s - loss: 0.1994 - accuracy: 0.928 - ETA: 21s - loss: 0.1976 - accuracy: 0.928 - ETA: 21s - loss: 0.1996 - accuracy: 0.928 - ETA: 21s - loss: 0.1983 - accuracy: 0.928 - ETA: 21s - loss: 0.1985 - accuracy: 0.928 - ETA: 21s - loss: 0.1959 - accuracy: 0.929 - ETA: 21s - loss: 0.1953 - accuracy: 0.928 - ETA: 21s - loss: 0.1940 - accuracy: 0.929 - ETA: 20s - loss: 0.1958 - accuracy: 0.929 - ETA: 20s - loss: 0.2005 - accuracy: 0.928 - ETA: 20s - loss: 0.1993 - accuracy: 0.928 - ETA: 20s - loss: 0.1966 - accuracy: 0.929 - ETA: 20s - loss: 0.1953 - accuracy: 0.930 - ETA: 20s - loss: 0.1955 - accuracy: 0.931 - ETA: 19s - loss: 0.1938 - accuracy: 0.931 - ETA: 19s - loss: 0.1934 - accuracy: 0.931 - ETA: 19s - loss: 0.1918 - accuracy: 0.932 - ETA: 19s - loss: 0.1927 - accuracy: 0.931 - ETA: 19s - loss: 0.1916 - accuracy: 0.932 - ETA: 19s - loss: 0.1945 - accuracy: 0.931 - ETA: 18s - loss: 0.1937 - accuracy: 0.931 - ETA: 18s - loss: 0.1944 - accuracy: 0.931 - ETA: 18s - loss: 0.1938 - accuracy: 0.931 - ETA: 18s - loss: 0.1945 - accuracy: 0.932 - ETA: 18s - loss: 0.1958 - accuracy: 0.932 - ETA: 18s - loss: 0.1952 - accuracy: 0.932 - ETA: 18s - loss: 0.1941 - accuracy: 0.932 - ETA: 18s - loss: 0.1938 - accuracy: 0.932 - ETA: 17s - loss: 0.1939 - accuracy: 0.932 - ETA: 17s - loss: 0.1942 - accuracy: 0.932 - ETA: 17s - loss: 0.1936 - accuracy: 0.932 - ETA: 17s - loss: 0.1919 - accuracy: 0.933 - ETA: 17s - loss: 0.1922 - accuracy: 0.933 - ETA: 17s - loss: 0.1918 - accuracy: 0.933 - ETA: 17s - loss: 0.1923 - accuracy: 0.932 - ETA: 17s - loss: 0.1915 - accuracy: 0.933 - ETA: 16s - loss: 0.1918 - accuracy: 0.933 - ETA: 16s - loss: 0.1918 - accuracy: 0.933 - ETA: 16s - loss: 0.1911 - accuracy: 0.933 - ETA: 16s - loss: 0.1913 - accuracy: 0.934 - ETA: 16s - loss: 0.1907 - accuracy: 0.933 - ETA: 16s - loss: 0.1897 - accuracy: 0.933 - ETA: 15s - loss: 0.1897 - accuracy: 0.933 - ETA: 15s - loss: 0.1883 - accuracy: 0.934 - ETA: 15s - loss: 0.1875 - accuracy: 0.934 - ETA: 15s - loss: 0.1861 - accuracy: 0.935 - ETA: 15s - loss: 0.1871 - accuracy: 0.934 - ETA: 15s - loss: 0.1870 - accuracy: 0.934 - ETA: 14s - loss: 0.1860 - accuracy: 0.935 - ETA: 14s - loss: 0.1853 - accuracy: 0.935 - ETA: 14s - loss: 0.1848 - accuracy: 0.935 - ETA: 14s - loss: 0.1833 - accuracy: 0.935 - ETA: 14s - loss: 0.1831 - accuracy: 0.935 - ETA: 14s - loss: 0.1820 - accuracy: 0.936 - ETA: 13s - loss: 0.1829 - accuracy: 0.935 - ETA: 13s - loss: 0.1826 - accuracy: 0.935 - ETA: 13s - loss: 0.1816 - accuracy: 0.935 - ETA: 13s - loss: 0.1809 - accuracy: 0.936 - ETA: 13s - loss: 0.1799 - accuracy: 0.936 - ETA: 13s - loss: 0.1792 - accuracy: 0.937 - ETA: 12s - loss: 0.1789 - accuracy: 0.937 - ETA: 12s - loss: 0.1792 - accuracy: 0.937 - ETA: 12s - loss: 0.1788 - accuracy: 0.937 - ETA: 12s - loss: 0.1792 - accuracy: 0.937 - ETA: 12s - loss: 0.1782 - accuracy: 0.937 - ETA: 12s - loss: 0.1781 - accuracy: 0.937 - ETA: 11s - loss: 0.1773 - accuracy: 0.938 - ETA: 11s - loss: 0.1767 - accuracy: 0.938 - ETA: 11s - loss: 0.1769 - accuracy: 0.938 - ETA: 11s - loss: 0.1756 - accuracy: 0.938 - ETA: 11s - loss: 0.1751 - accuracy: 0.938 - ETA: 11s - loss: 0.1749 - accuracy: 0.938 - ETA: 11s - loss: 0.1754 - accuracy: 0.938 - ETA: 10s - loss: 0.1759 - accuracy: 0.938 - ETA: 10s - loss: 0.1748 - accuracy: 0.938 - ETA: 10s - loss: 0.1745 - accuracy: 0.938 - ETA: 10s - loss: 0.1735 - accuracy: 0.939 - ETA: 10s - loss: 0.1731 - accuracy: 0.939 - ETA: 10s - loss: 0.1736 - accuracy: 0.939 - ETA: 9s - loss: 0.1731 - accuracy: 0.939 - ETA: 9s - loss: 0.1756 - accuracy: 0.93 - ETA: 9s - loss: 0.1766 - accuracy: 0.93 - ETA: 9s - loss: 0.1778 - accuracy: 0.93 - ETA: 9s - loss: 0.1771 - accuracy: 0.93 - ETA: 9s - loss: 0.1773 - accuracy: 0.93 - ETA: 8s - loss: 0.1774 - accuracy: 0.93 - ETA: 8s - loss: 0.1772 - accuracy: 0.93 - ETA: 8s - loss: 0.1767 - accuracy: 0.93 - ETA: 8s - loss: 0.1764 - accuracy: 0.93 - ETA: 8s - loss: 0.1762 - accuracy: 0.93 - ETA: 8s - loss: 0.1762 - accuracy: 0.93 - ETA: 7s - loss: 0.1771 - accuracy: 0.93 - ETA: 7s - loss: 0.1769 - accuracy: 0.93 - ETA: 7s - loss: 0.1765 - accuracy: 0.93 - ETA: 7s - loss: 0.1754 - accuracy: 0.93 - ETA: 7s - loss: 0.1754 - accuracy: 0.93 - ETA: 7s - loss: 0.1746 - accuracy: 0.93 - ETA: 6s - loss: 0.1759 - accuracy: 0.93 - ETA: 6s - loss: 0.1758 - accuracy: 0.93 - ETA: 6s - loss: 0.1756 - accuracy: 0.93 - ETA: 6s - loss: 0.1759 - accuracy: 0.93 - ETA: 6s - loss: 0.1786 - accuracy: 0.93 - ETA: 6s - loss: 0.1790 - accuracy: 0.93 - ETA: 5s - loss: 0.1781 - accuracy: 0.93 - ETA: 5s - loss: 0.1782 - accuracy: 0.93 - ETA: 5s - loss: 0.1796 - accuracy: 0.93 - ETA: 5s - loss: 0.1792 - accuracy: 0.93 - ETA: 5s - loss: 0.1787 - accuracy: 0.93 - ETA: 5s - loss: 0.1789 - accuracy: 0.93 - ETA: 4s - loss: 0.1789 - accuracy: 0.93 - ETA: 4s - loss: 0.1793 - accuracy: 0.93 - ETA: 4s - loss: 0.1793 - accuracy: 0.93 - ETA: 4s - loss: 0.1790 - accuracy: 0.93 - ETA: 4s - loss: 0.1788 - accuracy: 0.93 - ETA: 4s - loss: 0.1793 - accuracy: 0.93 - ETA: 3s - loss: 0.1792 - accuracy: 0.93 - ETA: 3s - loss: 0.1787 - accuracy: 0.93 - ETA: 3s - loss: 0.1780 - accuracy: 0.93 - ETA: 3s - loss: 0.1775 - accuracy: 0.93 - ETA: 3s - loss: 0.1767 - accuracy: 0.93 - ETA: 3s - loss: 0.1763 - accuracy: 0.93 - ETA: 2s - loss: 0.1766 - accuracy: 0.93 - ETA: 2s - loss: 0.1764 - accuracy: 0.93 - ETA: 2s - loss: 0.1757 - accuracy: 0.93 - ETA: 2s - loss: 0.1767 - accuracy: 0.93 - ETA: 2s - loss: 0.1764 - accuracy: 0.93 - ETA: 2s - loss: 0.1759 - accuracy: 0.93 - ETA: 1s - loss: 0.1758 - accuracy: 0.93 - ETA: 1s - loss: 0.1761 - accuracy: 0.93 - ETA: 1s - loss: 0.1755 - accuracy: 0.9370"
     ]
    },
    {
     "name": "stdout",
     "output_type": "stream",
     "text": [
      "6319/6319 [==============================] - ETA: 1s - loss: 0.1761 - accuracy: 0.93 - ETA: 1s - loss: 0.1755 - accuracy: 0.93 - ETA: 1s - loss: 0.1755 - accuracy: 0.93 - ETA: 0s - loss: 0.1753 - accuracy: 0.93 - ETA: 0s - loss: 0.1753 - accuracy: 0.93 - ETA: 0s - loss: 0.1747 - accuracy: 0.93 - ETA: 0s - loss: 0.1748 - accuracy: 0.93 - ETA: 0s - loss: 0.1750 - accuracy: 0.93 - ETA: 0s - loss: 0.1755 - accuracy: 0.93 - 44s 7ms/step - loss: 0.1756 - accuracy: 0.9369 - val_loss: 1.1093 - val_accuracy: 0.7848\n",
      "Epoch 15/20\n"
     ]
    },
    {
     "name": "stdout",
     "output_type": "stream",
     "text": [
      "6016/6319 [===========================>..] - ETA: 52s - loss: 0.0713 - accuracy: 0.968 - ETA: 41s - loss: 0.0786 - accuracy: 0.953 - ETA: 41s - loss: 0.0599 - accuracy: 0.968 - ETA: 39s - loss: 0.0818 - accuracy: 0.960 - ETA: 41s - loss: 0.1732 - accuracy: 0.937 - ETA: 41s - loss: 0.1794 - accuracy: 0.932 - ETA: 42s - loss: 0.1638 - accuracy: 0.942 - ETA: 41s - loss: 0.1498 - accuracy: 0.945 - ETA: 40s - loss: 0.1497 - accuracy: 0.937 - ETA: 42s - loss: 0.1393 - accuracy: 0.940 - ETA: 47s - loss: 0.1347 - accuracy: 0.943 - ETA: 47s - loss: 0.1336 - accuracy: 0.942 - ETA: 47s - loss: 0.1315 - accuracy: 0.944 - ETA: 46s - loss: 0.1338 - accuracy: 0.939 - ETA: 45s - loss: 0.1367 - accuracy: 0.939 - ETA: 45s - loss: 0.1388 - accuracy: 0.939 - ETA: 45s - loss: 0.1334 - accuracy: 0.943 - ETA: 44s - loss: 0.1425 - accuracy: 0.942 - ETA: 42s - loss: 0.1432 - accuracy: 0.942 - ETA: 42s - loss: 0.1431 - accuracy: 0.940 - ETA: 41s - loss: 0.1446 - accuracy: 0.942 - ETA: 41s - loss: 0.1413 - accuracy: 0.943 - ETA: 40s - loss: 0.1513 - accuracy: 0.941 - ETA: 39s - loss: 0.1540 - accuracy: 0.940 - ETA: 39s - loss: 0.1523 - accuracy: 0.941 - ETA: 40s - loss: 0.1523 - accuracy: 0.941 - ETA: 40s - loss: 0.1526 - accuracy: 0.939 - ETA: 40s - loss: 0.1563 - accuracy: 0.938 - ETA: 40s - loss: 0.1517 - accuracy: 0.940 - ETA: 40s - loss: 0.1495 - accuracy: 0.940 - ETA: 40s - loss: 0.1531 - accuracy: 0.938 - ETA: 40s - loss: 0.1512 - accuracy: 0.939 - ETA: 39s - loss: 0.1501 - accuracy: 0.939 - ETA: 38s - loss: 0.1511 - accuracy: 0.938 - ETA: 38s - loss: 0.1530 - accuracy: 0.939 - ETA: 38s - loss: 0.1518 - accuracy: 0.939 - ETA: 37s - loss: 0.1563 - accuracy: 0.939 - ETA: 37s - loss: 0.1557 - accuracy: 0.940 - ETA: 36s - loss: 0.1555 - accuracy: 0.939 - ETA: 36s - loss: 0.1546 - accuracy: 0.939 - ETA: 35s - loss: 0.1526 - accuracy: 0.941 - ETA: 35s - loss: 0.1555 - accuracy: 0.940 - ETA: 34s - loss: 0.1539 - accuracy: 0.940 - ETA: 34s - loss: 0.1525 - accuracy: 0.941 - ETA: 33s - loss: 0.1497 - accuracy: 0.942 - ETA: 33s - loss: 0.1479 - accuracy: 0.943 - ETA: 32s - loss: 0.1459 - accuracy: 0.944 - ETA: 32s - loss: 0.1446 - accuracy: 0.945 - ETA: 32s - loss: 0.1454 - accuracy: 0.945 - ETA: 31s - loss: 0.1437 - accuracy: 0.945 - ETA: 31s - loss: 0.1422 - accuracy: 0.946 - ETA: 31s - loss: 0.1416 - accuracy: 0.945 - ETA: 30s - loss: 0.1415 - accuracy: 0.945 - ETA: 30s - loss: 0.1411 - accuracy: 0.945 - ETA: 30s - loss: 0.1415 - accuracy: 0.945 - ETA: 29s - loss: 0.1439 - accuracy: 0.945 - ETA: 29s - loss: 0.1429 - accuracy: 0.945 - ETA: 29s - loss: 0.1407 - accuracy: 0.946 - ETA: 29s - loss: 0.1427 - accuracy: 0.947 - ETA: 29s - loss: 0.1421 - accuracy: 0.947 - ETA: 29s - loss: 0.1445 - accuracy: 0.946 - ETA: 28s - loss: 0.1435 - accuracy: 0.946 - ETA: 28s - loss: 0.1436 - accuracy: 0.946 - ETA: 28s - loss: 0.1419 - accuracy: 0.947 - ETA: 28s - loss: 0.1420 - accuracy: 0.947 - ETA: 27s - loss: 0.1418 - accuracy: 0.947 - ETA: 27s - loss: 0.1421 - accuracy: 0.946 - ETA: 27s - loss: 0.1409 - accuracy: 0.947 - ETA: 27s - loss: 0.1405 - accuracy: 0.947 - ETA: 26s - loss: 0.1401 - accuracy: 0.948 - ETA: 26s - loss: 0.1397 - accuracy: 0.948 - ETA: 26s - loss: 0.1388 - accuracy: 0.948 - ETA: 26s - loss: 0.1392 - accuracy: 0.948 - ETA: 25s - loss: 0.1385 - accuracy: 0.948 - ETA: 25s - loss: 0.1384 - accuracy: 0.949 - ETA: 25s - loss: 0.1390 - accuracy: 0.949 - ETA: 25s - loss: 0.1384 - accuracy: 0.949 - ETA: 24s - loss: 0.1380 - accuracy: 0.949 - ETA: 24s - loss: 0.1369 - accuracy: 0.950 - ETA: 24s - loss: 0.1377 - accuracy: 0.949 - ETA: 24s - loss: 0.1371 - accuracy: 0.950 - ETA: 23s - loss: 0.1402 - accuracy: 0.949 - ETA: 23s - loss: 0.1400 - accuracy: 0.949 - ETA: 23s - loss: 0.1415 - accuracy: 0.948 - ETA: 23s - loss: 0.1415 - accuracy: 0.948 - ETA: 22s - loss: 0.1411 - accuracy: 0.948 - ETA: 22s - loss: 0.1405 - accuracy: 0.949 - ETA: 22s - loss: 0.1398 - accuracy: 0.949 - ETA: 22s - loss: 0.1390 - accuracy: 0.949 - ETA: 21s - loss: 0.1383 - accuracy: 0.949 - ETA: 21s - loss: 0.1404 - accuracy: 0.948 - ETA: 21s - loss: 0.1391 - accuracy: 0.949 - ETA: 21s - loss: 0.1425 - accuracy: 0.947 - ETA: 20s - loss: 0.1424 - accuracy: 0.948 - ETA: 20s - loss: 0.1415 - accuracy: 0.948 - ETA: 20s - loss: 0.1402 - accuracy: 0.948 - ETA: 20s - loss: 0.1399 - accuracy: 0.949 - ETA: 19s - loss: 0.1400 - accuracy: 0.949 - ETA: 19s - loss: 0.1401 - accuracy: 0.948 - ETA: 19s - loss: 0.1401 - accuracy: 0.948 - ETA: 19s - loss: 0.1397 - accuracy: 0.948 - ETA: 18s - loss: 0.1396 - accuracy: 0.948 - ETA: 18s - loss: 0.1384 - accuracy: 0.949 - ETA: 18s - loss: 0.1389 - accuracy: 0.948 - ETA: 18s - loss: 0.1414 - accuracy: 0.948 - ETA: 18s - loss: 0.1416 - accuracy: 0.948 - ETA: 17s - loss: 0.1427 - accuracy: 0.948 - ETA: 17s - loss: 0.1458 - accuracy: 0.947 - ETA: 17s - loss: 0.1468 - accuracy: 0.946 - ETA: 17s - loss: 0.1461 - accuracy: 0.946 - ETA: 16s - loss: 0.1459 - accuracy: 0.946 - ETA: 16s - loss: 0.1457 - accuracy: 0.946 - ETA: 16s - loss: 0.1458 - accuracy: 0.945 - ETA: 16s - loss: 0.1471 - accuracy: 0.945 - ETA: 15s - loss: 0.1473 - accuracy: 0.945 - ETA: 15s - loss: 0.1473 - accuracy: 0.945 - ETA: 15s - loss: 0.1473 - accuracy: 0.945 - ETA: 15s - loss: 0.1475 - accuracy: 0.945 - ETA: 15s - loss: 0.1472 - accuracy: 0.945 - ETA: 15s - loss: 0.1491 - accuracy: 0.944 - ETA: 14s - loss: 0.1494 - accuracy: 0.944 - ETA: 14s - loss: 0.1500 - accuracy: 0.944 - ETA: 14s - loss: 0.1501 - accuracy: 0.944 - ETA: 14s - loss: 0.1505 - accuracy: 0.944 - ETA: 13s - loss: 0.1506 - accuracy: 0.943 - ETA: 13s - loss: 0.1500 - accuracy: 0.943 - ETA: 13s - loss: 0.1494 - accuracy: 0.943 - ETA: 13s - loss: 0.1491 - accuracy: 0.943 - ETA: 13s - loss: 0.1491 - accuracy: 0.943 - ETA: 13s - loss: 0.1485 - accuracy: 0.944 - ETA: 12s - loss: 0.1484 - accuracy: 0.943 - ETA: 12s - loss: 0.1478 - accuracy: 0.944 - ETA: 12s - loss: 0.1477 - accuracy: 0.944 - ETA: 12s - loss: 0.1477 - accuracy: 0.944 - ETA: 11s - loss: 0.1478 - accuracy: 0.944 - ETA: 11s - loss: 0.1473 - accuracy: 0.944 - ETA: 11s - loss: 0.1470 - accuracy: 0.944 - ETA: 11s - loss: 0.1477 - accuracy: 0.943 - ETA: 11s - loss: 0.1470 - accuracy: 0.944 - ETA: 10s - loss: 0.1474 - accuracy: 0.944 - ETA: 10s - loss: 0.1466 - accuracy: 0.944 - ETA: 10s - loss: 0.1456 - accuracy: 0.944 - ETA: 10s - loss: 0.1457 - accuracy: 0.944 - ETA: 10s - loss: 0.1454 - accuracy: 0.944 - ETA: 10s - loss: 0.1455 - accuracy: 0.944 - ETA: 9s - loss: 0.1453 - accuracy: 0.944 - ETA: 9s - loss: 0.1459 - accuracy: 0.94 - ETA: 9s - loss: 0.1463 - accuracy: 0.94 - ETA: 9s - loss: 0.1464 - accuracy: 0.94 - ETA: 9s - loss: 0.1466 - accuracy: 0.94 - ETA: 9s - loss: 0.1462 - accuracy: 0.94 - ETA: 9s - loss: 0.1459 - accuracy: 0.94 - ETA: 8s - loss: 0.1455 - accuracy: 0.94 - ETA: 8s - loss: 0.1454 - accuracy: 0.94 - ETA: 8s - loss: 0.1449 - accuracy: 0.94 - ETA: 8s - loss: 0.1445 - accuracy: 0.94 - ETA: 7s - loss: 0.1446 - accuracy: 0.94 - ETA: 7s - loss: 0.1442 - accuracy: 0.94 - ETA: 7s - loss: 0.1438 - accuracy: 0.94 - ETA: 7s - loss: 0.1438 - accuracy: 0.94 - ETA: 7s - loss: 0.1431 - accuracy: 0.94 - ETA: 6s - loss: 0.1426 - accuracy: 0.94 - ETA: 6s - loss: 0.1425 - accuracy: 0.94 - ETA: 6s - loss: 0.1422 - accuracy: 0.94 - ETA: 6s - loss: 0.1423 - accuracy: 0.94 - ETA: 6s - loss: 0.1422 - accuracy: 0.94 - ETA: 5s - loss: 0.1420 - accuracy: 0.94 - ETA: 5s - loss: 0.1426 - accuracy: 0.94 - ETA: 5s - loss: 0.1424 - accuracy: 0.94 - ETA: 5s - loss: 0.1420 - accuracy: 0.94 - ETA: 5s - loss: 0.1430 - accuracy: 0.94 - ETA: 4s - loss: 0.1426 - accuracy: 0.94 - ETA: 4s - loss: 0.1430 - accuracy: 0.94 - ETA: 4s - loss: 0.1425 - accuracy: 0.94 - ETA: 4s - loss: 0.1429 - accuracy: 0.94 - ETA: 4s - loss: 0.1423 - accuracy: 0.94 - ETA: 3s - loss: 0.1424 - accuracy: 0.94 - ETA: 3s - loss: 0.1420 - accuracy: 0.94 - ETA: 3s - loss: 0.1417 - accuracy: 0.94 - ETA: 3s - loss: 0.1422 - accuracy: 0.94 - ETA: 3s - loss: 0.1424 - accuracy: 0.94 - ETA: 2s - loss: 0.1427 - accuracy: 0.94 - ETA: 2s - loss: 0.1425 - accuracy: 0.94 - ETA: 2s - loss: 0.1423 - accuracy: 0.94 - ETA: 2s - loss: 0.1425 - accuracy: 0.94 - ETA: 2s - loss: 0.1424 - accuracy: 0.94 - ETA: 2s - loss: 0.1445 - accuracy: 0.94 - ETA: 1s - loss: 0.1446 - accuracy: 0.9453"
     ]
    },
    {
     "name": "stdout",
     "output_type": "stream",
     "text": [
      "6319/6319 [==============================] - ETA: 1s - loss: 0.1445 - accuracy: 0.94 - ETA: 1s - loss: 0.1449 - accuracy: 0.94 - ETA: 1s - loss: 0.1442 - accuracy: 0.94 - ETA: 1s - loss: 0.1447 - accuracy: 0.94 - ETA: 0s - loss: 0.1450 - accuracy: 0.94 - ETA: 0s - loss: 0.1454 - accuracy: 0.94 - ETA: 0s - loss: 0.1449 - accuracy: 0.94 - ETA: 0s - loss: 0.1446 - accuracy: 0.94 - ETA: 0s - loss: 0.1445 - accuracy: 0.94 - 47s 7ms/step - loss: 0.1455 - accuracy: 0.9452 - val_loss: 0.6879 - val_accuracy: 0.8327\n",
      "Epoch 16/20\n"
     ]
    },
    {
     "name": "stdout",
     "output_type": "stream",
     "text": [
      "6016/6319 [===========================>..] - ETA: 32s - loss: 0.0684 - accuracy: 1.000 - ETA: 31s - loss: 0.0954 - accuracy: 0.984 - ETA: 32s - loss: 0.1273 - accuracy: 0.958 - ETA: 31s - loss: 0.1524 - accuracy: 0.953 - ETA: 30s - loss: 0.1416 - accuracy: 0.962 - ETA: 32s - loss: 0.1472 - accuracy: 0.953 - ETA: 32s - loss: 0.1519 - accuracy: 0.946 - ETA: 32s - loss: 0.1484 - accuracy: 0.945 - ETA: 32s - loss: 0.1669 - accuracy: 0.937 - ETA: 32s - loss: 0.1597 - accuracy: 0.940 - ETA: 31s - loss: 0.1698 - accuracy: 0.937 - ETA: 31s - loss: 0.1588 - accuracy: 0.940 - ETA: 31s - loss: 0.1563 - accuracy: 0.942 - ETA: 31s - loss: 0.1519 - accuracy: 0.942 - ETA: 31s - loss: 0.1511 - accuracy: 0.939 - ETA: 31s - loss: 0.1515 - accuracy: 0.937 - ETA: 30s - loss: 0.1439 - accuracy: 0.941 - ETA: 30s - loss: 0.1505 - accuracy: 0.941 - ETA: 30s - loss: 0.1613 - accuracy: 0.939 - ETA: 29s - loss: 0.1599 - accuracy: 0.940 - ETA: 30s - loss: 0.1564 - accuracy: 0.942 - ETA: 30s - loss: 0.1558 - accuracy: 0.940 - ETA: 30s - loss: 0.1545 - accuracy: 0.941 - ETA: 30s - loss: 0.1543 - accuracy: 0.940 - ETA: 30s - loss: 0.1517 - accuracy: 0.941 - ETA: 29s - loss: 0.1511 - accuracy: 0.942 - ETA: 29s - loss: 0.1489 - accuracy: 0.943 - ETA: 29s - loss: 0.1468 - accuracy: 0.943 - ETA: 28s - loss: 0.1477 - accuracy: 0.942 - ETA: 28s - loss: 0.1459 - accuracy: 0.943 - ETA: 28s - loss: 0.1478 - accuracy: 0.944 - ETA: 28s - loss: 0.1437 - accuracy: 0.946 - ETA: 27s - loss: 0.1416 - accuracy: 0.946 - ETA: 27s - loss: 0.1395 - accuracy: 0.947 - ETA: 27s - loss: 0.1379 - accuracy: 0.948 - ETA: 27s - loss: 0.1379 - accuracy: 0.947 - ETA: 26s - loss: 0.1362 - accuracy: 0.947 - ETA: 26s - loss: 0.1347 - accuracy: 0.947 - ETA: 26s - loss: 0.1316 - accuracy: 0.948 - ETA: 26s - loss: 0.1346 - accuracy: 0.946 - ETA: 26s - loss: 0.1395 - accuracy: 0.945 - ETA: 26s - loss: 0.1382 - accuracy: 0.946 - ETA: 25s - loss: 0.1381 - accuracy: 0.946 - ETA: 25s - loss: 0.1382 - accuracy: 0.946 - ETA: 25s - loss: 0.1412 - accuracy: 0.944 - ETA: 25s - loss: 0.1391 - accuracy: 0.945 - ETA: 25s - loss: 0.1377 - accuracy: 0.946 - ETA: 24s - loss: 0.1368 - accuracy: 0.946 - ETA: 24s - loss: 0.1354 - accuracy: 0.947 - ETA: 24s - loss: 0.1340 - accuracy: 0.948 - ETA: 24s - loss: 0.1381 - accuracy: 0.948 - ETA: 23s - loss: 0.1374 - accuracy: 0.948 - ETA: 23s - loss: 0.1384 - accuracy: 0.948 - ETA: 23s - loss: 0.1364 - accuracy: 0.948 - ETA: 23s - loss: 0.1356 - accuracy: 0.948 - ETA: 23s - loss: 0.1376 - accuracy: 0.947 - ETA: 23s - loss: 0.1384 - accuracy: 0.946 - ETA: 22s - loss: 0.1392 - accuracy: 0.946 - ETA: 22s - loss: 0.1409 - accuracy: 0.946 - ETA: 22s - loss: 0.1405 - accuracy: 0.946 - ETA: 22s - loss: 0.1399 - accuracy: 0.947 - ETA: 22s - loss: 0.1411 - accuracy: 0.947 - ETA: 21s - loss: 0.1400 - accuracy: 0.947 - ETA: 21s - loss: 0.1396 - accuracy: 0.947 - ETA: 21s - loss: 0.1404 - accuracy: 0.947 - ETA: 21s - loss: 0.1397 - accuracy: 0.947 - ETA: 21s - loss: 0.1395 - accuracy: 0.947 - ETA: 20s - loss: 0.1398 - accuracy: 0.947 - ETA: 20s - loss: 0.1390 - accuracy: 0.947 - ETA: 20s - loss: 0.1404 - accuracy: 0.948 - ETA: 20s - loss: 0.1392 - accuracy: 0.948 - ETA: 20s - loss: 0.1388 - accuracy: 0.948 - ETA: 20s - loss: 0.1399 - accuracy: 0.948 - ETA: 19s - loss: 0.1402 - accuracy: 0.948 - ETA: 19s - loss: 0.1418 - accuracy: 0.947 - ETA: 19s - loss: 0.1410 - accuracy: 0.947 - ETA: 19s - loss: 0.1406 - accuracy: 0.947 - ETA: 19s - loss: 0.1413 - accuracy: 0.946 - ETA: 19s - loss: 0.1399 - accuracy: 0.947 - ETA: 18s - loss: 0.1428 - accuracy: 0.946 - ETA: 18s - loss: 0.1428 - accuracy: 0.946 - ETA: 18s - loss: 0.1434 - accuracy: 0.947 - ETA: 18s - loss: 0.1429 - accuracy: 0.946 - ETA: 18s - loss: 0.1422 - accuracy: 0.947 - ETA: 18s - loss: 0.1421 - accuracy: 0.947 - ETA: 18s - loss: 0.1425 - accuracy: 0.947 - ETA: 18s - loss: 0.1414 - accuracy: 0.947 - ETA: 18s - loss: 0.1412 - accuracy: 0.947 - ETA: 17s - loss: 0.1402 - accuracy: 0.948 - ETA: 17s - loss: 0.1403 - accuracy: 0.948 - ETA: 17s - loss: 0.1412 - accuracy: 0.947 - ETA: 17s - loss: 0.1414 - accuracy: 0.948 - ETA: 17s - loss: 0.1404 - accuracy: 0.948 - ETA: 17s - loss: 0.1397 - accuracy: 0.948 - ETA: 17s - loss: 0.1390 - accuracy: 0.948 - ETA: 17s - loss: 0.1397 - accuracy: 0.947 - ETA: 17s - loss: 0.1402 - accuracy: 0.947 - ETA: 16s - loss: 0.1400 - accuracy: 0.947 - ETA: 16s - loss: 0.1392 - accuracy: 0.947 - ETA: 16s - loss: 0.1394 - accuracy: 0.947 - ETA: 16s - loss: 0.1416 - accuracy: 0.948 - ETA: 16s - loss: 0.1412 - accuracy: 0.948 - ETA: 16s - loss: 0.1425 - accuracy: 0.948 - ETA: 16s - loss: 0.1415 - accuracy: 0.948 - ETA: 16s - loss: 0.1404 - accuracy: 0.949 - ETA: 16s - loss: 0.1394 - accuracy: 0.949 - ETA: 15s - loss: 0.1389 - accuracy: 0.949 - ETA: 15s - loss: 0.1390 - accuracy: 0.949 - ETA: 15s - loss: 0.1393 - accuracy: 0.949 - ETA: 15s - loss: 0.1393 - accuracy: 0.948 - ETA: 15s - loss: 0.1402 - accuracy: 0.948 - ETA: 15s - loss: 0.1392 - accuracy: 0.948 - ETA: 14s - loss: 0.1400 - accuracy: 0.948 - ETA: 14s - loss: 0.1397 - accuracy: 0.948 - ETA: 14s - loss: 0.1392 - accuracy: 0.948 - ETA: 14s - loss: 0.1404 - accuracy: 0.948 - ETA: 14s - loss: 0.1400 - accuracy: 0.948 - ETA: 14s - loss: 0.1397 - accuracy: 0.948 - ETA: 13s - loss: 0.1395 - accuracy: 0.948 - ETA: 13s - loss: 0.1395 - accuracy: 0.948 - ETA: 13s - loss: 0.1388 - accuracy: 0.948 - ETA: 13s - loss: 0.1383 - accuracy: 0.949 - ETA: 13s - loss: 0.1379 - accuracy: 0.949 - ETA: 13s - loss: 0.1370 - accuracy: 0.949 - ETA: 12s - loss: 0.1365 - accuracy: 0.949 - ETA: 12s - loss: 0.1361 - accuracy: 0.949 - ETA: 12s - loss: 0.1356 - accuracy: 0.949 - ETA: 12s - loss: 0.1377 - accuracy: 0.948 - ETA: 12s - loss: 0.1378 - accuracy: 0.948 - ETA: 11s - loss: 0.1403 - accuracy: 0.947 - ETA: 11s - loss: 0.1421 - accuracy: 0.946 - ETA: 11s - loss: 0.1429 - accuracy: 0.946 - ETA: 11s - loss: 0.1438 - accuracy: 0.946 - ETA: 11s - loss: 0.1437 - accuracy: 0.946 - ETA: 11s - loss: 0.1434 - accuracy: 0.947 - ETA: 10s - loss: 0.1432 - accuracy: 0.946 - ETA: 10s - loss: 0.1438 - accuracy: 0.946 - ETA: 10s - loss: 0.1431 - accuracy: 0.946 - ETA: 10s - loss: 0.1428 - accuracy: 0.946 - ETA: 10s - loss: 0.1432 - accuracy: 0.946 - ETA: 9s - loss: 0.1435 - accuracy: 0.946 - ETA: 9s - loss: 0.1430 - accuracy: 0.94 - ETA: 9s - loss: 0.1428 - accuracy: 0.94 - ETA: 9s - loss: 0.1421 - accuracy: 0.94 - ETA: 9s - loss: 0.1417 - accuracy: 0.94 - ETA: 9s - loss: 0.1422 - accuracy: 0.94 - ETA: 8s - loss: 0.1429 - accuracy: 0.94 - ETA: 8s - loss: 0.1439 - accuracy: 0.94 - ETA: 8s - loss: 0.1430 - accuracy: 0.94 - ETA: 8s - loss: 0.1426 - accuracy: 0.94 - ETA: 8s - loss: 0.1429 - accuracy: 0.94 - ETA: 7s - loss: 0.1439 - accuracy: 0.94 - ETA: 7s - loss: 0.1448 - accuracy: 0.94 - ETA: 7s - loss: 0.1457 - accuracy: 0.94 - ETA: 7s - loss: 0.1455 - accuracy: 0.94 - ETA: 7s - loss: 0.1447 - accuracy: 0.94 - ETA: 7s - loss: 0.1447 - accuracy: 0.94 - ETA: 6s - loss: 0.1447 - accuracy: 0.94 - ETA: 6s - loss: 0.1441 - accuracy: 0.94 - ETA: 6s - loss: 0.1470 - accuracy: 0.94 - ETA: 6s - loss: 0.1472 - accuracy: 0.94 - ETA: 6s - loss: 0.1476 - accuracy: 0.94 - ETA: 6s - loss: 0.1475 - accuracy: 0.94 - ETA: 5s - loss: 0.1482 - accuracy: 0.94 - ETA: 5s - loss: 0.1482 - accuracy: 0.94 - ETA: 5s - loss: 0.1476 - accuracy: 0.94 - ETA: 5s - loss: 0.1472 - accuracy: 0.94 - ETA: 5s - loss: 0.1470 - accuracy: 0.94 - ETA: 5s - loss: 0.1482 - accuracy: 0.94 - ETA: 4s - loss: 0.1478 - accuracy: 0.94 - ETA: 4s - loss: 0.1475 - accuracy: 0.94 - ETA: 4s - loss: 0.1469 - accuracy: 0.94 - ETA: 4s - loss: 0.1465 - accuracy: 0.94 - ETA: 4s - loss: 0.1464 - accuracy: 0.94 - ETA: 3s - loss: 0.1464 - accuracy: 0.94 - ETA: 3s - loss: 0.1463 - accuracy: 0.94 - ETA: 3s - loss: 0.1471 - accuracy: 0.94 - ETA: 3s - loss: 0.1466 - accuracy: 0.94 - ETA: 3s - loss: 0.1473 - accuracy: 0.94 - ETA: 3s - loss: 0.1471 - accuracy: 0.94 - ETA: 2s - loss: 0.1469 - accuracy: 0.94 - ETA: 2s - loss: 0.1487 - accuracy: 0.94 - ETA: 2s - loss: 0.1493 - accuracy: 0.94 - ETA: 2s - loss: 0.1487 - accuracy: 0.94 - ETA: 2s - loss: 0.1484 - accuracy: 0.94 - ETA: 2s - loss: 0.1483 - accuracy: 0.94 - ETA: 1s - loss: 0.1487 - accuracy: 0.94 - ETA: 1s - loss: 0.1482 - accuracy: 0.9455"
     ]
    },
    {
     "name": "stdout",
     "output_type": "stream",
     "text": [
      "6319/6319 [==============================] - ETA: 1s - loss: 0.1497 - accuracy: 0.94 - ETA: 1s - loss: 0.1494 - accuracy: 0.94 - ETA: 1s - loss: 0.1495 - accuracy: 0.94 - ETA: 0s - loss: 0.1493 - accuracy: 0.94 - ETA: 0s - loss: 0.1493 - accuracy: 0.94 - ETA: 0s - loss: 0.1490 - accuracy: 0.94 - ETA: 0s - loss: 0.1488 - accuracy: 0.94 - ETA: 0s - loss: 0.1485 - accuracy: 0.94 - ETA: 0s - loss: 0.1503 - accuracy: 0.94 - 46s 7ms/step - loss: 0.1503 - accuracy: 0.9451 - val_loss: 0.9400 - val_accuracy: 0.7881\n",
      "Epoch 17/20\n"
     ]
    },
    {
     "name": "stdout",
     "output_type": "stream",
     "text": [
      "5984/6319 [===========================>..] - ETA: 42s - loss: 0.0932 - accuracy: 0.968 - ETA: 46s - loss: 0.1156 - accuracy: 0.937 - ETA: 50s - loss: 0.1145 - accuracy: 0.947 - ETA: 49s - loss: 0.0971 - accuracy: 0.960 - ETA: 49s - loss: 0.0989 - accuracy: 0.962 - ETA: 49s - loss: 0.0933 - accuracy: 0.968 - ETA: 48s - loss: 0.1121 - accuracy: 0.964 - ETA: 47s - loss: 0.1285 - accuracy: 0.953 - ETA: 45s - loss: 0.1328 - accuracy: 0.951 - ETA: 45s - loss: 0.1247 - accuracy: 0.953 - ETA: 48s - loss: 0.1200 - accuracy: 0.957 - ETA: 47s - loss: 0.1231 - accuracy: 0.958 - ETA: 46s - loss: 0.1139 - accuracy: 0.961 - ETA: 46s - loss: 0.1196 - accuracy: 0.957 - ETA: 45s - loss: 0.1149 - accuracy: 0.958 - ETA: 45s - loss: 0.1137 - accuracy: 0.959 - ETA: 44s - loss: 0.1154 - accuracy: 0.957 - ETA: 43s - loss: 0.1224 - accuracy: 0.956 - ETA: 44s - loss: 0.1186 - accuracy: 0.958 - ETA: 44s - loss: 0.1158 - accuracy: 0.959 - ETA: 44s - loss: 0.1125 - accuracy: 0.961 - ETA: 43s - loss: 0.1161 - accuracy: 0.960 - ETA: 43s - loss: 0.1159 - accuracy: 0.960 - ETA: 43s - loss: 0.1212 - accuracy: 0.958 - ETA: 43s - loss: 0.1180 - accuracy: 0.958 - ETA: 43s - loss: 0.1173 - accuracy: 0.960 - ETA: 42s - loss: 0.1150 - accuracy: 0.961 - ETA: 42s - loss: 0.1131 - accuracy: 0.963 - ETA: 41s - loss: 0.1169 - accuracy: 0.963 - ETA: 41s - loss: 0.1160 - accuracy: 0.963 - ETA: 41s - loss: 0.1145 - accuracy: 0.963 - ETA: 40s - loss: 0.1173 - accuracy: 0.962 - ETA: 40s - loss: 0.1173 - accuracy: 0.961 - ETA: 39s - loss: 0.1168 - accuracy: 0.961 - ETA: 39s - loss: 0.1163 - accuracy: 0.961 - ETA: 38s - loss: 0.1180 - accuracy: 0.960 - ETA: 38s - loss: 0.1160 - accuracy: 0.961 - ETA: 38s - loss: 0.1139 - accuracy: 0.961 - ETA: 37s - loss: 0.1150 - accuracy: 0.961 - ETA: 37s - loss: 0.1147 - accuracy: 0.960 - ETA: 36s - loss: 0.1158 - accuracy: 0.960 - ETA: 36s - loss: 0.1184 - accuracy: 0.959 - ETA: 35s - loss: 0.1171 - accuracy: 0.960 - ETA: 35s - loss: 0.1174 - accuracy: 0.960 - ETA: 34s - loss: 0.1186 - accuracy: 0.960 - ETA: 34s - loss: 0.1184 - accuracy: 0.961 - ETA: 34s - loss: 0.1174 - accuracy: 0.961 - ETA: 34s - loss: 0.1167 - accuracy: 0.962 - ETA: 33s - loss: 0.1163 - accuracy: 0.962 - ETA: 33s - loss: 0.1157 - accuracy: 0.962 - ETA: 33s - loss: 0.1153 - accuracy: 0.962 - ETA: 32s - loss: 0.1145 - accuracy: 0.962 - ETA: 32s - loss: 0.1142 - accuracy: 0.962 - ETA: 32s - loss: 0.1153 - accuracy: 0.962 - ETA: 32s - loss: 0.1181 - accuracy: 0.960 - ETA: 32s - loss: 0.1168 - accuracy: 0.961 - ETA: 31s - loss: 0.1154 - accuracy: 0.962 - ETA: 31s - loss: 0.1157 - accuracy: 0.962 - ETA: 31s - loss: 0.1175 - accuracy: 0.961 - ETA: 30s - loss: 0.1188 - accuracy: 0.961 - ETA: 30s - loss: 0.1171 - accuracy: 0.962 - ETA: 30s - loss: 0.1160 - accuracy: 0.962 - ETA: 30s - loss: 0.1156 - accuracy: 0.962 - ETA: 29s - loss: 0.1153 - accuracy: 0.962 - ETA: 29s - loss: 0.1175 - accuracy: 0.962 - ETA: 29s - loss: 0.1179 - accuracy: 0.961 - ETA: 28s - loss: 0.1183 - accuracy: 0.961 - ETA: 28s - loss: 0.1178 - accuracy: 0.961 - ETA: 28s - loss: 0.1163 - accuracy: 0.962 - ETA: 28s - loss: 0.1176 - accuracy: 0.961 - ETA: 28s - loss: 0.1176 - accuracy: 0.961 - ETA: 27s - loss: 0.1174 - accuracy: 0.961 - ETA: 27s - loss: 0.1175 - accuracy: 0.961 - ETA: 27s - loss: 0.1176 - accuracy: 0.961 - ETA: 27s - loss: 0.1168 - accuracy: 0.961 - ETA: 27s - loss: 0.1162 - accuracy: 0.961 - ETA: 26s - loss: 0.1178 - accuracy: 0.961 - ETA: 26s - loss: 0.1175 - accuracy: 0.961 - ETA: 26s - loss: 0.1162 - accuracy: 0.962 - ETA: 26s - loss: 0.1158 - accuracy: 0.961 - ETA: 25s - loss: 0.1153 - accuracy: 0.961 - ETA: 25s - loss: 0.1185 - accuracy: 0.961 - ETA: 25s - loss: 0.1177 - accuracy: 0.962 - ETA: 25s - loss: 0.1186 - accuracy: 0.961 - ETA: 24s - loss: 0.1198 - accuracy: 0.961 - ETA: 24s - loss: 0.1202 - accuracy: 0.961 - ETA: 24s - loss: 0.1194 - accuracy: 0.961 - ETA: 23s - loss: 0.1192 - accuracy: 0.960 - ETA: 23s - loss: 0.1208 - accuracy: 0.960 - ETA: 23s - loss: 0.1208 - accuracy: 0.960 - ETA: 23s - loss: 0.1260 - accuracy: 0.959 - ETA: 22s - loss: 0.1249 - accuracy: 0.960 - ETA: 22s - loss: 0.1266 - accuracy: 0.959 - ETA: 22s - loss: 0.1268 - accuracy: 0.959 - ETA: 21s - loss: 0.1266 - accuracy: 0.959 - ETA: 21s - loss: 0.1261 - accuracy: 0.959 - ETA: 21s - loss: 0.1249 - accuracy: 0.959 - ETA: 21s - loss: 0.1255 - accuracy: 0.958 - ETA: 20s - loss: 0.1249 - accuracy: 0.959 - ETA: 20s - loss: 0.1245 - accuracy: 0.959 - ETA: 20s - loss: 0.1247 - accuracy: 0.959 - ETA: 20s - loss: 0.1257 - accuracy: 0.958 - ETA: 20s - loss: 0.1266 - accuracy: 0.958 - ETA: 19s - loss: 0.1255 - accuracy: 0.958 - ETA: 19s - loss: 0.1254 - accuracy: 0.958 - ETA: 19s - loss: 0.1271 - accuracy: 0.958 - ETA: 19s - loss: 0.1286 - accuracy: 0.957 - ETA: 18s - loss: 0.1286 - accuracy: 0.957 - ETA: 18s - loss: 0.1279 - accuracy: 0.957 - ETA: 18s - loss: 0.1278 - accuracy: 0.957 - ETA: 18s - loss: 0.1270 - accuracy: 0.957 - ETA: 18s - loss: 0.1261 - accuracy: 0.958 - ETA: 17s - loss: 0.1274 - accuracy: 0.957 - ETA: 17s - loss: 0.1270 - accuracy: 0.957 - ETA: 17s - loss: 0.1264 - accuracy: 0.957 - ETA: 17s - loss: 0.1261 - accuracy: 0.957 - ETA: 16s - loss: 0.1270 - accuracy: 0.956 - ETA: 16s - loss: 0.1287 - accuracy: 0.956 - ETA: 16s - loss: 0.1288 - accuracy: 0.955 - ETA: 16s - loss: 0.1297 - accuracy: 0.955 - ETA: 16s - loss: 0.1294 - accuracy: 0.955 - ETA: 15s - loss: 0.1296 - accuracy: 0.955 - ETA: 15s - loss: 0.1290 - accuracy: 0.955 - ETA: 15s - loss: 0.1283 - accuracy: 0.955 - ETA: 15s - loss: 0.1283 - accuracy: 0.956 - ETA: 14s - loss: 0.1289 - accuracy: 0.955 - ETA: 14s - loss: 0.1283 - accuracy: 0.956 - ETA: 14s - loss: 0.1309 - accuracy: 0.955 - ETA: 14s - loss: 0.1338 - accuracy: 0.955 - ETA: 13s - loss: 0.1341 - accuracy: 0.955 - ETA: 13s - loss: 0.1340 - accuracy: 0.955 - ETA: 13s - loss: 0.1339 - accuracy: 0.955 - ETA: 13s - loss: 0.1338 - accuracy: 0.955 - ETA: 13s - loss: 0.1341 - accuracy: 0.955 - ETA: 12s - loss: 0.1349 - accuracy: 0.954 - ETA: 12s - loss: 0.1349 - accuracy: 0.954 - ETA: 12s - loss: 0.1363 - accuracy: 0.954 - ETA: 12s - loss: 0.1374 - accuracy: 0.954 - ETA: 11s - loss: 0.1373 - accuracy: 0.954 - ETA: 11s - loss: 0.1371 - accuracy: 0.954 - ETA: 11s - loss: 0.1370 - accuracy: 0.954 - ETA: 11s - loss: 0.1370 - accuracy: 0.954 - ETA: 11s - loss: 0.1368 - accuracy: 0.954 - ETA: 10s - loss: 0.1381 - accuracy: 0.954 - ETA: 10s - loss: 0.1403 - accuracy: 0.953 - ETA: 10s - loss: 0.1401 - accuracy: 0.953 - ETA: 10s - loss: 0.1409 - accuracy: 0.953 - ETA: 10s - loss: 0.1409 - accuracy: 0.953 - ETA: 9s - loss: 0.1409 - accuracy: 0.953 - ETA: 9s - loss: 0.1406 - accuracy: 0.95 - ETA: 9s - loss: 0.1402 - accuracy: 0.95 - ETA: 9s - loss: 0.1406 - accuracy: 0.95 - ETA: 9s - loss: 0.1412 - accuracy: 0.95 - ETA: 8s - loss: 0.1414 - accuracy: 0.95 - ETA: 8s - loss: 0.1406 - accuracy: 0.95 - ETA: 8s - loss: 0.1405 - accuracy: 0.95 - ETA: 8s - loss: 0.1407 - accuracy: 0.95 - ETA: 8s - loss: 0.1406 - accuracy: 0.95 - ETA: 8s - loss: 0.1409 - accuracy: 0.95 - ETA: 7s - loss: 0.1414 - accuracy: 0.95 - ETA: 7s - loss: 0.1417 - accuracy: 0.95 - ETA: 7s - loss: 0.1412 - accuracy: 0.95 - ETA: 7s - loss: 0.1417 - accuracy: 0.95 - ETA: 6s - loss: 0.1426 - accuracy: 0.95 - ETA: 6s - loss: 0.1422 - accuracy: 0.95 - ETA: 6s - loss: 0.1419 - accuracy: 0.95 - ETA: 6s - loss: 0.1412 - accuracy: 0.95 - ETA: 6s - loss: 0.1409 - accuracy: 0.95 - ETA: 5s - loss: 0.1409 - accuracy: 0.95 - ETA: 5s - loss: 0.1404 - accuracy: 0.95 - ETA: 5s - loss: 0.1401 - accuracy: 0.95 - ETA: 5s - loss: 0.1404 - accuracy: 0.95 - ETA: 5s - loss: 0.1408 - accuracy: 0.95 - ETA: 4s - loss: 0.1407 - accuracy: 0.95 - ETA: 4s - loss: 0.1403 - accuracy: 0.95 - ETA: 4s - loss: 0.1401 - accuracy: 0.95 - ETA: 4s - loss: 0.1402 - accuracy: 0.95 - ETA: 3s - loss: 0.1396 - accuracy: 0.95 - ETA: 3s - loss: 0.1394 - accuracy: 0.95 - ETA: 3s - loss: 0.1401 - accuracy: 0.95 - ETA: 3s - loss: 0.1402 - accuracy: 0.95 - ETA: 3s - loss: 0.1400 - accuracy: 0.95 - ETA: 2s - loss: 0.1401 - accuracy: 0.95 - ETA: 2s - loss: 0.1402 - accuracy: 0.95 - ETA: 2s - loss: 0.1398 - accuracy: 0.95 - ETA: 2s - loss: 0.1393 - accuracy: 0.95 - ETA: 2s - loss: 0.1395 - accuracy: 0.9537"
     ]
    },
    {
     "name": "stdout",
     "output_type": "stream",
     "text": [
      "6319/6319 [==============================] - ETA: 1s - loss: 0.1389 - accuracy: 0.95 - ETA: 1s - loss: 0.1384 - accuracy: 0.95 - ETA: 1s - loss: 0.1387 - accuracy: 0.95 - ETA: 1s - loss: 0.1381 - accuracy: 0.95 - ETA: 1s - loss: 0.1374 - accuracy: 0.95 - ETA: 0s - loss: 0.1374 - accuracy: 0.95 - ETA: 0s - loss: 0.1376 - accuracy: 0.95 - ETA: 0s - loss: 0.1376 - accuracy: 0.95 - ETA: 0s - loss: 0.1373 - accuracy: 0.95 - ETA: 0s - loss: 0.1375 - accuracy: 0.95 - 49s 8ms/step - loss: 0.1373 - accuracy: 0.9544 - val_loss: 1.2742 - val_accuracy: 0.7869\n",
      "Epoch 18/20\n"
     ]
    },
    {
     "name": "stdout",
     "output_type": "stream",
     "text": [
      "6016/6319 [===========================>..] - ETA: 36s - loss: 0.0368 - accuracy: 1.000 - ETA: 33s - loss: 0.1061 - accuracy: 0.953 - ETA: 32s - loss: 0.0834 - accuracy: 0.968 - ETA: 31s - loss: 0.0675 - accuracy: 0.976 - ETA: 30s - loss: 0.0599 - accuracy: 0.981 - ETA: 30s - loss: 0.0773 - accuracy: 0.979 - ETA: 29s - loss: 0.0975 - accuracy: 0.964 - ETA: 29s - loss: 0.1185 - accuracy: 0.957 - ETA: 29s - loss: 0.1093 - accuracy: 0.961 - ETA: 28s - loss: 0.1165 - accuracy: 0.953 - ETA: 28s - loss: 0.1145 - accuracy: 0.954 - ETA: 28s - loss: 0.1345 - accuracy: 0.945 - ETA: 28s - loss: 0.1543 - accuracy: 0.944 - ETA: 28s - loss: 0.1502 - accuracy: 0.946 - ETA: 29s - loss: 0.1469 - accuracy: 0.947 - ETA: 29s - loss: 0.1546 - accuracy: 0.947 - ETA: 29s - loss: 0.1482 - accuracy: 0.950 - ETA: 29s - loss: 0.1419 - accuracy: 0.953 - ETA: 29s - loss: 0.1427 - accuracy: 0.950 - ETA: 29s - loss: 0.1391 - accuracy: 0.951 - ETA: 28s - loss: 0.1369 - accuracy: 0.953 - ETA: 29s - loss: 0.1397 - accuracy: 0.951 - ETA: 29s - loss: 0.1365 - accuracy: 0.953 - ETA: 29s - loss: 0.1380 - accuracy: 0.953 - ETA: 28s - loss: 0.1335 - accuracy: 0.955 - ETA: 28s - loss: 0.1292 - accuracy: 0.956 - ETA: 28s - loss: 0.1347 - accuracy: 0.956 - ETA: 28s - loss: 0.1366 - accuracy: 0.953 - ETA: 28s - loss: 0.1354 - accuracy: 0.952 - ETA: 29s - loss: 0.1352 - accuracy: 0.953 - ETA: 29s - loss: 0.1356 - accuracy: 0.952 - ETA: 30s - loss: 0.1378 - accuracy: 0.950 - ETA: 30s - loss: 0.1375 - accuracy: 0.948 - ETA: 30s - loss: 0.1348 - accuracy: 0.950 - ETA: 31s - loss: 0.1338 - accuracy: 0.950 - ETA: 31s - loss: 0.1376 - accuracy: 0.947 - ETA: 32s - loss: 0.1368 - accuracy: 0.948 - ETA: 32s - loss: 0.1361 - accuracy: 0.948 - ETA: 33s - loss: 0.1337 - accuracy: 0.949 - ETA: 33s - loss: 0.1343 - accuracy: 0.948 - ETA: 33s - loss: 0.1344 - accuracy: 0.948 - ETA: 33s - loss: 0.1318 - accuracy: 0.950 - ETA: 33s - loss: 0.1298 - accuracy: 0.950 - ETA: 32s - loss: 0.1297 - accuracy: 0.951 - ETA: 32s - loss: 0.1274 - accuracy: 0.952 - ETA: 32s - loss: 0.1261 - accuracy: 0.952 - ETA: 32s - loss: 0.1263 - accuracy: 0.952 - ETA: 32s - loss: 0.1246 - accuracy: 0.953 - ETA: 31s - loss: 0.1250 - accuracy: 0.953 - ETA: 31s - loss: 0.1241 - accuracy: 0.953 - ETA: 31s - loss: 0.1266 - accuracy: 0.953 - ETA: 31s - loss: 0.1276 - accuracy: 0.952 - ETA: 30s - loss: 0.1267 - accuracy: 0.952 - ETA: 30s - loss: 0.1247 - accuracy: 0.953 - ETA: 30s - loss: 0.1267 - accuracy: 0.952 - ETA: 31s - loss: 0.1256 - accuracy: 0.953 - ETA: 31s - loss: 0.1240 - accuracy: 0.953 - ETA: 31s - loss: 0.1250 - accuracy: 0.953 - ETA: 31s - loss: 0.1234 - accuracy: 0.953 - ETA: 30s - loss: 0.1228 - accuracy: 0.953 - ETA: 30s - loss: 0.1231 - accuracy: 0.952 - ETA: 30s - loss: 0.1237 - accuracy: 0.952 - ETA: 30s - loss: 0.1237 - accuracy: 0.952 - ETA: 30s - loss: 0.1248 - accuracy: 0.952 - ETA: 29s - loss: 0.1250 - accuracy: 0.951 - ETA: 29s - loss: 0.1241 - accuracy: 0.952 - ETA: 29s - loss: 0.1234 - accuracy: 0.952 - ETA: 28s - loss: 0.1246 - accuracy: 0.952 - ETA: 28s - loss: 0.1247 - accuracy: 0.952 - ETA: 28s - loss: 0.1255 - accuracy: 0.951 - ETA: 27s - loss: 0.1255 - accuracy: 0.951 - ETA: 27s - loss: 0.1272 - accuracy: 0.951 - ETA: 27s - loss: 0.1262 - accuracy: 0.952 - ETA: 26s - loss: 0.1246 - accuracy: 0.952 - ETA: 26s - loss: 0.1240 - accuracy: 0.952 - ETA: 26s - loss: 0.1230 - accuracy: 0.953 - ETA: 26s - loss: 0.1236 - accuracy: 0.953 - ETA: 25s - loss: 0.1260 - accuracy: 0.952 - ETA: 25s - loss: 0.1256 - accuracy: 0.952 - ETA: 25s - loss: 0.1269 - accuracy: 0.952 - ETA: 24s - loss: 0.1256 - accuracy: 0.952 - ETA: 24s - loss: 0.1249 - accuracy: 0.953 - ETA: 24s - loss: 0.1250 - accuracy: 0.952 - ETA: 24s - loss: 0.1254 - accuracy: 0.953 - ETA: 23s - loss: 0.1248 - accuracy: 0.953 - ETA: 23s - loss: 0.1251 - accuracy: 0.953 - ETA: 23s - loss: 0.1254 - accuracy: 0.953 - ETA: 23s - loss: 0.1248 - accuracy: 0.953 - ETA: 22s - loss: 0.1242 - accuracy: 0.954 - ETA: 22s - loss: 0.1237 - accuracy: 0.954 - ETA: 22s - loss: 0.1234 - accuracy: 0.954 - ETA: 21s - loss: 0.1222 - accuracy: 0.954 - ETA: 21s - loss: 0.1218 - accuracy: 0.955 - ETA: 21s - loss: 0.1221 - accuracy: 0.954 - ETA: 21s - loss: 0.1212 - accuracy: 0.955 - ETA: 20s - loss: 0.1220 - accuracy: 0.954 - ETA: 20s - loss: 0.1217 - accuracy: 0.954 - ETA: 20s - loss: 0.1231 - accuracy: 0.955 - ETA: 20s - loss: 0.1224 - accuracy: 0.955 - ETA: 19s - loss: 0.1223 - accuracy: 0.955 - ETA: 19s - loss: 0.1217 - accuracy: 0.955 - ETA: 19s - loss: 0.1219 - accuracy: 0.955 - ETA: 19s - loss: 0.1211 - accuracy: 0.956 - ETA: 19s - loss: 0.1207 - accuracy: 0.956 - ETA: 18s - loss: 0.1207 - accuracy: 0.956 - ETA: 18s - loss: 0.1216 - accuracy: 0.956 - ETA: 18s - loss: 0.1218 - accuracy: 0.955 - ETA: 18s - loss: 0.1218 - accuracy: 0.955 - ETA: 17s - loss: 0.1209 - accuracy: 0.955 - ETA: 17s - loss: 0.1217 - accuracy: 0.956 - ETA: 17s - loss: 0.1215 - accuracy: 0.956 - ETA: 17s - loss: 0.1206 - accuracy: 0.956 - ETA: 16s - loss: 0.1197 - accuracy: 0.956 - ETA: 16s - loss: 0.1202 - accuracy: 0.956 - ETA: 16s - loss: 0.1200 - accuracy: 0.956 - ETA: 16s - loss: 0.1199 - accuracy: 0.956 - ETA: 16s - loss: 0.1197 - accuracy: 0.956 - ETA: 16s - loss: 0.1196 - accuracy: 0.956 - ETA: 15s - loss: 0.1189 - accuracy: 0.956 - ETA: 15s - loss: 0.1180 - accuracy: 0.957 - ETA: 15s - loss: 0.1200 - accuracy: 0.956 - ETA: 15s - loss: 0.1192 - accuracy: 0.956 - ETA: 14s - loss: 0.1192 - accuracy: 0.956 - ETA: 14s - loss: 0.1195 - accuracy: 0.956 - ETA: 14s - loss: 0.1194 - accuracy: 0.956 - ETA: 14s - loss: 0.1196 - accuracy: 0.956 - ETA: 14s - loss: 0.1194 - accuracy: 0.956 - ETA: 13s - loss: 0.1193 - accuracy: 0.956 - ETA: 13s - loss: 0.1196 - accuracy: 0.956 - ETA: 13s - loss: 0.1191 - accuracy: 0.957 - ETA: 13s - loss: 0.1201 - accuracy: 0.957 - ETA: 13s - loss: 0.1195 - accuracy: 0.957 - ETA: 12s - loss: 0.1202 - accuracy: 0.957 - ETA: 12s - loss: 0.1211 - accuracy: 0.957 - ETA: 12s - loss: 0.1209 - accuracy: 0.956 - ETA: 12s - loss: 0.1210 - accuracy: 0.957 - ETA: 11s - loss: 0.1215 - accuracy: 0.956 - ETA: 11s - loss: 0.1224 - accuracy: 0.956 - ETA: 11s - loss: 0.1226 - accuracy: 0.956 - ETA: 11s - loss: 0.1229 - accuracy: 0.956 - ETA: 11s - loss: 0.1226 - accuracy: 0.956 - ETA: 10s - loss: 0.1235 - accuracy: 0.956 - ETA: 10s - loss: 0.1232 - accuracy: 0.955 - ETA: 10s - loss: 0.1232 - accuracy: 0.955 - ETA: 10s - loss: 0.1232 - accuracy: 0.956 - ETA: 10s - loss: 0.1237 - accuracy: 0.955 - ETA: 9s - loss: 0.1236 - accuracy: 0.955 - ETA: 9s - loss: 0.1233 - accuracy: 0.95 - ETA: 9s - loss: 0.1228 - accuracy: 0.95 - ETA: 9s - loss: 0.1231 - accuracy: 0.95 - ETA: 9s - loss: 0.1223 - accuracy: 0.95 - ETA: 8s - loss: 0.1220 - accuracy: 0.95 - ETA: 8s - loss: 0.1229 - accuracy: 0.95 - ETA: 8s - loss: 0.1225 - accuracy: 0.95 - ETA: 8s - loss: 0.1227 - accuracy: 0.95 - ETA: 8s - loss: 0.1232 - accuracy: 0.95 - ETA: 7s - loss: 0.1244 - accuracy: 0.95 - ETA: 7s - loss: 0.1241 - accuracy: 0.95 - ETA: 7s - loss: 0.1244 - accuracy: 0.95 - ETA: 7s - loss: 0.1247 - accuracy: 0.95 - ETA: 7s - loss: 0.1250 - accuracy: 0.95 - ETA: 6s - loss: 0.1252 - accuracy: 0.95 - ETA: 6s - loss: 0.1272 - accuracy: 0.95 - ETA: 6s - loss: 0.1273 - accuracy: 0.95 - ETA: 6s - loss: 0.1271 - accuracy: 0.95 - ETA: 6s - loss: 0.1289 - accuracy: 0.95 - ETA: 5s - loss: 0.1288 - accuracy: 0.95 - ETA: 5s - loss: 0.1298 - accuracy: 0.95 - ETA: 5s - loss: 0.1302 - accuracy: 0.95 - ETA: 5s - loss: 0.1297 - accuracy: 0.95 - ETA: 5s - loss: 0.1295 - accuracy: 0.95 - ETA: 4s - loss: 0.1301 - accuracy: 0.95 - ETA: 4s - loss: 0.1302 - accuracy: 0.95 - ETA: 4s - loss: 0.1303 - accuracy: 0.95 - ETA: 4s - loss: 0.1305 - accuracy: 0.95 - ETA: 4s - loss: 0.1302 - accuracy: 0.95 - ETA: 3s - loss: 0.1300 - accuracy: 0.95 - ETA: 3s - loss: 0.1319 - accuracy: 0.95 - ETA: 3s - loss: 0.1322 - accuracy: 0.95 - ETA: 3s - loss: 0.1318 - accuracy: 0.95 - ETA: 3s - loss: 0.1327 - accuracy: 0.95 - ETA: 2s - loss: 0.1322 - accuracy: 0.95 - ETA: 2s - loss: 0.1323 - accuracy: 0.95 - ETA: 2s - loss: 0.1323 - accuracy: 0.95 - ETA: 2s - loss: 0.1321 - accuracy: 0.95 - ETA: 2s - loss: 0.1316 - accuracy: 0.95 - ETA: 2s - loss: 0.1320 - accuracy: 0.95 - ETA: 1s - loss: 0.1323 - accuracy: 0.9528"
     ]
    },
    {
     "name": "stdout",
     "output_type": "stream",
     "text": [
      "6319/6319 [==============================] - ETA: 1s - loss: 0.1332 - accuracy: 0.95 - ETA: 1s - loss: 0.1331 - accuracy: 0.95 - ETA: 1s - loss: 0.1329 - accuracy: 0.95 - ETA: 1s - loss: 0.1330 - accuracy: 0.95 - ETA: 0s - loss: 0.1334 - accuracy: 0.95 - ETA: 0s - loss: 0.1345 - accuracy: 0.95 - ETA: 0s - loss: 0.1342 - accuracy: 0.95 - ETA: 0s - loss: 0.1343 - accuracy: 0.95 - ETA: 0s - loss: 0.1344 - accuracy: 0.95 - 54s 9ms/step - loss: 0.1341 - accuracy: 0.9520 - val_loss: 0.9300 - val_accuracy: 0.8040\n",
      "Epoch 19/20\n"
     ]
    },
    {
     "name": "stdout",
     "output_type": "stream",
     "text": [
      "5984/6319 [===========================>..] - ETA: 1:16 - loss: 0.0280 - accuracy: 1.00 - ETA: 1:06 - loss: 0.0417 - accuracy: 1.00 - ETA: 1:00 - loss: 0.1231 - accuracy: 0.97 - ETA: 1:00 - loss: 0.1068 - accuracy: 0.98 - ETA: 59s - loss: 0.1237 - accuracy: 0.9688 - ETA: 59s - loss: 0.1341 - accuracy: 0.963 - ETA: 1:00 - loss: 0.1333 - accuracy: 0.95 - ETA: 1:01 - loss: 0.1260 - accuracy: 0.95 - ETA: 1:01 - loss: 0.1215 - accuracy: 0.95 - ETA: 1:02 - loss: 0.1128 - accuracy: 0.96 - ETA: 1:02 - loss: 0.1069 - accuracy: 0.96 - ETA: 1:02 - loss: 0.1025 - accuracy: 0.96 - ETA: 1:00 - loss: 0.1016 - accuracy: 0.96 - ETA: 1:00 - loss: 0.0982 - accuracy: 0.96 - ETA: 1:01 - loss: 0.0943 - accuracy: 0.97 - ETA: 1:03 - loss: 0.0940 - accuracy: 0.97 - ETA: 1:05 - loss: 0.0968 - accuracy: 0.97 - ETA: 1:04 - loss: 0.0984 - accuracy: 0.96 - ETA: 1:03 - loss: 0.0974 - accuracy: 0.96 - ETA: 1:03 - loss: 0.0934 - accuracy: 0.97 - ETA: 1:02 - loss: 0.0960 - accuracy: 0.97 - ETA: 1:01 - loss: 0.0965 - accuracy: 0.97 - ETA: 1:00 - loss: 0.1039 - accuracy: 0.96 - ETA: 59s - loss: 0.1024 - accuracy: 0.9661 - ETA: 58s - loss: 0.1068 - accuracy: 0.962 - ETA: 57s - loss: 0.1081 - accuracy: 0.962 - ETA: 57s - loss: 0.1091 - accuracy: 0.963 - ETA: 56s - loss: 0.1120 - accuracy: 0.959 - ETA: 55s - loss: 0.1090 - accuracy: 0.961 - ETA: 53s - loss: 0.1073 - accuracy: 0.961 - ETA: 52s - loss: 0.1061 - accuracy: 0.961 - ETA: 51s - loss: 0.1068 - accuracy: 0.961 - ETA: 50s - loss: 0.1107 - accuracy: 0.960 - ETA: 49s - loss: 0.1082 - accuracy: 0.961 - ETA: 48s - loss: 0.1097 - accuracy: 0.960 - ETA: 47s - loss: 0.1071 - accuracy: 0.961 - ETA: 46s - loss: 0.1072 - accuracy: 0.962 - ETA: 45s - loss: 0.1077 - accuracy: 0.960 - ETA: 44s - loss: 0.1103 - accuracy: 0.959 - ETA: 44s - loss: 0.1097 - accuracy: 0.960 - ETA: 43s - loss: 0.1079 - accuracy: 0.961 - ETA: 42s - loss: 0.1122 - accuracy: 0.960 - ETA: 42s - loss: 0.1113 - accuracy: 0.960 - ETA: 41s - loss: 0.1116 - accuracy: 0.960 - ETA: 41s - loss: 0.1128 - accuracy: 0.959 - ETA: 41s - loss: 0.1132 - accuracy: 0.959 - ETA: 41s - loss: 0.1114 - accuracy: 0.960 - ETA: 41s - loss: 0.1097 - accuracy: 0.961 - ETA: 40s - loss: 0.1102 - accuracy: 0.961 - ETA: 41s - loss: 0.1114 - accuracy: 0.960 - ETA: 40s - loss: 0.1106 - accuracy: 0.960 - ETA: 40s - loss: 0.1102 - accuracy: 0.960 - ETA: 40s - loss: 0.1107 - accuracy: 0.960 - ETA: 40s - loss: 0.1103 - accuracy: 0.960 - ETA: 40s - loss: 0.1106 - accuracy: 0.960 - ETA: 39s - loss: 0.1102 - accuracy: 0.960 - ETA: 39s - loss: 0.1124 - accuracy: 0.960 - ETA: 39s - loss: 0.1113 - accuracy: 0.960 - ETA: 39s - loss: 0.1122 - accuracy: 0.960 - ETA: 38s - loss: 0.1104 - accuracy: 0.960 - ETA: 38s - loss: 0.1108 - accuracy: 0.960 - ETA: 38s - loss: 0.1103 - accuracy: 0.960 - ETA: 37s - loss: 0.1093 - accuracy: 0.960 - ETA: 37s - loss: 0.1085 - accuracy: 0.960 - ETA: 37s - loss: 0.1077 - accuracy: 0.961 - ETA: 37s - loss: 0.1095 - accuracy: 0.960 - ETA: 36s - loss: 0.1097 - accuracy: 0.960 - ETA: 36s - loss: 0.1087 - accuracy: 0.961 - ETA: 36s - loss: 0.1086 - accuracy: 0.961 - ETA: 36s - loss: 0.1085 - accuracy: 0.961 - ETA: 36s - loss: 0.1085 - accuracy: 0.960 - ETA: 35s - loss: 0.1089 - accuracy: 0.960 - ETA: 35s - loss: 0.1141 - accuracy: 0.960 - ETA: 35s - loss: 0.1159 - accuracy: 0.959 - ETA: 35s - loss: 0.1159 - accuracy: 0.959 - ETA: 34s - loss: 0.1165 - accuracy: 0.958 - ETA: 34s - loss: 0.1171 - accuracy: 0.958 - ETA: 34s - loss: 0.1165 - accuracy: 0.958 - ETA: 34s - loss: 0.1162 - accuracy: 0.958 - ETA: 34s - loss: 0.1156 - accuracy: 0.958 - ETA: 33s - loss: 0.1145 - accuracy: 0.959 - ETA: 33s - loss: 0.1150 - accuracy: 0.958 - ETA: 33s - loss: 0.1144 - accuracy: 0.959 - ETA: 32s - loss: 0.1144 - accuracy: 0.958 - ETA: 32s - loss: 0.1136 - accuracy: 0.958 - ETA: 32s - loss: 0.1127 - accuracy: 0.958 - ETA: 32s - loss: 0.1154 - accuracy: 0.959 - ETA: 31s - loss: 0.1153 - accuracy: 0.959 - ETA: 31s - loss: 0.1150 - accuracy: 0.959 - ETA: 31s - loss: 0.1146 - accuracy: 0.959 - ETA: 30s - loss: 0.1151 - accuracy: 0.958 - ETA: 30s - loss: 0.1140 - accuracy: 0.959 - ETA: 30s - loss: 0.1136 - accuracy: 0.959 - ETA: 29s - loss: 0.1132 - accuracy: 0.959 - ETA: 29s - loss: 0.1142 - accuracy: 0.958 - ETA: 29s - loss: 0.1151 - accuracy: 0.958 - ETA: 29s - loss: 0.1160 - accuracy: 0.957 - ETA: 28s - loss: 0.1154 - accuracy: 0.957 - ETA: 28s - loss: 0.1149 - accuracy: 0.958 - ETA: 28s - loss: 0.1143 - accuracy: 0.958 - ETA: 27s - loss: 0.1137 - accuracy: 0.958 - ETA: 27s - loss: 0.1146 - accuracy: 0.958 - ETA: 27s - loss: 0.1141 - accuracy: 0.958 - ETA: 27s - loss: 0.1159 - accuracy: 0.957 - ETA: 26s - loss: 0.1157 - accuracy: 0.957 - ETA: 26s - loss: 0.1187 - accuracy: 0.957 - ETA: 25s - loss: 0.1184 - accuracy: 0.956 - ETA: 25s - loss: 0.1185 - accuracy: 0.956 - ETA: 24s - loss: 0.1183 - accuracy: 0.956 - ETA: 24s - loss: 0.1174 - accuracy: 0.957 - ETA: 24s - loss: 0.1172 - accuracy: 0.957 - ETA: 23s - loss: 0.1170 - accuracy: 0.957 - ETA: 23s - loss: 0.1163 - accuracy: 0.957 - ETA: 23s - loss: 0.1164 - accuracy: 0.957 - ETA: 22s - loss: 0.1157 - accuracy: 0.957 - ETA: 22s - loss: 0.1151 - accuracy: 0.957 - ETA: 22s - loss: 0.1144 - accuracy: 0.957 - ETA: 21s - loss: 0.1140 - accuracy: 0.958 - ETA: 21s - loss: 0.1139 - accuracy: 0.958 - ETA: 21s - loss: 0.1144 - accuracy: 0.958 - ETA: 20s - loss: 0.1143 - accuracy: 0.958 - ETA: 20s - loss: 0.1154 - accuracy: 0.957 - ETA: 20s - loss: 0.1154 - accuracy: 0.957 - ETA: 19s - loss: 0.1146 - accuracy: 0.957 - ETA: 19s - loss: 0.1149 - accuracy: 0.958 - ETA: 19s - loss: 0.1149 - accuracy: 0.957 - ETA: 18s - loss: 0.1147 - accuracy: 0.957 - ETA: 18s - loss: 0.1143 - accuracy: 0.957 - ETA: 18s - loss: 0.1140 - accuracy: 0.957 - ETA: 17s - loss: 0.1137 - accuracy: 0.957 - ETA: 17s - loss: 0.1140 - accuracy: 0.957 - ETA: 17s - loss: 0.1141 - accuracy: 0.957 - ETA: 17s - loss: 0.1135 - accuracy: 0.957 - ETA: 16s - loss: 0.1132 - accuracy: 0.958 - ETA: 16s - loss: 0.1136 - accuracy: 0.957 - ETA: 16s - loss: 0.1137 - accuracy: 0.957 - ETA: 16s - loss: 0.1135 - accuracy: 0.957 - ETA: 16s - loss: 0.1139 - accuracy: 0.957 - ETA: 15s - loss: 0.1139 - accuracy: 0.957 - ETA: 15s - loss: 0.1135 - accuracy: 0.957 - ETA: 15s - loss: 0.1133 - accuracy: 0.957 - ETA: 15s - loss: 0.1127 - accuracy: 0.958 - ETA: 14s - loss: 0.1122 - accuracy: 0.958 - ETA: 14s - loss: 0.1118 - accuracy: 0.958 - ETA: 14s - loss: 0.1113 - accuracy: 0.958 - ETA: 14s - loss: 0.1113 - accuracy: 0.958 - ETA: 13s - loss: 0.1115 - accuracy: 0.957 - ETA: 13s - loss: 0.1108 - accuracy: 0.958 - ETA: 13s - loss: 0.1103 - accuracy: 0.958 - ETA: 13s - loss: 0.1108 - accuracy: 0.957 - ETA: 12s - loss: 0.1105 - accuracy: 0.957 - ETA: 12s - loss: 0.1104 - accuracy: 0.957 - ETA: 12s - loss: 0.1106 - accuracy: 0.957 - ETA: 11s - loss: 0.1110 - accuracy: 0.957 - ETA: 11s - loss: 0.1109 - accuracy: 0.957 - ETA: 11s - loss: 0.1108 - accuracy: 0.957 - ETA: 11s - loss: 0.1106 - accuracy: 0.957 - ETA: 10s - loss: 0.1129 - accuracy: 0.956 - ETA: 10s - loss: 0.1128 - accuracy: 0.956 - ETA: 10s - loss: 0.1126 - accuracy: 0.957 - ETA: 10s - loss: 0.1120 - accuracy: 0.957 - ETA: 9s - loss: 0.1121 - accuracy: 0.957 - ETA: 9s - loss: 0.1123 - accuracy: 0.95 - ETA: 9s - loss: 0.1124 - accuracy: 0.95 - ETA: 9s - loss: 0.1130 - accuracy: 0.95 - ETA: 8s - loss: 0.1130 - accuracy: 0.95 - ETA: 8s - loss: 0.1140 - accuracy: 0.95 - ETA: 8s - loss: 0.1148 - accuracy: 0.95 - ETA: 7s - loss: 0.1157 - accuracy: 0.95 - ETA: 7s - loss: 0.1159 - accuracy: 0.95 - ETA: 7s - loss: 0.1157 - accuracy: 0.95 - ETA: 7s - loss: 0.1152 - accuracy: 0.95 - ETA: 6s - loss: 0.1177 - accuracy: 0.95 - ETA: 6s - loss: 0.1174 - accuracy: 0.95 - ETA: 6s - loss: 0.1179 - accuracy: 0.95 - ETA: 6s - loss: 0.1178 - accuracy: 0.95 - ETA: 5s - loss: 0.1173 - accuracy: 0.95 - ETA: 5s - loss: 0.1170 - accuracy: 0.95 - ETA: 5s - loss: 0.1169 - accuracy: 0.95 - ETA: 4s - loss: 0.1171 - accuracy: 0.95 - ETA: 4s - loss: 0.1175 - accuracy: 0.95 - ETA: 4s - loss: 0.1179 - accuracy: 0.95 - ETA: 4s - loss: 0.1191 - accuracy: 0.95 - ETA: 3s - loss: 0.1186 - accuracy: 0.95 - ETA: 3s - loss: 0.1197 - accuracy: 0.95 - ETA: 3s - loss: 0.1201 - accuracy: 0.95 - ETA: 2s - loss: 0.1199 - accuracy: 0.9545"
     ]
    },
    {
     "name": "stdout",
     "output_type": "stream",
     "text": [
      "6319/6319 [==============================] - ETA: 2s - loss: 0.1209 - accuracy: 0.95 - ETA: 2s - loss: 0.1206 - accuracy: 0.95 - ETA: 2s - loss: 0.1211 - accuracy: 0.95 - ETA: 1s - loss: 0.1211 - accuracy: 0.95 - ETA: 1s - loss: 0.1230 - accuracy: 0.95 - ETA: 1s - loss: 0.1235 - accuracy: 0.95 - ETA: 0s - loss: 0.1236 - accuracy: 0.95 - ETA: 0s - loss: 0.1236 - accuracy: 0.95 - ETA: 0s - loss: 0.1234 - accuracy: 0.95 - ETA: 0s - loss: 0.1238 - accuracy: 0.95 - 65s 10ms/step - loss: 0.1238 - accuracy: 0.9525 - val_loss: 0.8394 - val_accuracy: 0.7951\n",
      "Epoch 20/20\n"
     ]
    },
    {
     "name": "stdout",
     "output_type": "stream",
     "text": [
      "6016/6319 [===========================>..] - ETA: 29s - loss: 0.1790 - accuracy: 0.937 - ETA: 29s - loss: 0.1671 - accuracy: 0.937 - ETA: 29s - loss: 0.1664 - accuracy: 0.927 - ETA: 30s - loss: 0.1364 - accuracy: 0.937 - ETA: 31s - loss: 0.1407 - accuracy: 0.943 - ETA: 31s - loss: 0.1261 - accuracy: 0.953 - ETA: 31s - loss: 0.1239 - accuracy: 0.950 - ETA: 31s - loss: 0.1199 - accuracy: 0.949 - ETA: 30s - loss: 0.1258 - accuracy: 0.947 - ETA: 30s - loss: 0.1323 - accuracy: 0.946 - ETA: 30s - loss: 0.1366 - accuracy: 0.948 - ETA: 30s - loss: 0.1353 - accuracy: 0.947 - ETA: 29s - loss: 0.1394 - accuracy: 0.944 - ETA: 29s - loss: 0.1371 - accuracy: 0.946 - ETA: 29s - loss: 0.1331 - accuracy: 0.947 - ETA: 29s - loss: 0.1323 - accuracy: 0.947 - ETA: 28s - loss: 0.1290 - accuracy: 0.948 - ETA: 28s - loss: 0.1224 - accuracy: 0.951 - ETA: 28s - loss: 0.1188 - accuracy: 0.952 - ETA: 28s - loss: 0.1353 - accuracy: 0.945 - ETA: 28s - loss: 0.1363 - accuracy: 0.943 - ETA: 28s - loss: 0.1361 - accuracy: 0.944 - ETA: 28s - loss: 0.1344 - accuracy: 0.945 - ETA: 28s - loss: 0.1334 - accuracy: 0.946 - ETA: 28s - loss: 0.1341 - accuracy: 0.946 - ETA: 27s - loss: 0.1350 - accuracy: 0.945 - ETA: 27s - loss: 0.1353 - accuracy: 0.946 - ETA: 27s - loss: 0.1360 - accuracy: 0.946 - ETA: 27s - loss: 0.1366 - accuracy: 0.947 - ETA: 27s - loss: 0.1369 - accuracy: 0.946 - ETA: 26s - loss: 0.1412 - accuracy: 0.945 - ETA: 26s - loss: 0.1390 - accuracy: 0.947 - ETA: 26s - loss: 0.1366 - accuracy: 0.948 - ETA: 26s - loss: 0.1365 - accuracy: 0.949 - ETA: 26s - loss: 0.1359 - accuracy: 0.950 - ETA: 26s - loss: 0.1332 - accuracy: 0.951 - ETA: 26s - loss: 0.1319 - accuracy: 0.951 - ETA: 26s - loss: 0.1300 - accuracy: 0.952 - ETA: 26s - loss: 0.1280 - accuracy: 0.953 - ETA: 25s - loss: 0.1315 - accuracy: 0.953 - ETA: 25s - loss: 0.1304 - accuracy: 0.952 - ETA: 25s - loss: 0.1299 - accuracy: 0.952 - ETA: 25s - loss: 0.1282 - accuracy: 0.952 - ETA: 25s - loss: 0.1304 - accuracy: 0.951 - ETA: 24s - loss: 0.1309 - accuracy: 0.951 - ETA: 24s - loss: 0.1301 - accuracy: 0.951 - ETA: 24s - loss: 0.1295 - accuracy: 0.952 - ETA: 24s - loss: 0.1279 - accuracy: 0.952 - ETA: 24s - loss: 0.1290 - accuracy: 0.951 - ETA: 24s - loss: 0.1288 - accuracy: 0.951 - ETA: 24s - loss: 0.1273 - accuracy: 0.952 - ETA: 23s - loss: 0.1268 - accuracy: 0.952 - ETA: 23s - loss: 0.1272 - accuracy: 0.952 - ETA: 23s - loss: 0.1292 - accuracy: 0.952 - ETA: 23s - loss: 0.1273 - accuracy: 0.953 - ETA: 23s - loss: 0.1272 - accuracy: 0.952 - ETA: 23s - loss: 0.1290 - accuracy: 0.950 - ETA: 23s - loss: 0.1279 - accuracy: 0.951 - ETA: 22s - loss: 0.1276 - accuracy: 0.951 - ETA: 22s - loss: 0.1293 - accuracy: 0.951 - ETA: 22s - loss: 0.1276 - accuracy: 0.952 - ETA: 22s - loss: 0.1266 - accuracy: 0.952 - ETA: 22s - loss: 0.1259 - accuracy: 0.953 - ETA: 22s - loss: 0.1250 - accuracy: 0.953 - ETA: 22s - loss: 0.1254 - accuracy: 0.953 - ETA: 22s - loss: 0.1237 - accuracy: 0.954 - ETA: 22s - loss: 0.1228 - accuracy: 0.954 - ETA: 21s - loss: 0.1220 - accuracy: 0.954 - ETA: 21s - loss: 0.1228 - accuracy: 0.954 - ETA: 21s - loss: 0.1212 - accuracy: 0.955 - ETA: 21s - loss: 0.1204 - accuracy: 0.956 - ETA: 21s - loss: 0.1198 - accuracy: 0.955 - ETA: 21s - loss: 0.1192 - accuracy: 0.956 - ETA: 21s - loss: 0.1185 - accuracy: 0.956 - ETA: 21s - loss: 0.1175 - accuracy: 0.957 - ETA: 21s - loss: 0.1169 - accuracy: 0.957 - ETA: 21s - loss: 0.1155 - accuracy: 0.957 - ETA: 21s - loss: 0.1155 - accuracy: 0.957 - ETA: 21s - loss: 0.1171 - accuracy: 0.957 - ETA: 21s - loss: 0.1169 - accuracy: 0.957 - ETA: 21s - loss: 0.1157 - accuracy: 0.957 - ETA: 20s - loss: 0.1159 - accuracy: 0.957 - ETA: 20s - loss: 0.1152 - accuracy: 0.957 - ETA: 20s - loss: 0.1143 - accuracy: 0.957 - ETA: 20s - loss: 0.1150 - accuracy: 0.957 - ETA: 20s - loss: 0.1163 - accuracy: 0.956 - ETA: 20s - loss: 0.1165 - accuracy: 0.956 - ETA: 20s - loss: 0.1158 - accuracy: 0.957 - ETA: 19s - loss: 0.1158 - accuracy: 0.957 - ETA: 19s - loss: 0.1187 - accuracy: 0.957 - ETA: 19s - loss: 0.1176 - accuracy: 0.958 - ETA: 19s - loss: 0.1169 - accuracy: 0.958 - ETA: 19s - loss: 0.1160 - accuracy: 0.959 - ETA: 19s - loss: 0.1152 - accuracy: 0.959 - ETA: 18s - loss: 0.1155 - accuracy: 0.959 - ETA: 18s - loss: 0.1154 - accuracy: 0.959 - ETA: 18s - loss: 0.1198 - accuracy: 0.958 - ETA: 18s - loss: 0.1197 - accuracy: 0.958 - ETA: 18s - loss: 0.1202 - accuracy: 0.958 - ETA: 17s - loss: 0.1220 - accuracy: 0.957 - ETA: 17s - loss: 0.1219 - accuracy: 0.957 - ETA: 17s - loss: 0.1217 - accuracy: 0.957 - ETA: 17s - loss: 0.1215 - accuracy: 0.957 - ETA: 17s - loss: 0.1211 - accuracy: 0.958 - ETA: 16s - loss: 0.1204 - accuracy: 0.958 - ETA: 16s - loss: 0.1211 - accuracy: 0.958 - ETA: 16s - loss: 0.1214 - accuracy: 0.957 - ETA: 16s - loss: 0.1225 - accuracy: 0.957 - ETA: 16s - loss: 0.1228 - accuracy: 0.957 - ETA: 15s - loss: 0.1227 - accuracy: 0.957 - ETA: 15s - loss: 0.1222 - accuracy: 0.957 - ETA: 15s - loss: 0.1227 - accuracy: 0.957 - ETA: 15s - loss: 0.1241 - accuracy: 0.957 - ETA: 15s - loss: 0.1263 - accuracy: 0.957 - ETA: 14s - loss: 0.1275 - accuracy: 0.956 - ETA: 14s - loss: 0.1268 - accuracy: 0.956 - ETA: 14s - loss: 0.1263 - accuracy: 0.957 - ETA: 14s - loss: 0.1257 - accuracy: 0.957 - ETA: 14s - loss: 0.1259 - accuracy: 0.956 - ETA: 13s - loss: 0.1254 - accuracy: 0.957 - ETA: 13s - loss: 0.1273 - accuracy: 0.956 - ETA: 13s - loss: 0.1273 - accuracy: 0.956 - ETA: 13s - loss: 0.1280 - accuracy: 0.956 - ETA: 13s - loss: 0.1279 - accuracy: 0.956 - ETA: 12s - loss: 0.1274 - accuracy: 0.956 - ETA: 12s - loss: 0.1268 - accuracy: 0.956 - ETA: 12s - loss: 0.1282 - accuracy: 0.956 - ETA: 12s - loss: 0.1277 - accuracy: 0.957 - ETA: 12s - loss: 0.1273 - accuracy: 0.957 - ETA: 12s - loss: 0.1270 - accuracy: 0.957 - ETA: 11s - loss: 0.1271 - accuracy: 0.957 - ETA: 11s - loss: 0.1280 - accuracy: 0.957 - ETA: 11s - loss: 0.1283 - accuracy: 0.957 - ETA: 11s - loss: 0.1284 - accuracy: 0.957 - ETA: 11s - loss: 0.1280 - accuracy: 0.957 - ETA: 10s - loss: 0.1290 - accuracy: 0.956 - ETA: 10s - loss: 0.1295 - accuracy: 0.956 - ETA: 10s - loss: 0.1290 - accuracy: 0.956 - ETA: 10s - loss: 0.1288 - accuracy: 0.956 - ETA: 10s - loss: 0.1298 - accuracy: 0.955 - ETA: 9s - loss: 0.1294 - accuracy: 0.956 - ETA: 9s - loss: 0.1295 - accuracy: 0.95 - ETA: 9s - loss: 0.1292 - accuracy: 0.95 - ETA: 9s - loss: 0.1287 - accuracy: 0.95 - ETA: 9s - loss: 0.1280 - accuracy: 0.95 - ETA: 9s - loss: 0.1272 - accuracy: 0.95 - ETA: 8s - loss: 0.1279 - accuracy: 0.95 - ETA: 8s - loss: 0.1278 - accuracy: 0.95 - ETA: 8s - loss: 0.1284 - accuracy: 0.95 - ETA: 8s - loss: 0.1286 - accuracy: 0.95 - ETA: 8s - loss: 0.1284 - accuracy: 0.95 - ETA: 7s - loss: 0.1277 - accuracy: 0.95 - ETA: 7s - loss: 0.1286 - accuracy: 0.95 - ETA: 7s - loss: 0.1283 - accuracy: 0.95 - ETA: 7s - loss: 0.1279 - accuracy: 0.95 - ETA: 7s - loss: 0.1286 - accuracy: 0.95 - ETA: 7s - loss: 0.1282 - accuracy: 0.95 - ETA: 6s - loss: 0.1288 - accuracy: 0.95 - ETA: 6s - loss: 0.1290 - accuracy: 0.95 - ETA: 6s - loss: 0.1301 - accuracy: 0.95 - ETA: 6s - loss: 0.1297 - accuracy: 0.95 - ETA: 6s - loss: 0.1298 - accuracy: 0.95 - ETA: 6s - loss: 0.1296 - accuracy: 0.95 - ETA: 5s - loss: 0.1295 - accuracy: 0.95 - ETA: 5s - loss: 0.1288 - accuracy: 0.95 - ETA: 5s - loss: 0.1291 - accuracy: 0.95 - ETA: 5s - loss: 0.1285 - accuracy: 0.95 - ETA: 5s - loss: 0.1281 - accuracy: 0.95 - ETA: 5s - loss: 0.1277 - accuracy: 0.95 - ETA: 4s - loss: 0.1274 - accuracy: 0.95 - ETA: 4s - loss: 0.1275 - accuracy: 0.95 - ETA: 4s - loss: 0.1273 - accuracy: 0.95 - ETA: 4s - loss: 0.1271 - accuracy: 0.95 - ETA: 4s - loss: 0.1271 - accuracy: 0.95 - ETA: 3s - loss: 0.1293 - accuracy: 0.95 - ETA: 3s - loss: 0.1304 - accuracy: 0.95 - ETA: 3s - loss: 0.1304 - accuracy: 0.95 - ETA: 3s - loss: 0.1301 - accuracy: 0.95 - ETA: 3s - loss: 0.1301 - accuracy: 0.95 - ETA: 3s - loss: 0.1298 - accuracy: 0.95 - ETA: 2s - loss: 0.1295 - accuracy: 0.95 - ETA: 2s - loss: 0.1299 - accuracy: 0.95 - ETA: 2s - loss: 0.1301 - accuracy: 0.95 - ETA: 2s - loss: 0.1297 - accuracy: 0.95 - ETA: 2s - loss: 0.1299 - accuracy: 0.95 - ETA: 2s - loss: 0.1298 - accuracy: 0.95 - ETA: 1s - loss: 0.1295 - accuracy: 0.95 - ETA: 1s - loss: 0.1293 - accuracy: 0.9555"
     ]
    },
    {
     "name": "stdout",
     "output_type": "stream",
     "text": [
      "6319/6319 [==============================] - ETA: 1s - loss: 0.1292 - accuracy: 0.95 - ETA: 1s - loss: 0.1288 - accuracy: 0.95 - ETA: 1s - loss: 0.1289 - accuracy: 0.95 - ETA: 0s - loss: 0.1284 - accuracy: 0.95 - ETA: 0s - loss: 0.1286 - accuracy: 0.95 - ETA: 0s - loss: 0.1285 - accuracy: 0.95 - ETA: 0s - loss: 0.1289 - accuracy: 0.95 - ETA: 0s - loss: 0.1289 - accuracy: 0.95 - ETA: 0s - loss: 0.1292 - accuracy: 0.95 - 47s 7ms/step - loss: 0.1292 - accuracy: 0.9552 - val_loss: 0.9071 - val_accuracy: 0.8136\n"
     ]
    },
    {
     "data": {
      "text/plain": [
       "<keras.callbacks.callbacks.History at 0x1c38041ab08>"
      ]
     },
     "execution_count": 34,
     "metadata": {},
     "output_type": "execute_result"
    }
   ],
   "source": [
    "wandb.init()\n",
    "print(y_train_hot.shape)\n",
    "print(labels.shape)\n",
    "print(X_train.shape)\n",
    "# Train the CNN model\n",
    "#    X_train: Input data\n",
    "#    y_train_hot: Target data\n",
    "model.fit(X_train, y_train_hot, epochs=config.epochs, validation_data=(X_val, y_val_hot), callbacks=[WandbCallback(data_type=\"image\", labels=labels)])"
   ]
  },
  {
   "cell_type": "code",
   "execution_count": 35,
   "metadata": {},
   "outputs": [
    {
     "name": "stdout",
     "output_type": "stream",
     "text": [
      "Model has been saved.\n"
     ]
    }
   ],
   "source": [
    "# Save the keras model\n",
    "model.save(\"bio_cnn_model.h5\")\n",
    "print(\"Model has been saved.\")"
   ]
  },
  {
   "cell_type": "markdown",
   "metadata": {},
   "source": [
    "## Running the IntelliChirp Biophony CNN"
   ]
  },
  {
   "cell_type": "code",
   "execution_count": 36,
   "metadata": {
    "scrolled": true
   },
   "outputs": [],
   "source": [
    "from keras.models import load_model\n",
    "\n",
    "# Load the model\n",
    "loaded_model = load_model('bio_cnn_model.h5')"
   ]
  },
  {
   "cell_type": "code",
   "execution_count": 37,
   "metadata": {},
   "outputs": [
    {
     "name": "stdout",
     "output_type": "stream",
     "text": [
      "Model: \"sequential_2\"\n",
      "_________________________________________________________________\n",
      "Layer (type)                 Output Shape              Param #   \n",
      "=================================================================\n",
      "conv2d_4 (Conv2D)            (None, 126, 30, 21)       210       \n",
      "_________________________________________________________________\n",
      "max_pooling2d_3 (MaxPooling2 (None, 63, 15, 21)        0         \n",
      "_________________________________________________________________\n",
      "activation_6 (Activation)    (None, 63, 15, 21)        0         \n",
      "_________________________________________________________________\n",
      "conv2d_5 (Conv2D)            (None, 61, 13, 48)        9120      \n",
      "_________________________________________________________________\n",
      "max_pooling2d_4 (MaxPooling2 (None, 30, 6, 48)         0         \n",
      "_________________________________________________________________\n",
      "activation_7 (Activation)    (None, 30, 6, 48)         0         \n",
      "_________________________________________________________________\n",
      "conv2d_6 (Conv2D)            (None, 28, 6, 48)         6960      \n",
      "_________________________________________________________________\n",
      "activation_8 (Activation)    (None, 28, 6, 48)         0         \n",
      "_________________________________________________________________\n",
      "flatten_2 (Flatten)          (None, 8064)              0         \n",
      "_________________________________________________________________\n",
      "dropout_3 (Dropout)          (None, 8064)              0         \n",
      "_________________________________________________________________\n",
      "dense_3 (Dense)              (None, 64)                516160    \n",
      "_________________________________________________________________\n",
      "activation_9 (Activation)    (None, 64)                0         \n",
      "_________________________________________________________________\n",
      "dropout_4 (Dropout)          (None, 64)                0         \n",
      "_________________________________________________________________\n",
      "dense_4 (Dense)              (None, 5)                 325       \n",
      "_________________________________________________________________\n",
      "activation_10 (Activation)   (None, 5)                 0         \n",
      "=================================================================\n",
      "Total params: 532,775\n",
      "Trainable params: 532,775\n",
      "Non-trainable params: 0\n",
      "_________________________________________________________________\n"
     ]
    }
   ],
   "source": [
    "# Summarize the model\n",
    "model.summary()"
   ]
  },
  {
   "cell_type": "code",
   "execution_count": 38,
   "metadata": {},
   "outputs": [
    {
     "name": "stdout",
     "output_type": "stream",
     "text": [
      "[[470  51   7   0   0]\n",
      " [  4 457  23   4  39]\n",
      " [  0  61 395   6  66]\n",
      " [  0 164   9 312  43]\n",
      " [  0  44  17   0 466]]\n",
      "Accuracy for class BAM : [0.89015152]\n",
      "Accuracy for class BBI : [0.86717268]\n",
      "Accuracy for class BIN : [0.74810606]\n",
      "Accuracy for class OPI : [0.59090909]\n",
      "Accuracy for class OQU : [0.88425047]\n",
      "Overall Accuracy : 0.796057619408643\n"
     ]
    },
    {
     "data": {
      "image/png": "[encoded data removed]",
      "text/plain": [
       "<Figure size 432x288 with 2 Axes>"
      ]
     },
     "metadata": {
      "needs_background": "light"
     },
     "output_type": "display_data"
    },
    {
     "data": {
      "text/plain": [
       "'[[125  10   0   0   0]\\n [  3 430  45   0   0]\\n [  0  17  78   0   0]\\n [  0   5   0   0   0]\\n [  0   4   0   0   2]]\\nAccuracy for class BRA : [0.92592593]\\nAccuracy for class BAM : [0.89958159]\\nAccuracy for class BBI : [0.82105263]\\nAccuracy for class BMA : [0.]\\nAccuracy for class BIN : [0.33333333]\\nOverall Accuracy : 0.8831710709318498'"
      ]
     },
     "execution_count": 38,
     "metadata": {},
     "output_type": "execute_result"
    }
   ],
   "source": [
    "y_pred_ohe = loaded_model.predict(X_test)  # shape=(n_samples, 12)\n",
    "y_pred_labels = np.argmax(y_pred_ohe, axis=1)  # only necessary if output has one-hot-encoding, shape=(n_samples)\n",
    "\n",
    "confusion_matrix = metrics.confusion_matrix(y_true=y_test, y_pred=y_pred_labels)  # shape\n",
    "print(confusion_matrix)\n",
    "\n",
    "for class_i in range(len(labels)) :\n",
    "    indices = np.argwhere(y_test == class_i)\n",
    "    sum = 0\n",
    "    for index in indices:\n",
    "        sum += (y_test[index] == y_pred_labels[index])\n",
    "    if(len(indices) > 0) : mean = sum/len(indices)\n",
    "    else : mean = \"N/A\"\n",
    "    print(\"Accuracy for class\", labels[class_i], \":\", mean)\n",
    "\n",
    "print(\"Overall Accuracy :\", np.mean(y_test == y_pred_labels))\n",
    "\n",
    "fig = plt.figure()\n",
    "ax = fig.add_subplot(111)\n",
    "cax = ax.matshow(confusion_matrix, cmap=plt.cm.Blues)\n",
    "fig.colorbar(cax)\n",
    "#ax.set_xticklabels([''] + labels)\n",
    "#ax.set_yticklabels([''] + labels)\n",
    "plt.xlabel('Predicted')\n",
    "plt.ylabel('Expected')\n",
    "plt.show()\n",
    "\n",
    "'''[[125  10   0   0   0]\n",
    " [  3 430  45   0   0]\n",
    " [  0  17  78   0   0]\n",
    " [  0   5   0   0   0]\n",
    " [  0   4   0   0   2]]\n",
    "Accuracy for class BRA : [0.92592593]\n",
    "Accuracy for class BAM : [0.89958159]\n",
    "Accuracy for class BBI : [0.82105263]\n",
    "Accuracy for class BMA : [0.]\n",
    "Accuracy for class BIN : [0.33333333]\n",
    "Overall Accuracy : 0.8831710709318498'''"
   ]
  },
  {
   "cell_type": "code",
   "execution_count": 39,
   "metadata": {},
   "outputs": [
    {
     "name": "stdout",
     "output_type": "stream",
     "text": [
      "2638/2638 [==============================] - ETA:  - ETA:  - ETA:  - ETA:  - ETA:  - ETA:  - ETA:  - ETA:  - ETA:  - ETA:  - ETA:  - ETA:  - ETA:  - ETA:  - ETA:  - ETA:  - ETA:  - ETA:  - ETA:  - ETA:  - ETA:  - ETA:  - ETA:  - ETA:  - ETA:  - ETA:  - ETA:  - ETA:  - ETA:  - ETA:  - ETA:  - ETA:  - ETA:  - ETA:  - ETA:  - ETA:  - ETA:  - ETA:  - ETA:  - ETA:  - ETA:  - 7s 3ms/step\n"
     ]
    }
   ],
   "source": [
    "from sklearn.metrics import classification_report, zero_one_loss\n",
    "\n",
    "y_pred = model.predict(X_test, batch_size=64, verbose=1)\n",
    "y_pred_bool = np.argmax(y_pred, axis=1)\n",
    "\n",
    "zero1loss = zero_one_loss(y_true=y_test, y_pred=y_pred_labels)"
   ]
  },
  {
   "cell_type": "code",
   "execution_count": 40,
   "metadata": {},
   "outputs": [
    {
     "name": "stdout",
     "output_type": "stream",
     "text": [
      "              precision    recall  f1-score   support\n",
      "\n",
      "         0.0       0.99      0.89      0.94       528\n",
      "         1.0       0.59      0.87      0.70       527\n",
      "         2.0       0.88      0.75      0.81       528\n",
      "         3.0       0.97      0.59      0.73       528\n",
      "         4.0       0.76      0.88      0.82       527\n",
      "\n",
      "    accuracy                           0.80      2638\n",
      "   macro avg       0.84      0.80      0.80      2638\n",
      "weighted avg       0.84      0.80      0.80      2638\n",
      "\n",
      "0.20394238059135705\n"
     ]
    }
   ],
   "source": [
    "print(classification_report(y_test, y_pred_bool))\n",
    "print(zero1loss)"
   ]
  },
  {
   "cell_type": "code",
   "execution_count": 41,
   "metadata": {},
   "outputs": [
    {
     "data": {
      "image/png": "[encoded data removed]",
      "text/plain": [
       "<Figure size 432x288 with 1 Axes>"
      ]
     },
     "metadata": {
      "needs_background": "light"
     },
     "output_type": "display_data"
    }
   ],
   "source": [
    "from sklearn.metrics import roc_curve, auc\n",
    "from itertools import cycle\n",
    "\n",
    "# Compute ROC curve and ROC area for each class\n",
    "fpr = dict()\n",
    "tpr = dict()\n",
    "roc_auc = dict()\n",
    "for i in range(len(labels)):\n",
    "    fpr[i], tpr[i], _ = roc_curve(y_test, y_pred_labels, pos_label=i)\n",
    "    roc_auc[i] = auc(fpr[i], tpr[i])\n",
    "\n",
    "# Compute micro-average ROC curve and ROC area\n",
    "#fpr[\"micro\"], tpr[\"micro\"], _ = roc_curve(y_test.ravel(), y_pred_labels.ravel())\n",
    "#roc_auc[\"micro\"] = auc(fpr[\"micro\"], tpr[\"micro\"])\n",
    "lw = 2\n",
    "colors = cycle(['aqua', 'darkorange', 'cornflowerblue'])\n",
    "for i, color in zip(range(len(labels)), colors):\n",
    "    plt.plot(fpr[i], tpr[i], color=color, lw=lw,\n",
    "             label='class {0} (area = {1:0.2f})'\n",
    "             ''.format(labels[i], roc_auc[i]))\n",
    "\n",
    "plt.plot([0, 1], [0, 1], 'k--', lw=lw)\n",
    "plt.xlim([0.0, 1.0])\n",
    "plt.ylim([0.0, 1.05])\n",
    "plt.xlabel('False Positive Rate')\n",
    "plt.ylabel('True Positive Rate')\n",
    "plt.title('Some extension of Receiver operating characteristic to multi-class')\n",
    "plt.legend(loc=\"lower right\")\n",
    "plt.show()"
   ]
  },
  {
   "cell_type": "code",
   "execution_count": 42,
   "metadata": {},
   "outputs": [
    {
     "name": "stdout",
     "output_type": "stream",
     "text": [
      "[0. 1.]\n",
      "[ 0.0000000e+00  1.5258789e-05  0.0000000e+00 ...  3.3020020e-02\n",
      "  1.2680054e-02 -8.7432861e-03]\n",
      "(128, 32)\n",
      "PREDICTED VALUES\n",
      "\n",
      " BAM :  0.00070471\n",
      "\n",
      " BBI :  0.99113232\n",
      "\n",
      " BIN :  0.00807788\n",
      "\n",
      " OPI :  0.00000405\n",
      "\n",
      " OQU :  0.00008109\n",
      "\n",
      "\n",
      "GUESS:  BBI\n",
      "[1. 2.]\n",
      "[-0.03717041 -0.05769348 -0.06455994 ...  0.01766968  0.01895142\n",
      "  0.01779175]\n",
      "(128, 32)\n",
      "PREDICTED VALUES\n",
      "\n",
      " BAM :  0.00000040\n",
      "\n",
      " BBI :  0.83518916\n",
      "\n",
      " BIN :  0.16477688\n",
      "\n",
      " OPI :  0.00000004\n",
      "\n",
      " OQU :  0.00003356\n",
      "\n",
      "\n",
      "GUESS:  BBI\n",
      "[2. 3.]\n",
      "[ 0.02345276  0.02101135  0.01712036 ... -0.01161194 -0.0141449\n",
      " -0.01431274]\n",
      "(128, 32)\n",
      "PREDICTED VALUES\n",
      "\n",
      " BAM :  0.00002334\n",
      "\n",
      " BBI :  0.98782665\n",
      "\n",
      " BIN :  0.01191832\n",
      "\n",
      " OPI :  0.00001624\n",
      "\n",
      " OQU :  0.00021548\n",
      "\n",
      "\n",
      "GUESS:  BBI\n",
      "[3. 4.]\n",
      "[-0.01583862 -0.01066589 -0.00762939 ... -0.0377655  -0.03556824\n",
      " -0.02685547]\n",
      "(128, 32)\n",
      "PREDICTED VALUES\n",
      "\n",
      " BAM :  0.00000043\n",
      "\n",
      " BBI :  0.99999702\n",
      "\n",
      " BIN :  0.00000118\n",
      "\n",
      " OPI :  0.00000121\n",
      "\n",
      " OQU :  0.00000008\n",
      "\n",
      "\n",
      "GUESS:  BBI\n",
      "[4. 5.]\n",
      "[-0.02836609 -0.02510071 -0.02012634 ...  0.0138855  -0.00386047\n",
      " -0.00904846]\n",
      "(128, 32)\n",
      "PREDICTED VALUES\n",
      "\n",
      " BAM :  0.00022963\n",
      "\n",
      " BBI :  0.60106140\n",
      "\n",
      " BIN :  0.39567244\n",
      "\n",
      " OPI :  0.00000076\n",
      "\n",
      " OQU :  0.00303572\n",
      "\n",
      "\n",
      "GUESS:  BBI\n",
      "[5. 6.]\n",
      "[-0.00526428  0.00822449  0.01951599 ...  0.02729797  0.02156067\n",
      "  0.01234436]\n",
      "(128, 32)\n",
      "PREDICTED VALUES\n",
      "\n",
      " BAM :  0.00100831\n",
      "\n",
      " BBI :  0.54133230\n",
      "\n",
      " BIN :  0.17390834\n",
      "\n",
      " OPI :  0.27735138\n",
      "\n",
      " OQU :  0.00639960\n",
      "\n",
      "\n",
      "GUESS:  BBI\n",
      "[6. 7.]\n",
      "[ 0.00544739  0.00053406  0.00970459 ... -0.02848816 -0.01611328\n",
      " -0.01091003]\n",
      "(128, 32)\n",
      "PREDICTED VALUES\n",
      "\n",
      " BAM :  0.00000140\n",
      "\n",
      " BBI :  0.99918395\n",
      "\n",
      " BIN :  0.00081445\n",
      "\n",
      " OPI :  0.00000000\n",
      "\n",
      " OQU :  0.00000015\n",
      "\n",
      "\n",
      "GUESS:  BBI\n",
      "[7. 8.]\n",
      "[-0.0177002  -0.02372742 -0.02700806 ... -0.04304504 -0.04063416\n",
      " -0.03363037]\n",
      "(128, 32)\n",
      "PREDICTED VALUES\n",
      "\n",
      " BAM :  0.00001531\n",
      "\n",
      " BBI :  0.99997914\n",
      "\n",
      " BIN :  0.00000009\n",
      "\n",
      " OPI :  0.00000554\n",
      "\n",
      " OQU :  0.00000001\n",
      "\n",
      "\n",
      "GUESS:  BBI\n",
      "[8. 9.]\n",
      "[-0.01539612 -0.00108337  0.00718689 ...  0.01161194  0.01818848\n",
      "  0.02700806]\n",
      "(128, 32)\n",
      "PREDICTED VALUES\n",
      "\n",
      " BAM :  0.00186990\n",
      "\n",
      " BBI :  0.99753523\n",
      "\n",
      " BIN :  0.00000864\n",
      "\n",
      " OPI :  0.00058396\n",
      "\n",
      " OQU :  0.00000221\n",
      "\n",
      "\n",
      "GUESS:  BBI\n",
      "[ 9. 10.]\n",
      "[ 0.03549194  0.04856873  0.05519104 ... -0.02171326 -0.03634644\n",
      " -0.03912354]\n",
      "(128, 32)\n",
      "PREDICTED VALUES\n",
      "\n",
      " BAM :  0.00018910\n",
      "\n",
      " BBI :  0.35645595\n",
      "\n",
      " BIN :  0.64330840\n",
      "\n",
      " OPI :  0.00000134\n",
      "\n",
      " OQU :  0.00004522\n",
      "\n",
      "\n",
      "GUESS:  BIN\n",
      "[10. 11.]\n",
      "[-0.02934265 -0.0115509   0.00445557 ... -0.03616333 -0.03759766\n",
      " -0.0304718 ]\n",
      "(128, 32)\n",
      "PREDICTED VALUES\n",
      "\n",
      " BAM :  0.00000198\n",
      "\n",
      " BBI :  0.99965382\n",
      "\n",
      " BIN :  0.00034383\n",
      "\n",
      " OPI :  0.00000018\n",
      "\n",
      " OQU :  0.00000014\n",
      "\n",
      "\n",
      "GUESS:  BBI\n",
      "[11. 12.]\n",
      "[-0.03358459 -0.03901672 -0.03933716 ... -0.02337646 -0.02124023\n",
      " -0.02107239]\n",
      "(128, 32)\n",
      "PREDICTED VALUES\n",
      "\n",
      " BAM :  0.00005168\n",
      "\n",
      " BBI :  0.06731137\n",
      "\n",
      " BIN :  0.93131310\n",
      "\n",
      " OPI :  0.00001431\n",
      "\n",
      " OQU :  0.00130951\n",
      "\n",
      "\n",
      "GUESS:  BIN\n",
      "[12. 13.]\n",
      "[-0.00846863  0.00444031  0.00852966 ... -0.00604248 -0.00845337\n",
      " -0.00497437]\n",
      "(128, 32)\n",
      "PREDICTED VALUES\n",
      "\n",
      " BAM :  0.00809708\n",
      "\n",
      " BBI :  0.43223453\n",
      "\n",
      " BIN :  0.06132865\n",
      "\n",
      " OPI :  0.32258436\n",
      "\n",
      " OQU :  0.17575540\n",
      "GUESS: Nothing\n",
      "[13. 14.]\n",
      "[-0.00427246 -0.00718689 -0.00811768 ... -0.01966858 -0.01296997\n",
      " -0.01628113]\n",
      "(128, 32)\n",
      "PREDICTED VALUES\n",
      "\n",
      " BAM :  0.00000186\n",
      "\n",
      " BBI :  0.04515883\n",
      "\n",
      " BIN :  0.95191890\n",
      "\n",
      " OPI :  0.00000000\n",
      "\n",
      " OQU :  0.00292046\n",
      "\n",
      "\n",
      "GUESS:  BIN\n",
      "[14. 15.]\n",
      "[-0.02262878 -0.01573181 -0.00117493 ... -0.08956909 -0.0695343\n",
      " -0.04067993]\n",
      "(128, 32)\n",
      "PREDICTED VALUES\n",
      "\n",
      " BAM :  0.56616634\n",
      "\n",
      " BBI :  0.35521892\n",
      "\n",
      " BIN :  0.07741894\n",
      "\n",
      " OPI :  0.00067144\n",
      "\n",
      " OQU :  0.00052437\n",
      "\n",
      "\n",
      "GUESS:  BAM\n",
      "[15. 16.]\n",
      "[-0.02532959 -0.01031494 -0.00280762 ... -0.07128906 -0.07106018\n",
      " -0.05839539]\n",
      "(128, 32)\n",
      "PREDICTED VALUES\n",
      "\n",
      " BAM :  1.00000000\n",
      "\n",
      " BBI :  0.00000000\n",
      "\n",
      " BIN :  0.00000000\n",
      "\n",
      " OPI :  0.00000000\n",
      "\n",
      " OQU :  0.00000000\n",
      "\n",
      "\n",
      "GUESS:  BAM\n",
      "[16. 17.]\n",
      "[-0.04600525 -0.02149963  0.00523376 ... -0.02526855 -0.02735901\n",
      " -0.03106689]\n",
      "(128, 32)\n",
      "PREDICTED VALUES\n",
      "\n",
      " BAM :  0.99999571\n",
      "\n",
      " BBI :  0.00000380\n",
      "\n",
      " BIN :  0.00000044\n",
      "\n",
      " OPI :  0.00000000\n",
      "\n",
      " OQU :  0.00000000\n",
      "\n",
      "\n",
      "GUESS:  BAM\n",
      "[17. 18.]\n",
      "[-0.02043152 -0.01174927 -0.02088928 ...  0.10055542  0.08653259\n",
      "  0.06604004]\n",
      "(128, 32)\n",
      "PREDICTED VALUES\n",
      "\n",
      " BAM :  0.99951279\n",
      "\n",
      " BBI :  0.00008625\n",
      "\n",
      " BIN :  0.00021122\n",
      "\n",
      " OPI :  0.00018914\n",
      "\n",
      " OQU :  0.00000057\n",
      "\n",
      "\n",
      "GUESS:  BAM\n",
      "[18. 19.]\n",
      "[ 0.04153442  0.01223755 -0.00654602 ...  0.03269958  0.02374268\n",
      "  0.02774048]\n",
      "(128, 32)\n",
      "PREDICTED VALUES\n",
      "\n",
      " BAM :  0.99999893\n",
      "\n",
      " BBI :  0.00000103\n",
      "\n",
      " BIN :  0.00000000\n",
      "\n",
      " OPI :  0.00000000\n",
      "\n",
      " OQU :  0.00000000\n",
      "\n",
      "\n",
      "GUESS:  BAM\n",
      "[19. 20.]\n",
      "[0.02185059 0.02069092 0.01451111 ... 0.03469849 0.03985596 0.04600525]\n",
      "(128, 32)\n",
      "PREDICTED VALUES\n",
      "\n",
      " BAM :  0.99999857\n",
      "\n",
      " BBI :  0.00000121\n",
      "\n",
      " BIN :  0.00000025\n",
      "\n",
      " OPI :  0.00000000\n",
      "\n",
      " OQU :  0.00000000\n",
      "\n",
      "\n",
      "GUESS:  BAM\n",
      "[20. 21.]\n",
      "[ 0.0353241   0.01567078 -0.00102234 ...  0.1058197   0.10365295\n",
      "  0.09759521]\n",
      "(128, 32)\n",
      "PREDICTED VALUES\n",
      "\n",
      " BAM :  0.95673931\n",
      "\n",
      " BBI :  0.03407994\n",
      "\n",
      " BIN :  0.00903774\n",
      "\n",
      " OPI :  0.00011623\n",
      "\n",
      " OQU :  0.00002684\n",
      "\n",
      "\n",
      "GUESS:  BAM\n",
      "[21. 22.]\n",
      "[ 0.09413147  0.07905579  0.05625916 ... -0.01145935 -0.00245667\n",
      "  0.00479126]\n",
      "(128, 32)\n",
      "PREDICTED VALUES\n",
      "\n",
      " BAM :  0.99998856\n",
      "\n",
      " BBI :  0.00000460\n",
      "\n",
      " BIN :  0.00000683\n",
      "\n",
      " OPI :  0.00000000\n",
      "\n",
      " OQU :  0.00000000\n",
      "\n",
      "\n",
      "GUESS:  BAM\n",
      "[22. 23.]\n",
      "[ 0.0037384   0.01168823  0.01628113 ... -0.03440857 -0.05511475\n",
      " -0.08209229]\n",
      "(128, 32)\n",
      "PREDICTED VALUES\n",
      "\n",
      " BAM :  0.99996984\n",
      "\n",
      " BBI :  0.00003021\n",
      "\n",
      " BIN :  0.00000002\n",
      "\n",
      " OPI :  0.00000000\n",
      "\n",
      " OQU :  0.00000000\n",
      "\n",
      "\n",
      "GUESS:  BAM\n",
      "[23. 24.]\n",
      "[-0.1026001  -0.12590027 -0.14944458 ...  0.03462219  0.02537537\n",
      "  0.02354431]\n",
      "(128, 32)\n",
      "PREDICTED VALUES\n",
      "\n",
      " BAM :  0.99985743\n",
      "\n",
      " BBI :  0.00014186\n",
      "\n",
      " BIN :  0.00000070\n",
      "\n",
      " OPI :  0.00000000\n",
      "\n",
      " OQU :  0.00000000\n",
      "\n",
      "\n",
      "GUESS:  BAM\n",
      "[24. 25.]\n",
      "[ 0.0196991   0.02836609  0.03103638 ... -0.03009033 -0.03392029\n",
      " -0.03681946]\n",
      "(128, 32)\n",
      "PREDICTED VALUES\n",
      "\n",
      " BAM :  0.99992883\n",
      "\n",
      " BBI :  0.00007114\n",
      "\n",
      " BIN :  0.00000000\n",
      "\n",
      " OPI :  0.00000000\n",
      "\n",
      " OQU :  0.00000000\n",
      "\n",
      "\n",
      "GUESS:  BAM\n",
      "[25. 26.]\n",
      "[-0.04151917 -0.03933716 -0.03703308 ...  0.05451965  0.0519104\n",
      "  0.05206299]\n",
      "(128, 32)\n",
      "PREDICTED VALUES\n",
      "\n",
      " BAM :  0.40894020\n",
      "\n",
      " BBI :  0.32545722\n",
      "\n",
      " BIN :  0.24546358\n",
      "\n",
      " OPI :  0.01529824\n",
      "\n",
      " OQU :  0.00484080\n",
      "GUESS: Nothing\n",
      "[26. 27.]\n",
      "[ 0.05670166  0.06253052  0.07643127 ... -0.00396729  0.00715637\n",
      "  0.00585938]\n",
      "(128, 32)\n",
      "PREDICTED VALUES\n",
      "\n",
      " BAM :  0.00894438\n",
      "\n",
      " BBI :  0.32968888\n",
      "\n",
      " BIN :  0.20482868\n",
      "\n",
      " OPI :  0.20691977\n",
      "\n",
      " OQU :  0.24961822\n",
      "GUESS: Nothing\n",
      "[27. 28.]\n",
      "[-0.00222778 -0.01303101 -0.02310181 ...  0.01165771  0.01649475\n",
      "  0.0194397 ]\n",
      "(128, 32)\n",
      "PREDICTED VALUES\n",
      "\n",
      " BAM :  0.00000801\n",
      "\n",
      " BBI :  0.31814033\n",
      "\n",
      " BIN :  0.68172193\n",
      "\n",
      " OPI :  0.00000023\n",
      "\n",
      " OQU :  0.00012950\n",
      "\n",
      "\n",
      "GUESS:  BIN\n",
      "[28. 29.]\n",
      "[0.01657104 0.01519775 0.00924683 ... 0.03746033 0.03282166 0.02775574]\n",
      "(128, 32)\n",
      "PREDICTED VALUES\n",
      "\n",
      " BAM :  0.27989778\n",
      "\n",
      " BBI :  0.71902651\n",
      "\n",
      " BIN :  0.00107251\n",
      "\n",
      " OPI :  0.00000025\n",
      "\n",
      " OQU :  0.00000304\n",
      "\n",
      "\n",
      "GUESS:  BBI\n",
      "[29. 30.]\n",
      "[ 0.01919556  0.0135498   0.01724243 ... -0.00575256 -0.01502991\n",
      " -0.02742004]\n",
      "(128, 32)\n",
      "PREDICTED VALUES\n",
      "\n",
      " BAM :  0.99746573\n",
      "\n",
      " BBI :  0.00217880\n",
      "\n",
      " BIN :  0.00035447\n",
      "\n",
      " OPI :  0.00000042\n",
      "\n",
      " OQU :  0.00000049\n",
      "\n",
      "\n",
      "GUESS:  BAM\n",
      "[30. 31.]\n",
      "[-0.0322876  -0.0365448  -0.03544617 ... -0.0218811  -0.02978516\n",
      " -0.04052734]\n",
      "(128, 32)\n",
      "PREDICTED VALUES\n",
      "\n",
      " BAM :  0.83362955\n",
      "\n",
      " BBI :  0.04955128\n",
      "\n",
      " BIN :  0.11504649\n",
      "\n",
      " OPI :  0.00119042\n",
      "\n",
      " OQU :  0.00058237\n",
      "\n",
      "\n",
      "GUESS:  BAM\n",
      "[31. 32.]\n",
      "[-0.04328918 -0.03413391 -0.03421021 ...  0.05908203  0.06370544\n",
      "  0.05949402]\n",
      "(128, 32)\n",
      "PREDICTED VALUES\n",
      "\n",
      " BAM :  0.05347272\n",
      "\n",
      " BBI :  0.93379569\n",
      "\n",
      " BIN :  0.01268654\n",
      "\n",
      " OPI :  0.00001113\n",
      "\n",
      " OQU :  0.00003379\n",
      "\n",
      "\n",
      "GUESS:  BBI\n",
      "[32. 33.]\n",
      "[ 0.06063843  0.06056213  0.06610107 ... -0.12741089 -0.13371277\n",
      " -0.12313843]\n",
      "(128, 32)\n",
      "PREDICTED VALUES\n",
      "\n",
      " BAM :  0.97860843\n",
      "\n",
      " BBI :  0.02138360\n",
      "\n",
      " BIN :  0.00000796\n",
      "\n",
      " OPI :  0.00000000\n",
      "\n",
      " OQU :  0.00000004\n",
      "\n",
      "\n",
      "GUESS:  BAM\n",
      "[33. 34.]\n",
      "[-0.09968567 -0.06376648 -0.03105164 ... -0.0138092  -0.01574707\n",
      " -0.01896667]\n",
      "(128, 32)\n",
      "PREDICTED VALUES\n",
      "\n",
      " BAM :  0.35403013\n",
      "\n",
      " BBI :  0.64596677\n",
      "\n",
      " BIN :  0.00000287\n",
      "\n",
      " OPI :  0.00000018\n",
      "\n",
      " OQU :  0.00000002\n",
      "\n",
      "\n",
      "GUESS:  BBI\n",
      "[34. 35.]\n",
      "[-0.00811768  0.00149536  0.00953674 ... -0.004776   -0.0010376\n",
      "  0.00231934]\n",
      "(128, 32)\n",
      "PREDICTED VALUES\n",
      "\n",
      " BAM :  0.00036291\n",
      "\n",
      " BBI :  0.52756894\n",
      "\n",
      " BIN :  0.00032280\n",
      "\n",
      " OPI :  0.47085291\n",
      "\n",
      " OQU :  0.00089241\n",
      "\n",
      "\n",
      "GUESS:  BBI\n",
      "[35. 36.]\n",
      "[ 0.00238037  0.00236511  0.00231934 ... -0.00193787  0.0068512\n",
      "  0.00695801]\n",
      "(128, 32)\n",
      "PREDICTED VALUES\n",
      "\n",
      " BAM :  0.00082761\n",
      "\n",
      " BBI :  0.61302799\n",
      "\n"
     ]
    },
    {
     "name": "stdout",
     "output_type": "stream",
     "text": [
      " BIN :  0.27507716\n",
      "\n",
      " OPI :  0.01843213\n",
      "\n",
      " OQU :  0.09263515\n",
      "\n",
      "\n",
      "GUESS:  BBI\n",
      "[{'class': 'BBI', 'timestamp': 0}, {'class': 'BBI', 'timestamp': 1}, {'class': 'BBI', 'timestamp': 2}, {'class': 'BBI', 'timestamp': 3}, {'class': 'BBI', 'timestamp': 4}, {'class': 'BBI', 'timestamp': 5}, {'class': 'BBI', 'timestamp': 6}, {'class': 'BBI', 'timestamp': 7}, {'class': 'BBI', 'timestamp': 8}, {'class': 'BIN', 'timestamp': 9}, {'class': 'BBI', 'timestamp': 10}, {'class': 'BIN', 'timestamp': 11}, {'class': 'Nothing', 'timestamp': 12}, {'class': 'BIN', 'timestamp': 13}, {'class': 'BAM', 'timestamp': 14}, {'class': 'BAM', 'timestamp': 15}, {'class': 'BAM', 'timestamp': 16}, {'class': 'BAM', 'timestamp': 17}, {'class': 'BAM', 'timestamp': 18}, {'class': 'BAM', 'timestamp': 19}, {'class': 'BAM', 'timestamp': 20}, {'class': 'BAM', 'timestamp': 21}, {'class': 'BAM', 'timestamp': 22}, {'class': 'BAM', 'timestamp': 23}, {'class': 'BAM', 'timestamp': 24}, {'class': 'Nothing', 'timestamp': 25}, {'class': 'Nothing', 'timestamp': 26}, {'class': 'BIN', 'timestamp': 27}, {'class': 'BBI', 'timestamp': 28}, {'class': 'BAM', 'timestamp': 29}, {'class': 'BAM', 'timestamp': 30}, {'class': 'BBI', 'timestamp': 31}, {'class': 'BAM', 'timestamp': 32}, {'class': 'BBI', 'timestamp': 33}, {'class': 'BBI', 'timestamp': 34}, {'class': 'BBI', 'timestamp': 35}]\n"
     ]
    }
   ],
   "source": [
    "## Running the model\n",
    "\n",
    "n_mfcc = config.buckets\n",
    "max_len = config.max_len\n",
    "# convert file to wav2mfcc\n",
    "# Mel-frequency cepstral coefficients\n",
    "file_path = \"./prediction/nature_sc.wav\"\n",
    "big_wave, sr = librosa.load(file_path, mono=True, sr=None)\n",
    "#print(wave.shape, sr)\n",
    "\n",
    "classification = []\n",
    "\n",
    "for sec_index in range( int(big_wave.shape[0] / sr) ) :\n",
    "    start_sec = sec_index\n",
    "    end_sec = sec_index + 1\n",
    "    \n",
    "    sec_to_trim = np.array( [ float(start_sec), float(end_sec) ] )\n",
    "    print(sec_to_trim)\n",
    "    sec_to_trim = np.ceil( sec_to_trim * sr )\n",
    "\n",
    "    wave = big_wave[int(sec_to_trim[0]) : int(sec_to_trim[1])]\n",
    "    print(wave)\n",
    "\n",
    "    wave = np.asfortranarray(wave[::3])\n",
    "    mfcc = librosa.feature.mfcc(wave, sr=16000, n_mfcc=n_mfcc)\n",
    "\n",
    "    # If maximum length exceeds mfcc lengths then pad the remaining ones\n",
    "    if (max_len > mfcc.shape[1]):\n",
    "        pad_width = max_len - mfcc.shape[1]\n",
    "        mfcc = np.pad(mfcc, pad_width=((0, 0), (0, pad_width)), mode='constant')\n",
    "\n",
    "    # Else cutoff the remaining parts\n",
    "    else:\n",
    "        mfcc = mfcc[:, :max_len]\n",
    "\n",
    "    # Convert wav to MFCC\n",
    "    prediction_data = wav2mfcc('./prediction/nature_sc.wav')\n",
    "    prediction_data = mfcc\n",
    "    print(prediction_data.shape)\n",
    "    #print(wav2mfcc())\n",
    "    # Reshape to 4 dimensions\n",
    "    prediction_data = prediction_data.reshape(1, config.buckets, config.max_len, channels)\n",
    "    #prediction_data = prediction_data.reshape(1, 20, config.max_len, channels)\n",
    "\n",
    "    # Run the model on the inputted file\n",
    "    predicted = loaded_model.predict(prediction_data)\n",
    "\n",
    "    # Output the prediction values for each class\n",
    "    print ('PREDICTED VALUES')\n",
    "    labels_indices = range(len(labels))\n",
    "    max_value = 0\n",
    "    max_value_index = 0\n",
    "    for index in labels_indices:\n",
    "        print('\\n', labels[index], \": \", '%.08f' % predicted[0,index])\n",
    "        if predicted[0,index] > max_value:\n",
    "            max_value_index = index\n",
    "            max_value = predicted[0,index]\n",
    "\n",
    "    # Output the prediction\n",
    "    if max_value < 0.5:\n",
    "        print(\"GUESS: Nothing\")\n",
    "        classification.append( { \"class\" : \"Nothing\", \"timestamp\" : start_sec } )\n",
    "    else:\n",
    "        print('\\n\\nGUESS: ', labels[max_value_index])\n",
    "        classification.append( { \"class\" : labels[max_value_index], \"timestamp\" : start_sec } )\n",
    "\n",
    "print(classification)"
   ]
  },
  {
   "cell_type": "code",
   "execution_count": null,
   "metadata": {},
   "outputs": [],
   "source": []
  }
 ],
 "metadata": {
  "kernelspec": {
   "display_name": "Python 3",
   "language": "python",
   "name": "python3"
  },
  "language_info": {
   "codemirror_mode": {
    "name": "ipython",
    "version": 3
   },
   "file_extension": ".py",
   "mimetype": "text/x-python",
   "name": "python",
   "nbconvert_exporter": "python",
   "pygments_lexer": "ipython3",
   "version": "3.7.4"
  }
 },
 "nbformat": 4,
 "nbformat_minor": 2
}
