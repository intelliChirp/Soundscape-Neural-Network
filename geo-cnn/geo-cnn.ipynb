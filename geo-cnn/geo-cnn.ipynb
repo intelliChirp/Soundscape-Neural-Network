{
 "cells": [
  {
   "cell_type": "code",
   "execution_count": 1,
   "metadata": {},
   "outputs": [
    {
     "name": "stderr",
     "output_type": "stream",
     "text": [
      "Using TensorFlow backend.\n"
     ]
    }
   ],
   "source": [
    "from preprocess import *\n",
    "import keras\n",
    "from keras.models import Sequential\n",
    "from keras.layers import Dense, Dropout, Flatten, Conv2D, MaxPooling2D, LSTM, Activation\n",
    "from keras.utils import to_categorical\n",
    "import wandb\n",
    "from wandb.keras import WandbCallback\n",
    "import matplotlib.pyplot as plt\n",
    "from imblearn.over_sampling import RandomOverSampler\n",
    "import sklearn.metrics as metrics\n",
    "import numpy as np\n",
    "from imblearn.under_sampling import RandomUnderSampler\n",
    "from imblearn.over_sampling import RandomOverSampler\n",
    "from imblearn.combine import SMOTETomek\n",
    "import tensorflow as tf"
   ]
  },
  {
   "cell_type": "code",
   "execution_count": 2,
   "metadata": {},
   "outputs": [],
   "source": [
    "def plot_2d_space(X, y, label='Classes'):   \n",
    "    colors = ['#111111', '#222222', '#333333', '#444444', '#555555', '#666666', '#777777', '#888888']\n",
    "    markers = ['o', 's', 'o', 's','o', 's']\n",
    "    for l, c, m in zip(np.unique(y), colors, markers):\n",
    "        plt.scatter(\n",
    "            X[y==l, 0],\n",
    "            X[y==l, 1],\n",
    "            c=c, label=l, marker=m\n",
    "        )\n",
    "    plt.title(label)\n",
    "    plt.legend(loc='upper right')\n",
    "    plt.show()"
   ]
  },
  {
   "cell_type": "code",
   "execution_count": 3,
   "metadata": {},
   "outputs": [],
   "source": [
    "def run_sampler( X, y, sampler ) :\n",
    "    print(X.shape)\n",
    "    print(y.shape)\n",
    "\n",
    "    X_samples, _, _, _ = X.shape\n",
    "\n",
    "    d2_X = X.reshape((X_samples,config.buckets*config.max_len*channels))\n",
    "\n",
    "    X_s, y_s = sampler.fit_sample(d2_X, y)\n",
    "\n",
    "    #plot_2d_space(X_rus, y_rus, 'Random under-sampling')\n",
    "\n",
    "    X_s = X_s.reshape((X_s.shape[0], config.buckets, config.max_len, channels))\n",
    "    print(\"X_s\", X_s.shape)\n",
    "    print(\"Y_s\", y_s.shape)\n",
    "    \n",
    "    return X_s, y_s"
   ]
  },
  {
   "cell_type": "code",
   "execution_count": 4,
   "metadata": {},
   "outputs": [
    {
     "data": {
      "text/html": [
       "\n",
       "                Logging results to <a href=\"https://wandb.com\" target=\"_blank\">Weights & Biases</a> <a href=\"https://docs.wandb.com/integrations/jupyter.html\" target=\"_blank\">(Documentation)</a>.<br/>\n",
       "                Project page: <a href=\"https://app.wandb.ai/joshekruse/intellichirp-snaw-NN\" target=\"_blank\">https://app.wandb.ai/joshekruse/intellichirp-snaw-NN</a><br/>\n",
       "                Run page: <a href=\"https://app.wandb.ai/joshekruse/intellichirp-snaw-NN/runs/3ffarnhz\" target=\"_blank\">https://app.wandb.ai/joshekruse/intellichirp-snaw-NN/runs/3ffarnhz</a><br/>\n",
       "            "
      ],
      "text/plain": [
       "<IPython.core.display.HTML object>"
      ]
     },
     "metadata": {},
     "output_type": "display_data"
    },
    {
     "name": "stderr",
     "output_type": "stream",
     "text": [
      "wandb: Wandb version 0.8.35 is available!  To upgrade, please run:\n",
      "wandb:  $ pip install wandb --upgrade\n",
      "Error generating diff: Command '['git', 'diff', '--submodule=diff', '91f9828cb2956a779f4f3c6e9f9cd9301f7c5a7f']' timed out after 5 seconds\n"
     ]
    }
   ],
   "source": [
    "hyperparameter_defaults = dict(\n",
    "    max_len = 30,\n",
    "    buckets = 118,\n",
    "    epochs = 3,\n",
    "    batch_size = 84,\n",
    "    layer_one = 109,\n",
    "    layer_two = 81,\n",
    "    layer_three = 104,\n",
    "    layer_four = 118,\n",
    "    dropout_one = 0.2761,\n",
    "    dropout_two = 0.2757,\n",
    "    sampler = 'over'\n",
    "    )\n",
    "\n",
    "wandb.init( config=hyperparameter_defaults )\n",
    "config = wandb.config"
   ]
  },
  {
   "cell_type": "code",
   "execution_count": 5,
   "metadata": {},
   "outputs": [
    {
     "name": "stderr",
     "output_type": "stream",
     "text": [
      "Saving vectors of label - 'GOC':  45%|█████████████████████▉                           | 34/76 [00:00<00:01, 33.03it/s]wandb: Network error resolved after 0:00:19.755281, resuming normal operation.\n",
      "Saving vectors of label - 'GOC': 100%|█████████████████████████████████████████████████| 76/76 [00:01<00:00, 42.63it/s]\n",
      "Saving vectors of label - 'GRA': 100%|███████████████████████████████████████████████| 810/810 [00:19<00:00, 41.26it/s]\n",
      "Saving vectors of label - 'GST': 100%|█████████████████████████████████████████████████| 65/65 [00:01<00:00, 56.91it/s]\n",
      "Saving vectors of label - 'GWC': 100%|███████████████████████████████████████████████| 524/524 [00:08<00:00, 65.00it/s]\n",
      "Saving vectors of label - 'GWG': 100%|███████████████████████████████████████████████| 151/151 [00:02<00:00, 62.88it/s]\n",
      "Saving vectors of label - 'OPI': 100%|███████████████████████████████████████████████| 279/279 [00:04<00:00, 64.36it/s]\n",
      "Saving vectors of label - 'OQU': 100%|█████████████████████████████████████████████| 2151/2151 [00:32<00:00, 66.31it/s]\n"
     ]
    },
    {
     "name": "stdout",
     "output_type": "stream",
     "text": [
      "[[-0.26908916 -0.21215466 -0.25417376 ... -0.12273278 -0.13290174\n",
      "   0.        ]\n",
      " [ 0.18214501  0.18704809  0.1840616  ...  0.18790656  0.1909574\n",
      "   0.        ]\n",
      " [-0.16044778 -0.16843191 -0.17172892 ... -0.19189033 -0.18943985\n",
      "   0.        ]\n",
      " ...\n",
      " [-0.14400516 -0.11071743  0.35820666 ...  0.11894916  0.2222774\n",
      "   0.        ]\n",
      " [ 0.00222387  0.02916489 -0.00823778 ...  0.09200083  0.00151309\n",
      "   0.        ]\n",
      " [ 0.09008241 -0.0207413  -0.05242233 ...  0.2506018   0.10936624\n",
      "   0.        ]]\n",
      "(1946, 118, 30)\n"
     ]
    }
   ],
   "source": [
    "# Save data to array file first\n",
    "save_data_to_array(max_len=config.max_len, n_mfcc=config.buckets)\n",
    "\n",
    "labels=np.array([\"GOC\", \"GRA\", \"GST\", \n",
    "                 \"GWG\", \"GWC\", \"OPI\", \"OQU\"])\n",
    "\n",
    "# Loading train/test set\n",
    "X_train, X_test, X_val, y_train, y_test, y_val = get_train_test()\n",
    "print(X_train[0])\n",
    "# Setting channels to 1 to generalize stereo sound to 1 channel\n",
    "channels = 1\n",
    "\n",
    "# Number of classes\n",
    "num_classes = labels.shape[0]\n",
    "print(X_train.shape)\n",
    "\n",
    "# Reshape X_train and X_test to include a 4th dimension (channels)\n",
    "X_train = X_train.reshape(X_train.shape[0], config.buckets, config.max_len, channels)\n",
    "X_test = X_test.reshape(X_test.shape[0], config.buckets, config.max_len, channels)\n",
    "X_val = X_val.reshape(X_val.shape[0], config.buckets, config.max_len, channels)"
   ]
  },
  {
   "cell_type": "code",
   "execution_count": 6,
   "metadata": {
    "scrolled": true
   },
   "outputs": [
    {
     "name": "stdout",
     "output_type": "stream",
     "text": [
      "(1946, 118, 30, 1)\n",
      "(1946,)\n",
      "X_s (7210, 118, 30, 1)\n",
      "Y_s (7210,)\n",
      "(812, 118, 30, 1)\n",
      "(812,)\n",
      "X_s (2898, 118, 30, 1)\n",
      "Y_s (2898,)\n",
      "(1298, 118, 30, 1)\n",
      "(1298,)\n",
      "X_s (4949, 118, 30, 1)\n",
      "Y_s (4949,)\n"
     ]
    }
   ],
   "source": [
    "under_sampler = RandomUnderSampler()\n",
    "over_sampler = RandomOverSampler()\n",
    "smote_sampler = SMOTETomek()\n",
    "\n",
    "if(config.sampler == 'under') :\n",
    "    sampler = under_sampler\n",
    "    X_train, y_train = run_sampler( X_train, y_train, sampler )\n",
    "    X_test, y_test = run_sampler( X_test, y_test, sampler )\n",
    "    X_val, y_val = run_sampler( X_val, y_val, sampler )\n",
    "    \n",
    "if(config.sampler == 'over') :\n",
    "    sampler = over_sampler\n",
    "    X_train, y_train = run_sampler( X_train, y_train, sampler )\n",
    "    X_test, y_test = run_sampler( X_test, y_test, sampler )\n",
    "    X_val, y_val = run_sampler( X_val, y_val, sampler )\n",
    "    \n",
    "if(config.sampler == 'smote') :\n",
    "    sampler = smote_sampler\n",
    "    X_train, y_train = run_sampler( X_train, y_train, sampler )\n",
    "    X_test, y_test = run_sampler( X_test, y_test, sampler )\n",
    "    X_val, y_val = run_sampler( X_val, y_val, sampler )"
   ]
  },
  {
   "cell_type": "code",
   "execution_count": 7,
   "metadata": {},
   "outputs": [
    {
     "name": "stdout",
     "output_type": "stream",
     "text": [
      "(7210, 118, 30, 1)\n"
     ]
    },
    {
     "data": {
      "text/plain": [
       "<matplotlib.image.AxesImage at 0x286fac785c8>"
      ]
     },
     "execution_count": 7,
     "metadata": {},
     "output_type": "execute_result"
    },
    {
     "data": {
      "image/png": "[encoded data removed]",
      "text/plain": [
       "<Figure size 432x288 with 1 Axes>"
      ]
     },
     "metadata": {
      "needs_background": "light"
     },
     "output_type": "display_data"
    }
   ],
   "source": [
    "# Spectrogram visualized of 0th element\n",
    "print(X_train.shape)\n",
    "plt.imshow(X_train[200, :, :, 0])"
   ]
  },
  {
   "cell_type": "code",
   "execution_count": 8,
   "metadata": {},
   "outputs": [],
   "source": [
    "# Getting vector number where each number corresponds to a label\n",
    "y_train_hot = to_categorical(y_train)\n",
    "y_test_hot = to_categorical(y_test)\n",
    "y_val_hot = to_categorical(y_val)"
   ]
  },
  {
   "cell_type": "code",
   "execution_count": 9,
   "metadata": {},
   "outputs": [
    {
     "name": "stdout",
     "output_type": "stream",
     "text": [
      "WARNING:tensorflow:From C:\\ProgramData\\Anaconda3\\lib\\site-packages\\keras\\backend\\tensorflow_backend.py:4070: The name tf.nn.max_pool is deprecated. Please use tf.nn.max_pool2d instead.\n",
      "\n",
      "Model: \"sequential_1\"\n",
      "_________________________________________________________________\n",
      "Layer (type)                 Output Shape              Param #   \n",
      "=================================================================\n",
      "conv2d_1 (Conv2D)            (None, 116, 28, 109)      1090      \n",
      "_________________________________________________________________\n",
      "max_pooling2d_1 (MaxPooling2 (None, 58, 14, 109)       0         \n",
      "_________________________________________________________________\n",
      "activation_1 (Activation)    (None, 58, 14, 109)       0         \n",
      "_________________________________________________________________\n",
      "conv2d_2 (Conv2D)            (None, 56, 12, 81)        79542     \n",
      "_________________________________________________________________\n",
      "max_pooling2d_2 (MaxPooling2 (None, 28, 6, 81)         0         \n",
      "_________________________________________________________________\n",
      "activation_2 (Activation)    (None, 28, 6, 81)         0         \n",
      "_________________________________________________________________\n",
      "conv2d_3 (Conv2D)            (None, 26, 6, 104)        25376     \n",
      "_________________________________________________________________\n",
      "activation_3 (Activation)    (None, 26, 6, 104)        0         \n",
      "_________________________________________________________________\n",
      "flatten_1 (Flatten)          (None, 16224)             0         \n",
      "_________________________________________________________________\n",
      "dropout_1 (Dropout)          (None, 16224)             0         \n",
      "_________________________________________________________________\n",
      "dense_1 (Dense)              (None, 118)               1914550   \n",
      "_________________________________________________________________\n",
      "activation_4 (Activation)    (None, 118)               0         \n",
      "_________________________________________________________________\n",
      "dropout_2 (Dropout)          (None, 118)               0         \n",
      "_________________________________________________________________\n",
      "dense_2 (Dense)              (None, 7)                 833       \n",
      "_________________________________________________________________\n",
      "activation_5 (Activation)    (None, 7)                 0         \n",
      "=================================================================\n",
      "Total params: 2,021,391\n",
      "Trainable params: 2,021,391\n",
      "Non-trainable params: 0\n",
      "_________________________________________________________________\n"
     ]
    }
   ],
   "source": [
    "\n",
    "# Building the model\n",
    "model = Sequential()\n",
    "\n",
    "input_shape= (config.buckets, config.max_len, channels)\n",
    "\n",
    "model.add(Conv2D( config.layer_one, (3, 3), strides=(1, 1), input_shape=input_shape))\n",
    "model.add(MaxPooling2D((2, 2), strides=(2, 2)))\n",
    "model.add(Activation('relu'))\n",
    "\n",
    "model.add(Conv2D( config.layer_two, (3, 3), padding=\"valid\"))\n",
    "model.add(MaxPooling2D((2, 2), strides=(2, 2)))\n",
    "model.add(Activation('relu'))\n",
    "\n",
    "model.add(Conv2D( config.layer_three, (3, 1), padding=\"valid\"))\n",
    "model.add(Activation('relu'))\n",
    "\n",
    "model.add(Flatten())\n",
    "model.add(Dropout(rate=config.dropout_one))\n",
    "\n",
    "model.add(Dense( config.layer_four ))\n",
    "model.add(Activation('relu'))\n",
    "model.add(Dropout(rate=config.dropout_two))\n",
    "\n",
    "model.add(Dense(len(labels)))\n",
    "model.add(Activation('softmax'))\n",
    "model.summary()"
   ]
  },
  {
   "cell_type": "code",
   "execution_count": 10,
   "metadata": {},
   "outputs": [],
   "source": [
    "# Configure CNN for training\n",
    "model.compile(loss=\"categorical_crossentropy\",\n",
    "                  optimizer=\"adam\",\n",
    "                  metrics=['accuracy'])"
   ]
  },
  {
   "cell_type": "code",
   "execution_count": 11,
   "metadata": {
    "scrolled": false
   },
   "outputs": [
    {
     "data": {
      "text/html": [
       "\n",
       "                Logging results to <a href=\"https://wandb.com\" target=\"_blank\">Weights & Biases</a> <a href=\"https://docs.wandb.com/integrations/jupyter.html\" target=\"_blank\">(Documentation)</a>.<br/>\n",
       "                Project page: <a href=\"https://app.wandb.ai/joshekruse/intellichirp-snaw-NN\" target=\"_blank\">https://app.wandb.ai/joshekruse/intellichirp-snaw-NN</a><br/>\n",
       "                Run page: <a href=\"https://app.wandb.ai/joshekruse/intellichirp-snaw-NN/runs/34g5r0uw\" target=\"_blank\">https://app.wandb.ai/joshekruse/intellichirp-snaw-NN/runs/34g5r0uw</a><br/>\n",
       "            "
      ],
      "text/plain": [
       "<IPython.core.display.HTML object>"
      ]
     },
     "metadata": {},
     "output_type": "display_data"
    },
    {
     "name": "stderr",
     "output_type": "stream",
     "text": [
      "wandb: Wandb version 0.8.35 is available!  To upgrade, please run:\n",
      "wandb:  $ pip install wandb --upgrade\n",
      "Error generating diff: Command '['git', 'diff', '--submodule=diff', '91f9828cb2956a779f4f3c6e9f9cd9301f7c5a7f']' timed out after 5 seconds\n"
     ]
    },
    {
     "name": "stdout",
     "output_type": "stream",
     "text": [
      "WARNING:tensorflow:From C:\\ProgramData\\Anaconda3\\lib\\site-packages\\keras\\backend\\tensorflow_backend.py:422: The name tf.global_variables is deprecated. Please use tf.compat.v1.global_variables instead.\n",
      "\n",
      "Train on 7210 samples, validate on 4949 samples\n",
      "Epoch 1/3\n"
     ]
    },
    {
     "name": "stdout",
     "output_type": "stream",
     "text": [
      "5952/7210 [=======================>......] - ETA: 12:16 - loss: 1.9449 - accuracy: 0.125 - ETA: 8:37 - loss: 1.9911 - accuracy: 0.140 - ETA: 7:14 - loss: 1.9733 - accuracy: 0.16 - ETA: 6:46 - loss: 1.9705 - accuracy: 0.17 - ETA: 6:24 - loss: 1.9617 - accuracy: 0.18 - ETA: 6:03 - loss: 1.9641 - accuracy: 0.17 - ETA: 5:52 - loss: 1.9622 - accuracy: 0.16 - ETA: 5:42 - loss: 1.9601 - accuracy: 0.16 - ETA: 5:31 - loss: 1.9593 - accuracy: 0.17 - ETA: 5:24 - loss: 1.9625 - accuracy: 0.16 - ETA: 5:09 - loss: 1.9606 - accuracy: 0.16 - ETA: 5:01 - loss: 1.9599 - accuracy: 0.16 - ETA: 4:49 - loss: 1.9580 - accuracy: 0.17 - ETA: 4:43 - loss: 1.9571 - accuracy: 0.17 - ETA: 4:35 - loss: 1.9560 - accuracy: 0.17 - ETA: 4:30 - loss: 1.9554 - accuracy: 0.16 - ETA: 4:25 - loss: 1.9547 - accuracy: 0.16 - ETA: 4:21 - loss: 1.9532 - accuracy: 0.16 - ETA: 4:16 - loss: 1.9510 - accuracy: 0.16 - ETA: 4:14 - loss: 1.9503 - accuracy: 0.16 - ETA: 4:11 - loss: 1.9490 - accuracy: 0.16 - ETA: 4:08 - loss: 1.9494 - accuracy: 0.16 - ETA: 4:04 - loss: 1.9471 - accuracy: 0.17 - ETA: 4:01 - loss: 1.9445 - accuracy: 0.17 - ETA: 3:58 - loss: 1.9426 - accuracy: 0.17 - ETA: 3:55 - loss: 1.9383 - accuracy: 0.18 - ETA: 3:51 - loss: 1.9385 - accuracy: 0.18 - ETA: 3:48 - loss: 1.9408 - accuracy: 0.18 - ETA: 3:45 - loss: 1.9369 - accuracy: 0.18 - ETA: 3:42 - loss: 1.9325 - accuracy: 0.19 - ETA: 3:39 - loss: 1.9286 - accuracy: 0.19 - ETA: 3:36 - loss: 1.9210 - accuracy: 0.20 - ETA: 3:34 - loss: 1.9178 - accuracy: 0.20 - ETA: 3:31 - loss: 1.9109 - accuracy: 0.21 - ETA: 3:29 - loss: 1.9064 - accuracy: 0.21 - ETA: 3:27 - loss: 1.9015 - accuracy: 0.21 - ETA: 3:24 - loss: 1.8949 - accuracy: 0.22 - ETA: 3:23 - loss: 1.8858 - accuracy: 0.23 - ETA: 3:21 - loss: 1.8778 - accuracy: 0.23 - ETA: 3:19 - loss: 1.8655 - accuracy: 0.24 - ETA: 3:18 - loss: 1.8594 - accuracy: 0.24 - ETA: 3:16 - loss: 1.8550 - accuracy: 0.25 - ETA: 3:14 - loss: 1.8477 - accuracy: 0.25 - ETA: 3:12 - loss: 1.8541 - accuracy: 0.25 - ETA: 3:10 - loss: 1.8463 - accuracy: 0.25 - ETA: 3:09 - loss: 1.8381 - accuracy: 0.26 - ETA: 3:07 - loss: 1.8294 - accuracy: 0.26 - ETA: 3:06 - loss: 1.8223 - accuracy: 0.26 - ETA: 3:04 - loss: 1.8138 - accuracy: 0.27 - ETA: 3:03 - loss: 1.8088 - accuracy: 0.27 - ETA: 3:02 - loss: 1.8003 - accuracy: 0.27 - ETA: 3:00 - loss: 1.7950 - accuracy: 0.28 - ETA: 2:59 - loss: 1.7882 - accuracy: 0.28 - ETA: 2:58 - loss: 1.7807 - accuracy: 0.28 - ETA: 2:56 - loss: 1.7790 - accuracy: 0.28 - ETA: 2:55 - loss: 1.7718 - accuracy: 0.29 - ETA: 2:54 - loss: 1.7633 - accuracy: 0.29 - ETA: 2:52 - loss: 1.7546 - accuracy: 0.29 - ETA: 2:51 - loss: 1.7474 - accuracy: 0.30 - ETA: 2:50 - loss: 1.7464 - accuracy: 0.30 - ETA: 2:48 - loss: 1.7408 - accuracy: 0.30 - ETA: 2:47 - loss: 1.7384 - accuracy: 0.30 - ETA: 2:46 - loss: 1.7317 - accuracy: 0.31 - ETA: 2:45 - loss: 1.7279 - accuracy: 0.31 - ETA: 2:43 - loss: 1.7200 - accuracy: 0.31 - ETA: 2:43 - loss: 1.7135 - accuracy: 0.31 - ETA: 2:42 - loss: 1.7065 - accuracy: 0.32 - ETA: 2:41 - loss: 1.7008 - accuracy: 0.32 - ETA: 2:40 - loss: 1.6918 - accuracy: 0.32 - ETA: 2:38 - loss: 1.6858 - accuracy: 0.33 - ETA: 2:37 - loss: 1.6804 - accuracy: 0.33 - ETA: 2:36 - loss: 1.6728 - accuracy: 0.33 - ETA: 2:34 - loss: 1.6697 - accuracy: 0.34 - ETA: 2:33 - loss: 1.6640 - accuracy: 0.34 - ETA: 2:32 - loss: 1.6610 - accuracy: 0.34 - ETA: 2:30 - loss: 1.6523 - accuracy: 0.34 - ETA: 2:29 - loss: 1.6439 - accuracy: 0.35 - ETA: 2:28 - loss: 1.6388 - accuracy: 0.35 - ETA: 2:27 - loss: 1.6337 - accuracy: 0.35 - ETA: 2:25 - loss: 1.6294 - accuracy: 0.35 - ETA: 2:24 - loss: 1.6241 - accuracy: 0.36 - ETA: 2:23 - loss: 1.6181 - accuracy: 0.36 - ETA: 2:22 - loss: 1.6126 - accuracy: 0.36 - ETA: 2:21 - loss: 1.6055 - accuracy: 0.36 - ETA: 2:20 - loss: 1.5983 - accuracy: 0.37 - ETA: 2:18 - loss: 1.5910 - accuracy: 0.37 - ETA: 2:17 - loss: 1.5839 - accuracy: 0.38 - ETA: 2:16 - loss: 1.5776 - accuracy: 0.38 - ETA: 2:15 - loss: 1.5726 - accuracy: 0.38 - ETA: 2:14 - loss: 1.5695 - accuracy: 0.38 - ETA: 2:13 - loss: 1.5663 - accuracy: 0.38 - ETA: 2:12 - loss: 1.5591 - accuracy: 0.39 - ETA: 2:10 - loss: 1.5529 - accuracy: 0.39 - ETA: 2:09 - loss: 1.5464 - accuracy: 0.39 - ETA: 2:08 - loss: 1.5382 - accuracy: 0.40 - ETA: 2:07 - loss: 1.5355 - accuracy: 0.40 - ETA: 2:06 - loss: 1.5308 - accuracy: 0.40 - ETA: 2:05 - loss: 1.5234 - accuracy: 0.40 - ETA: 2:04 - loss: 1.5223 - accuracy: 0.41 - ETA: 2:03 - loss: 1.5191 - accuracy: 0.41 - ETA: 2:02 - loss: 1.5118 - accuracy: 0.41 - ETA: 2:00 - loss: 1.5061 - accuracy: 0.41 - ETA: 1:59 - loss: 1.5008 - accuracy: 0.41 - ETA: 1:58 - loss: 1.4985 - accuracy: 0.42 - ETA: 1:57 - loss: 1.4974 - accuracy: 0.42 - ETA: 1:56 - loss: 1.4912 - accuracy: 0.42 - ETA: 1:55 - loss: 1.4879 - accuracy: 0.42 - ETA: 1:54 - loss: 1.4818 - accuracy: 0.42 - ETA: 1:53 - loss: 1.4792 - accuracy: 0.42 - ETA: 1:52 - loss: 1.4756 - accuracy: 0.43 - ETA: 1:51 - loss: 1.4727 - accuracy: 0.43 - ETA: 1:50 - loss: 1.4664 - accuracy: 0.43 - ETA: 1:49 - loss: 1.4618 - accuracy: 0.43 - ETA: 1:48 - loss: 1.4556 - accuracy: 0.43 - ETA: 1:47 - loss: 1.4515 - accuracy: 0.44 - ETA: 1:46 - loss: 1.4470 - accuracy: 0.44 - ETA: 1:44 - loss: 1.4443 - accuracy: 0.44 - ETA: 1:43 - loss: 1.4390 - accuracy: 0.44 - ETA: 1:42 - loss: 1.4347 - accuracy: 0.44 - ETA: 1:41 - loss: 1.4299 - accuracy: 0.45 - ETA: 1:40 - loss: 1.4268 - accuracy: 0.45 - ETA: 1:39 - loss: 1.4233 - accuracy: 0.45 - ETA: 1:38 - loss: 1.4180 - accuracy: 0.45 - ETA: 1:37 - loss: 1.4126 - accuracy: 0.45 - ETA: 1:36 - loss: 1.4075 - accuracy: 0.45 - ETA: 1:35 - loss: 1.4042 - accuracy: 0.46 - ETA: 1:34 - loss: 1.3999 - accuracy: 0.46 - ETA: 1:33 - loss: 1.3951 - accuracy: 0.46 - ETA: 1:32 - loss: 1.3898 - accuracy: 0.46 - ETA: 1:31 - loss: 1.3865 - accuracy: 0.46 - ETA: 1:30 - loss: 1.3817 - accuracy: 0.47 - ETA: 1:29 - loss: 1.3772 - accuracy: 0.47 - ETA: 1:28 - loss: 1.3714 - accuracy: 0.47 - ETA: 1:28 - loss: 1.3665 - accuracy: 0.47 - ETA: 1:27 - loss: 1.3630 - accuracy: 0.47 - ETA: 1:26 - loss: 1.3601 - accuracy: 0.47 - ETA: 1:25 - loss: 1.3567 - accuracy: 0.48 - ETA: 1:24 - loss: 1.3535 - accuracy: 0.48 - ETA: 1:23 - loss: 1.3485 - accuracy: 0.48 - ETA: 1:22 - loss: 1.3450 - accuracy: 0.48 - ETA: 1:21 - loss: 1.3417 - accuracy: 0.48 - ETA: 1:20 - loss: 1.3382 - accuracy: 0.48 - ETA: 1:19 - loss: 1.3357 - accuracy: 0.48 - ETA: 1:18 - loss: 1.3318 - accuracy: 0.49 - ETA: 1:17 - loss: 1.3273 - accuracy: 0.49 - ETA: 1:16 - loss: 1.3227 - accuracy: 0.49 - ETA: 1:15 - loss: 1.3188 - accuracy: 0.49 - ETA: 1:14 - loss: 1.3133 - accuracy: 0.49 - ETA: 1:13 - loss: 1.3111 - accuracy: 0.49 - ETA: 1:12 - loss: 1.3078 - accuracy: 0.50 - ETA: 1:11 - loss: 1.3042 - accuracy: 0.50 - ETA: 1:10 - loss: 1.3012 - accuracy: 0.50 - ETA: 1:09 - loss: 1.2973 - accuracy: 0.50 - ETA: 1:08 - loss: 1.2948 - accuracy: 0.50 - ETA: 1:07 - loss: 1.2899 - accuracy: 0.50 - ETA: 1:06 - loss: 1.2861 - accuracy: 0.50 - ETA: 1:05 - loss: 1.2821 - accuracy: 0.50 - ETA: 1:04 - loss: 1.2788 - accuracy: 0.51 - ETA: 1:03 - loss: 1.2747 - accuracy: 0.51 - ETA: 1:02 - loss: 1.2731 - accuracy: 0.51 - ETA: 1:01 - loss: 1.2701 - accuracy: 0.51 - ETA: 1:00 - loss: 1.2666 - accuracy: 0.51 - ETA: 1:00 - loss: 1.2638 - accuracy: 0.51 - ETA: 59s - loss: 1.2605 - accuracy: 0.5192 - ETA: 58s - loss: 1.2582 - accuracy: 0.519 - ETA: 57s - loss: 1.2557 - accuracy: 0.521 - ETA: 56s - loss: 1.2526 - accuracy: 0.522 - ETA: 55s - loss: 1.2478 - accuracy: 0.524 - ETA: 54s - loss: 1.2448 - accuracy: 0.526 - ETA: 53s - loss: 1.2407 - accuracy: 0.527 - ETA: 52s - loss: 1.2372 - accuracy: 0.528 - ETA: 51s - loss: 1.2336 - accuracy: 0.530 - ETA: 50s - loss: 1.2303 - accuracy: 0.531 - ETA: 49s - loss: 1.2270 - accuracy: 0.532 - ETA: 48s - loss: 1.2235 - accuracy: 0.533 - ETA: 47s - loss: 1.2194 - accuracy: 0.535 - ETA: 46s - loss: 1.2164 - accuracy: 0.536 - ETA: 45s - loss: 1.2139 - accuracy: 0.536 - ETA: 44s - loss: 1.2100 - accuracy: 0.538 - ETA: 43s - loss: 1.2067 - accuracy: 0.539 - ETA: 42s - loss: 1.2037 - accuracy: 0.540 - ETA: 41s - loss: 1.2003 - accuracy: 0.542 - ETA: 40s - loss: 1.1966 - accuracy: 0.543 - ETA: 39s - loss: 1.1944 - accuracy: 0.545 - ETA: 38s - loss: 1.1905 - accuracy: 0.546 - ETA: 37s - loss: 1.1876 - accuracy: 0.5475"
     ]
    },
    {
     "name": "stdout",
     "output_type": "stream",
     "text": [
      "7210/7210 [==============================] - ETA: 36s - loss: 1.1845 - accuracy: 0.549 - ETA: 35s - loss: 1.1823 - accuracy: 0.549 - ETA: 34s - loss: 1.1790 - accuracy: 0.551 - ETA: 33s - loss: 1.1757 - accuracy: 0.552 - ETA: 32s - loss: 1.1729 - accuracy: 0.553 - ETA: 31s - loss: 1.1694 - accuracy: 0.554 - ETA: 31s - loss: 1.1661 - accuracy: 0.555 - ETA: 30s - loss: 1.1634 - accuracy: 0.556 - ETA: 29s - loss: 1.1599 - accuracy: 0.557 - ETA: 28s - loss: 1.1563 - accuracy: 0.559 - ETA: 27s - loss: 1.1530 - accuracy: 0.560 - ETA: 26s - loss: 1.1495 - accuracy: 0.561 - ETA: 25s - loss: 1.1471 - accuracy: 0.562 - ETA: 24s - loss: 1.1458 - accuracy: 0.562 - ETA: 23s - loss: 1.1435 - accuracy: 0.563 - ETA: 22s - loss: 1.1407 - accuracy: 0.564 - ETA: 21s - loss: 1.1373 - accuracy: 0.566 - ETA: 20s - loss: 1.1345 - accuracy: 0.567 - ETA: 19s - loss: 1.1311 - accuracy: 0.568 - ETA: 18s - loss: 1.1290 - accuracy: 0.568 - ETA: 17s - loss: 1.1259 - accuracy: 0.570 - ETA: 16s - loss: 1.1230 - accuracy: 0.571 - ETA: 15s - loss: 1.1202 - accuracy: 0.573 - ETA: 14s - loss: 1.1175 - accuracy: 0.574 - ETA: 13s - loss: 1.1154 - accuracy: 0.575 - ETA: 12s - loss: 1.1130 - accuracy: 0.576 - ETA: 11s - loss: 1.1101 - accuracy: 0.577 - ETA: 10s - loss: 1.1074 - accuracy: 0.578 - ETA: 9s - loss: 1.1054 - accuracy: 0.579 - ETA: 8s - loss: 1.1014 - accuracy: 0.58 - ETA: 7s - loss: 1.0989 - accuracy: 0.58 - ETA: 6s - loss: 1.0954 - accuracy: 0.58 - ETA: 6s - loss: 1.0930 - accuracy: 0.58 - ETA: 5s - loss: 1.0923 - accuracy: 0.58 - ETA: 4s - loss: 1.0899 - accuracy: 0.58 - ETA: 3s - loss: 1.0872 - accuracy: 0.58 - ETA: 2s - loss: 1.0842 - accuracy: 0.58 - ETA: 1s - loss: 1.0818 - accuracy: 0.58 - ETA: 0s - loss: 1.0792 - accuracy: 0.59 - 282s 39ms/step - loss: 1.0793 - accuracy: 0.5910 - val_loss: 1.5587 - val_accuracy: 0.4789\n",
      "Epoch 2/3\n"
     ]
    },
    {
     "name": "stdout",
     "output_type": "stream",
     "text": [
      "5952/7210 [=======================>......] - ETA: 3:37 - loss: 0.3497 - accuracy: 0.84 - ETA: 3:33 - loss: 0.3653 - accuracy: 0.85 - ETA: 3:27 - loss: 0.3506 - accuracy: 0.88 - ETA: 3:27 - loss: 0.4339 - accuracy: 0.85 - ETA: 3:23 - loss: 0.4041 - accuracy: 0.85 - ETA: 3:24 - loss: 0.4113 - accuracy: 0.84 - ETA: 3:24 - loss: 0.4206 - accuracy: 0.85 - ETA: 3:23 - loss: 0.4572 - accuracy: 0.84 - ETA: 3:23 - loss: 0.4581 - accuracy: 0.84 - ETA: 3:23 - loss: 0.4412 - accuracy: 0.85 - ETA: 3:22 - loss: 0.4628 - accuracy: 0.83 - ETA: 3:22 - loss: 0.4625 - accuracy: 0.83 - ETA: 3:19 - loss: 0.4556 - accuracy: 0.84 - ETA: 3:18 - loss: 0.4806 - accuracy: 0.82 - ETA: 3:16 - loss: 0.4890 - accuracy: 0.82 - ETA: 3:17 - loss: 0.4825 - accuracy: 0.82 - ETA: 3:15 - loss: 0.4814 - accuracy: 0.82 - ETA: 3:15 - loss: 0.4789 - accuracy: 0.82 - ETA: 3:14 - loss: 0.4757 - accuracy: 0.83 - ETA: 3:13 - loss: 0.4756 - accuracy: 0.83 - ETA: 3:13 - loss: 0.4850 - accuracy: 0.82 - ETA: 3:12 - loss: 0.4784 - accuracy: 0.82 - ETA: 3:11 - loss: 0.4728 - accuracy: 0.83 - ETA: 3:09 - loss: 0.4758 - accuracy: 0.83 - ETA: 3:09 - loss: 0.4807 - accuracy: 0.83 - ETA: 3:08 - loss: 0.4856 - accuracy: 0.82 - ETA: 3:08 - loss: 0.4860 - accuracy: 0.82 - ETA: 3:07 - loss: 0.4936 - accuracy: 0.82 - ETA: 3:06 - loss: 0.4908 - accuracy: 0.82 - ETA: 3:05 - loss: 0.4904 - accuracy: 0.82 - ETA: 3:04 - loss: 0.4849 - accuracy: 0.82 - ETA: 3:02 - loss: 0.4827 - accuracy: 0.82 - ETA: 3:02 - loss: 0.4795 - accuracy: 0.82 - ETA: 3:00 - loss: 0.4756 - accuracy: 0.82 - ETA: 2:59 - loss: 0.4806 - accuracy: 0.82 - ETA: 2:58 - loss: 0.4822 - accuracy: 0.82 - ETA: 2:57 - loss: 0.4745 - accuracy: 0.83 - ETA: 2:56 - loss: 0.4758 - accuracy: 0.83 - ETA: 2:54 - loss: 0.4715 - accuracy: 0.83 - ETA: 2:54 - loss: 0.4711 - accuracy: 0.83 - ETA: 2:53 - loss: 0.4660 - accuracy: 0.83 - ETA: 2:51 - loss: 0.4642 - accuracy: 0.84 - ETA: 2:51 - loss: 0.4621 - accuracy: 0.83 - ETA: 2:50 - loss: 0.4587 - accuracy: 0.84 - ETA: 2:48 - loss: 0.4589 - accuracy: 0.83 - ETA: 2:48 - loss: 0.4568 - accuracy: 0.84 - ETA: 2:46 - loss: 0.4523 - accuracy: 0.84 - ETA: 2:46 - loss: 0.4493 - accuracy: 0.84 - ETA: 2:45 - loss: 0.4533 - accuracy: 0.84 - ETA: 2:44 - loss: 0.4508 - accuracy: 0.84 - ETA: 2:43 - loss: 0.4476 - accuracy: 0.84 - ETA: 2:41 - loss: 0.4430 - accuracy: 0.84 - ETA: 2:41 - loss: 0.4398 - accuracy: 0.84 - ETA: 2:40 - loss: 0.4373 - accuracy: 0.84 - ETA: 2:39 - loss: 0.4385 - accuracy: 0.84 - ETA: 2:38 - loss: 0.4363 - accuracy: 0.85 - ETA: 2:37 - loss: 0.4329 - accuracy: 0.85 - ETA: 2:36 - loss: 0.4285 - accuracy: 0.85 - ETA: 2:35 - loss: 0.4287 - accuracy: 0.85 - ETA: 2:34 - loss: 0.4293 - accuracy: 0.85 - ETA: 2:33 - loss: 0.4281 - accuracy: 0.85 - ETA: 2:33 - loss: 0.4264 - accuracy: 0.85 - ETA: 2:32 - loss: 0.4290 - accuracy: 0.85 - ETA: 2:31 - loss: 0.4261 - accuracy: 0.85 - ETA: 2:31 - loss: 0.4247 - accuracy: 0.85 - ETA: 2:29 - loss: 0.4217 - accuracy: 0.85 - ETA: 2:29 - loss: 0.4217 - accuracy: 0.85 - ETA: 2:28 - loss: 0.4202 - accuracy: 0.85 - ETA: 2:27 - loss: 0.4183 - accuracy: 0.85 - ETA: 2:26 - loss: 0.4167 - accuracy: 0.85 - ETA: 2:25 - loss: 0.4127 - accuracy: 0.85 - ETA: 2:24 - loss: 0.4137 - accuracy: 0.85 - ETA: 2:23 - loss: 0.4151 - accuracy: 0.85 - ETA: 2:22 - loss: 0.4174 - accuracy: 0.85 - ETA: 2:21 - loss: 0.4169 - accuracy: 0.85 - ETA: 2:20 - loss: 0.4159 - accuracy: 0.85 - ETA: 2:19 - loss: 0.4149 - accuracy: 0.85 - ETA: 2:19 - loss: 0.4133 - accuracy: 0.85 - ETA: 2:18 - loss: 0.4110 - accuracy: 0.85 - ETA: 2:17 - loss: 0.4110 - accuracy: 0.85 - ETA: 2:16 - loss: 0.4095 - accuracy: 0.86 - ETA: 2:15 - loss: 0.4092 - accuracy: 0.85 - ETA: 2:14 - loss: 0.4081 - accuracy: 0.86 - ETA: 2:13 - loss: 0.4069 - accuracy: 0.86 - ETA: 2:13 - loss: 0.4045 - accuracy: 0.86 - ETA: 2:12 - loss: 0.4036 - accuracy: 0.86 - ETA: 2:11 - loss: 0.4025 - accuracy: 0.86 - ETA: 2:10 - loss: 0.4016 - accuracy: 0.86 - ETA: 2:10 - loss: 0.4028 - accuracy: 0.86 - ETA: 2:09 - loss: 0.4045 - accuracy: 0.86 - ETA: 2:08 - loss: 0.4039 - accuracy: 0.86 - ETA: 2:07 - loss: 0.4035 - accuracy: 0.86 - ETA: 2:06 - loss: 0.4077 - accuracy: 0.85 - ETA: 2:06 - loss: 0.4063 - accuracy: 0.85 - ETA: 2:06 - loss: 0.4048 - accuracy: 0.85 - ETA: 2:05 - loss: 0.4076 - accuracy: 0.85 - ETA: 2:04 - loss: 0.4084 - accuracy: 0.85 - ETA: 2:03 - loss: 0.4072 - accuracy: 0.85 - ETA: 2:02 - loss: 0.4060 - accuracy: 0.85 - ETA: 2:01 - loss: 0.4046 - accuracy: 0.85 - ETA: 2:00 - loss: 0.4041 - accuracy: 0.85 - ETA: 1:58 - loss: 0.4037 - accuracy: 0.85 - ETA: 1:57 - loss: 0.4048 - accuracy: 0.85 - ETA: 1:56 - loss: 0.4045 - accuracy: 0.85 - ETA: 1:55 - loss: 0.4040 - accuracy: 0.85 - ETA: 1:55 - loss: 0.4029 - accuracy: 0.85 - ETA: 1:56 - loss: 0.4038 - accuracy: 0.85 - ETA: 1:55 - loss: 0.4034 - accuracy: 0.85 - ETA: 1:54 - loss: 0.4016 - accuracy: 0.85 - ETA: 1:53 - loss: 0.3993 - accuracy: 0.85 - ETA: 1:52 - loss: 0.3973 - accuracy: 0.85 - ETA: 1:51 - loss: 0.3957 - accuracy: 0.86 - ETA: 1:50 - loss: 0.3947 - accuracy: 0.86 - ETA: 1:49 - loss: 0.3981 - accuracy: 0.85 - ETA: 1:48 - loss: 0.3984 - accuracy: 0.85 - ETA: 1:47 - loss: 0.3971 - accuracy: 0.85 - ETA: 1:45 - loss: 0.3962 - accuracy: 0.86 - ETA: 1:44 - loss: 0.3965 - accuracy: 0.86 - ETA: 1:43 - loss: 0.3966 - accuracy: 0.86 - ETA: 1:42 - loss: 0.3967 - accuracy: 0.86 - ETA: 1:41 - loss: 0.3965 - accuracy: 0.86 - ETA: 1:41 - loss: 0.3956 - accuracy: 0.86 - ETA: 1:39 - loss: 0.3959 - accuracy: 0.86 - ETA: 1:39 - loss: 0.3958 - accuracy: 0.86 - ETA: 1:38 - loss: 0.3951 - accuracy: 0.86 - ETA: 1:37 - loss: 0.3951 - accuracy: 0.86 - ETA: 1:35 - loss: 0.3949 - accuracy: 0.86 - ETA: 1:34 - loss: 0.3939 - accuracy: 0.86 - ETA: 1:33 - loss: 0.3928 - accuracy: 0.86 - ETA: 1:33 - loss: 0.3927 - accuracy: 0.86 - ETA: 1:32 - loss: 0.3928 - accuracy: 0.86 - ETA: 1:30 - loss: 0.3906 - accuracy: 0.86 - ETA: 1:29 - loss: 0.3900 - accuracy: 0.86 - ETA: 1:29 - loss: 0.3913 - accuracy: 0.86 - ETA: 1:28 - loss: 0.3912 - accuracy: 0.86 - ETA: 1:27 - loss: 0.3923 - accuracy: 0.86 - ETA: 1:27 - loss: 0.3923 - accuracy: 0.86 - ETA: 1:26 - loss: 0.3907 - accuracy: 0.86 - ETA: 1:25 - loss: 0.3912 - accuracy: 0.86 - ETA: 1:24 - loss: 0.3912 - accuracy: 0.86 - ETA: 1:23 - loss: 0.3899 - accuracy: 0.86 - ETA: 1:22 - loss: 0.3898 - accuracy: 0.86 - ETA: 1:21 - loss: 0.3882 - accuracy: 0.86 - ETA: 1:20 - loss: 0.3870 - accuracy: 0.86 - ETA: 1:19 - loss: 0.3871 - accuracy: 0.86 - ETA: 1:18 - loss: 0.3875 - accuracy: 0.86 - ETA: 1:17 - loss: 0.3873 - accuracy: 0.86 - ETA: 1:16 - loss: 0.3869 - accuracy: 0.86 - ETA: 1:15 - loss: 0.3870 - accuracy: 0.86 - ETA: 1:14 - loss: 0.3856 - accuracy: 0.86 - ETA: 1:13 - loss: 0.3842 - accuracy: 0.86 - ETA: 1:12 - loss: 0.3848 - accuracy: 0.86 - ETA: 1:11 - loss: 0.3833 - accuracy: 0.86 - ETA: 1:10 - loss: 0.3828 - accuracy: 0.86 - ETA: 1:09 - loss: 0.3822 - accuracy: 0.86 - ETA: 1:08 - loss: 0.3817 - accuracy: 0.86 - ETA: 1:07 - loss: 0.3810 - accuracy: 0.86 - ETA: 1:06 - loss: 0.3801 - accuracy: 0.86 - ETA: 1:05 - loss: 0.3795 - accuracy: 0.86 - ETA: 1:04 - loss: 0.3799 - accuracy: 0.86 - ETA: 1:03 - loss: 0.3784 - accuracy: 0.86 - ETA: 1:02 - loss: 0.3774 - accuracy: 0.86 - ETA: 1:01 - loss: 0.3766 - accuracy: 0.86 - ETA: 1:00 - loss: 0.3763 - accuracy: 0.86 - ETA: 59s - loss: 0.3763 - accuracy: 0.8676 - ETA: 58s - loss: 0.3756 - accuracy: 0.868 - ETA: 57s - loss: 0.3741 - accuracy: 0.868 - ETA: 56s - loss: 0.3724 - accuracy: 0.869 - ETA: 55s - loss: 0.3715 - accuracy: 0.869 - ETA: 54s - loss: 0.3708 - accuracy: 0.869 - ETA: 53s - loss: 0.3698 - accuracy: 0.870 - ETA: 52s - loss: 0.3716 - accuracy: 0.869 - ETA: 51s - loss: 0.3710 - accuracy: 0.869 - ETA: 50s - loss: 0.3707 - accuracy: 0.869 - ETA: 49s - loss: 0.3708 - accuracy: 0.869 - ETA: 48s - loss: 0.3703 - accuracy: 0.869 - ETA: 47s - loss: 0.3695 - accuracy: 0.869 - ETA: 46s - loss: 0.3693 - accuracy: 0.869 - ETA: 45s - loss: 0.3694 - accuracy: 0.869 - ETA: 44s - loss: 0.3692 - accuracy: 0.869 - ETA: 43s - loss: 0.3679 - accuracy: 0.870 - ETA: 42s - loss: 0.3674 - accuracy: 0.870 - ETA: 41s - loss: 0.3661 - accuracy: 0.870 - ETA: 40s - loss: 0.3653 - accuracy: 0.870 - ETA: 39s - loss: 0.3646 - accuracy: 0.871 - ETA: 38s - loss: 0.3646 - accuracy: 0.8710"
     ]
    },
    {
     "name": "stdout",
     "output_type": "stream",
     "text": [
      "7210/7210 [==============================] - ETA: 37s - loss: 0.3638 - accuracy: 0.871 - ETA: 36s - loss: 0.3628 - accuracy: 0.871 - ETA: 35s - loss: 0.3622 - accuracy: 0.872 - ETA: 34s - loss: 0.3614 - accuracy: 0.872 - ETA: 33s - loss: 0.3607 - accuracy: 0.872 - ETA: 32s - loss: 0.3597 - accuracy: 0.872 - ETA: 31s - loss: 0.3606 - accuracy: 0.871 - ETA: 30s - loss: 0.3598 - accuracy: 0.872 - ETA: 29s - loss: 0.3590 - accuracy: 0.872 - ETA: 28s - loss: 0.3581 - accuracy: 0.872 - ETA: 27s - loss: 0.3583 - accuracy: 0.872 - ETA: 26s - loss: 0.3578 - accuracy: 0.872 - ETA: 25s - loss: 0.3568 - accuracy: 0.872 - ETA: 24s - loss: 0.3569 - accuracy: 0.872 - ETA: 23s - loss: 0.3561 - accuracy: 0.873 - ETA: 22s - loss: 0.3558 - accuracy: 0.873 - ETA: 21s - loss: 0.3549 - accuracy: 0.873 - ETA: 20s - loss: 0.3537 - accuracy: 0.873 - ETA: 19s - loss: 0.3535 - accuracy: 0.873 - ETA: 18s - loss: 0.3534 - accuracy: 0.873 - ETA: 17s - loss: 0.3552 - accuracy: 0.873 - ETA: 16s - loss: 0.3549 - accuracy: 0.873 - ETA: 15s - loss: 0.3541 - accuracy: 0.874 - ETA: 14s - loss: 0.3538 - accuracy: 0.874 - ETA: 13s - loss: 0.3531 - accuracy: 0.874 - ETA: 12s - loss: 0.3529 - accuracy: 0.874 - ETA: 12s - loss: 0.3530 - accuracy: 0.874 - ETA: 11s - loss: 0.3523 - accuracy: 0.874 - ETA: 10s - loss: 0.3516 - accuracy: 0.874 - ETA: 9s - loss: 0.3512 - accuracy: 0.875 - ETA: 8s - loss: 0.3513 - accuracy: 0.87 - ETA: 7s - loss: 0.3506 - accuracy: 0.87 - ETA: 6s - loss: 0.3514 - accuracy: 0.87 - ETA: 5s - loss: 0.3501 - accuracy: 0.87 - ETA: 4s - loss: 0.3493 - accuracy: 0.87 - ETA: 3s - loss: 0.3490 - accuracy: 0.87 - ETA: 2s - loss: 0.3481 - accuracy: 0.87 - ETA: 1s - loss: 0.3476 - accuracy: 0.87 - ETA: 0s - loss: 0.3467 - accuracy: 0.87 - 287s 40ms/step - loss: 0.3466 - accuracy: 0.8766 - val_loss: 2.1962 - val_accuracy: 0.4259\n",
      "Epoch 3/3\n"
     ]
    },
    {
     "name": "stdout",
     "output_type": "stream",
     "text": [
      "5952/7210 [=======================>......] - ETA: 3:26 - loss: 0.1679 - accuracy: 0.93 - ETA: 3:21 - loss: 0.1845 - accuracy: 0.93 - ETA: 3:18 - loss: 0.1644 - accuracy: 0.93 - ETA: 3:19 - loss: 0.1844 - accuracy: 0.93 - ETA: 3:14 - loss: 0.2114 - accuracy: 0.93 - ETA: 3:20 - loss: 0.1992 - accuracy: 0.93 - ETA: 3:17 - loss: 0.2079 - accuracy: 0.93 - ETA: 3:17 - loss: 0.2202 - accuracy: 0.92 - ETA: 3:17 - loss: 0.2095 - accuracy: 0.93 - ETA: 3:22 - loss: 0.2069 - accuracy: 0.93 - ETA: 3:20 - loss: 0.2043 - accuracy: 0.92 - ETA: 3:19 - loss: 0.2067 - accuracy: 0.92 - ETA: 3:19 - loss: 0.2180 - accuracy: 0.92 - ETA: 3:18 - loss: 0.2118 - accuracy: 0.92 - ETA: 3:18 - loss: 0.2046 - accuracy: 0.93 - ETA: 3:17 - loss: 0.2046 - accuracy: 0.93 - ETA: 3:15 - loss: 0.2065 - accuracy: 0.93 - ETA: 3:22 - loss: 0.2010 - accuracy: 0.93 - ETA: 3:24 - loss: 0.1976 - accuracy: 0.93 - ETA: 3:25 - loss: 0.1999 - accuracy: 0.93 - ETA: 3:27 - loss: 0.1972 - accuracy: 0.93 - ETA: 3:26 - loss: 0.1967 - accuracy: 0.93 - ETA: 3:27 - loss: 0.1973 - accuracy: 0.93 - ETA: 3:26 - loss: 0.2004 - accuracy: 0.93 - ETA: 3:27 - loss: 0.1975 - accuracy: 0.93 - ETA: 3:27 - loss: 0.1982 - accuracy: 0.93 - ETA: 3:26 - loss: 0.1923 - accuracy: 0.93 - ETA: 3:27 - loss: 0.1901 - accuracy: 0.93 - ETA: 3:26 - loss: 0.1967 - accuracy: 0.93 - ETA: 3:24 - loss: 0.1983 - accuracy: 0.93 - ETA: 3:22 - loss: 0.1935 - accuracy: 0.93 - ETA: 3:21 - loss: 0.1902 - accuracy: 0.93 - ETA: 3:18 - loss: 0.1874 - accuracy: 0.93 - ETA: 3:18 - loss: 0.1864 - accuracy: 0.93 - ETA: 3:16 - loss: 0.1842 - accuracy: 0.93 - ETA: 3:14 - loss: 0.1826 - accuracy: 0.93 - ETA: 3:13 - loss: 0.1861 - accuracy: 0.93 - ETA: 3:11 - loss: 0.1842 - accuracy: 0.93 - ETA: 3:10 - loss: 0.1820 - accuracy: 0.93 - ETA: 3:08 - loss: 0.1812 - accuracy: 0.93 - ETA: 3:07 - loss: 0.1792 - accuracy: 0.93 - ETA: 3:05 - loss: 0.1777 - accuracy: 0.93 - ETA: 3:04 - loss: 0.1783 - accuracy: 0.93 - ETA: 3:02 - loss: 0.1803 - accuracy: 0.93 - ETA: 3:01 - loss: 0.1806 - accuracy: 0.93 - ETA: 2:59 - loss: 0.1789 - accuracy: 0.93 - ETA: 2:58 - loss: 0.1764 - accuracy: 0.93 - ETA: 2:57 - loss: 0.1760 - accuracy: 0.93 - ETA: 2:55 - loss: 0.1761 - accuracy: 0.93 - ETA: 2:54 - loss: 0.1761 - accuracy: 0.93 - ETA: 2:53 - loss: 0.1747 - accuracy: 0.93 - ETA: 2:51 - loss: 0.1722 - accuracy: 0.93 - ETA: 2:50 - loss: 0.1728 - accuracy: 0.93 - ETA: 2:49 - loss: 0.1726 - accuracy: 0.93 - ETA: 2:47 - loss: 0.1718 - accuracy: 0.93 - ETA: 2:46 - loss: 0.1746 - accuracy: 0.93 - ETA: 2:45 - loss: 0.1740 - accuracy: 0.93 - ETA: 2:44 - loss: 0.1751 - accuracy: 0.93 - ETA: 2:43 - loss: 0.1789 - accuracy: 0.93 - ETA: 2:42 - loss: 0.1795 - accuracy: 0.93 - ETA: 2:40 - loss: 0.1790 - accuracy: 0.93 - ETA: 2:39 - loss: 0.1816 - accuracy: 0.93 - ETA: 2:38 - loss: 0.1803 - accuracy: 0.93 - ETA: 2:37 - loss: 0.1800 - accuracy: 0.93 - ETA: 2:36 - loss: 0.1799 - accuracy: 0.93 - ETA: 2:35 - loss: 0.1800 - accuracy: 0.93 - ETA: 2:34 - loss: 0.1800 - accuracy: 0.93 - ETA: 2:33 - loss: 0.1809 - accuracy: 0.93 - ETA: 2:31 - loss: 0.1812 - accuracy: 0.93 - ETA: 2:32 - loss: 0.1837 - accuracy: 0.93 - ETA: 2:33 - loss: 0.1835 - accuracy: 0.93 - ETA: 2:32 - loss: 0.1820 - accuracy: 0.93 - ETA: 2:32 - loss: 0.1834 - accuracy: 0.93 - ETA: 2:31 - loss: 0.1832 - accuracy: 0.93 - ETA: 2:29 - loss: 0.1829 - accuracy: 0.93 - ETA: 2:28 - loss: 0.1821 - accuracy: 0.93 - ETA: 2:27 - loss: 0.1807 - accuracy: 0.93 - ETA: 2:26 - loss: 0.1822 - accuracy: 0.93 - ETA: 2:25 - loss: 0.1817 - accuracy: 0.93 - ETA: 2:24 - loss: 0.1815 - accuracy: 0.93 - ETA: 2:22 - loss: 0.1809 - accuracy: 0.93 - ETA: 2:21 - loss: 0.1816 - accuracy: 0.93 - ETA: 2:20 - loss: 0.1814 - accuracy: 0.93 - ETA: 2:19 - loss: 0.1840 - accuracy: 0.93 - ETA: 2:18 - loss: 0.1856 - accuracy: 0.93 - ETA: 2:17 - loss: 0.1842 - accuracy: 0.93 - ETA: 2:16 - loss: 0.1827 - accuracy: 0.93 - ETA: 2:15 - loss: 0.1821 - accuracy: 0.93 - ETA: 2:13 - loss: 0.1820 - accuracy: 0.93 - ETA: 2:12 - loss: 0.1826 - accuracy: 0.93 - ETA: 2:11 - loss: 0.1831 - accuracy: 0.93 - ETA: 2:10 - loss: 0.1825 - accuracy: 0.93 - ETA: 2:09 - loss: 0.1825 - accuracy: 0.93 - ETA: 2:08 - loss: 0.1811 - accuracy: 0.93 - ETA: 2:07 - loss: 0.1808 - accuracy: 0.93 - ETA: 2:06 - loss: 0.1810 - accuracy: 0.93 - ETA: 2:05 - loss: 0.1801 - accuracy: 0.93 - ETA: 2:04 - loss: 0.1804 - accuracy: 0.93 - ETA: 2:03 - loss: 0.1802 - accuracy: 0.93 - ETA: 2:02 - loss: 0.1799 - accuracy: 0.93 - ETA: 2:01 - loss: 0.1791 - accuracy: 0.93 - ETA: 2:00 - loss: 0.1786 - accuracy: 0.93 - ETA: 1:59 - loss: 0.1786 - accuracy: 0.93 - ETA: 1:58 - loss: 0.1776 - accuracy: 0.93 - ETA: 1:57 - loss: 0.1765 - accuracy: 0.93 - ETA: 1:56 - loss: 0.1761 - accuracy: 0.93 - ETA: 1:55 - loss: 0.1755 - accuracy: 0.93 - ETA: 1:54 - loss: 0.1750 - accuracy: 0.93 - ETA: 1:53 - loss: 0.1751 - accuracy: 0.93 - ETA: 1:52 - loss: 0.1739 - accuracy: 0.93 - ETA: 1:51 - loss: 0.1749 - accuracy: 0.93 - ETA: 1:50 - loss: 0.1762 - accuracy: 0.93 - ETA: 1:49 - loss: 0.1755 - accuracy: 0.93 - ETA: 1:48 - loss: 0.1749 - accuracy: 0.93 - ETA: 1:47 - loss: 0.1758 - accuracy: 0.93 - ETA: 1:46 - loss: 0.1765 - accuracy: 0.93 - ETA: 1:45 - loss: 0.1771 - accuracy: 0.93 - ETA: 1:44 - loss: 0.1792 - accuracy: 0.93 - ETA: 1:43 - loss: 0.1786 - accuracy: 0.93 - ETA: 1:42 - loss: 0.1797 - accuracy: 0.93 - ETA: 1:41 - loss: 0.1798 - accuracy: 0.93 - ETA: 1:40 - loss: 0.1816 - accuracy: 0.93 - ETA: 1:39 - loss: 0.1811 - accuracy: 0.93 - ETA: 1:38 - loss: 0.1810 - accuracy: 0.93 - ETA: 1:37 - loss: 0.1816 - accuracy: 0.93 - ETA: 1:36 - loss: 0.1832 - accuracy: 0.93 - ETA: 1:35 - loss: 0.1833 - accuracy: 0.93 - ETA: 1:34 - loss: 0.1825 - accuracy: 0.93 - ETA: 1:33 - loss: 0.1844 - accuracy: 0.93 - ETA: 1:32 - loss: 0.1840 - accuracy: 0.93 - ETA: 1:31 - loss: 0.1838 - accuracy: 0.93 - ETA: 1:30 - loss: 0.1829 - accuracy: 0.93 - ETA: 1:29 - loss: 0.1828 - accuracy: 0.93 - ETA: 1:28 - loss: 0.1833 - accuracy: 0.93 - ETA: 1:27 - loss: 0.1837 - accuracy: 0.93 - ETA: 1:26 - loss: 0.1832 - accuracy: 0.93 - ETA: 1:25 - loss: 0.1832 - accuracy: 0.93 - ETA: 1:24 - loss: 0.1827 - accuracy: 0.93 - ETA: 1:23 - loss: 0.1827 - accuracy: 0.93 - ETA: 1:22 - loss: 0.1825 - accuracy: 0.93 - ETA: 1:21 - loss: 0.1835 - accuracy: 0.93 - ETA: 1:20 - loss: 0.1836 - accuracy: 0.93 - ETA: 1:19 - loss: 0.1829 - accuracy: 0.93 - ETA: 1:18 - loss: 0.1826 - accuracy: 0.93 - ETA: 1:17 - loss: 0.1828 - accuracy: 0.93 - ETA: 1:16 - loss: 0.1825 - accuracy: 0.93 - ETA: 1:15 - loss: 0.1833 - accuracy: 0.93 - ETA: 1:14 - loss: 0.1830 - accuracy: 0.93 - ETA: 1:13 - loss: 0.1835 - accuracy: 0.93 - ETA: 1:12 - loss: 0.1838 - accuracy: 0.93 - ETA: 1:11 - loss: 0.1833 - accuracy: 0.93 - ETA: 1:10 - loss: 0.1828 - accuracy: 0.93 - ETA: 1:09 - loss: 0.1821 - accuracy: 0.93 - ETA: 1:08 - loss: 0.1823 - accuracy: 0.93 - ETA: 1:07 - loss: 0.1827 - accuracy: 0.93 - ETA: 1:06 - loss: 0.1839 - accuracy: 0.93 - ETA: 1:05 - loss: 0.1835 - accuracy: 0.93 - ETA: 1:04 - loss: 0.1831 - accuracy: 0.93 - ETA: 1:03 - loss: 0.1834 - accuracy: 0.93 - ETA: 1:02 - loss: 0.1842 - accuracy: 0.93 - ETA: 1:01 - loss: 0.1834 - accuracy: 0.93 - ETA: 1:00 - loss: 0.1830 - accuracy: 0.93 - ETA: 59s - loss: 0.1829 - accuracy: 0.9310 - ETA: 59s - loss: 0.1830 - accuracy: 0.931 - ETA: 58s - loss: 0.1825 - accuracy: 0.931 - ETA: 57s - loss: 0.1827 - accuracy: 0.931 - ETA: 56s - loss: 0.1818 - accuracy: 0.931 - ETA: 55s - loss: 0.1820 - accuracy: 0.931 - ETA: 54s - loss: 0.1814 - accuracy: 0.932 - ETA: 53s - loss: 0.1809 - accuracy: 0.932 - ETA: 52s - loss: 0.1799 - accuracy: 0.932 - ETA: 51s - loss: 0.1794 - accuracy: 0.933 - ETA: 50s - loss: 0.1794 - accuracy: 0.932 - ETA: 49s - loss: 0.1793 - accuracy: 0.932 - ETA: 48s - loss: 0.1789 - accuracy: 0.932 - ETA: 47s - loss: 0.1790 - accuracy: 0.932 - ETA: 46s - loss: 0.1794 - accuracy: 0.932 - ETA: 45s - loss: 0.1788 - accuracy: 0.932 - ETA: 44s - loss: 0.1793 - accuracy: 0.932 - ETA: 43s - loss: 0.1793 - accuracy: 0.932 - ETA: 42s - loss: 0.1788 - accuracy: 0.933 - ETA: 41s - loss: 0.1792 - accuracy: 0.932 - ETA: 40s - loss: 0.1784 - accuracy: 0.933 - ETA: 39s - loss: 0.1781 - accuracy: 0.933 - ETA: 38s - loss: 0.1785 - accuracy: 0.933 - ETA: 37s - loss: 0.1792 - accuracy: 0.9330"
     ]
    },
    {
     "name": "stdout",
     "output_type": "stream",
     "text": [
      "7210/7210 [==============================] - ETA: 36s - loss: 0.1801 - accuracy: 0.933 - ETA: 36s - loss: 0.1800 - accuracy: 0.932 - ETA: 35s - loss: 0.1804 - accuracy: 0.933 - ETA: 34s - loss: 0.1800 - accuracy: 0.933 - ETA: 33s - loss: 0.1801 - accuracy: 0.933 - ETA: 32s - loss: 0.1804 - accuracy: 0.933 - ETA: 31s - loss: 0.1803 - accuracy: 0.933 - ETA: 30s - loss: 0.1810 - accuracy: 0.933 - ETA: 29s - loss: 0.1805 - accuracy: 0.933 - ETA: 28s - loss: 0.1805 - accuracy: 0.933 - ETA: 27s - loss: 0.1812 - accuracy: 0.932 - ETA: 26s - loss: 0.1807 - accuracy: 0.933 - ETA: 25s - loss: 0.1805 - accuracy: 0.933 - ETA: 24s - loss: 0.1803 - accuracy: 0.933 - ETA: 23s - loss: 0.1804 - accuracy: 0.933 - ETA: 22s - loss: 0.1799 - accuracy: 0.933 - ETA: 21s - loss: 0.1792 - accuracy: 0.934 - ETA: 20s - loss: 0.1799 - accuracy: 0.933 - ETA: 19s - loss: 0.1796 - accuracy: 0.933 - ETA: 18s - loss: 0.1792 - accuracy: 0.933 - ETA: 17s - loss: 0.1790 - accuracy: 0.933 - ETA: 16s - loss: 0.1786 - accuracy: 0.934 - ETA: 15s - loss: 0.1783 - accuracy: 0.934 - ETA: 14s - loss: 0.1779 - accuracy: 0.934 - ETA: 13s - loss: 0.1776 - accuracy: 0.934 - ETA: 12s - loss: 0.1781 - accuracy: 0.934 - ETA: 11s - loss: 0.1777 - accuracy: 0.934 - ETA: 10s - loss: 0.1776 - accuracy: 0.934 - ETA: 9s - loss: 0.1784 - accuracy: 0.934 - ETA: 8s - loss: 0.1783 - accuracy: 0.93 - ETA: 7s - loss: 0.1777 - accuracy: 0.93 - ETA: 7s - loss: 0.1780 - accuracy: 0.93 - ETA: 6s - loss: 0.1784 - accuracy: 0.93 - ETA: 5s - loss: 0.1782 - accuracy: 0.93 - ETA: 4s - loss: 0.1779 - accuracy: 0.93 - ETA: 3s - loss: 0.1780 - accuracy: 0.93 - ETA: 2s - loss: 0.1775 - accuracy: 0.93 - ETA: 1s - loss: 0.1777 - accuracy: 0.93 - ETA: 0s - loss: 0.1777 - accuracy: 0.93 - 283s 39ms/step - loss: 0.1775 - accuracy: 0.9351 - val_loss: 2.6454 - val_accuracy: 0.4496\n"
     ]
    },
    {
     "data": {
      "text/plain": [
       "<keras.callbacks.callbacks.History at 0x28686cd66c8>"
      ]
     },
     "execution_count": 11,
     "metadata": {},
     "output_type": "execute_result"
    }
   ],
   "source": [
    "wandb.init()\n",
    "# Train the CNN model\n",
    "#    X_train: Input data\n",
    "#    y_train_hot: Target data\n",
    "model.fit(X_train, y_train_hot, epochs=config.epochs, validation_data=(X_val, y_val_hot), callbacks=[WandbCallback(data_type=\"image\", labels=labels)])"
   ]
  },
  {
   "cell_type": "code",
   "execution_count": 12,
   "metadata": {},
   "outputs": [
    {
     "name": "stdout",
     "output_type": "stream",
     "text": [
      "Model has been saved.\n"
     ]
    }
   ],
   "source": [
    "# Save the keras model\n",
    "model.save(\"bio_cnn_model.h5\")\n",
    "print(\"Model has been saved.\")"
   ]
  },
  {
   "cell_type": "markdown",
   "metadata": {},
   "source": [
    "## Running the IntelliChirp Biophony CNN"
   ]
  },
  {
   "cell_type": "code",
   "execution_count": 14,
   "metadata": {
    "scrolled": true
   },
   "outputs": [],
   "source": [
    "from keras.models import load_model\n",
    "\n",
    "# Load the model\n",
    "loaded_model = load_model('bio_cnn_model.h5')"
   ]
  },
  {
   "cell_type": "code",
   "execution_count": 15,
   "metadata": {},
   "outputs": [
    {
     "name": "stdout",
     "output_type": "stream",
     "text": [
      "Model: \"sequential_1\"\n",
      "_________________________________________________________________\n",
      "Layer (type)                 Output Shape              Param #   \n",
      "=================================================================\n",
      "conv2d_1 (Conv2D)            (None, 116, 28, 109)      1090      \n",
      "_________________________________________________________________\n",
      "max_pooling2d_1 (MaxPooling2 (None, 58, 14, 109)       0         \n",
      "_________________________________________________________________\n",
      "activation_1 (Activation)    (None, 58, 14, 109)       0         \n",
      "_________________________________________________________________\n",
      "conv2d_2 (Conv2D)            (None, 56, 12, 81)        79542     \n",
      "_________________________________________________________________\n",
      "max_pooling2d_2 (MaxPooling2 (None, 28, 6, 81)         0         \n",
      "_________________________________________________________________\n",
      "activation_2 (Activation)    (None, 28, 6, 81)         0         \n",
      "_________________________________________________________________\n",
      "conv2d_3 (Conv2D)            (None, 26, 6, 104)        25376     \n",
      "_________________________________________________________________\n",
      "activation_3 (Activation)    (None, 26, 6, 104)        0         \n",
      "_________________________________________________________________\n",
      "flatten_1 (Flatten)          (None, 16224)             0         \n",
      "_________________________________________________________________\n",
      "dropout_1 (Dropout)          (None, 16224)             0         \n",
      "_________________________________________________________________\n",
      "dense_1 (Dense)              (None, 118)               1914550   \n",
      "_________________________________________________________________\n",
      "activation_4 (Activation)    (None, 118)               0         \n",
      "_________________________________________________________________\n",
      "dropout_2 (Dropout)          (None, 118)               0         \n",
      "_________________________________________________________________\n",
      "dense_2 (Dense)              (None, 7)                 833       \n",
      "_________________________________________________________________\n",
      "activation_5 (Activation)    (None, 7)                 0         \n",
      "=================================================================\n",
      "Total params: 2,021,391\n",
      "Trainable params: 2,021,391\n",
      "Non-trainable params: 0\n",
      "_________________________________________________________________\n"
     ]
    }
   ],
   "source": [
    "# Summarize the model\n",
    "model.summary()\n",
    "from keras.utils.vis_utils import plot_model"
   ]
  },
  {
   "cell_type": "code",
   "execution_count": 16,
   "metadata": {},
   "outputs": [
    {
     "name": "stdout",
     "output_type": "stream",
     "text": [
      "[[376   0   0  12   0   0  26]\n",
      " [  2 212   3  60  14  29  94]\n",
      " [  0 135  43  43   0  34 159]\n",
      " [ 26  35   9 189  17  36 102]\n",
      " [  7   6  11  58  81   0 251]\n",
      " [  0  64   0  45  27 125 153]\n",
      " [  5  29   1  34   3  16 326]]\n",
      "Accuracy for class GOC : [0.90821256]\n",
      "Accuracy for class GRA : [0.51207729]\n",
      "Accuracy for class GST : [0.10386473]\n",
      "Accuracy for class GWG : [0.45652174]\n",
      "Accuracy for class GWC : [0.19565217]\n",
      "Accuracy for class OPI : [0.30193237]\n",
      "Accuracy for class OQU : [0.78743961]\n",
      "Overall Accuracy : 0.4665286404416839\n",
      "Average Accuracy\n"
     ]
    },
    {
     "data": {
      "image/png": "[encoded data removed]",
      "text/plain": [
       "<Figure size 432x288 with 2 Axes>"
      ]
     },
     "metadata": {
      "needs_background": "light"
     },
     "output_type": "display_data"
    },
    {
     "data": {
      "text/plain": [
       "'[[ 24   0   0   0   0   0  10]\\n [  1   4   0   0   0   0   3]\\n [  0   0   5   0   0   0  16]\\n [  2   0   0   0   0   0   1]\\n [  0   0   0   0   0   0   6]\\n [  0   0   0   0   0   2   3]\\n [  1   0   1   1   0   0 194]]\\nAccuracy for class AAT : [0.70588235]\\nAccuracy for class AHV : [0.5]\\nAccuracy for class AMA : [0.23809524]\\nAccuracy for class ART : [0.]\\nAccuracy for class ASI : [0.]\\nAccuracy for class AVH : [0.4]\\nAccuracy for class AVT : [0.98477157]\\nOverall Accuracy : 0.8357664233576643'"
      ]
     },
     "execution_count": 16,
     "metadata": {},
     "output_type": "execute_result"
    }
   ],
   "source": [
    "y_pred_ohe = loaded_model.predict(X_test)  # shape=(n_samples, 12)\n",
    "y_pred_labels = np.argmax(y_pred_ohe, axis=1)  # only necessary if output has one-hot-encoding, shape=(n_samples)\n",
    "\n",
    "confusion_matrix = metrics.confusion_matrix(y_true=y_test, y_pred=y_pred_labels)  # shape\n",
    "print(confusion_matrix)\n",
    "sum_avg = 0\n",
    "for class_i in range(len(labels)) :\n",
    "    indices = np.argwhere(y_test == class_i)\n",
    "    sum = 0\n",
    "    for index in indices:\n",
    "        sum += (y_test[index] == y_pred_labels[index])\n",
    "    if(len(indices) > 0) : mean = sum/len(indices)\n",
    "    else : mean = \"N/A\"\n",
    "    sum_avg += mean\n",
    "    print(\"Accuracy for class\", labels[class_i], \":\", mean)\n",
    "avg_mean = sum / len(labels)\n",
    "    \n",
    "print(\"Overall Accuracy :\", np.mean(y_test == y_pred_labels))\n",
    "print(\"Average Accuracy\")\n",
    "\n",
    "fig = plt.figure()\n",
    "ax = fig.add_subplot(111)\n",
    "cax = ax.matshow(confusion_matrix, cmap=plt.cm.Blues)\n",
    "fig.colorbar(cax)\n",
    "#ax.set_xticklabels([''] + labels)\n",
    "#ax.set_yticklabels([''] + labels)\n",
    "plt.xlabel('Predicted')\n",
    "plt.ylabel('Expected')\n",
    "plt.show()\n",
    "\n",
    "'''[[ 24   0   0   0   0   0  10]\n",
    " [  1   4   0   0   0   0   3]\n",
    " [  0   0   5   0   0   0  16]\n",
    " [  2   0   0   0   0   0   1]\n",
    " [  0   0   0   0   0   0   6]\n",
    " [  0   0   0   0   0   2   3]\n",
    " [  1   0   1   1   0   0 194]]\n",
    "Accuracy for class AAT : [0.70588235]\n",
    "Accuracy for class AHV : [0.5]\n",
    "Accuracy for class AMA : [0.23809524]\n",
    "Accuracy for class ART : [0.]\n",
    "Accuracy for class ASI : [0.]\n",
    "Accuracy for class AVH : [0.4]\n",
    "Accuracy for class AVT : [0.98477157]\n",
    "Overall Accuracy : 0.8357664233576643'''"
   ]
  },
  {
   "cell_type": "code",
   "execution_count": 17,
   "metadata": {},
   "outputs": [
    {
     "name": "stdout",
     "output_type": "stream",
     "text": [
      "2898/2898 [==============================] - ETA: 38 - ETA: 35 - ETA: 38 - ETA: 37 - ETA: 58 - ETA: 54 - ETA: 58 - ETA: 54 - ETA: 51 - ETA: 47 - ETA: 44 - ETA: 42 - ETA: 39 - ETA: 38 - ETA: 36 - ETA: 34 - ETA: 32 - ETA: 31 - ETA: 29 - ETA: 28 - ETA: 26 - ETA: 25 - ETA: 24 - ETA: 22 - ETA: 21 - ETA: 20 - ETA: 19 - ETA: 18 - ETA: 17 - ETA: 15 - ETA: 14 - ETA: 13 - ETA: 12 - ETA: 11 - ETA: 10 - ETA: 9 - ETA:  - ETA:  - ETA:  - ETA:  - ETA:  - ETA:  - ETA:  - ETA:  - ETA:  - 45s 15ms/step\n"
     ]
    }
   ],
   "source": [
    "from sklearn.metrics import classification_report, zero_one_loss\n",
    "\n",
    "y_pred = model.predict(X_test, batch_size=64, verbose=1)\n",
    "y_pred_bool = np.argmax(y_pred, axis=1)\n",
    "\n",
    "zero1loss = zero_one_loss(y_true=y_test, y_pred=y_pred_labels)"
   ]
  },
  {
   "cell_type": "code",
   "execution_count": 18,
   "metadata": {},
   "outputs": [
    {
     "name": "stdout",
     "output_type": "stream",
     "text": [
      "              precision    recall  f1-score   support\n",
      "\n",
      "         0.0       0.90      0.91      0.91       414\n",
      "         1.0       0.44      0.51      0.47       414\n",
      "         2.0       0.64      0.10      0.18       414\n",
      "         3.0       0.43      0.46      0.44       414\n",
      "         4.0       0.57      0.20      0.29       414\n",
      "         5.0       0.52      0.30      0.38       414\n",
      "         6.0       0.29      0.79      0.43       414\n",
      "\n",
      "    accuracy                           0.47      2898\n",
      "   macro avg       0.54      0.47      0.44      2898\n",
      "weighted avg       0.54      0.47      0.44      2898\n",
      "\n",
      "0.533471359558316\n"
     ]
    }
   ],
   "source": [
    "print(classification_report(y_test, y_pred_bool))\n",
    "print(zero1loss)"
   ]
  },
  {
   "cell_type": "code",
   "execution_count": 19,
   "metadata": {},
   "outputs": [
    {
     "data": {
      "image/png": "[encoded data removed]",
      "text/plain": [
       "<Figure size 432x288 with 1 Axes>"
      ]
     },
     "metadata": {
      "needs_background": "light"
     },
     "output_type": "display_data"
    }
   ],
   "source": [
    "from sklearn.metrics import roc_curve, auc\n",
    "from itertools import cycle\n",
    "\n",
    "# Compute ROC curve and ROC area for each class\n",
    "fpr = dict()\n",
    "tpr = dict()\n",
    "roc_auc = dict()\n",
    "for i in range(len(labels)):\n",
    "    fpr[i], tpr[i], _ = roc_curve(y_test, y_pred_labels, pos_label=i)\n",
    "    roc_auc[i] = auc(fpr[i], tpr[i])\n",
    "\n",
    "# Compute micro-average ROC curve and ROC area\n",
    "#fpr[\"micro\"], tpr[\"micro\"], _ = roc_curve(y_test.ravel(), y_pred_labels.ravel())\n",
    "#roc_auc[\"micro\"] = auc(fpr[\"micro\"], tpr[\"micro\"])\n",
    "lw = 2\n",
    "colors = cycle(['aqua', 'darkorange', 'cornflowerblue'])\n",
    "for i, color in zip(range(len(labels)), colors):\n",
    "    plt.plot(fpr[i], tpr[i], color=color, lw=lw,\n",
    "             label='class {0} (area = {1:0.2f})'\n",
    "             ''.format(labels[i], roc_auc[i]))\n",
    "\n",
    "plt.plot([0, 1], [0, 1], 'k--', lw=lw)\n",
    "plt.xlim([0.0, 1.0])\n",
    "plt.ylim([0.0, 1.05])\n",
    "plt.xlabel('False Positive Rate')\n",
    "plt.ylabel('True Positive Rate')\n",
    "plt.title('Some extension of Receiver operating characteristic to multi-class')\n",
    "plt.legend(loc=\"lower right\")\n",
    "plt.show()"
   ]
  },
  {
   "cell_type": "code",
   "execution_count": 20,
   "metadata": {},
   "outputs": [
    {
     "name": "stderr",
     "output_type": "stream",
     "text": [
      "C:\\ProgramData\\Anaconda3\\lib\\site-packages\\librosa\\core\\audio.py:146: UserWarning: PySoundFile failed. Trying audioread instead.\n",
      "  warnings.warn('PySoundFile failed. Trying audioread instead.')\n"
     ]
    },
    {
     "ename": "FileNotFoundError",
     "evalue": "[Errno 2] No such file or directory: './prediction/nature_sc.wav'",
     "output_type": "error",
     "traceback": [
      "\u001b[1;31m---------------------------------------------------------------------------\u001b[0m",
      "\u001b[1;31mRuntimeError\u001b[0m                              Traceback (most recent call last)",
      "\u001b[1;32mC:\\ProgramData\\Anaconda3\\lib\\site-packages\\librosa\\core\\audio.py\u001b[0m in \u001b[0;36mload\u001b[1;34m(path, sr, mono, offset, duration, dtype, res_type)\u001b[0m\n\u001b[0;32m    128\u001b[0m     \u001b[1;32mtry\u001b[0m\u001b[1;33m:\u001b[0m\u001b[1;33m\u001b[0m\u001b[1;33m\u001b[0m\u001b[0m\n\u001b[1;32m--> 129\u001b[1;33m         \u001b[1;32mwith\u001b[0m \u001b[0msf\u001b[0m\u001b[1;33m.\u001b[0m\u001b[0mSoundFile\u001b[0m\u001b[1;33m(\u001b[0m\u001b[0mpath\u001b[0m\u001b[1;33m)\u001b[0m \u001b[1;32mas\u001b[0m \u001b[0msf_desc\u001b[0m\u001b[1;33m:\u001b[0m\u001b[1;33m\u001b[0m\u001b[1;33m\u001b[0m\u001b[0m\n\u001b[0m\u001b[0;32m    130\u001b[0m             \u001b[0msr_native\u001b[0m \u001b[1;33m=\u001b[0m \u001b[0msf_desc\u001b[0m\u001b[1;33m.\u001b[0m\u001b[0msamplerate\u001b[0m\u001b[1;33m\u001b[0m\u001b[1;33m\u001b[0m\u001b[0m\n",
      "\u001b[1;32mC:\\ProgramData\\Anaconda3\\lib\\site-packages\\soundfile.py\u001b[0m in \u001b[0;36m__init__\u001b[1;34m(self, file, mode, samplerate, channels, subtype, endian, format, closefd)\u001b[0m\n\u001b[0;32m    628\u001b[0m                                          format, subtype, endian)\n\u001b[1;32m--> 629\u001b[1;33m         \u001b[0mself\u001b[0m\u001b[1;33m.\u001b[0m\u001b[0m_file\u001b[0m \u001b[1;33m=\u001b[0m \u001b[0mself\u001b[0m\u001b[1;33m.\u001b[0m\u001b[0m_open\u001b[0m\u001b[1;33m(\u001b[0m\u001b[0mfile\u001b[0m\u001b[1;33m,\u001b[0m \u001b[0mmode_int\u001b[0m\u001b[1;33m,\u001b[0m \u001b[0mclosefd\u001b[0m\u001b[1;33m)\u001b[0m\u001b[1;33m\u001b[0m\u001b[1;33m\u001b[0m\u001b[0m\n\u001b[0m\u001b[0;32m    630\u001b[0m         \u001b[1;32mif\u001b[0m \u001b[0mset\u001b[0m\u001b[1;33m(\u001b[0m\u001b[0mmode\u001b[0m\u001b[1;33m)\u001b[0m\u001b[1;33m.\u001b[0m\u001b[0missuperset\u001b[0m\u001b[1;33m(\u001b[0m\u001b[1;34m'r+'\u001b[0m\u001b[1;33m)\u001b[0m \u001b[1;32mand\u001b[0m \u001b[0mself\u001b[0m\u001b[1;33m.\u001b[0m\u001b[0mseekable\u001b[0m\u001b[1;33m(\u001b[0m\u001b[1;33m)\u001b[0m\u001b[1;33m:\u001b[0m\u001b[1;33m\u001b[0m\u001b[1;33m\u001b[0m\u001b[0m\n",
      "\u001b[1;32mC:\\ProgramData\\Anaconda3\\lib\\site-packages\\soundfile.py\u001b[0m in \u001b[0;36m_open\u001b[1;34m(self, file, mode_int, closefd)\u001b[0m\n\u001b[0;32m   1183\u001b[0m         _error_check(_snd.sf_error(file_ptr),\n\u001b[1;32m-> 1184\u001b[1;33m                      \"Error opening {0!r}: \".format(self.name))\n\u001b[0m\u001b[0;32m   1185\u001b[0m         \u001b[1;32mif\u001b[0m \u001b[0mmode_int\u001b[0m \u001b[1;33m==\u001b[0m \u001b[0m_snd\u001b[0m\u001b[1;33m.\u001b[0m\u001b[0mSFM_WRITE\u001b[0m\u001b[1;33m:\u001b[0m\u001b[1;33m\u001b[0m\u001b[1;33m\u001b[0m\u001b[0m\n",
      "\u001b[1;32mC:\\ProgramData\\Anaconda3\\lib\\site-packages\\soundfile.py\u001b[0m in \u001b[0;36m_error_check\u001b[1;34m(err, prefix)\u001b[0m\n\u001b[0;32m   1356\u001b[0m         \u001b[0merr_str\u001b[0m \u001b[1;33m=\u001b[0m \u001b[0m_snd\u001b[0m\u001b[1;33m.\u001b[0m\u001b[0msf_error_number\u001b[0m\u001b[1;33m(\u001b[0m\u001b[0merr\u001b[0m\u001b[1;33m)\u001b[0m\u001b[1;33m\u001b[0m\u001b[1;33m\u001b[0m\u001b[0m\n\u001b[1;32m-> 1357\u001b[1;33m         \u001b[1;32mraise\u001b[0m \u001b[0mRuntimeError\u001b[0m\u001b[1;33m(\u001b[0m\u001b[0mprefix\u001b[0m \u001b[1;33m+\u001b[0m \u001b[0m_ffi\u001b[0m\u001b[1;33m.\u001b[0m\u001b[0mstring\u001b[0m\u001b[1;33m(\u001b[0m\u001b[0merr_str\u001b[0m\u001b[1;33m)\u001b[0m\u001b[1;33m.\u001b[0m\u001b[0mdecode\u001b[0m\u001b[1;33m(\u001b[0m\u001b[1;34m'utf-8'\u001b[0m\u001b[1;33m,\u001b[0m \u001b[1;34m'replace'\u001b[0m\u001b[1;33m)\u001b[0m\u001b[1;33m)\u001b[0m\u001b[1;33m\u001b[0m\u001b[1;33m\u001b[0m\u001b[0m\n\u001b[0m\u001b[0;32m   1358\u001b[0m \u001b[1;33m\u001b[0m\u001b[0m\n",
      "\u001b[1;31mRuntimeError\u001b[0m: Error opening './prediction/nature_sc.wav': System error.",
      "\nDuring handling of the above exception, another exception occurred:\n",
      "\u001b[1;31mFileNotFoundError\u001b[0m                         Traceback (most recent call last)",
      "\u001b[1;32m<ipython-input-20-a1781ba9da5d>\u001b[0m in \u001b[0;36m<module>\u001b[1;34m\u001b[0m\n\u001b[0;32m      6\u001b[0m \u001b[1;31m# Mel-frequency cepstral coefficients\u001b[0m\u001b[1;33m\u001b[0m\u001b[1;33m\u001b[0m\u001b[1;33m\u001b[0m\u001b[0m\n\u001b[0;32m      7\u001b[0m \u001b[0mfile_path\u001b[0m \u001b[1;33m=\u001b[0m \u001b[1;34m\"./prediction/nature_sc.wav\"\u001b[0m\u001b[1;33m\u001b[0m\u001b[1;33m\u001b[0m\u001b[0m\n\u001b[1;32m----> 8\u001b[1;33m \u001b[0mbig_wave\u001b[0m\u001b[1;33m,\u001b[0m \u001b[0msr\u001b[0m \u001b[1;33m=\u001b[0m \u001b[0mlibrosa\u001b[0m\u001b[1;33m.\u001b[0m\u001b[0mload\u001b[0m\u001b[1;33m(\u001b[0m\u001b[0mfile_path\u001b[0m\u001b[1;33m,\u001b[0m \u001b[0mmono\u001b[0m\u001b[1;33m=\u001b[0m\u001b[1;32mTrue\u001b[0m\u001b[1;33m,\u001b[0m \u001b[0msr\u001b[0m\u001b[1;33m=\u001b[0m\u001b[1;32mNone\u001b[0m\u001b[1;33m)\u001b[0m\u001b[1;33m\u001b[0m\u001b[1;33m\u001b[0m\u001b[0m\n\u001b[0m\u001b[0;32m      9\u001b[0m \u001b[1;31m#print(wave.shape, sr)\u001b[0m\u001b[1;33m\u001b[0m\u001b[1;33m\u001b[0m\u001b[1;33m\u001b[0m\u001b[0m\n\u001b[0;32m     10\u001b[0m \u001b[1;33m\u001b[0m\u001b[0m\n",
      "\u001b[1;32mC:\\ProgramData\\Anaconda3\\lib\\site-packages\\librosa\\core\\audio.py\u001b[0m in \u001b[0;36mload\u001b[1;34m(path, sr, mono, offset, duration, dtype, res_type)\u001b[0m\n\u001b[0;32m    145\u001b[0m         \u001b[1;32mif\u001b[0m \u001b[0misinstance\u001b[0m\u001b[1;33m(\u001b[0m\u001b[0mpath\u001b[0m\u001b[1;33m,\u001b[0m \u001b[0msix\u001b[0m\u001b[1;33m.\u001b[0m\u001b[0mstring_types\u001b[0m\u001b[1;33m)\u001b[0m\u001b[1;33m:\u001b[0m\u001b[1;33m\u001b[0m\u001b[1;33m\u001b[0m\u001b[0m\n\u001b[0;32m    146\u001b[0m             \u001b[0mwarnings\u001b[0m\u001b[1;33m.\u001b[0m\u001b[0mwarn\u001b[0m\u001b[1;33m(\u001b[0m\u001b[1;34m'PySoundFile failed. Trying audioread instead.'\u001b[0m\u001b[1;33m)\u001b[0m\u001b[1;33m\u001b[0m\u001b[1;33m\u001b[0m\u001b[0m\n\u001b[1;32m--> 147\u001b[1;33m             \u001b[0my\u001b[0m\u001b[1;33m,\u001b[0m \u001b[0msr_native\u001b[0m \u001b[1;33m=\u001b[0m \u001b[0m__audioread_load\u001b[0m\u001b[1;33m(\u001b[0m\u001b[0mpath\u001b[0m\u001b[1;33m,\u001b[0m \u001b[0moffset\u001b[0m\u001b[1;33m,\u001b[0m \u001b[0mduration\u001b[0m\u001b[1;33m,\u001b[0m \u001b[0mdtype\u001b[0m\u001b[1;33m)\u001b[0m\u001b[1;33m\u001b[0m\u001b[1;33m\u001b[0m\u001b[0m\n\u001b[0m\u001b[0;32m    148\u001b[0m         \u001b[1;32melse\u001b[0m\u001b[1;33m:\u001b[0m\u001b[1;33m\u001b[0m\u001b[1;33m\u001b[0m\u001b[0m\n\u001b[0;32m    149\u001b[0m             \u001b[0msix\u001b[0m\u001b[1;33m.\u001b[0m\u001b[0mreraise\u001b[0m\u001b[1;33m(\u001b[0m\u001b[1;33m*\u001b[0m\u001b[0msys\u001b[0m\u001b[1;33m.\u001b[0m\u001b[0mexc_info\u001b[0m\u001b[1;33m(\u001b[0m\u001b[1;33m)\u001b[0m\u001b[1;33m)\u001b[0m\u001b[1;33m\u001b[0m\u001b[1;33m\u001b[0m\u001b[0m\n",
      "\u001b[1;32mC:\\ProgramData\\Anaconda3\\lib\\site-packages\\librosa\\core\\audio.py\u001b[0m in \u001b[0;36m__audioread_load\u001b[1;34m(path, offset, duration, dtype)\u001b[0m\n\u001b[0;32m    169\u001b[0m \u001b[1;33m\u001b[0m\u001b[0m\n\u001b[0;32m    170\u001b[0m     \u001b[0my\u001b[0m \u001b[1;33m=\u001b[0m \u001b[1;33m[\u001b[0m\u001b[1;33m]\u001b[0m\u001b[1;33m\u001b[0m\u001b[1;33m\u001b[0m\u001b[0m\n\u001b[1;32m--> 171\u001b[1;33m     \u001b[1;32mwith\u001b[0m \u001b[0maudioread\u001b[0m\u001b[1;33m.\u001b[0m\u001b[0maudio_open\u001b[0m\u001b[1;33m(\u001b[0m\u001b[0mpath\u001b[0m\u001b[1;33m)\u001b[0m \u001b[1;32mas\u001b[0m \u001b[0minput_file\u001b[0m\u001b[1;33m:\u001b[0m\u001b[1;33m\u001b[0m\u001b[1;33m\u001b[0m\u001b[0m\n\u001b[0m\u001b[0;32m    172\u001b[0m         \u001b[0msr_native\u001b[0m \u001b[1;33m=\u001b[0m \u001b[0minput_file\u001b[0m\u001b[1;33m.\u001b[0m\u001b[0msamplerate\u001b[0m\u001b[1;33m\u001b[0m\u001b[1;33m\u001b[0m\u001b[0m\n\u001b[0;32m    173\u001b[0m         \u001b[0mn_channels\u001b[0m \u001b[1;33m=\u001b[0m \u001b[0minput_file\u001b[0m\u001b[1;33m.\u001b[0m\u001b[0mchannels\u001b[0m\u001b[1;33m\u001b[0m\u001b[1;33m\u001b[0m\u001b[0m\n",
      "\u001b[1;32mC:\\ProgramData\\Anaconda3\\lib\\site-packages\\audioread\\__init__.py\u001b[0m in \u001b[0;36maudio_open\u001b[1;34m(path, backends)\u001b[0m\n\u001b[0;32m    109\u001b[0m     \u001b[1;32mfor\u001b[0m \u001b[0mBackendClass\u001b[0m \u001b[1;32min\u001b[0m \u001b[0mbackends\u001b[0m\u001b[1;33m:\u001b[0m\u001b[1;33m\u001b[0m\u001b[1;33m\u001b[0m\u001b[0m\n\u001b[0;32m    110\u001b[0m         \u001b[1;32mtry\u001b[0m\u001b[1;33m:\u001b[0m\u001b[1;33m\u001b[0m\u001b[1;33m\u001b[0m\u001b[0m\n\u001b[1;32m--> 111\u001b[1;33m             \u001b[1;32mreturn\u001b[0m \u001b[0mBackendClass\u001b[0m\u001b[1;33m(\u001b[0m\u001b[0mpath\u001b[0m\u001b[1;33m)\u001b[0m\u001b[1;33m\u001b[0m\u001b[1;33m\u001b[0m\u001b[0m\n\u001b[0m\u001b[0;32m    112\u001b[0m         \u001b[1;32mexcept\u001b[0m \u001b[0mDecodeError\u001b[0m\u001b[1;33m:\u001b[0m\u001b[1;33m\u001b[0m\u001b[1;33m\u001b[0m\u001b[0m\n\u001b[0;32m    113\u001b[0m             \u001b[1;32mpass\u001b[0m\u001b[1;33m\u001b[0m\u001b[1;33m\u001b[0m\u001b[0m\n",
      "\u001b[1;32mC:\\ProgramData\\Anaconda3\\lib\\site-packages\\audioread\\rawread.py\u001b[0m in \u001b[0;36m__init__\u001b[1;34m(self, filename)\u001b[0m\n\u001b[0;32m     60\u001b[0m     \"\"\"\n\u001b[0;32m     61\u001b[0m     \u001b[1;32mdef\u001b[0m \u001b[0m__init__\u001b[0m\u001b[1;33m(\u001b[0m\u001b[0mself\u001b[0m\u001b[1;33m,\u001b[0m \u001b[0mfilename\u001b[0m\u001b[1;33m)\u001b[0m\u001b[1;33m:\u001b[0m\u001b[1;33m\u001b[0m\u001b[1;33m\u001b[0m\u001b[0m\n\u001b[1;32m---> 62\u001b[1;33m         \u001b[0mself\u001b[0m\u001b[1;33m.\u001b[0m\u001b[0m_fh\u001b[0m \u001b[1;33m=\u001b[0m \u001b[0mopen\u001b[0m\u001b[1;33m(\u001b[0m\u001b[0mfilename\u001b[0m\u001b[1;33m,\u001b[0m \u001b[1;34m'rb'\u001b[0m\u001b[1;33m)\u001b[0m\u001b[1;33m\u001b[0m\u001b[1;33m\u001b[0m\u001b[0m\n\u001b[0m\u001b[0;32m     63\u001b[0m \u001b[1;33m\u001b[0m\u001b[0m\n\u001b[0;32m     64\u001b[0m         \u001b[1;32mtry\u001b[0m\u001b[1;33m:\u001b[0m\u001b[1;33m\u001b[0m\u001b[1;33m\u001b[0m\u001b[0m\n",
      "\u001b[1;31mFileNotFoundError\u001b[0m: [Errno 2] No such file or directory: './prediction/nature_sc.wav'"
     ]
    }
   ],
   "source": [
    "## Running the model\n",
    "\n",
    "n_mfcc = config.buckets\n",
    "max_len = config.max_len\n",
    "# convert file to wav2mfcc\n",
    "# Mel-frequency cepstral coefficients\n",
    "file_path = \"./prediction/nature_sc.wav\"\n",
    "big_wave, sr = librosa.load(file_path, mono=True, sr=None)\n",
    "#print(wave.shape, sr)\n",
    "\n",
    "classification = []\n",
    "\n",
    "for sec_index in range( int(big_wave.shape[0] / sr) ) :\n",
    "    start_sec = sec_index\n",
    "    end_sec = sec_index + 1\n",
    "    \n",
    "    sec_to_trim = np.array( [ float(start_sec), float(end_sec) ] )\n",
    "    print(sec_to_trim)\n",
    "    sec_to_trim = np.ceil( sec_to_trim * sr )\n",
    "\n",
    "    wave = big_wave[int(sec_to_trim[0]) : int(sec_to_trim[1])]\n",
    "    print(wave)\n",
    "\n",
    "    wave = np.asfortranarray(wave[::3])\n",
    "    mfcc = librosa.feature.mfcc(wave, sr=16000, n_mfcc=n_mfcc)\n",
    "\n",
    "    # If maximum length exceeds mfcc lengths then pad the remaining ones\n",
    "    if (max_len > mfcc.shape[1]):\n",
    "        pad_width = max_len - mfcc.shape[1]\n",
    "        mfcc = np.pad(mfcc, pad_width=((0, 0), (0, pad_width)), mode='constant')\n",
    "\n",
    "    # Else cutoff the remaining parts\n",
    "    else:\n",
    "        mfcc = mfcc[:, :max_len]\n",
    "\n",
    "    # Convert wav to MFCC\n",
    "    prediction_data = wav2mfcc('./prediction/nature_sc.wav')\n",
    "    prediction_data = mfcc\n",
    "    print(prediction_data.shape)\n",
    "    #print(wav2mfcc())\n",
    "    # Reshape to 4 dimensions\n",
    "    prediction_data = prediction_data.reshape(1, config.buckets, config.max_len, channels)\n",
    "    #prediction_data = prediction_data.reshape(1, 20, config.max_len, channels)\n",
    "\n",
    "    # Run the model on the inputted file\n",
    "    predicted = loaded_model.predict(prediction_data)\n",
    "\n",
    "    # Output the prediction values for each class\n",
    "    print ('PREDICTED VALUES')\n",
    "    labels_indices = range(len(labels))\n",
    "    max_value = 0\n",
    "    max_value_index = 0\n",
    "    for index in labels_indices:\n",
    "        print('\\n', labels[index], \": \", '%.08f' % predicted[0,index])\n",
    "        if predicted[0,index] > max_value:\n",
    "            max_value_index = index\n",
    "            max_value = predicted[0,index]\n",
    "\n",
    "    # Output the prediction\n",
    "    if max_value < 0.5:\n",
    "        print(\"GUESS: Nothing\")\n",
    "        classification.append( { \"class\" : \"Nothing\", \"timestamp\" : start_sec } )\n",
    "    else:\n",
    "        print('\\n\\nGUESS: ', labels[max_value_index])\n",
    "        classification.append( { \"class\" : labels[max_value_index], \"timestamp\" : start_sec } )\n",
    "\n",
    "print(classification)"
   ]
  },
  {
   "cell_type": "code",
   "execution_count": null,
   "metadata": {},
   "outputs": [],
   "source": []
  }
 ],
 "metadata": {
  "kernelspec": {
   "display_name": "Python 3",
   "language": "python",
   "name": "python3"
  },
  "language_info": {
   "codemirror_mode": {
    "name": "ipython",
    "version": 3
   },
   "file_extension": ".py",
   "mimetype": "text/x-python",
   "name": "python",
   "nbconvert_exporter": "python",
   "pygments_lexer": "ipython3",
   "version": "3.7.4"
  }
 },
 "nbformat": 4,
 "nbformat_minor": 2
}
